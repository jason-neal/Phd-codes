{
 "cells": [
  {
   "cell_type": "code",
   "execution_count": 1,
   "metadata": {},
   "outputs": [],
   "source": [
    "# Test lmfit"
   ]
  },
  {
   "cell_type": "code",
   "execution_count": 349,
   "metadata": {},
   "outputs": [
    {
     "name": "stdout",
     "output_type": "stream",
     "text": [
      "<lmfit.minimizer.MinimizerResult object at 0x7f2f8a267160>\n",
      "2 index of freq param\n",
      "(3, 6, 3, 4)\n",
      "done\n"
     ]
    },
    {
     "name": "stderr",
     "output_type": "stream",
     "text": [
      "/home/jneal/anaconda3/envs/sims/lib/python3.6/site-packages/lmfit/minimizer.py:1574: RuntimeWarning: divide by zero encountered in log\n",
      "  _neg2_log_likel = result.ndata * np.log(result.chisqr / result.ndata)\n"
     ]
    }
   ],
   "source": [
    "from numpy import exp, sin\n",
    "import numpy as np\n",
    "from lmfit import minimize, Parameters\n",
    "\n",
    "\n",
    "def residual(params, x, data, eps_data):\n",
    "    amp = params['amp']\n",
    "    phaseshift = params['phase']\n",
    "    freq = params['frequency']\n",
    "    decay = params['decay']\n",
    "\n",
    "    model = amp * sin(x*freq + phaseshift) * exp(-x*x*decay)\n",
    "\n",
    "    return (data-model) / eps_data\n",
    "\n",
    "\n",
    "x = np.linspace(0.1, 5, 200)\n",
    "data = 10 * sin(x*3 + .2) * exp(-x*x*.007)\n",
    "eps_data = np.ones_like(data)\n",
    "params = Parameters()\n",
    "\n",
    "params.add('amp', value=10, min=8, max=11, vary=True, brute_step=.5)\n",
    "params.add('decay', value=0.007, min=0.006, max=0.009, vary=True, brute_step=0.001)\n",
    "params.add('phase', value=0.2, min=0.1, max=0.3, vary=False)\n",
    "params.add('frequency', value=3.0, min=1, max=4.1, vary=True, brute_step=1)\n",
    "\n",
    "out = minimize(residual, params, args=(x, data, eps_data), method=\"brute\")\n",
    "\n",
    "print(out)\n",
    "\n",
    "names = out.var_names\n",
    "index = names.index(\"frequency\")\n",
    "\n",
    "print(index, \"index of freq param\")\n",
    "brute = out.brute_grid\n",
    "print(brute.shape)\n",
    "print(\"done\")"
   ]
  },
  {
   "cell_type": "code",
   "execution_count": 269,
   "metadata": {},
   "outputs": [
    {
     "data": {
      "text/plain": [
       "<lmfit.minimizer.MinimizerResult at 0x7f2f8a53add8>"
      ]
     },
     "execution_count": 269,
     "metadata": {},
     "output_type": "execute_result"
    }
   ],
   "source": [
    "out\n"
   ]
  },
  {
   "cell_type": "code",
   "execution_count": 317,
   "metadata": {},
   "outputs": [
    {
     "name": "stdout",
     "output_type": "stream",
     "text": [
      "grid shape (3, 6, 3, 4)\n",
      "grid shape (3, 6, 3, 4)\n",
      "grid shape (6, 3, 4)\n"
     ]
    }
   ],
   "source": [
    "grid = out.brute_grid\n",
    "print(\"grid shape\", grid.shape)\n",
    "grid\n",
    "grid = np.atleast_3d(grid)\n",
    "\n",
    "print(\"grid shape\", grid.shape)\n",
    "grid=np.atleast_3d(grid[1])\n",
    "print(\"grid shape\", grid.shape)"
   ]
  },
  {
   "cell_type": "code",
   "execution_count": 318,
   "metadata": {},
   "outputs": [
    {
     "name": "stdout",
     "output_type": "stream",
     "text": [
      "grid shape (6, 3, 4)\n",
      "jout shape (6, 3, 4)\n"
     ]
    },
    {
     "data": {
      "text/plain": [
       "array([[[1.68494977e+04, 1.74667228e+04, 3.52452397e+02, 1.72730079e+04],\n",
       "        [1.67035465e+04, 1.73310622e+04, 3.75586906e+02, 1.71385469e+04],\n",
       "        [1.65622084e+04, 1.71981437e+04, 3.99790533e+02, 1.70070148e+04]],\n",
       "\n",
       "       [[1.77503878e+04, 1.83554879e+04, 1.93073250e+02, 1.81577548e+04],\n",
       "        [1.75879090e+04, 1.82061549e+04, 2.11267634e+02, 1.80090314e+04],\n",
       "        [1.74305760e+04, 1.80598682e+04, 2.30787253e+02, 1.78635854e+04]],\n",
       "\n",
       "       [[1.87024134e+04, 1.92894235e+04, 8.13937628e+01, 1.90886238e+04],\n",
       "        [1.85225356e+04, 1.91258071e+04, 9.38967264e+01, 1.89249488e+04],\n",
       "        [1.83483653e+04, 1.89655569e+04, 1.08003309e+02, 1.87649192e+04]],\n",
       "\n",
       "       [[1.97055743e+04, 2.02685297e+04, 1.74139369e+01, 2.00656150e+04],\n",
       "        [1.95074264e+04, 2.00900188e+04, 2.34741816e+01, 1.98862991e+04],\n",
       "        [1.93155763e+04, 1.99152096e+04, 3.14387002e+01, 1.97110162e+04]],\n",
       "\n",
       "       [[2.07598707e+04, 2.12928064e+04, 1.13377190e+00, 2.10887284e+04],\n",
       "        [2.05425814e+04, 2.10987900e+04, 0.00000000e+00, 2.08930824e+04],\n",
       "        [2.03322089e+04, 2.09088266e+04, 1.09342700e+00, 2.07018762e+04]],\n",
       "\n",
       "       [[2.18653025e+04, 2.23622536e+04, 3.25532677e+01, 2.21579639e+04],\n",
       "        [2.16280005e+04, 2.21521208e+04, 2.34741816e+01, 2.19452986e+04],\n",
       "        [2.13982632e+04, 2.19464076e+04, 1.69674893e+01, 2.17374995e+04]]])"
      ]
     },
     "execution_count": 318,
     "metadata": {},
     "output_type": "execute_result"
    }
   ],
   "source": [
    "Jout = out.brute_Jout\n",
    "Jout = np.atleast_3d(Jout)\n",
    "print(\"grid shape\", grid.shape)\n",
    "print(\"jout shape\", Jout.shape)\n",
    "Jout"
   ]
  },
  {
   "cell_type": "code",
   "execution_count": 319,
   "metadata": {},
   "outputs": [],
   "source": [
    "par = \"amp\""
   ]
  },
  {
   "cell_type": "code",
   "execution_count": 320,
   "metadata": {},
   "outputs": [
    {
     "name": "stdout",
     "output_type": "stream",
     "text": [
      "0\n"
     ]
    },
    {
     "data": {
      "text/plain": [
       "['amp', 'decay', 'frequency']"
      ]
     },
     "execution_count": 320,
     "metadata": {},
     "output_type": "execute_result"
    }
   ],
   "source": [
    "idx = out.var_names.index(par)\n",
    "print(idx)\n",
    "out.var_names"
   ]
  },
  {
   "cell_type": "code",
   "execution_count": 323,
   "metadata": {},
   "outputs": [
    {
     "name": "stdout",
     "output_type": "stream",
     "text": [
      "[[0.006 0.006 0.006 0.006]\n",
      " [0.007 0.007 0.007 0.007]\n",
      " [0.008 0.008 0.008 0.008]] (3, 4)\n",
      "[[16849.49771212 17466.72280926   352.45239731 17273.00792618]\n",
      " [16703.54652898 17331.06218832   375.58690559 17138.54690312]\n",
      " [16562.20835353 17198.14368026   399.79053308 17007.01479615]] (3, 4)\n"
     ]
    }
   ],
   "source": [
    "x = grid[idx]\n",
    "y = Jout[idx]\n",
    "print(x, x.shape)\n",
    "print(y, y.shape)"
   ]
  },
  {
   "cell_type": "code",
   "execution_count": 324,
   "metadata": {},
   "outputs": [
    {
     "data": {
      "text/plain": [
       "<function matplotlib.pyplot.show>"
      ]
     },
     "execution_count": 324,
     "metadata": {},
     "output_type": "execute_result"
    },
    {
     "data": {
      "image/png": "[encoded data removed]",
      "text/plain": [
       "<matplotlib.figure.Figure at 0x7f2f8785df28>"
      ]
     },
     "metadata": {},
     "output_type": "display_data"
    }
   ],
   "source": [
    "\n",
    "import matplotlib.pyplot as plt\n",
    "plt.plot(x, y)\n",
    "plt.xlabel(par)\n",
    "plt.ylabel(\"jout\")\n",
    "plt.show"
   ]
  },
  {
   "cell_type": "code",
   "execution_count": 325,
   "metadata": {},
   "outputs": [
    {
     "data": {
      "text/plain": [
       "(6, 3, 4)"
      ]
     },
     "execution_count": 325,
     "metadata": {},
     "output_type": "execute_result"
    }
   ],
   "source": [
    "Jout.shape\n"
   ]
  },
  {
   "cell_type": "code",
   "execution_count": 363,
   "metadata": {},
   "outputs": [
    {
     "data": {
      "text/plain": [
       "array([ 0.        ,  1.093427  ,  1.1337719 , 16.96748926, 17.41393693,\n",
       "       23.4741816 , 23.4741816 , 31.43870025, 32.55326775, 81.39376284,\n",
       "       93.8967264 ])"
      ]
     },
     "execution_count": 363,
     "metadata": {},
     "output_type": "execute_result"
    }
   ],
   "source": [
    "\n"
   ]
  },
  {
   "cell_type": "code",
   "execution_count": 326,
   "metadata": {},
   "outputs": [
    {
     "data": {
      "text/plain": [
       "array([[1.65622084e+04, 1.71981437e+04, 3.52452397e+02, 1.70070148e+04],\n",
       "       [1.74305760e+04, 1.80598682e+04, 1.93073250e+02, 1.78635854e+04],\n",
       "       [1.83483653e+04, 1.89655569e+04, 8.13937628e+01, 1.87649192e+04],\n",
       "       [1.93155763e+04, 1.99152096e+04, 1.74139369e+01, 1.97110162e+04],\n",
       "       [2.03322089e+04, 2.09088266e+04, 0.00000000e+00, 2.07018762e+04],\n",
       "       [2.13982632e+04, 2.19464076e+04, 1.69674893e+01, 2.17374995e+04]])"
      ]
     },
     "execution_count": 326,
     "metadata": {},
     "output_type": "execute_result"
    }
   ],
   "source": [
    "np.amin(Jout, axis=1)\n"
   ]
  },
  {
   "cell_type": "code",
   "execution_count": 327,
   "metadata": {},
   "outputs": [
    {
     "data": {
      "text/plain": [
       "array([1.1337719, 0.       , 1.093427 ])"
      ]
     },
     "execution_count": 327,
     "metadata": {},
     "output_type": "execute_result"
    }
   ],
   "source": [
    "np.amin(np.amin(Jout, axis=2), axis=0)"
   ]
  },
  {
   "cell_type": "code",
   "execution_count": 328,
   "metadata": {},
   "outputs": [
    {
     "data": {
      "text/plain": [
       "array([[1.68494977e+04, 1.74667228e+04, 1.13377190e+00, 1.72730079e+04],\n",
       "       [1.67035465e+04, 1.73310622e+04, 0.00000000e+00, 1.71385469e+04],\n",
       "       [1.65622084e+04, 1.71981437e+04, 1.09342700e+00, 1.70070148e+04]])"
      ]
     },
     "execution_count": 328,
     "metadata": {},
     "output_type": "execute_result"
    }
   ],
   "source": [
    "np.amin(Jout, axis=0)"
   ]
  },
  {
   "cell_type": "code",
   "execution_count": 348,
   "metadata": {},
   "outputs": [
    {
     "name": "stdout",
     "output_type": "stream",
     "text": [
      "(3, 6, 3, 4)\n",
      "(6, 3, 4)\n",
      "[[[8.5e+00 8.5e+00 8.5e+00 8.5e+00]\n",
      "  [8.5e+00 8.5e+00 8.5e+00 8.5e+00]\n",
      "  [8.5e+00 8.5e+00 8.5e+00 8.5e+00]]\n",
      "\n",
      " [[6.0e-03 6.0e-03 6.0e-03 6.0e-03]\n",
      "  [7.0e-03 7.0e-03 7.0e-03 7.0e-03]\n",
      "  [8.0e-03 8.0e-03 8.0e-03 8.0e-03]]\n",
      "\n",
      " [[1.0e+00 2.0e+00 3.0e+00 4.0e+00]\n",
      "  [1.0e+00 2.0e+00 3.0e+00 4.0e+00]\n",
      "  [1.0e+00 2.0e+00 3.0e+00 4.0e+00]]]\n",
      "[[[0.006 0.006 0.006 0.006]\n",
      "  [0.007 0.007 0.007 0.007]\n",
      "  [0.008 0.008 0.008 0.008]]\n",
      "\n",
      " [[0.006 0.006 0.006 0.006]\n",
      "  [0.007 0.007 0.007 0.007]\n",
      "  [0.008 0.008 0.008 0.008]]\n",
      "\n",
      " [[0.006 0.006 0.006 0.006]\n",
      "  [0.007 0.007 0.007 0.007]\n",
      "  [0.008 0.008 0.008 0.008]]\n",
      "\n",
      " [[0.006 0.006 0.006 0.006]\n",
      "  [0.007 0.007 0.007 0.007]\n",
      "  [0.008 0.008 0.008 0.008]]\n",
      "\n",
      " [[0.006 0.006 0.006 0.006]\n",
      "  [0.007 0.007 0.007 0.007]\n",
      "  [0.008 0.008 0.008 0.008]]\n",
      "\n",
      " [[0.006 0.006 0.006 0.006]\n",
      "  [0.007 0.007 0.007 0.007]\n",
      "  [0.008 0.008 0.008 0.008]]]\n"
     ]
    }
   ],
   "source": [
    "\n",
    "xv, yv, zv = out.brute_grid   # meshgrid\n",
    "print(out.brute_grid.shape)\n",
    "print(xv.shape)\n"
   ]
  },
  {
   "cell_type": "code",
   "execution_count": 344,
   "metadata": {},
   "outputs": [
    {
     "data": {
      "text/plain": [
       "array([[[ 9.006, 10.006, 11.006, 12.006],\n",
       "        [ 9.007, 10.007, 11.007, 12.007],\n",
       "        [ 9.008, 10.008, 11.008, 12.008]],\n",
       "\n",
       "       [[ 9.506, 10.506, 11.506, 12.506],\n",
       "        [ 9.507, 10.507, 11.507, 12.507],\n",
       "        [ 9.508, 10.508, 11.508, 12.508]],\n",
       "\n",
       "       [[10.006, 11.006, 12.006, 13.006],\n",
       "        [10.007, 11.007, 12.007, 13.007],\n",
       "        [10.008, 11.008, 12.008, 13.008]],\n",
       "\n",
       "       [[10.506, 11.506, 12.506, 13.506],\n",
       "        [10.507, 11.507, 12.507, 13.507],\n",
       "        [10.508, 11.508, 12.508, 13.508]],\n",
       "\n",
       "       [[11.006, 12.006, 13.006, 14.006],\n",
       "        [11.007, 12.007, 13.007, 14.007],\n",
       "        [11.008, 12.008, 13.008, 14.008]],\n",
       "\n",
       "       [[11.506, 12.506, 13.506, 14.506],\n",
       "        [11.507, 12.507, 13.507, 14.507],\n",
       "        [11.508, 12.508, 13.508, 14.508]]])"
      ]
     },
     "execution_count": 344,
     "metadata": {},
     "output_type": "execute_result"
    }
   ],
   "source": [
    "xv + yv + zv"
   ]
  },
  {
   "cell_type": "code",
   "execution_count": 334,
   "metadata": {},
   "outputs": [
    {
     "data": {
      "text/plain": [
       "array([[[ True,  True,  True,  True],\n",
       "        [ True,  True,  True,  True],\n",
       "        [ True,  True,  True,  True]],\n",
       "\n",
       "       [[ True,  True,  True,  True],\n",
       "        [ True,  True,  True,  True],\n",
       "        [ True,  True,  True,  True]],\n",
       "\n",
       "       [[ True,  True,  True,  True],\n",
       "        [ True,  True,  True,  True],\n",
       "        [ True,  True,  True,  True]],\n",
       "\n",
       "       [[ True,  True,  True,  True],\n",
       "        [ True,  True,  True,  True],\n",
       "        [ True,  True,  True,  True]],\n",
       "\n",
       "       [[ True,  True,  True,  True],\n",
       "        [ True,  True,  True,  True],\n",
       "        [ True,  True,  True,  True]],\n",
       "\n",
       "       [[ True,  True,  True,  True],\n",
       "        [ True,  True,  True,  True],\n",
       "        [ True,  True,  True,  True]]])"
      ]
     },
     "execution_count": 334,
     "metadata": {},
     "output_type": "execute_result"
    }
   ],
   "source": [
    "xv == out.brute_grid[0]"
   ]
  },
  {
   "cell_type": "raw",
   "metadata": {},
   "source": []
  },
  {
   "cell_type": "code",
   "execution_count": 338,
   "metadata": {},
   "outputs": [
    {
     "name": "stdout",
     "output_type": "stream",
     "text": [
      "(1, 2)\n",
      "[352.45239731 193.07324964  81.39376284  17.41393693   0.\n",
      "  16.96748926]\n",
      "(6,)\n",
      "[[[1.68494977e+04 1.74667228e+04 3.52452397e+02 1.72730079e+04]\n",
      "  [1.67035465e+04 1.73310622e+04 3.75586906e+02 1.71385469e+04]\n",
      "  [1.65622084e+04 1.71981437e+04 3.99790533e+02 1.70070148e+04]]\n",
      "\n",
      " [[1.77503878e+04 1.83554879e+04 1.93073250e+02 1.81577548e+04]\n",
      "  [1.75879090e+04 1.82061549e+04 2.11267634e+02 1.80090314e+04]\n",
      "  [1.74305760e+04 1.80598682e+04 2.30787253e+02 1.78635854e+04]]\n",
      "\n",
      " [[1.87024134e+04 1.92894235e+04 8.13937628e+01 1.90886238e+04]\n",
      "  [1.85225356e+04 1.91258071e+04 9.38967264e+01 1.89249488e+04]\n",
      "  [1.83483653e+04 1.89655569e+04 1.08003309e+02 1.87649192e+04]]\n",
      "\n",
      " [[1.97055743e+04 2.02685297e+04 1.74139369e+01 2.00656150e+04]\n",
      "  [1.95074264e+04 2.00900188e+04 2.34741816e+01 1.98862991e+04]\n",
      "  [1.93155763e+04 1.99152096e+04 3.14387002e+01 1.97110162e+04]]\n",
      "\n",
      " [[2.07598707e+04 2.12928064e+04 1.13377190e+00 2.10887284e+04]\n",
      "  [2.05425814e+04 2.10987900e+04 0.00000000e+00 2.08930824e+04]\n",
      "  [2.03322089e+04 2.09088266e+04 1.09342700e+00 2.07018762e+04]]\n",
      "\n",
      " [[2.18653025e+04 2.23622536e+04 3.25532677e+01 2.21579639e+04]\n",
      "  [2.16280005e+04 2.21521208e+04 2.34741816e+01 2.19452986e+04]\n",
      "  [2.13982632e+04 2.19464076e+04 1.69674893e+01 2.17374995e+04]]]\n"
     ]
    }
   ],
   "source": [
    "result = out.brute_Jout\n",
    "axes = (ii for ii in range(result.ndim) if ii!=idx)\n",
    "axes = tuple(axes)\n",
    "print(axes)\n",
    "\n",
    "result = np.amin(result, axis=axes )\n",
    "print(result)\n",
    "print(result.shape)\n",
    "print(out.brute_Jout)"
   ]
  },
  {
   "cell_type": "code",
   "execution_count": 342,
   "metadata": {},
   "outputs": [
    {
     "data": {
      "text/plain": [
       "[<matplotlib.lines.Line2D at 0x7f2f87df1c50>]"
      ]
     },
     "execution_count": 342,
     "metadata": {},
     "output_type": "execute_result"
    },
    {
     "data": {
      "image/png": "[encoded data removed]",
      "text/plain": [
       "<matplotlib.figure.Figure at 0x7f2f87c4ea90>"
      ]
     },
     "metadata": {},
     "output_type": "display_data"
    }
   ],
   "source": [
    "plt.plot(result)"
   ]
  },
  {
   "cell_type": "code",
   "execution_count": 366,
   "metadata": {},
   "outputs": [],
   "source": [
    "chi2 = [out.candidates[num].score for num in range(10)]"
   ]
  },
  {
   "cell_type": "code",
   "execution_count": 365,
   "metadata": {},
   "outputs": [
    {
     "data": {
      "text/plain": [
       "array([ 0.        ,  1.093427  ,  1.1337719 , 16.96748926, 17.41393693,\n",
       "       23.4741816 , 23.4741816 , 31.43870025, 32.55326775, 81.39376284,\n",
       "       93.8967264 ])"
      ]
     },
     "execution_count": 365,
     "metadata": {},
     "output_type": "execute_result"
    }
   ],
   "source": [
    "np.sort(Jout.flatten())[0:11]"
   ]
  },
  {
   "cell_type": "code",
   "execution_count": 381,
   "metadata": {},
   "outputs": [
    {
     "data": {
      "text/plain": [
       "10.0"
      ]
     },
     "execution_count": 381,
     "metadata": {},
     "output_type": "execute_result"
    }
   ],
   "source": [
    "out.candidates[0].params[\"amp\"].value"
   ]
  },
  {
   "cell_type": "code",
   "execution_count": 386,
   "metadata": {},
   "outputs": [
    {
     "name": "stdout",
     "output_type": "stream",
     "text": [
      "[0.007, 0.008, 0.006]\n"
     ]
    }
   ],
   "source": [
    "teffs = [out.candidates[num].params[\"decay\"].value for num in range(10) if out.candidates[num].score < out.candidates[0].score +6]\n",
    "\n",
    "print(teffs)"
   ]
  },
  {
   "cell_type": "code",
   "execution_count": 389,
   "metadata": {},
   "outputs": [
    {
     "name": "stdout",
     "output_type": "stream",
     "text": [
      "\n",
      "Candidate #0, chisqr = 0.000\n",
      "Name          Value      Min      Max   Stderr     Vary     Expr Brute_Step\n",
      "amp              10        8       11     None     True     None      0.5\n",
      "decay         0.007    0.006    0.009     None     True     None    0.001\n",
      "frequency         3        1      4.1     None     True     None        1\n",
      "phase           0.2      0.1      0.3     None    False     None     None\n"
     ]
    }
   ],
   "source": [
    "out.can\n"
   ]
  },
  {
   "cell_type": "code",
   "execution_count": null,
   "metadata": {},
   "outputs": [],
   "source": []
  }
 ],
 "metadata": {
  "kernelspec": {
   "display_name": "Python [conda env:sims]",
   "language": "python",
   "name": "conda-env-sims-py"
  },
  "language_info": {
   "codemirror_mode": {
    "name": "ipython",
    "version": 3
   },
   "file_extension": ".py",
   "mimetype": "text/x-python",
   "name": "python",
   "nbconvert_exporter": "python",
   "pygments_lexer": "ipython3",
   "version": "3.6.4"
  }
 },
 "nbformat": 4,
 "nbformat_minor": 2
}

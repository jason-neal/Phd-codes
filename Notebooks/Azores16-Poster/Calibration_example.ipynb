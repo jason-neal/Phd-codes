{
 "cells": [
  {
   "cell_type": "markdown",
   "metadata": {
    "collapsed": true
   },
   "source": [
    "# Wavelenght Calibration Example for Azores poster."
   ]
  },
  {
   "cell_type": "code",
   "execution_count": null,
   "metadata": {
    "collapsed": false
   },
   "outputs": [],
   "source": [
    "from __future__ import division, print_function\n",
    "from __future__ import absolute_import, unicode_literals\n",
    "\n",
    "import numpy as np\n",
    "# Import Bokeh modules for interactive plotting\n",
    "import bokeh.io\n",
    "import bokeh.mpl\n",
    "import bokeh.plotting\n",
    "\n",
    "# Include masking\n",
    "from bokeh.plotting import figure, show, output_file, gridplot, vplot\n",
    "from bokeh.models import BoxAnnotation\n",
    "from bokeh.models import Range1d\n",
    "\n",
    "\n",
    "# This enables SVG graphics inline.  There is a bug, so uncomment if it works.\n",
    "%config InlineBackend.figure_formats = {'svg',}\n",
    "\n",
    "# This enables high resolution PNGs. SVG is preferred, but has problems\n",
    "# rendering vertical and horizontal lines\n",
    "#%config InlineBackend.figure_formats = {'png', 'retina'}\n",
    "\n",
    "# Set up Bokeh for inline viewing\n",
    "bokeh.io.output_notebook()"
   ]
  },
  {
   "cell_type": "code",
   "execution_count": null,
   "metadata": {
    "collapsed": true
   },
   "outputs": [],
   "source": [
    "from astropy.modeling import models, fitting\n",
    "#from astropy.modeling import SummedCompositeModel\n",
    "from astropy.modeling.models import Gaussian1D\n",
    "#from astropy.modeling.models import custom_model_1d\n",
    "\n",
    "## my functions:\n",
    "    #x = np.linspace(0, 100, points)\n",
    "def mk_gaussian_sum(x, amplitudes, means, stddevs, noise=1/200):\n",
    "    '''Create 3 spectral lines by adding 3 gaussians together'''\n",
    "    assert len(amplitudes) == len(means), ' Not the same length inputs'\n",
    "    assert len(amplitudes) == len(stddevs), ' Not the same length inputs'\n",
    "    y = np.ones_like(x)\n",
    "    for i in range(len(amplitudes)):\n",
    "        g = Gaussian1D(amplitude=amplitudes[i], mean=means[i], stddev=stddevs[i])\n",
    "        # print g(x)\n",
    "        y -= g(x) # Adding each Gaussian  \n",
    "    y +=  np.random.normal(0, noise, x.shape)\t\t# Adding some noise to our data\n",
    "\n",
    "    return y"
   ]
  },
  {
   "cell_type": "code",
   "execution_count": null,
   "metadata": {
    "collapsed": false
   },
   "outputs": [],
   "source": [
    "# Wavelength range\n",
    "wavelength = np.linspace(2110, 2113, 60)\n",
    "stellar_amp = [.4, .5]\n",
    "stellar_means = [2111.1, 2112.1]\n",
    "stellar_stddevs = [.1, .06]\n",
    "stellar_lines = mk_gaussian_sum(wavelength, stellar_amp, stellar_means, stellar_stddevs,  noise=1/100)\n",
    "stellar_fit = mk_gaussian_sum(wavelength, stellar_amp, stellar_means, stellar_stddevs,  noise=1/100000000)\n",
    "\n",
    "telluric_amp = [.1, .3, .25]\n",
    "telluric_means = [2110.2, 2111.3, 2112.6]\n",
    "telluric_stddevs = [0.05, .07, .05]\n",
    "telluric_lines = mk_gaussian_sum(wavelength, telluric_amp, telluric_means, telluric_stddevs, noise=1/100)\n",
    "telluric_fit = mk_gaussian_sum(wavelength, telluric_amp, telluric_means, telluric_stddevs, noise=1/100000000)\n",
    "#print(telluric_lines)\n",
    "#print(stellar_lines)\n",
    "\n",
    "combined_lines = stellar_lines * telluric_lines"
   ]
  },
  {
   "cell_type": "code",
   "execution_count": null,
   "metadata": {
    "collapsed": false
   },
   "outputs": [],
   "source": [
    "# Get different combinations of shifts\n",
    "shifted_wl1 = wavelength + 0\n",
    "#shifted_wl2 = wavelength - 0  \n",
    "\n",
    "shifted_stellar_lines1 = mk_gaussian_sum(shifted_wl1, stellar_amp, stellar_means, stellar_stddevs)\n",
    "#shifted_stellar_lines2 = mk_gaussian_sum(shifted_wl2, stellar_amp, stellar_means, stellar_stddevs)\n",
    "\n",
    "shift1 = shifted_stellar_lines1 * telluric_lines\n",
    "#shift2 = shifted_stellar_lines2 * telluric_lines"
   ]
  },
  {
   "cell_type": "code",
   "execution_count": null,
   "metadata": {
    "collapsed": false
   },
   "outputs": [],
   "source": [
    "# using bokeh\n",
    "from bokeh.io import gridplot, output_file, show\n",
    "from bokeh.plotting import figure, show, output_file, gridplot, vplot\n",
    "from bokeh.models import BoxAnnotation\n",
    "from bokeh.plotting import figure\n",
    "from bokeh.models.glyphs import Text\n",
    "\n",
    "s1 = figure(width=500, height=220, title=None)\n",
    "s1.line(wavelength, telluric_lines, legend=\"Telluric Model\", color=\"black\", line_width=2)\n",
    "s1.line(wavelength, telluric_fit, legend=\"Telluric fit\", color=\"red\", line_width=2, line_dash=\"dashed\")\n",
    "s1.xaxis.axis_label = 'Wavelength (nm)'\n",
    "s1.yaxis.axis_label = 'Transmittance'\n",
    "s1.legend.location = \"bottom_left\"\n",
    "s1.title_text_font_size = \"14pt\"\n",
    "s1.xaxis.axis_label_text_font_size = \"12pt\"\n",
    "s1.yaxis.axis_label_text_font_size = \"12pt\"\n",
    "s1.legend.border_line_color = None\n",
    "\n",
    "g1 = Text(x=2111, y=0.6, text=\"wl_1\", angle=0, text_color=\"Black\", text_align=\"center\")\n",
    "s1.add_glyph(g1)\n",
    "g2 = Text(x=2112, y=0.9, text=\"wl_2\", angle=0, text_color=\"Black\", text_align=\"center\")\n",
    "s1.add_glyph(g2)\n",
    "g3 = Text(x=2113, y=0.9, text=\"wl_3\", angle=0, text_color=\"Black\", text_align=\"center\")\n",
    "s1.add_glyph(g3)\n",
    "\n",
    "\n",
    "s2 = figure(width=500, height=220, y_range=s1.y_range, title=None)\n",
    "s2.line(range(len(shift1)), shift1, legend=\"Observation\", color=\"black\", line_width=2)\n",
    "s2.xaxis.axis_label = 'Pixel Number'\n",
    "s2.yaxis.axis_label = 'Norm Intensity'\n",
    "s2.legend.location = \"bottom_left\"\n",
    "s2.title_text_font_size = \"14pt\"\n",
    "s2.xaxis.axis_label_text_font_size = \"12pt\"\n",
    "s2.yaxis.axis_label_text_font_size = \"12pt\"\n",
    "s2.legend.border_line_color = None\n",
    "# Add text around 20, 0.7 \n",
    "\n",
    "s2.add_glyph(Text(x=3, y=0.9, text=\"Telluric\", angle=0, text_color=\"Black\", text_align=\"center\"))\n",
    "s2.add_glyph(Text(x=19, y=0.9, text=\"Blended\", angle=0, text_color=\"Black\", text_align=\"center\"))\n",
    "s2.add_glyph(Text(x=34, y=0.9, text=\"Stellar\", angle=0, text_color=\"Black\", text_align=\"center\")) \n",
    "s2.add_glyph(Text(x=50, y=0.6, text=\"Telluric\", angle=0, text_color=\"Black\", text_align=\"center\"))\n",
    "\n",
    "#glyph = Text(x=\"x\", y=\"y\", text=\"text\", angle=0, text_color=\"#96deb3\")\n",
    "#plot.add_glyph(source, glyph)\n",
    "\n",
    "s3 = figure(width=500, height=220, y_range=s1.y_range, title=None)\n",
    "s3.line(range(len(shift1)), shift1, legend=\"Observation\", color=\"black\", line_width=2)\n",
    "s3.line(range(len(shift1)), telluric_fit, legend=\"Telluric fit\", color=\"red\", line_width=2, line_dash=\"dashed\")\n",
    "s3.line(range(len(shift1)), stellar_fit, legend=\"Stellar fit\", color=\"blue\", line_width=2, line_dash=\"dotdash\")\n",
    "s3.xaxis.axis_label = 'Pixel Number'\n",
    "s3.yaxis.axis_label = 'Norm Intensity'\n",
    "s3.legend.location = \"bottom_left\"\n",
    "s3.title_text_font_size = \"14pt\"\n",
    "s3.xaxis.axis_label_text_font_size = \"12pt\"\n",
    "s3.yaxis.axis_label_text_font_size = \"12pt\"\n",
    "s3.legend.border_line_color = None\n",
    "\n",
    "#s3.add_glyph(Text(x=6, y=0.9, text=\"wl_1\", angle=0, text_color=\"Black\"), text_align=\"center\")\n",
    "#s3.add_glyph(Text(x=27, y=0.7, text=\"wl_2\", angle=0, text_color=\"Black\"), text_align=\"center\")\n",
    "#s3.add_glyph(Text(x=54, y=0.7, text=\"wl_3\", angle=0, text_color=\"Black\"), text_align=\"center\")\n",
    "\n",
    "p = gridplot([[s2], [s1], [s3]])\n",
    "\n",
    "show(p)\n",
    "print(\"done\")"
   ]
  },
  {
   "cell_type": "markdown",
   "metadata": {},
   "source": [
    "# Wavelenght map for poster"
   ]
  },
  {
   "cell_type": "code",
   "execution_count": null,
   "metadata": {
    "collapsed": false
   },
   "outputs": [],
   "source": [
    "# Quad fit\n",
    "#wavelength = np.linspace(2110, 2113, 60)\n",
    "telluric_means = [2110.2, 2111.3, 2112.6]\n",
    "#index value of these values\n",
    "telluric_means = [2110.2, 2111.3, 2112.6]\n",
    "indexes = [np.argmin(abs(wavelength - mean)) for mean in telluric_means]\n",
    "\n",
    "\n",
    "map = figure(width=500, height=220)\n",
    "map.line(np.arange(len(wavelength)), wavelength, line_color=\"black\", line_width=2)\n",
    "map.circle(indexes, telluric_means, size=8, line_color=\"blue\")\n",
    "\n",
    "map.xaxis.axis_label = 'Pixel values'\n",
    "map.yaxis.axis_label = 'Wavelength (nm)'\n",
    "map.legend.location = \"bottom_left\"\n",
    "map.title_text_font_size = \"14pt\"\n",
    "map.xaxis.axis_label_text_font_size = \"12pt\"\n",
    "map.yaxis.axis_label_text_font_size = \"12pt\"\n",
    "map.legend.border_line_color = None\n",
    "\n",
    "show(map)"
   ]
  },
  {
   "cell_type": "code",
   "execution_count": null,
   "metadata": {
    "collapsed": true
   },
   "outputs": [],
   "source": []
  },
  {
   "cell_type": "code",
   "execution_count": null,
   "metadata": {
    "collapsed": true
   },
   "outputs": [],
   "source": []
  },
  {
   "cell_type": "code",
   "execution_count": null,
   "metadata": {
    "collapsed": true
   },
   "outputs": [],
   "source": []
  }
 ],
 "metadata": {
  "kernelspec": {
   "display_name": "Python 3",
   "language": "python",
   "name": "python3"
  },
  "language_info": {
   "codemirror_mode": {
    "name": "ipython",
    "version": 3
   },
   "file_extension": ".py",
   "mimetype": "text/x-python",
   "name": "python",
   "nbconvert_exporter": "python",
   "pygments_lexer": "ipython3",
   "version": "3.4.4"
  }
 },
 "nbformat": 4,
 "nbformat_minor": 0
}

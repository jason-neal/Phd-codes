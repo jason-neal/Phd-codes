{
 "cells": [
  {
   "cell_type": "markdown",
   "metadata": {},
   "source": [
    "# Example Spectra to run show Recovery techniques:"
   ]
  },
  {
   "cell_type": "code",
   "execution_count": null,
   "metadata": {
    "collapsed": false
   },
   "outputs": [],
   "source": [
    "from __future__ import division, print_function\n",
    "from __future__ import absolute_import, unicode_literals\n",
    "\n",
    "import numpy as np\n",
    "import scipy\n",
    "import bokeh\n",
    "import matplotlib.pyplot as plt\n",
    "\n",
    "%matplotlib inline\n",
    "\n",
    "# Import Bokeh modules for interactive plotting\n",
    "import bokeh.io\n",
    "import bokeh.mpl\n",
    "import bokeh.plotting\n",
    "\n",
    "\n",
    "# Include masking\n",
    "from bokeh.plotting import figure, show, output_file, gridplot, vplot\n",
    "from bokeh.models import BoxAnnotation\n",
    "from bokeh.models import Range1d\n",
    "\n",
    "\n",
    "\n",
    "# This enables SVG graphics inline.  There is a bug, so uncomment if it works.\n",
    "%config InlineBackend.figure_formats = {'svg',}\n",
    "\n",
    "# This enables high resolution PNGs. SVG is preferred, but has problems\n",
    "# rendering vertical and horizontal lines\n",
    "#%config InlineBackend.figure_formats = {'png', 'retina'}\n",
    "\n",
    "# Set up Bokeh for inline viewing\n",
    "bokeh.io.output_notebook()"
   ]
  },
  {
   "cell_type": "code",
   "execution_count": null,
   "metadata": {
    "collapsed": false
   },
   "outputs": [],
   "source": [
    "# Gaussian lines \n",
    "from astropy.modeling import models, fitting\n",
    "#from astropy.modeling import SummedCompositeModel\n",
    "from astropy.modeling.models import Gaussian1D\n",
    "#from astropy.modeling.models import custom_model_1d\n",
    "\n",
    "## my functions:\n",
    "    #x = np.linspace(0, 100, points)\n",
    "def mk_gaussian_sum(x, amplitudes, means, stddevs, noise=1/200):\n",
    "    '''Create 3 spectral lines by adding 3 gaussians together'''\n",
    "    assert len(amplitudes) == len(means), ' Not the same length inputs'\n",
    "    assert len(amplitudes) == len(stddevs), ' Not the same length inputs'\n",
    "    y = np.ones_like(x)\n",
    "    for i in range(len(amplitudes)):\n",
    "        g = Gaussian1D(amplitude=amplitudes[i], mean=means[i], stddev=stddevs[i])\n",
    "        # print g(x)\n",
    "        y -= g(x) # Adding each Gaussian  \n",
    "    y +=  np.random.normal(0, noise, x.shape)\t\t# Adding some noise to our data\n",
    "\n",
    "    return y"
   ]
  },
  {
   "cell_type": "code",
   "execution_count": null,
   "metadata": {
    "collapsed": false
   },
   "outputs": [],
   "source": [
    "# Wavelength range\n",
    "wavelength = np.linspace(2110, 2113, 50)\n",
    "stellar_amp = [.4, .5]\n",
    "stellar_means = [2111.2, 2112.5]\n",
    "stellar_stddevs = [.1, .06]\n",
    "stellar_lines = mk_gaussian_sum(wavelength, stellar_amp, stellar_means, stellar_stddevs,  noise=1/150)\n",
    "stellar_fit = mk_gaussian_sum(wavelength, stellar_amp, stellar_means, stellar_stddevs,  noise=1/100000000)\n",
    "telluric_amp = [.1, .3, .4]\n",
    "telluric_means = [2110.2, 2110.8, 2112]\n",
    "telluric_stddevs = [0.05, .09, .05]\n",
    "telluric_lines = mk_gaussian_sum(wavelength, telluric_amp, telluric_means, telluric_stddevs, noise=1/150)\n",
    "telluric_fit = mk_gaussian_sum(wavelength, telluric_amp, telluric_means, telluric_stddevs, noise=1/100000000)\n",
    "#print(telluric_lines)\n",
    "#print(stellar_lines)\n",
    "\n",
    "combined_lines = stellar_lines * telluric_lines"
   ]
  },
  {
   "cell_type": "code",
   "execution_count": null,
   "metadata": {
    "collapsed": false
   },
   "outputs": [],
   "source": [
    "# Get different combinations of shifts\n",
    "shifted_wl1 = wavelength + 0.2\n",
    "shifted_wl2 = wavelength - 0.2\n",
    "\n",
    "shifted_stellar_lines1 = mk_gaussian_sum(shifted_wl1, stellar_amp, stellar_means, stellar_stddevs)\n",
    "shifted_stellar_lines2 = mk_gaussian_sum(shifted_wl2, stellar_amp, stellar_means, stellar_stddevs)\n",
    "\n",
    "shift1 = shifted_stellar_lines1 * telluric_lines\n",
    "shift2 = shifted_stellar_lines2 * telluric_lines"
   ]
  },
  {
   "cell_type": "code",
   "execution_count": null,
   "metadata": {
    "collapsed": false
   },
   "outputs": [],
   "source": [
    "\n",
    "#s = figure(width=750, height=300, title=None)\n",
    "##s = plt.figure()\n",
    "##plt.plot(wavelength, stellar_lines, label=\"Stellar\")\n",
    "##plt.plot(wavelength, telluric_lines,  label=\"Telluric\")\n",
    "#plt.plot(wavelength, combined_lines -.5)\n",
    "\n",
    "##plt.plot(wavelength, shift1 -.4, label=\"Obs 1\")\n",
    "#plt.plot(wavelength, shift2 -.5, label=\"Obs 2\")\n",
    "\n",
    "#plt.plot(wavelength, combined_lines)\n",
    "#s.line(wavelength, combined_lines, color=\"red\", line_width=1)\n",
    "\n",
    "#s.title = \"Example Spectra\"\n",
    "#s.xaxis.axis_label = 'Wavelength'\n",
    "#s.yaxis.axis_label = 'Nomalized Flux'\n",
    "#s.legend.location = \"bottom_right\"\n",
    "#s.title_text_font_size = \"14pt\"\n",
    "#s.xaxis.axis_label_text_font_size = \"12pt\"\n",
    "#s.yaxis.axis_label_text_font_size = \"12pt\"\n",
    "#s.set(x_range=Range1d(2116, 2122), y_range=Range1d(0.68, 1.04))\n",
    "\n",
    "##plt.legend(loc=\"lower right\")\n",
    "#plt.show(s)"
   ]
  },
  {
   "cell_type": "code",
   "execution_count": null,
   "metadata": {
    "collapsed": true
   },
   "outputs": [],
   "source": []
  },
  {
   "cell_type": "code",
   "execution_count": null,
   "metadata": {
    "collapsed": false
   },
   "outputs": [],
   "source": [
    "# using bokeh\n",
    "from bokeh.io import gridplot, output_file, show\n",
    "from bokeh.plotting import figure, show, output_file, gridplot, vplot\n",
    "from bokeh.models import BoxAnnotation\n",
    "from bokeh.plotting import figure\n",
    "from bokeh.models.glyphs import Text\n",
    "\n",
    "\n",
    "s1 = figure(width=500, height=200, title=None)\n",
    "s1.line(wavelength, telluric_lines, legend=\"Telluric Model\", color=\"black\", line_width=2)\n",
    "s1.xaxis.axis_label = 'Wavelength (nm)'\n",
    "s1.yaxis.axis_label = 'Transmittance'\n",
    "s1.legend.location = \"bottom_right\"\n",
    "s1.title_text_font_size = \"14pt\"\n",
    "s1.xaxis.axis_label_text_font_size = \"12pt\"\n",
    "s1.yaxis.axis_label_text_font_size = \"12pt\"\n",
    "s1.legend.border_line_color = None\n",
    "\n",
    "s2 = figure(width=500, height=200, y_range=s1.y_range, title=None)\n",
    "s2.line(range(len(shift1)), shift1, legend=\"Observation\", color=\"black\", line_width=2)\n",
    "s2.xaxis.axis_label = 'Pixel Number'\n",
    "s2.yaxis.axis_label = 'Normalized Intensity'\n",
    "s2.legend.location = \"bottom_right\"\n",
    "s2.legend.border_line_color = None\n",
    "\n",
    "#glyph = Text(x=\"x\", y=\"y\", text=\"text\", angle=0, text_color=\"#96deb3\")\n",
    "#plot.add_glyph(source, glyph)\n",
    "\n",
    "p = gridplot([[s1], [s2]])\n",
    "\n",
    "# show the results\n",
    "#show(p)\n",
    "show(vplot(s1,s2))"
   ]
  },
  {
   "cell_type": "markdown",
   "metadata": {
    "collapsed": true
   },
   "source": [
    "\n",
    "## Try use text glyph to add annotation to the peaks and plots.\n"
   ]
  },
  {
   "cell_type": "code",
   "execution_count": null,
   "metadata": {
    "collapsed": true
   },
   "outputs": [],
   "source": []
  },
  {
   "cell_type": "code",
   "execution_count": null,
   "metadata": {
    "collapsed": true
   },
   "outputs": [],
   "source": [
    "# Show fits \n",
    "# for this example just use the generating functions"
   ]
  },
  {
   "cell_type": "code",
   "execution_count": null,
   "metadata": {
    "collapsed": false
   },
   "outputs": [],
   "source": [
    "\n",
    "f1 = figure()\n",
    "\n",
    "f1.line(range(len(shift1)), shift1, legend=\"Observation\", color=\"black\", line_width=2)\n",
    "\n",
    "f1.line(range(len(shift1)), telluric_fit)\n",
    "f1.line(range(len(shift1)), stellar_fit)\n",
    "\n",
    "\n",
    "f2 = figure()\n",
    "f2.line(wavelength, telluric_fit)\n",
    "f2.line(wavelength, telluric_lines)\n",
    "\n",
    "show(vplot(f1, f2))"
   ]
  },
  {
   "cell_type": "code",
   "execution_count": null,
   "metadata": {
    "collapsed": true
   },
   "outputs": [],
   "source": []
  },
  {
   "cell_type": "code",
   "execution_count": null,
   "metadata": {
    "collapsed": true
   },
   "outputs": [],
   "source": []
  },
  {
   "cell_type": "code",
   "execution_count": null,
   "metadata": {
    "collapsed": true
   },
   "outputs": [],
   "source": []
  }
 ],
 "metadata": {
  "kernelspec": {
   "display_name": "Python 2",
   "language": "python",
   "name": "python2"
  },
  "language_info": {
   "codemirror_mode": {
    "name": "ipython",
    "version": 2
   },
   "file_extension": ".py",
   "mimetype": "text/x-python",
   "name": "python",
   "nbconvert_exporter": "python",
   "pygments_lexer": "ipython2",
   "version": "2.7.11"
  }
 },
 "nbformat": 4,
 "nbformat_minor": 0
}

{
 "cells": [
  {
   "cell_type": "markdown",
   "metadata": {},
   "source": [
    "# Beta Sigma Examples\n",
    "https://pyastronomy.readthedocs.io/en/latest/pyaslDoc/aslDoc/estimateSNR.html\n"
   ]
  },
  {
   "cell_type": "code",
   "execution_count": 1,
   "metadata": {},
   "outputs": [
    {
     "name": "stdout",
     "output_type": "stream",
     "text": [
      "Input noise std:  0.1\n",
      "Estimated noise std = 0.094 +/- 0.011\n"
     ]
    }
   ],
   "source": [
    "from __future__ import print_function\n",
    "from PyAstronomy import pyasl\n",
    "import numpy as np\n",
    "\n",
    "# Set up artificial data set\n",
    "x = np.linspace(0., 1., 200)\n",
    "y = 10.2 + x + 4 * x**2\n",
    "# Add some independent, Gaussian noise\n",
    "gstd = 0.1\n",
    "y += np.random.normal(0., gstd, len(x))\n",
    "\n",
    "# Estimate noise using robust estimate\n",
    "beq = pyasl.BSEqSamp()\n",
    "# Define order of approximation (use larger values such as 2,3, or 4 for\n",
    "# faster varying or less well sampled data sets; also 0 is a valid order)\n",
    "N = 1\n",
    "# Define 'jump parameter' (use larger values such as 2,3, or 4 if correlation\n",
    "# between adjacent data point is suspected)\n",
    "j = 1\n",
    "# Estimate noise assuming equidistant sampling (often a good approximation even\n",
    "# if data are not strictly equidistant) and robust estimation (often advantageous\n",
    "# in working with real data)\n",
    "nstd, nstdstd = beq.betaSigma(y, N, j, returnMAD=True)\n",
    "\n",
    "print(\"Input noise std: \", gstd)\n",
    "print(\"Estimated noise std = %5.3f +/- %5.3f\" % (nstd, nstdstd))\n"
   ]
  },
  {
   "cell_type": "markdown",
   "metadata": {},
   "source": [
    "## Noise estimates with different orders of approximations (N)"
   ]
  },
  {
   "cell_type": "code",
   "execution_count": 2,
   "metadata": {},
   "outputs": [
    {
     "name": "stdout",
     "output_type": "stream",
     "text": [
      "Maximum absolute difference between consecutive\n",
      "    values of g(t):  0.25270029930212146\n",
      "Input standard deviation:  0.02\n",
      "Number of 'data points':  200\n",
      "\n",
      "Order of approximation (N):  0\n",
      "    Size of beta sample:  199\n",
      "    Robust estimate of noise std:  0.066 +/-  0.007\n",
      "Order of approximation (N):  1\n",
      "    Size of beta sample:  198\n",
      "    Robust estimate of noise std:  0.018 +/-  0.002\n",
      "Order of approximation (N):  2\n",
      "    Size of beta sample:  197\n",
      "    Robust estimate of noise std:  0.019 +/-  0.002\n",
      "Order of approximation (N):  3\n",
      "    Size of beta sample:  196\n",
      "    Robust estimate of noise std:  0.019 +/-  0.002\n"
     ]
    },
    {
     "data": {
      "image/png": "[encoded data removed]",
      "text/plain": [
       "<matplotlib.figure.Figure at 0x7f5e5e04c5f8>"
      ]
     },
     "metadata": {},
     "output_type": "display_data"
    }
   ],
   "source": [
    "from __future__ import print_function, division\n",
    "import numpy as np\n",
    "import matplotlib.pylab as plt\n",
    "from PyAstronomy import pyasl\n",
    "\n",
    "def g(t):\n",
    "    \"\"\"\n",
    "    Function determining the behavior of the data.\n",
    "    \"\"\"\n",
    "    return 1.3 - 0.003*t + 1.3*np.sin(t/5.) * np.exp(-t/100.)\n",
    "\n",
    "\n",
    "# Number of data points\n",
    "nd = 200\n",
    "\n",
    "ti = np.arange(float(nd))\n",
    "gi = g(ti)\n",
    "\n",
    "mdiff = np.max(np.abs(gi[1:] - gi[0:-1]))\n",
    "print(\"\"\"Maximum absolute difference between consecutive\n",
    "    values of g(t): \"\"\", mdiff)\n",
    "\n",
    "# Standard deviation of noise\n",
    "istd = 0.02\n",
    "\n",
    "print(\"Input standard deviation: \", istd)\n",
    "print(\"Number of 'data points': \", nd)\n",
    "print()\n",
    "\n",
    "# Add Gaussian noise to data\n",
    "yi = gi + np.random.normal(0.0, istd, nd)\n",
    "\n",
    "# Create class instance for equidistant sampling\n",
    "bseq = pyasl.BSEqSamp()\n",
    "\n",
    "# Specify jump parameter (j) for construction of beta sample\n",
    "j = 1\n",
    "\n",
    "# Order of approximation to use\n",
    "Ns = [0,1,2,3]\n",
    "\n",
    "# Use to store noise estimates\n",
    "smads, dsmads = [], []\n",
    "\n",
    "# Loop over orders of approximation between 0 and 3\n",
    "for N in Ns:\n",
    "\n",
    "    # Get estimates of standard deviation based on robust (MAD-based) estimator\n",
    "    smad, dsmad = bseq.betaSigma(yi, N, j, returnMAD=True)\n",
    "    print(\"Order of approximation (N): \", N)\n",
    "\n",
    "    print(\"    Size of beta sample: \", len(bseq.betaSample))\n",
    "    print(\"    Robust estimate of noise std: %6.3f +/- %6.3f\" % (smad, dsmad))\n",
    "    # Save result\n",
    "    smads.append(smad)\n",
    "    dsmads.append(dsmad)\n",
    "\n",
    "# Plot g(t) and the synthetic data\n",
    "plt.subplot(2,1,1)\n",
    "plt.title(\"Data (top) and noise estimates (bottom)\")\n",
    "plt.plot(ti, gi, 'b.-', label=\"$g(t_i)$\")\n",
    "plt.errorbar(ti, yi, yerr=np.ones(nd)*istd, fmt='r+', label=\"$y_i$\")\n",
    "plt.legend()\n",
    "plt.subplot(2,1,2)\n",
    "plt.title(\"N=0 is insufficient\")\n",
    "plt.errorbar(Ns, smads, yerr=dsmads, fmt='k+', label=\"Noise estimates\")\n",
    "plt.plot([min(Ns)-0.5, max(Ns)+0.5], [istd]*2, 'k--', label=\"Input value\")\n",
    "plt.legend()\n",
    "plt.xlabel(\"Order of approximation (N)\")\n",
    "plt.ylabel(\"Noise STD\")\n",
    "plt.tight_layout()\n",
    "plt.show()"
   ]
  },
  {
   "cell_type": "markdown",
   "metadata": {},
   "source": [
    "## The effect of outliers: A case for robust estimation"
   ]
  },
  {
   "cell_type": "code",
   "execution_count": 3,
   "metadata": {},
   "outputs": [
    {
     "name": "stdout",
     "output_type": "stream",
     "text": [
      "Order of approximation:  0\n",
      "Jump parameter:  1\n",
      "\n",
      "Input standard deviation:  0.2\n",
      "Number of 'data points':  200\n",
      "Size of beta sample:  199\n",
      "\n",
      "Minimum-variance estimate: 14.915 +/-  0.916\n",
      "Robust estimate:  0.227 +/-  0.023\n"
     ]
    },
    {
     "data": {
      "image/png": "[encoded data removed]",
      "text/plain": [
       "<matplotlib.figure.Figure at 0x7f5e5dd13940>"
      ]
     },
     "metadata": {},
     "output_type": "display_data"
    }
   ],
   "source": [
    "from __future__ import print_function, division\n",
    "import numpy as np\n",
    "from PyAstronomy import pyasl\n",
    "import matplotlib.pylab as plt\n",
    "\n",
    "# Number of data points\n",
    "nd = 200\n",
    "\n",
    "# Input standard deviation\n",
    "istd = 0.2\n",
    "\n",
    "# Create some synthetic data (Gaussian noise) with\n",
    "# input standard deviation.\n",
    "y = np.random.normal(1.0, istd, nd)\n",
    "\n",
    "# Introduce some outliers\n",
    "# Number of outliers\n",
    "no = 15\n",
    "for _ in range(no):\n",
    "    # Choose an index (could occur more than once)\n",
    "    index = np.random.randint(0, high=nd)\n",
    "    # Add point from normal distribution with\n",
    "    # STD of 50\n",
    "    y[index] = np.random.normal(1.0, 50.0)\n",
    "\n",
    "# Create class instance for equidistant sampling\n",
    "bseq = pyasl.BSEqSamp()\n",
    "\n",
    "# Specify order of approximation (N) and jump parameter (j) for\n",
    "# construction of beta sample\n",
    "N = 0\n",
    "j = 1\n",
    "\n",
    "print(\"Order of approximation: \", N)\n",
    "print(\"Jump parameter: \", j)\n",
    "print()\n",
    "\n",
    "# Get estimates of standard deviation based on MV estimator and ...\n",
    "smv, dsmv = bseq.betaSigma(y, N, j, returnMAD=False)\n",
    "# ... robust (MAD-based) estimator\n",
    "smad, dsmad = bseq.betaSigma(y, N, j, returnMAD=True)\n",
    "\n",
    "print(\"Input standard deviation: \", istd)\n",
    "print(\"Number of 'data points': \", nd)\n",
    "print(\"Size of beta sample: \", len(bseq.betaSample))\n",
    "print()\n",
    "print(\"Minimum-variance estimate: %6.3f +/- %6.3f\" % (smv, dsmv))\n",
    "print(\"Robust estimate: %6.3f +/- %6.3f\" % (smad, dsmad))\n",
    "\n",
    "plt.subplot(2,1,1)\n",
    "plt.title(\"Synthetic data\")\n",
    "plt.plot(y, 'bp')\n",
    "plt.subplot(2,1,2)\n",
    "plt.title(\"Histogram of $\\\\beta$ sample\")\n",
    "plt.hist(bseq.betaSample, 30)\n",
    "plt.show()\n"
   ]
  },
  {
   "cell_type": "markdown",
   "metadata": {},
   "source": [
    "## Equidistant vs. arbitrary sampling"
   ]
  },
  {
   "cell_type": "code",
   "execution_count": 4,
   "metadata": {},
   "outputs": [
    {
     "name": "stdout",
     "output_type": "stream",
     "text": [
      "Input standard deviation:  0.3\n",
      "Number of 'data points':  30\n",
      "\n",
      "Estimates for N=1 and j=1\n",
      "    Equidistant sampling: 0.526 +/- 0.098\n",
      "    Arbitrary sampling: 0.277 +/- 0.062\n",
      "\n",
      "Estimates for N=2 and 3 based on equidistant sampling\n",
      "    N = 2: 0.285 +/- 0.059\n",
      "    N = 3: 0.291 +/- 0.065\n"
     ]
    },
    {
     "data": {
      "image/png": "[encoded data removed]",
      "text/plain": [
       "<matplotlib.figure.Figure at 0x7f5e5db42f98>"
      ]
     },
     "metadata": {},
     "output_type": "display_data"
    }
   ],
   "source": [
    "from __future__ import print_function, division\n",
    "import numpy as np\n",
    "import matplotlib.pylab as plt\n",
    "from PyAstronomy import pyasl\n",
    "\n",
    "def g(t):\n",
    "    \"\"\"\n",
    "    Function determining the behavior of the data.\n",
    "    \"\"\"\n",
    "    return 1.3 - 10.0*t\n",
    "\n",
    "\n",
    "# Number of data points\n",
    "nd = 30\n",
    "\n",
    "# Creating non-equidistant samping axis (ti)\n",
    "te = np.arange(float(nd))\n",
    "ti = (te**3) / float(nd**2)\n",
    "\n",
    "# Get values of g(t)\n",
    "gi = g(ti)\n",
    "\n",
    "# Standard deviation of noise\n",
    "istd = 0.3\n",
    "\n",
    "# Add Gaussian noise to data\n",
    "yi = gi + np.random.normal(0.0, istd, nd)\n",
    "\n",
    "print(\"Input standard deviation: \", istd)\n",
    "print(\"Number of 'data points': \", nd)\n",
    "print()\n",
    "\n",
    "# Create class instance for equidistant sampling\n",
    "bseq = pyasl.BSEqSamp()\n",
    "# Create class instance for arbitrary sampling\n",
    "bsar = pyasl.BSArbSamp()\n",
    "\n",
    "# Get estimates assung equidistant and arbitrary sampling\n",
    "# using N = 1 and j = 1. From the definition of g(t), N = 1\n",
    "# will be sufficient for the case of arbitrary sampling, but\n",
    "# not necessarily for (assumed) equidistant sampling.\n",
    "smv_es, dsmv_es  = bseq.betaSigma(yi, 1, 1)\n",
    "smv_as, dsmv_as  = bsar.betaSigma(ti, yi, 1, 1)\n",
    "\n",
    "print(\"Estimates for N=1 and j=1\")\n",
    "print(\"    Equidistant sampling: %5.3f +/- %5.3f\" % (smv_es, dsmv_es))\n",
    "print(\"    Arbitrary sampling: %5.3f +/- %5.3f\" % (smv_as, dsmv_as))\n",
    "print()\n",
    "\n",
    "# Get estimates for N=2 and 3 assuming equidistant sampling\n",
    "smv_es2, dsmv_es2  = bseq.betaSigma(yi, 2, 1)\n",
    "smv_es3, dsmv_es3  = bseq.betaSigma(yi, 3, 1)\n",
    "\n",
    "print(\"Estimates for N=2 and 3 based on equidistant sampling\")\n",
    "print(\"    N = 2: %5.3f +/- %5.3f\" % (smv_es2, dsmv_es2))\n",
    "print(\"    N = 3: %5.3f +/- %5.3f\" % (smv_es3, dsmv_es3))\n",
    "\n",
    "plt.subplot(2,1,1)\n",
    "plt.title(\"Data with true sampling\")\n",
    "plt.plot(ti, gi, 'b-')\n",
    "plt.errorbar(ti, yi, yerr=np.ones(nd)*istd, fmt='b+')\n",
    "plt.subplot(2,1,2)\n",
    "plt.title(\"Same data assuming equidistant sampling\")\n",
    "plt.plot(te, gi, 'r-')\n",
    "plt.errorbar(te, yi, yerr=np.ones(nd)*istd, fmt='r+')\n",
    "plt.tight_layout()\n",
    "plt.show()"
   ]
  },
  {
   "cell_type": "code",
   "execution_count": null,
   "metadata": {},
   "outputs": [],
   "source": []
  },
  {
   "cell_type": "code",
   "execution_count": null,
   "metadata": {},
   "outputs": [],
   "source": []
  }
 ],
 "metadata": {
  "anaconda-cloud": {},
  "kernelspec": {
   "display_name": "betasigma",
   "language": "python",
   "name": "betasigma"
  },
  "language_info": {
   "codemirror_mode": {
    "name": "ipython",
    "version": 3
   },
   "file_extension": ".py",
   "mimetype": "text/x-python",
   "name": "python",
   "nbconvert_exporter": "python",
   "pygments_lexer": "ipython3",
   "version": "3.6.4"
  }
 },
 "nbformat": 4,
 "nbformat_minor": 2
}

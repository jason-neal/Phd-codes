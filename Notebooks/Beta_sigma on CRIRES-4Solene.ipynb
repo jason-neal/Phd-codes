{
 "cells": [
  {
   "cell_type": "markdown",
   "metadata": {},
   "source": [
    "## Apply Beta-sigma SNR estimates on the CRIRES Spectra\n",
    "\n",
    "Using the berved spectra\n",
    "\n",
    "Should compare weith berved masked but assume it will be small differences.\n",
    "\n"
   ]
  },
  {
   "cell_type": "code",
   "execution_count": null,
   "metadata": {},
   "outputs": [],
   "source": [
    "from astropy.io import fits\n",
    "import os\n",
    "from PyAstronomy import pyasl\n",
    "import matplotlib.pyplot as plt\n",
    "import numpy as np\n",
    "%matplotlib inline"
   ]
  },
  {
   "cell_type": "code",
   "execution_count": null,
   "metadata": {},
   "outputs": [],
   "source": [
    "def betasigma_spectra(file, Nmax=5, j=1, arb=False, returnMAD=True):\n",
    "    \n",
    "    # Solene you probably need to change this...\n",
    "    #########\n",
    "    data = fits.getdata(file)\n",
    "    xi, yi = data[\"wavelength\"], data[\"flux\"]\n",
    "    #########\n",
    "    \n",
    "    \n",
    "    mdiff = np.max(np.abs(np.diff(yi)))\n",
    "    # print(\"\"\"Maximum absolute difference between consecutive\n",
    "    #    values of flux: \"\"\", mdiff)\n",
    "\n",
    "    nd = len(yi)\n",
    "    # print(\"Number of 'data points': \", nd)\n",
    "    # print()\n",
    "    print(\"Very Rough std = {}\".format(np.std(yi)))\n",
    "\n",
    "    # Create class instance for equidistant sampling\n",
    "    if arb:\n",
    "        bsarb = pyasl.BSArbSamp()\n",
    "    else:\n",
    "        bseq = pyasl.BSEqSamp()\n",
    "    \n",
    "    # Specify jump parameter (j) for construction of beta sample\n",
    "    j = j\n",
    "\n",
    "    # Order of approximation to use\n",
    "    Ns = range(Nmax+1)\n",
    "\n",
    "    # Use to store noise estimates\n",
    "    smads, dsmads = [], []\n",
    "\n",
    "    # Loop over orders of approximation between 0 and 3\n",
    "    for N in Ns:\n",
    "        #print(\"Order of approximation (N): \", N)\n",
    "\n",
    "        # Get estimates of standard deviation based on robust (MAD-based) estimator\n",
    "        if arb:\n",
    "            smad, dsmad = bsarb.betaSigma(xi, yi, N, j, returnMAD=returnMAD)\n",
    "            #print(\"    Size of beta sample: \", len(bsarb.betaSample))\n",
    "        else:\n",
    "            smad, dsmad = bseq.betaSigma(yi, N, j, returnMAD=returnMAD)\n",
    "            #print(\"    Size of beta sample: \", len(bseq.betaSample))\n",
    "        #print(\"    Robust estimate of noise std: %6.5f +/- %6.5f\" % (smad, dsmad))\n",
    "        # Save result\n",
    "        smads.append(smad)\n",
    "        dsmads.append(dsmad)\n",
    "\n",
    "    # Plot g(t) and the synthetic data\n",
    "    plt.subplot(2,1,1)\n",
    "    plt.title(\"Data (top) and noise estimates (bottom)\")\n",
    "    plt.plot(xi, yi, 'b.-', label=\"flux\")\n",
    "    #plt.errorbar(ti, yi, yerr=np.ones(nd)*istd, fmt='r+', label=\"$y_i$\")\n",
    "    plt.legend()\n",
    "    plt.subplot(2,1,2)\n",
    "    plt.title(\"N=0 is insufficient\")\n",
    "    plt.errorbar(Ns, smads, yerr=dsmads, fmt='k+', label=\"Noise estimates\")\n",
    "    #plt.plot([min(Ns)-0.5, max(Ns)+0.5], [np.std(flux)]*2, 'k--', label=\"Rough value\")\n",
    "    plt.legend()\n",
    "    plt.xlabel(\"Order of approximation (N)\")\n",
    "    plt.ylabel(\"Noise STD\")\n",
    "    plt.tight_layout()\n",
    "    plt.show()"
   ]
  },
  {
   "cell_type": "markdown",
   "metadata": {},
   "source": [
    "# Single Jump at a time"
   ]
  },
  {
   "cell_type": "code",
   "execution_count": null,
   "metadata": {},
   "outputs": [],
   "source": [
    "files = [\"/home/jneal/.handy_spectra/HD30501-1-mixavg-tellcorr_1_bervcorr.fits\",\n",
    "        ]\n",
    "\n",
    "for file in files:\n",
    "    print(\"File =\", os.path.split(file)[-1])\n",
    "    print(\"jump =1\")\n",
    "    betasigma_spectra(file)\n",
    "    print(\"jump =1\")\n",
    "    betasigma_spectra(file, j=2)\n",
    "    print(\"jump =3\")\n",
    "    betasigma_spectra(file, j=3)"
   ]
  },
  {
   "cell_type": "markdown",
   "metadata": {},
   "source": []
  },
  {
   "cell_type": "code",
   "execution_count": null,
   "metadata": {},
   "outputs": [],
   "source": [
    "def Betasigma_check(yi, N, j, **kwargs):\n",
    "    \"Checks adjacent orders for consistency\"\n",
    "    bseq = pyasl.BSEqSamp()\n",
    "    smad, dsmad = bseq.betaSigma(yi, N, j, **kwargs)\n",
    "    smad1, dsmad1 = bseq.betaSigma(yi, N+1, j, **kwargs)\n",
    "    print(\"Robust estimate of noise std 0(N): %6.5f +/- %6.5f\" % (smad, dsmad))\n",
    "    print(\"Robust estimate of noise std 0(N+1): %6.5f +/- %6.5f\" % (smad1, dsmad1))\n",
    "    if ( (smad1-dsmad1) < smad < (smad1+dsmad1) ) & ((smad-dsmad) < smad1 < (smad+dsmad) ):\n",
    "        print(\"consistent\")\n",
    "    else:\n",
    "        print(N, \"and\", N+1, \"are not conisitent\")\n",
    "        \n",
    "        \n",
    "def Betasigma_j_check(yi, N, j,**kwargs):\n",
    "    \"Checks adjacent orders for consistency\"\n",
    "    bseq = pyasl.BSEqSamp()\n",
    "    smad, dsmad = bseq.betaSigma(yi, N, j, **kwargs)\n",
    "    smad1, dsmad1 = bseq.betaSigma(yi, N, j+1, **kwargs)\n",
    "    print(\"    Robust estimate of noise std j={}: {:6.5f} +/- {:6.5f}\".format(j, smad, dsmad))\n",
    "    print(\"    Robust estimate of noise std j={}: {:6.5f} +/- {:6.5f}\".format(j+1, smad1, dsmad1))\n",
    "    if ( (smad1-dsmad1) < smad < (smad1+dsmad1) ) & ((smad-dsmad) < smad1 < (smad+dsmad) ):\n",
    "        print(\"consistent\")\n",
    "    else:\n",
    "        print(N, \"and\", N+1, \"are not conisitent\")"
   ]
  },
  {
   "cell_type": "code",
   "execution_count": null,
   "metadata": {},
   "outputs": [],
   "source": [
    "def betasigma_plot(flux, arb=False, **kwargs):\n",
    "    import matplotlib\n",
    "    # colors_array = list(matplotlib.colors.cnames.keys())\n",
    "    lines_array = list(matplotlib.lines.lineStyles.keys())\n",
    "    # markers_array = list(matplotlib.markers.MarkerStyle.markers)\n",
    "    Ns = range(11)\n",
    "    js = range(1,6)\n",
    "    \n",
    "    plt.figure(figsize=(8, 5))\n",
    "    plt.subplot(211)\n",
    "    plt.plot(flux)\n",
    "    plt.subplot(212)\n",
    "    for jj, j in enumerate(js):\n",
    "        # Use to store noise estimates\n",
    "        smads, dsmads = [], []\n",
    "        for N in Ns:\n",
    "            #print(\"Order of approximation (N): \", N)\n",
    "\n",
    "            # Get estimates of standard deviation based on robust (MAD-based) estimator\n",
    "            if arb:\n",
    "                smad, dsmad = bsarb.betaSigma(xi, yi, N, j, returnMAD=returnMAD)\n",
    "            else:\n",
    "                bseq = pyasl.BSEqSamp()\n",
    "                smad, dsmad = bseq.betaSigma(yi, N, j, **kwargs)\n",
    "        # Save result\n",
    "            smads.append(smad)\n",
    "            dsmads.append(dsmad)\n",
    "        plt.errorbar(Ns, smads, dsmad, label=\"j={}\".format(j), linestyle=lines_array[jj])\n",
    "        plt.xlabel(\"Order of Approximation (N)\")\n",
    "        plt.ylabel(\"$s_{ME}$\")\n",
    "        if arb:\n",
    "            plt.title(r\"Arbitray sampling $\\beta\\sigma$\")\n",
    "        else:\n",
    "             plt.title(r\"Equidistant sampling $\\beta\\sigma$\")\n",
    "    plt.legend(ncol=len(js))\n",
    "    plt.tight_layout()\n",
    "    plt.show()\n",
    "    \n"
   ]
  },
  {
   "cell_type": "markdown",
   "metadata": {},
   "source": [
    "# Multiple jumps at a time."
   ]
  },
  {
   "cell_type": "code",
   "execution_count": null,
   "metadata": {},
   "outputs": [],
   "source": [
    "files = [\"/home/jneal/.handy_spectra/HD30501-1-mixavg-tellcorr_1_bervcorr_masked.fits\",\n",
    "         \"/home/jneal/.handy_spectra/HD211847-1-mixavg-tellcorr_1_bervcorr_masked.fits\",\n",
    "     ]\n",
    "\n",
    "for file in files:\n",
    "    print(\"\\n\", os.path.split(file)[-1])\n",
    "    \n",
    "    #####################\n",
    "    # CHANGE here\n",
    "    data = fits.getdata(file)\n",
    "    xi, yi = data[\"wavelength\"], data[\"flux\"]\n",
    "    ########################\n",
    "    \n",
    "    betasigma_plot(yi, arb=False, returnMAD=True)"
   ]
  },
  {
   "cell_type": "code",
   "execution_count": null,
   "metadata": {},
   "outputs": [],
   "source": []
  },
  {
   "cell_type": "code",
   "execution_count": null,
   "metadata": {},
   "outputs": [],
   "source": []
  }
 ],
 "metadata": {
  "kernelspec": {
   "display_name": "betasigma",
   "language": "python",
   "name": "betasigma"
  },
  "language_info": {
   "codemirror_mode": {
    "name": "ipython",
    "version": 3
   },
   "file_extension": ".py",
   "mimetype": "text/x-python",
   "name": "python",
   "nbconvert_exporter": "python",
   "pygments_lexer": "ipython3",
   "version": "3.6.4"
  }
 },
 "nbformat": 4,
 "nbformat_minor": 2
}

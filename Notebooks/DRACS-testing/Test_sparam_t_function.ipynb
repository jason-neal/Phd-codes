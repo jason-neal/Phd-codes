{
 "cells": [
  {
   "cell_type": "markdown",
   "metadata": {},
   "source": [
    "# Test t_function parameter\n",
    "\n",
    "To see if the tracing is an issue with toggling clean and also datamax\n",
    "\n",
    "#### Need to delete tracing aperatures each time.\n",
    "\n"
   ]
  },
  {
   "cell_type": "code",
   "execution_count": null,
   "metadata": {
    "collapsed": true
   },
   "outputs": [],
   "source": [
    "import os\n",
    "import numpy as np\n",
    "from astropy.io import fits\n",
    "\n",
    "import matplotlib.pyplot as plt"
   ]
  },
  {
   "cell_type": "code",
   "execution_count": null,
   "metadata": {
    "collapsed": true
   },
   "outputs": [],
   "source": [
    "# Chip number\n",
    "chip = 3\n",
    "\n",
    "# Nod file names\n",
    "ms_names = [\"CRIRE.2012-07-12T06:54:44.372_{0}.nod.ms.fits\".format(chip),\n",
    "        \"CRIRE.2012-07-12T06:58:20.691_{0}.nod.ms.fits\".format(chip),\n",
    "        \"CRIRE.2012-07-12T07:01:49.683_{0}.nod.ms.fits\".format(chip),\n",
    "        \"CRIRE.2012-07-12T07:05:30.660_{0}.nod.ms.fits\".format(chip),\n",
    "        \"CRIRE.2012-07-12T07:08:59.651_{0}.nod.ms.fits\".format(chip),\n",
    "        \"CRIRE.2012-07-12T07:12:39.576_{0}.nod.ms.fits\".format(chip),\n",
    "        \"CRIRE.2012-07-12T07:16:06.773_{0}.nod.ms.fits\".format(chip),\n",
    "        \"CRIRE.2012-07-12T07:19:47.498_{0}.nod.ms.fits\".format(chip),\n",
    "]\n"
   ]
  },
  {
   "cell_type": "code",
   "execution_count": null,
   "metadata": {
    "collapsed": false
   },
   "outputs": [],
   "source": [
    "#LOAD IN THE datamax SPECTRA\n",
    "\n",
    "data_path = \"/home/jneal/BD-DRACS/HD202206-1-copy_to_find_artifacts/manual_cycling/\"\n",
    "\n",
    "folders = [\"clean_datamax10000_extras\",\"clean_datamax7000\",\"clean_datamax5000\",\"clean_no_datamax10000_extras\", \"clean_no_datamax7000\",\"clean_no_datamax5000\"]\n",
    "offsets = [-1000, 0, 1000, -1000, 0, 1000]\n",
    "datamax_data = []\n",
    "for folder in folders:\n",
    "    \n",
    "    data = fits.getdata(os.path.join(data_path, folder, ms_names[5]))\n",
    "    \n",
    "    if \"10000\" in folder:\n",
    "        datamax_data.append(data[0][0])\n",
    "    else:\n",
    "        datamax_data.append(data)\n"
   ]
  },
  {
   "cell_type": "code",
   "execution_count": null,
   "metadata": {
    "collapsed": false
   },
   "outputs": [],
   "source": []
  },
  {
   "cell_type": "code",
   "execution_count": null,
   "metadata": {
    "collapsed": false
   },
   "outputs": [],
   "source": [
    "# Plotting datamax results\n",
    "\n",
    "for label, data in zip(folders, datamax_data):\n",
    "    plt.plot(data, \"-\", label=label)\n",
    "\n",
    "plt.legend(loc=\"center right\", bbox_to_anchor=(1.8, 0.5), ncol=1, fancybox=True, shadow=True)\n",
    "  \n",
    "plt.ylim([2000, 8000])\n",
    "plt.show()"
   ]
  },
  {
   "cell_type": "code",
   "execution_count": null,
   "metadata": {
    "collapsed": false
   },
   "outputs": [],
   "source": []
  },
  {
   "cell_type": "code",
   "execution_count": null,
   "metadata": {
    "collapsed": false
   },
   "outputs": [],
   "source": [
    "## Compare just the extra results\n",
    "\n",
    "clean_extra = fits.getdata(os.path.join(data_path, \"clean_datamax10000_extras\", ms_names[5]))\n",
    "no_clean_extra = fits.getdata(os.path.join(data_path, \"clean_no_datamax10000_extras\", ms_names[5]))\n",
    "\n",
    "print(len(clean_extra[0]))\n",
    "print(len(clean_extra[1]))\n",
    "print(len(clean_extra[2]))\n",
    "print(len(clean_extra))\n",
    "#\n",
    "plt.plot(clean_extra[0][0], label=\"Clean_extra 0\")\n",
    "plt.plot(no_clean_extra[0][0], label=\"no_Clean_extra 0\")\n",
    "plt.legend()\n",
    "plt.show()\n",
    "\n",
    "\n",
    "plt.plot(clean_extra[1][0], label=\"Clean_extra 1\")\n",
    "plt.plot(no_clean_extra[1][0], label=\"no_Clean_extra 1\")\n",
    "plt.legend()\n",
    "plt.title('Apsum Extra \"raw\" (I think)')\n",
    "plt.show()\n",
    "\n",
    "\n",
    "plt.plot(clean_extra[2][0], label=\"Clean_extra 2\")\n",
    "plt.plot(no_clean_extra[2][0], label=\"no_Clean_extra 2\")\n",
    "plt.legend()\n",
    "plt.title('Apsum Extra \"Sigma\"')\n",
    "plt.show()\n"
   ]
  },
  {
   "cell_type": "code",
   "execution_count": null,
   "metadata": {
    "collapsed": false
   },
   "outputs": [],
   "source": [
    "plt.plot(clean_extra[0][0], label=\"Clean_extra 0\")\n",
    "plt.plot(clean_extra[1][0], label=\"Clean_extra 1\")\n",
    "plt.legend()\n",
    "plt.ylim([0,10000])\n",
    "plt.show()\n",
    "\n",
    "\n",
    "plt.plot(no_clean_extra[0][0], label=\"no_Clean_extra 0\")\n",
    "plt.plot(no_clean_extra[1][0], label=\"no_Clean_extra 1\")\n",
    "plt.legend()\n",
    "plt.ylim([0,10000])\n",
    "plt.show()\n",
    "\n"
   ]
  },
  {
   "cell_type": "code",
   "execution_count": null,
   "metadata": {
    "collapsed": false
   },
   "outputs": [],
   "source": []
  },
  {
   "cell_type": "code",
   "execution_count": null,
   "metadata": {
    "collapsed": false
   },
   "outputs": [],
   "source": [
    "# Load in each sepectra an plot\n",
    "#LOAD IN THE datamax SPECTRA\n",
    "\n",
    "data_path = \"/home/jneal/BD-DRACS/HD202206-1-copy_to_find_artifacts/\"\n",
    "\n",
    "folders = [\"clean_datamax10000_extras\",\"clean_datamax7000\",\"clean_datamax5000\",\"clean_no_datamax10000_extras\", \"clean_no_datamax7000\",\"clean_no_datamax5000\"]\n",
    "\n",
    "all_datamax_nods = []\n",
    "for nod in range(8):\n",
    "\n",
    "    datamax_data = []\n",
    "    for folder in folders:\n",
    "    \n",
    "        data = fits.getdata(os.path.join(data_path, folder, ms_names[nod]))\n",
    "    \n",
    "        if \"10000\" in folder:\n",
    "            datamax_data.append(data[0][0])\n",
    "        else:\n",
    "            datamax_data.append(data)\n",
    "    all_datamax_nods.append(datamax_data)"
   ]
  },
  {
   "cell_type": "code",
   "execution_count": null,
   "metadata": {
    "collapsed": false
   },
   "outputs": [],
   "source": [
    "for nod in range(8):\n",
    "    for label, data, offset in zip(folders, all_datamax_nods[nod], offsets):\n",
    "        plt.plot(data + offset, \"-\", label=label)\n",
    "    plt.title(\"Nod #{}, detector #{}\".format(nod, chip))\n",
    "    plt.legend(loc=\"center right\", bbox_to_anchor=(1.8, 0.5), ncol=1, fancybox=True, shadow=True)\n",
    "    plt.show()"
   ]
  },
  {
   "cell_type": "markdown",
   "metadata": {
    "collapsed": false
   },
   "source": [
    "Chips other than 2 are most likely the same because I did not delete the aperatures."
   ]
  },
  {
   "cell_type": "markdown",
   "metadata": {
    "collapsed": false
   },
   "source": [
    "# Changing polynomial orders and functions\n",
    "\n"
   ]
  },
  {
   "cell_type": "code",
   "execution_count": null,
   "metadata": {
    "collapsed": false
   },
   "outputs": [],
   "source": [
    "#LOAD IN THE datamax SPECTRA\n",
    "\n",
    "# Chip number\n",
    "chip = 2\n",
    "# Nod file names\n",
    "ms_names = [\"CRIRE.2012-07-12T06:54:44.372_{0}.nod.ms.fits\".format(chip),\n",
    "        \"CRIRE.2012-07-12T06:58:20.691_{0}.nod.ms.fits\".format(chip),\n",
    "        \"CRIRE.2012-07-12T07:01:49.683_{0}.nod.ms.fits\".format(chip),\n",
    "        \"CRIRE.2012-07-12T07:05:30.660_{0}.nod.ms.fits\".format(chip),\n",
    "        \"CRIRE.2012-07-12T07:08:59.651_{0}.nod.ms.fits\".format(chip),\n",
    "        \"CRIRE.2012-07-12T07:12:39.576_{0}.nod.ms.fits\".format(chip),\n",
    "        \"CRIRE.2012-07-12T07:16:06.773_{0}.nod.ms.fits\".format(chip),\n",
    "        \"CRIRE.2012-07-12T07:19:47.498_{0}.nod.ms.fits\".format(chip), ]\n",
    "data_path = \"/home/jneal/BD-DRACS/HD202206-1-copy_to_find_artifacts/\"\n",
    "\n",
    "no_clean_folders = [\"clean_no_cheb_o1\",\n",
    "           \"clean_no_cheb_o2\", \n",
    "           \"clean_no_cheb_o5\", \n",
    "           \"clean_no_legendre_o1\",\n",
    "           \"clean_no_legendre_o5\",\n",
    "           \"clean_no_spline1_o1\",\n",
    "           \"clean_no_spline1_o3\",\n",
    "           \"clean_no_spline3_o1\",\n",
    "           \"clean_no_spline3_o2\",\n",
    "           \"clean_no_spline3_o5\",\n",
    "          ]\n",
    "\n",
    "clean_folders = [[\"clean_spline1_o1\",\n",
    "                 \"clean_spline1_o2\",\n",
    "                 \"clean_spline1_o3\",\n",
    "                 \"clean_spline1_o4\",\n",
    "                 \"clean_spline1_o5\"],\n",
    "                 [\"clean_spline3_o1\",\n",
    "                 \"clean_spline3_o2\",\n",
    "                 \"clean_spline3_o3\",\n",
    "                 \"clean_spline3_o4\",\n",
    "                 \"clean_spline3_o5\"],\n",
    "                 [\"clean_cheb_o1\",\n",
    "                 \"clean_cheb_o2\",\n",
    "                 \"clean_cheb_o3\",\n",
    "                 \"clean_cheb_o4\",\n",
    "                 \"clean_cheb_o5\"],\n",
    "                 [\"clean_legendre_o1\",\n",
    "                 \"clean_legendre_o2\",\n",
    "                 \"clean_legendre_o3\",\n",
    "                 \"clean_legendre_o4\",\n",
    "                 \"clean_legendre_o5\"]\n",
    "          ]\n",
    "function_names = [\"spline1\", \"spline3\", \"chebyshev\", \"legendre\"]\n",
    "\n",
    "\n",
    "NOD = 6     # 6 BAD ALSO for chip 2\n",
    "no_clean_offsets = (np.arange(10)-5)*500\n",
    "clean_offsets = (np.arange(len(clean_folders[0]))-np.floor(len(clean_folders[0])/2))*500\n",
    "print(clean_offsets)\n",
    "\n",
    "no_clean_data = []\n",
    "for folder in no_clean_folders:\n",
    "    data = fits.getdata(os.path.join(data_path, folder, ms_names[NOD]))\n",
    "    no_clean_data.append(data)\n",
    "\n",
    "    \n",
    "clean_data = []\n",
    "for folders in clean_folders:\n",
    "    this_folder_data = []\n",
    "    for folder in folders:\n",
    "        data = fits.getdata(os.path.join(data_path, folder, ms_names[NOD]))\n",
    "        #print(len(data))\n",
    "        if len(data) == 3:\n",
    "            this_folder_data.append(data[0][0])\n",
    "        else:\n",
    "            this_folder_data.append(data)\n",
    "    clean_data.append(this_folder_data)"
   ]
  },
  {
   "cell_type": "code",
   "execution_count": null,
   "metadata": {
    "collapsed": false,
    "scrolled": true
   },
   "outputs": [],
   "source": [
    "# plot Clean\n",
    "for funct, name_list, data_list in zip(function_names, clean_folders, clean_data):\n",
    "    \n",
    "    for label, data, offset in zip(name_list, data_list, clean_offsets):\n",
    "        plt.plot(data + offset, \"-\", label=label)\n",
    "        #plt.plot(data, \"-\", label=label)\n",
    "    plt.title(\"{2} Polynomial, Nod #{0}, detector #{1}\".format(NOD, chip, funct))\n",
    "    plt.legend(loc=\"center right\", bbox_to_anchor=(1.8, 0.5), ncol=1, fancybox=True, shadow=True)\n",
    "#plt.ylim([0, 11000])\n",
    "    plt.show()"
   ]
  },
  {
   "cell_type": "code",
   "execution_count": null,
   "metadata": {
    "collapsed": true
   },
   "outputs": [],
   "source": []
  },
  {
   "cell_type": "code",
   "execution_count": null,
   "metadata": {
    "collapsed": false
   },
   "outputs": [],
   "source": [
    "# plot no_clean\n",
    "for label, data, offset in zip(no_clean_folders, no_clean_data, no_clean_offsets):\n",
    "    plt.plot(data + offset, \"-\", label=label)\n",
    "plt.title(\"Nod #{}, detector #{}\".format(NOD, chip))\n",
    "plt.legend(loc=\"center right\", bbox_to_anchor=(1.8, 0.5), ncol=1, fancybox=True, shadow=True)\n",
    "plt.ylim([0, 11000])\n",
    "plt.show()\n"
   ]
  },
  {
   "cell_type": "code",
   "execution_count": null,
   "metadata": {
    "collapsed": false
   },
   "outputs": [],
   "source": [
    "\n",
    "# Plot difference of chebyshev and legendre\n",
    "\n",
    "plt.plot(clean_data[2][0],label=clean_folders[2][0])\n",
    "plt.plot(clean_data[3][0], label=clean_folders[3][0])\n",
    "plt.legend()\n",
    "plt.show()"
   ]
  },
  {
   "cell_type": "code",
   "execution_count": null,
   "metadata": {
    "collapsed": true
   },
   "outputs": [],
   "source": []
  }
 ],
 "metadata": {
  "anaconda-cloud": {},
  "kernelspec": {
   "display_name": "Python [conda env:py35]",
   "language": "python",
   "name": "conda-env-py35-py"
  },
  "language_info": {
   "codemirror_mode": {
    "name": "ipython",
    "version": 3
   },
   "file_extension": ".py",
   "mimetype": "text/x-python",
   "name": "python",
   "nbconvert_exporter": "python",
   "pygments_lexer": "ipython3",
   "version": "3.5.2"
  }
 },
 "nbformat": 4,
 "nbformat_minor": 1
}

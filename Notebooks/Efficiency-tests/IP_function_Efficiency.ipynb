{
 "cells": [
  {
   "cell_type": "markdown",
   "metadata": {},
   "source": [
    "# Gaussian IP Efficencies:\n",
    "\n",
    "Invesitgating improving the unitary gauss function to be faster\n",
    "\n"
   ]
  },
  {
   "cell_type": "code",
   "execution_count": 1,
   "metadata": {
    "collapsed": true
   },
   "outputs": [],
   "source": [
    "import numpy as np\n",
    "def unitary_Gauss(x, center, FWHM):\n",
    "    \"\"\"\n",
    "    Gaussian_function of area=1\n",
    "\t\n",
    "\tp[0] = A;\n",
    "\tp[1] = mean;\n",
    "\tp[2] = FWHM;\n",
    "    \"\"\"\n",
    "    \n",
    "    sigma = np.abs(FWHM) /( 2 * np.sqrt(2 * np.log(2)) )\n",
    "    Amp = 1.0 / (sigma*np.sqrt(2*np.pi))\n",
    "    tau = -((x - center)**2) / (2*(sigma**2))\n",
    "    result = Amp * np.exp( tau )\n",
    "    \n",
    "    return result\n"
   ]
  },
  {
   "cell_type": "code",
   "execution_count": 12,
   "metadata": {
    "collapsed": false
   },
   "outputs": [],
   "source": [
    "x = np.arange(10, 100000)\n",
    "center = 20400\n",
    "FWHM = 50 "
   ]
  },
  {
   "cell_type": "code",
   "execution_count": 13,
   "metadata": {
    "collapsed": false
   },
   "outputs": [
    {
     "name": "stdout",
     "output_type": "stream",
     "text": [
      "1 loop, best of 3: 2min 51s per loop\n"
     ]
    }
   ],
   "source": [
    "%%timeit \n",
    "for wav in x:\n",
    "   result = unitary_Gauss(x, wav, FWHM)\n",
    "    "
   ]
  },
  {
   "cell_type": "code",
   "execution_count": null,
   "metadata": {
    "collapsed": false
   },
   "outputs": [],
   "source": [
    "%%timeit \n",
    "for center in x:\n",
    "    # in this case doing the sigma calulation twice\n",
    "    result = (1.0 / ((np.abs(FWHM) /( 2 * np.sqrt(2 * np.log(2)) ))*np.sqrt(2*np.pi))) * np.exp( -((x - center)**2) / (2*((np.abs(FWHM) /( 2 * np.sqrt(2 * np.log(2)) ))**2)) )"
   ]
  },
  {
   "cell_type": "code",
   "execution_count": 8,
   "metadata": {
    "collapsed": false
   },
   "outputs": [
    {
     "name": "stdout",
     "output_type": "stream",
     "text": [
      "The line_profiler extension is already loaded. To reload it, use:\n",
      "  %reload_ext line_profiler\n"
     ]
    }
   ],
   "source": [
    "%load_ext line_profiler\n",
    "%lprun -f unitary_Gauss unitary_Gauss(x, c, fwhm)"
   ]
  },
  {
   "cell_type": "code",
   "execution_count": 17,
   "metadata": {
    "collapsed": false
   },
   "outputs": [
    {
     "name": "stdout",
     "output_type": "stream",
     "text": [
      "1 loop, best of 3: 7.07 s per loop\n"
     ]
    }
   ],
   "source": [
    "%%timeit  \n",
    "# single line gaussian\n",
    "for center in x:\n",
    "    (1.0 / ((np.abs(FWHM) /( 2 * np.sqrt(2 * np.log(2)) ))*np.sqrt(2*np.pi))) * np.exp( -((x - center)**2) / (2*((np.abs(FWHM) /( 2 * np.sqrt(2 * np.log(2)) ))**2)) )"
   ]
  },
  {
   "cell_type": "code",
   "execution_count": null,
   "metadata": {
    "collapsed": false
   },
   "outputs": [],
   "source": [
    "%%timeit  \n",
    "# single line gaussian\n",
    "sigma = np.abs(FWHM) /( 2 * np.sqrt(2 * np.log(2)) );\n",
    "for center in x:\n",
    "    result = np.exp(-((x - center)**2) / (2*(sigma**2)))  / (sigma*np.sqrt(2*np.pi))"
   ]
  },
  {
   "cell_type": "markdown",
   "metadata": {},
   "source": [
    "# Split up gausian calculation\n",
    "\n",
    "Amplitude and sigma outside of loop to stop repition of calculations"
   ]
  },
  {
   "cell_type": "code",
   "execution_count": 14,
   "metadata": {
    "collapsed": true
   },
   "outputs": [],
   "source": [
    "def unitary_gaussian_constants(FWHM):\n",
    "    sigma = np.abs(FWHM) / ( 2 * np.sqrt(2 * np.log(2)) )\n",
    "    Amp = 1.0 / (sigma * np.sqrt(2 * np.pi))\n",
    "    two_sigma_squared = 2 * (sigma**2)\n",
    "    return Amp, two_sigma_squared\n",
    "\n",
    "def unitary_gaussian_exp_part(x, center, Amp, two_sigma_squared):\n",
    "    tau = -((x - center)**2) / two_sigma_squared\n",
    "    return Amp * np.exp( tau )\n"
   ]
  },
  {
   "cell_type": "code",
   "execution_count": null,
   "metadata": {
    "collapsed": false
   },
   "outputs": [],
   "source": []
  },
  {
   "cell_type": "code",
   "execution_count": 16,
   "metadata": {
    "collapsed": false
   },
   "outputs": [
    {
     "name": "stdout",
     "output_type": "stream",
     "text": [
      "1 loop, best of 3: 2min 58s per loop\n"
     ]
    }
   ],
   "source": [
    "%%timeit \n",
    "A, sigma22 = unitary_gaussian_constants(FWHM)\n",
    "for center in x:\n",
    "    result = unitary_gaussian_exp_part(x, center, A, sigma22)"
   ]
  },
  {
   "cell_type": "code",
   "execution_count": 17,
   "metadata": {
    "collapsed": false
   },
   "outputs": [
    {
     "name": "stdout",
     "output_type": "stream",
     "text": [
      "1 loop, best of 3: 2min 52s per loop\n"
     ]
    }
   ],
   "source": [
    "%%timeit \n",
    "for center in x:\n",
    "    A, sigma22 = unitary_gaussian_constants(FWHM)\n",
    "    result = unitary_gaussian_exp_part(x, center, A, sigma22)"
   ]
  },
  {
   "cell_type": "code",
   "execution_count": 18,
   "metadata": {
    "collapsed": false
   },
   "outputs": [
    {
     "data": {
      "text/plain": [
       "99990"
      ]
     },
     "execution_count": 18,
     "metadata": {},
     "output_type": "execute_result"
    }
   ],
   "source": [
    "len(x)\n"
   ]
  },
  {
   "cell_type": "code",
   "execution_count": 24,
   "metadata": {
    "collapsed": false
   },
   "outputs": [
    {
     "name": "stdout",
     "output_type": "stream",
     "text": [
      "The slowest run took 6.29 times longer than the fastest. This could mean that an intermediate result is being cached.\n",
      "100000 loops, best of 3: 6.02 µs per loop\n",
      "1000 loops, best of 3: 1.71 ms per loop\n"
     ]
    }
   ],
   "source": [
    "%timeit A, sigma22 = unitary_gaussian_constants(FWHM)   # cached result ?\n",
    "A, sigma22 = unitary_gaussian_constants(FWHM)\n",
    "%timeit result = unitary_gaussian_exp_part(x, center, A, sigma22)"
   ]
  },
  {
   "cell_type": "code",
   "execution_count": 21,
   "metadata": {
    "collapsed": false
   },
   "outputs": [
    {
     "data": {
      "text/plain": [
       "0.609939"
      ]
     },
     "execution_count": 21,
     "metadata": {},
     "output_type": "execute_result"
    }
   ],
   "source": [
    "6.1 * 99990 /1e6\n",
    "#seconds for constant"
   ]
  },
  {
   "cell_type": "code",
   "execution_count": 25,
   "metadata": {
    "collapsed": false
   },
   "outputs": [
    {
     "data": {
      "text/plain": [
       "169.983"
      ]
     },
     "execution_count": 25,
     "metadata": {},
     "output_type": "execute_result"
    }
   ],
   "source": [
    "1.7 *99990/1e3\n",
    "   # seconds for exp"
   ]
  },
  {
   "cell_type": "code",
   "execution_count": null,
   "metadata": {
    "collapsed": true
   },
   "outputs": [],
   "source": []
  }
 ],
 "metadata": {
  "kernelspec": {
   "display_name": "Python 2",
   "language": "python",
   "name": "python2"
  },
  "language_info": {
   "codemirror_mode": {
    "name": "ipython",
    "version": 2
   },
   "file_extension": ".py",
   "mimetype": "text/x-python",
   "name": "python",
   "nbconvert_exporter": "python",
   "pygments_lexer": "ipython2",
   "version": "2.7.11"
  }
 },
 "nbformat": 4,
 "nbformat_minor": 0
}

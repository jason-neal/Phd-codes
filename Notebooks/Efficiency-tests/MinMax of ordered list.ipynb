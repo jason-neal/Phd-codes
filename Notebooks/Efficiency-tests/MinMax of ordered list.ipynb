{
 "cells": [
  {
   "cell_type": "markdown",
   "metadata": {},
   "source": [
    "# Slicing Ends verse min/max\n",
    "\n",
    "If you have an order list of numbers how best to return the min and max values."
   ]
  },
  {
   "cell_type": "code",
   "execution_count": null,
   "metadata": {
    "collapsed": true
   },
   "outputs": [],
   "source": [
    "list min max\n",
    "list []\n",
    "\n",
    "np min max\n",
    "np []"
   ]
  },
  {
   "cell_type": "code",
   "execution_count": null,
   "metadata": {
    "collapsed": true
   },
   "outputs": [],
   "source": [
    "# Slicing the first and last elements is faster than np.min(), np.max() if you know that the list is ordered\n",
    "#min_dwl = wl2[1:]-wl2[:-1]\n",
    "\n",
    "#%timeit np.min(wl2)                                     ## min/max ~15 µs \n",
    "#%timeit np.max(wl2)                                     ## min/max ~15 µs \n",
    "\n",
    "#%timeit wl2[0]                                          ## [] ~300ns\n",
    "#%timeit wl2[-1]                                         ## [] ~300ns\n",
    "\n",
    "#%timeit [np.min(wl2)-2*min_dwl, np.max(wl2)+2*min_dwl]  ## ~ 70 µs \n",
    "\n",
    "#%timeit [wl2[0]-2*min_dwl, wl2[-1]+2*min_dwl]           ## ~ 40 µs \n",
    "    "
   ]
  },
  {
   "cell_type": "code",
   "execution_count": null,
   "metadata": {
    "collapsed": true
   },
   "outputs": [],
   "source": []
  },
  {
   "cell_type": "code",
   "execution_count": null,
   "metadata": {
    "collapsed": true
   },
   "outputs": [],
   "source": []
  }
 ],
 "metadata": {
  "kernelspec": {
   "display_name": "Python 3",
   "language": "python",
   "name": "python3"
  },
  "language_info": {
   "codemirror_mode": {
    "name": "ipython",
    "version": 3
   },
   "file_extension": ".py",
   "mimetype": "text/x-python",
   "name": "python",
   "nbconvert_exporter": "python",
   "pygments_lexer": "ipython3",
   "version": "3.4.4"
  }
 },
 "nbformat": 4,
 "nbformat_minor": 0
}

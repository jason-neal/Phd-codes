{
 "cells": [
  {
   "cell_type": "markdown",
   "metadata": {},
   "source": [
    "# Isinstance() before Numpy arraying:\n",
    "\n",
    "This is to test if it is more efficient to np.array() things all the time or to first check if they are already np.ndarrays.\n",
    "\n",
    "Jason Neal\n",
    "31/5/2016"
   ]
  },
  {
   "cell_type": "code",
   "execution_count": 32,
   "metadata": {
    "collapsed": false
   },
   "outputs": [],
   "source": [
    "import numpy as np\n",
    "\n",
    "# Make up some random data\n",
    "large_test_numpy = np.array(np.random.randn(100000), dtype=\"float64\")\n",
    "small_test_numpy = np.array(np.random.randn(10), dtype=\"float64\")\n",
    "\n",
    "large_test_list = list(large_test_numpy)\n",
    "small_test_list = list(small_test_numpy)\n"
   ]
  },
  {
   "cell_type": "markdown",
   "metadata": {},
   "source": [
    "### Timing calls\n",
    "From the following cells an isinstance call is around an order of magnitude faster than a np.array call on a small np.ndarray and around 3 orders of magnitude for a large numpy array. A np.array call on a np.ndarray is order of magnitudes faster then a np.array call on a large list.\n",
    "\n",
    "Strangely a negative isinstace response is twice as long as a positive response.\n"
   ]
  },
  {
   "cell_type": "code",
   "execution_count": 33,
   "metadata": {
    "collapsed": false
   },
   "outputs": [
    {
     "name": "stdout",
     "output_type": "stream",
     "text": [
      "Positive isinstance call:\n",
      "The slowest run took 11.45 times longer than the fastest. This could mean that an intermediate result is being cached.\n",
      "1000000 loops, best of 3: 467 ns per loop\n",
      "\n",
      "Negative isinstance call:\n",
      "The slowest run took 9.04 times longer than the fastest. This could mean that an intermediate result is being cached.\n",
      "1000000 loops, best of 3: 789 ns per loop\n",
      "\n",
      "Small numpy array -> numpy array:\n",
      "The slowest run took 4.28 times longer than the fastest. This could mean that an intermediate result is being cached.\n",
      "100000 loops, best of 3: 9.9 µs per loop\n",
      "\n",
      "Small list  -> numpy array:\n",
      "100000 loops, best of 3: 16.2 µs per loop\n"
     ]
    }
   ],
   "source": [
    "# Time Small lists and arrays\n",
    "print(\"Positive isinstance call:\")\n",
    "% timeit isinstance(small_test_numpy, np.ndarray)\n",
    "print(\"\\nNegative isinstance call:\")\n",
    "% timeit isinstance(small_test_list, np.ndarray)\n",
    "\n",
    "print(\"\\nSmall numpy array -> numpy array:\")\n",
    "% timeit np.array(small_test_numpy, dtype=\"float64\") \n",
    "print(\"\\nSmall list  -> numpy array:\")\n",
    "% timeit np.array(small_test_list, dtype=\"float64\") "
   ]
  },
  {
   "cell_type": "code",
   "execution_count": 34,
   "metadata": {
    "collapsed": false
   },
   "outputs": [
    {
     "name": "stdout",
     "output_type": "stream",
     "text": [
      "Positive isinstance call:\n",
      "The slowest run took 8.40 times longer than the fastest. This could mean that an intermediate result is being cached.\n",
      "1000000 loops, best of 3: 478 ns per loop\n",
      "\n",
      "Negative isinstance call:\n",
      "The slowest run took 12.25 times longer than the fastest. This could mean that an intermediate result is being cached.\n",
      "1000000 loops, best of 3: 764 ns per loop\n",
      "\n",
      "Large numpy array -> numpy array:\n",
      "1000 loops, best of 3: 447 µs per loop\n",
      "\n",
      "Large list  -> numpy array:\n",
      "10 loops, best of 3: 24.3 ms per loop\n"
     ]
    }
   ],
   "source": [
    "# Time larger lsits and arrays\n",
    "print(\"Positive isinstance call:\")\n",
    "% timeit isinstance(large_test_numpy, np.ndarray)\n",
    "print(\"\\nNegative isinstance call:\")\n",
    "% timeit isinstance(large_test_list, np.ndarray)\n",
    "\n",
    "print(\"\\nLarge numpy array -> numpy array:\")\n",
    "% timeit np.array(large_test_numpy, dtype=\"float64\") \n",
    "print(\"\\nLarge list  -> numpy array:\")\n",
    "% timeit np.array(large_test_list, dtype=\"float64\") \n",
    "\n"
   ]
  },
  {
   "cell_type": "code",
   "execution_count": 35,
   "metadata": {
    "collapsed": false
   },
   "outputs": [
    {
     "name": "stdout",
     "output_type": "stream",
     "text": [
      "The slowest run took 36.78 times longer than the fastest. This could mean that an intermediate result is being cached.\n",
      "1000000 loops, best of 3: 412 ns per loop\n"
     ]
    }
   ],
   "source": [
    "%%timeit \n",
    "if not isinstance(small_test_numpy, np.ndarray):\n",
    "    np.array(small_test_numpy, dtype=\"float64\") "
   ]
  },
  {
   "cell_type": "code",
   "execution_count": 36,
   "metadata": {
    "collapsed": false
   },
   "outputs": [
    {
     "name": "stdout",
     "output_type": "stream",
     "text": [
      "The slowest run took 6.11 times longer than the fastest. This could mean that an intermediate result is being cached.\n",
      "1000000 loops, best of 3: 511 ns per loop\n"
     ]
    }
   ],
   "source": [
    "%%timeit \n",
    "if not isinstance(large_test_numpy, np.ndarray):\n",
    "    np.array(large_test_numpy, dtype=\"float64\") "
   ]
  },
  {
   "cell_type": "code",
   "execution_count": 37,
   "metadata": {
    "collapsed": false
   },
   "outputs": [
    {
     "name": "stdout",
     "output_type": "stream",
     "text": [
      "The slowest run took 4.07 times longer than the fastest. This could mean that an intermediate result is being cached.\n",
      "100000 loops, best of 3: 10.9 µs per loop\n"
     ]
    }
   ],
   "source": [
    "%%timeit \n",
    "if type(small_test_list) is not np.ndarray:\n",
    "    np.array(small_test_list, dtype=\"float64\") "
   ]
  },
  {
   "cell_type": "code",
   "execution_count": 38,
   "metadata": {
    "collapsed": false
   },
   "outputs": [
    {
     "name": "stdout",
     "output_type": "stream",
     "text": [
      "100 loops, best of 3: 19.2 ms per loop\n"
     ]
    }
   ],
   "source": [
    "%%timeit \n",
    "if type(large_test_list) is not np.ndarray:\n",
    "    np.array(large_test_list, dtype=\"float64\") "
   ]
  },
  {
   "cell_type": "markdown",
   "metadata": {},
   "source": [
    "## Conclusion:\n",
    "\n",
    "If want to make sure that you value is a numpy array instead of just calling np.array on the object first do an isinstance call to check that it is not an numpy array already for a slight efficiency gain 10-100 microseconds per instance.\n",
    "\n",
    "#### Note:\n",
    "Not suitable if you are wanting to change the type of numpy array. I.e float32, float64, int. This should probably be done in the begining."
   ]
  }
 ],
 "metadata": {
  "kernelspec": {
   "display_name": "Python 3",
   "language": "python",
   "name": "python3"
  },
  "language_info": {
   "codemirror_mode": {
    "name": "ipython",
    "version": 3
   },
   "file_extension": ".py",
   "mimetype": "text/x-python",
   "name": "python",
   "nbconvert_exporter": "python",
   "pygments_lexer": "ipython3",
   "version": "3.4.4"
  }
 },
 "nbformat": 4,
 "nbformat_minor": 0
}

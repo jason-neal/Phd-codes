{
 "cells": [
  {
   "cell_type": "markdown",
   "metadata": {},
   "source": [
    "# Testing Python Efficiency:\n",
    "\n",
    "To determine fasted methods to apply sections of code.\n",
    "\n",
    "I.e. test using numpy arrays indexing, broadcasting etc comapred to my written functions and compreshnsion lists.\n",
    "\n",
    "Also test overhead of converting to and from lists."
   ]
  },
  {
   "cell_type": "code",
   "execution_count": 1,
   "metadata": {
    "collapsed": true
   },
   "outputs": [],
   "source": [
    "import numpy as np"
   ]
  },
  {
   "cell_type": "markdown",
   "metadata": {},
   "source": [
    "## Wavelength selection codes\n",
    "Fastest way to select wavelength and flux from a spectra.\n",
    "\n",
    "Experimenting with np array mask for quicker wavelenght selection than mine or pedros codes. Created fast_wav_selector 29/5/2015"
   ]
  },
  {
   "cell_type": "code",
   "execution_count": 2,
   "metadata": {
    "collapsed": false
   },
   "outputs": [],
   "source": [
    "\n",
    "def wav_selector(wav, flux, wav_min, wav_max):\n",
    "    \"\"\"\n",
    "    function that returns wavelength and flux withn a giving range\n",
    "    \"\"\"    \n",
    "    wav_sel = np.array([value for value in wav if(wav_min < value < wav_max)], dtype=\"float64\")\n",
    "    flux_sel = np.array([value[1] for value in zip(wav,flux) if(wav_min < value[0] < wav_max)], dtype=\"float64\")\n",
    "    \n",
    "    return [wav_sel, flux_sel]\n",
    "\n",
    "def slice_spectra(wl, spectrum, low, high):\n",
    "    \"\"\" Extract a section of a spectrum between wavelength bounds.\n",
    "    This was faster than wav_selector but it only works on numpy arrays.\n",
    "        \"\"\"\n",
    "    #print(\"lower bound\", low)\n",
    "    #print(\"upper bound\", high)\n",
    "    map1 = wl > low\n",
    "    map2 = wl < high\n",
    "    wl_sec = wl[map1*map2]\n",
    "    spectrum_sec = spectrum[map1*map2]   \n",
    "    return wl_sec, spectrum_sec \n",
    "\n",
    "\n",
    "def fast_wav_selector(wav, flux, wav_min, wav_max):\n",
    "    \"\"\" Faster Wavelenght selector\n",
    "    \n",
    "    If passed lists it will return lists.\n",
    "    If passed np arrays it will return arrays\n",
    "    \n",
    "    Fastest is using np.ndarrays\n",
    "    fast_wav_selector ~1000-2000 * quicker than wav_selector\n",
    "    \"\"\"\n",
    "    \n",
    "    if isinstance(wav, list): # if passed lists\n",
    "          wav_sel = [value for value in wav if(wav_min < value < wav_max)]\n",
    "          flux_sel = [value[1] for value in zip(wav,flux) if(wav_min < value[0] < wav_max)]\n",
    "    elif isinstance(wav, np.ndarray):\n",
    "        # Super Fast masking with numpy\n",
    "        mask = (wav > wav_min) & (wav < wav_max)\n",
    "        wav_sel = wav[mask]\n",
    "        flux_sel = flux[mask]\n",
    "    else:\n",
    "          raise TypeError(\"Unsupported input wav type\")\n",
    "    return [wav_sel, flux_sel]"
   ]
  },
  {
   "cell_type": "code",
   "execution_count": 3,
   "metadata": {
    "collapsed": false
   },
   "outputs": [],
   "source": [
    "# Create some data to test with\n",
    "wl = list(range(2000, 30000))\n",
    "wl_np = np.arange(2000, 30000)\n",
    "\n",
    "flux = [x**2 +5 for x in wl] \n",
    "flux_np = wl_np**2 +5"
   ]
  },
  {
   "cell_type": "code",
   "execution_count": 95,
   "metadata": {
    "collapsed": false
   },
   "outputs": [
    {
     "name": "stdout",
     "output_type": "stream",
     "text": [
      "Make list array\n",
      "1000 loops, best of 3: 1.78 ms per loop\n",
      "Make np array\n",
      "10000 loops, best of 3: 66.2 µs per loop\n"
     ]
    }
   ],
   "source": [
    "# Make some data as lists\n",
    "print(\"Make list array\")\n",
    "%timeit wl = list(range(2000, 30000))\n",
    "print(\"Make np array\")\n",
    "%timeit wl_np = np.arange(2000, 30000)\n"
   ]
  },
  {
   "cell_type": "code",
   "execution_count": 98,
   "metadata": {
    "collapsed": false
   },
   "outputs": [
    {
     "name": "stdout",
     "output_type": "stream",
     "text": [
      "100 loops, best of 3: 3.11 ms per loop\n",
      "100 loops, best of 3: 6.1 ms per loop\n",
      "10000 loops, best of 3: 27.6 µs per loop\n"
     ]
    }
   ],
   "source": [
    "%timeit list(wl_np)\n",
    "\n",
    "%timeit np.array(wl)\n",
    "\n",
    "%timeit np.array(wl_np)   # very quick as does nothing*"
   ]
  },
  {
   "cell_type": "code",
   "execution_count": null,
   "metadata": {
    "collapsed": false
   },
   "outputs": [],
   "source": [
    "print(\"list comprehension\")\n",
    "%timeit flux = [x**2 +5 for x in wl] \n",
    "print(\"np calculation\")\n",
    "%timeit flux_np = wl_np**2 +5\n",
    "# comprehension list much slower then numpy arrary but want to start with lists\n",
    "\n",
    "flux = [x**2 +5 for x in wl] \n",
    "flux_np = wl_np**2 +5"
   ]
  },
  {
   "cell_type": "code",
   "execution_count": null,
   "metadata": {
    "collapsed": false
   },
   "outputs": [],
   "source": [
    "print(\" min of list\")\n",
    "%timeit min(wl)\n",
    "print(\"np min of list\")\n",
    "%timeit np.min(wl)\n",
    "\n",
    "print(\" min of np array\")\n",
    "%timeit min(wl_np)\n",
    "print(\"np min of np array\")\n",
    "%timeit np.min(wl_np)\n",
    "# Timing time to turn list "
   ]
  },
  {
   "cell_type": "code",
   "execution_count": null,
   "metadata": {
    "collapsed": false
   },
   "outputs": [],
   "source": [
    "# Time to convert between list and array\n",
    "print(\"list to array\")\n",
    "%timeit np.array(wl)\n",
    "print(\"list to array\")\n",
    "%timeit x = np.array(wl)\n",
    "print(\"array to list\")\n",
    "%timeit list(wl_np)\n",
    "%timeit y = list(wl_np)"
   ]
  },
  {
   "cell_type": "code",
   "execution_count": 48,
   "metadata": {
    "collapsed": false
   },
   "outputs": [
    {
     "name": "stdout",
     "output_type": "stream",
     "text": [
      "The slowest run took 8.91 times longer than the fastest. This could mean that an intermediate result is being cached.\n",
      "10000 loops, best of 3: 24.1 µs per loop\n",
      "<class 'numpy.ndarray'>\n"
     ]
    }
   ],
   "source": [
    "# time to turn an array into and array\n",
    "%timeit np.array(wl_np)\n",
    "wl_np2 = np.array(wl_np)\n",
    "print(type(wl_np2))"
   ]
  },
  {
   "cell_type": "code",
   "execution_count": null,
   "metadata": {
    "collapsed": true
   },
   "outputs": [],
   "source": [
    "# Copied from H20 Scaling\n",
    "%timeit slice_spectra(tapas_h20_data[0], tapas_h20_data[1], np.min(wl2), np.max(wl2))\n",
    "%timeit wav_selector(tapas_h20_data[0], tapas_h20_data[1], np.min(wl2), np.max(wl2))\n",
    "%timeit fast_wav_selector(tapas_h20_data[0], tapas_h20_data[1], np.min(wl2), np.max(wl2))\n",
    "# fast_wav_selector ~1000-2000 * quicker\n",
    "#1 loop, best of 3: 1.88 s per loop\n",
    "#1000 loops, best of 3: 1.25 ms per loop\n",
    "#1 loop, best of 3: 1.9 s per loop\n",
    "#1000 loops, best of 3: 831 µs per loop\n",
    "(1.88*1000)/(1.25)  # "
   ]
  },
  {
   "cell_type": "code",
   "execution_count": 7,
   "metadata": {
    "collapsed": false
   },
   "outputs": [
    {
     "name": "stdout",
     "output_type": "stream",
     "text": [
      "1000 loops, best of 3: 339 µs per loop\n",
      "1000 loops, best of 3: 344 µs per loop\n"
     ]
    }
   ],
   "source": [
    "# Simliar time to split or not split out tuple/list returned\n",
    "%timeit t1 = fast_wav_selector(wl_np, flux_np, 6000, 24000)\n",
    "\n",
    "%timeit t2, t3 = fast_wav_selector(wl_np, flux_np, 6000, 24000) "
   ]
  },
  {
   "cell_type": "code",
   "execution_count": 15,
   "metadata": {
    "collapsed": false
   },
   "outputs": [
    {
     "name": "stdout",
     "output_type": "stream",
     "text": [
      "Wav_selector with lists\n",
      "10 loops, best of 3: 39.3 ms per loop\n",
      "fast Wav_selecor with list\n",
      "10 loops, best of 3: 24.2 ms per loop\n",
      "slice_spectra with array\n",
      "1000 loops, best of 3: 351 µs per loop\n",
      "Wav_selecor with array\n",
      "10 loops, best of 3: 77.5 ms per loop\n",
      "fast Wav_selecor_np with array\n",
      "1000 loops, best of 3: 346 µs per loop\n"
     ]
    }
   ],
   "source": [
    "## Time difference between my slice spectra and pedros wave selector\n",
    "#print(\"Slice_spectra with lists\")\n",
    "#%timeit slice_spectra(wl, flux, 6000, 24000)\n",
    "print(\"Wav_selector with lists\")\n",
    "%timeit wav_selector(wl, flux, 6000, 24000)\n",
    "print(\"fast Wav_selecor with list\")\n",
    "%timeit fast_wav_selector(wl, flux, 6000, 24000)\n",
    "print(\"slice_spectra with array\")\n",
    "%timeit slice_spectra(wl_np, flux_np, 6000, 24000)\n",
    "print(\"Wav_selecor with array\")\n",
    "%timeit wav_selector(wl_np, flux_np, 6000, 24000)\n",
    "print(\"fast Wav_selecor_np with array\")\n",
    "%timeit fast_wav_selector(wl_np, flux_np, 6000, 24000)"
   ]
  },
  {
   "cell_type": "code",
   "execution_count": null,
   "metadata": {
    "collapsed": true
   },
   "outputs": [],
   "source": []
  },
  {
   "cell_type": "code",
   "execution_count": 10,
   "metadata": {
    "collapsed": false
   },
   "outputs": [],
   "source": [
    "# Testing line profiling\n",
    "\n",
    "%load_ext line_profiler\n",
    "\n"
   ]
  },
  {
   "cell_type": "code",
   "execution_count": 85,
   "metadata": {
    "collapsed": false
   },
   "outputs": [],
   "source": [
    "%lprun  -f wav_selector wav_selector(wl_np, flux_np, 6000, 24000)\n"
   ]
  },
  {
   "cell_type": "code",
   "execution_count": 13,
   "metadata": {
    "collapsed": false
   },
   "outputs": [],
   "source": [
    "%lprun  -f fast_wav_selector fast_wav_selector(wl_np, flux_np, 6000, 24000)\n"
   ]
  },
  {
   "cell_type": "code",
   "execution_count": 11,
   "metadata": {
    "collapsed": false
   },
   "outputs": [],
   "source": [
    "%lprun  -f fast_wav_selector fast_wav_selector(wl, flux, 6000, 24000)"
   ]
  },
  {
   "cell_type": "code",
   "execution_count": 12,
   "metadata": {
    "collapsed": false
   },
   "outputs": [],
   "source": [
    "%lprun  -f slice_spectra slice_spectra(wl_np, flux_np, 6000, 24000)"
   ]
  },
  {
   "cell_type": "markdown",
   "metadata": {},
   "source": [
    "# Unitary Gauss Fucntion"
   ]
  },
  {
   "cell_type": "code",
   "execution_count": 1,
   "metadata": {
    "collapsed": true
   },
   "outputs": [],
   "source": [
    "\n",
    "def unitary_Gauss(x, center, FWHM):\n",
    "    \"\"\"\n",
    "    Gaussian_function of area=1\n",
    "\t\n",
    "\tp[0] = A;\n",
    "\tp[1] = mean;\n",
    "\tp[2] = FWHM;\n",
    "    \"\"\"\n",
    "    \n",
    "    sigma = np.abs(FWHM) /( 2 * np.sqrt(2 * np.log(2)) );\n",
    "    Amp = 1.0 / (sigma*np.sqrt(2*np.pi))\n",
    "    tau = -((x - center)**2) / (2*(sigma**2))\n",
    "    result = Amp * np.exp( tau );\n",
    "    \n",
    "    return result"
   ]
  },
  {
   "cell_type": "code",
   "execution_count": null,
   "metadata": {
    "collapsed": false
   },
   "outputs": [],
   "source": [
    "\n",
    "x = np.arange(-50,50)"
   ]
  },
  {
   "cell_type": "markdown",
   "metadata": {},
   "source": [
    "Unitatry Gauss function doesn't need speed up as it is all in numpy."
   ]
  },
  {
   "cell_type": "code",
   "execution_count": 4,
   "metadata": {
    "collapsed": false
   },
   "outputs": [
    {
     "name": "stdout",
     "output_type": "stream",
     "text": [
      "The slowest run took 5.48 times longer than the fastest. This could mean that an intermediate result is being cached.\n",
      "10000 loops, best of 3: 66.4 µs per loop\n"
     ]
    }
   ],
   "source": [
    "%timeit unitary_Gauss(np.arange(-50,50), 1, 5)\n",
    "#%timeit unitary_Gauss(xlist, 1, 5) # List does not work"
   ]
  },
  {
   "cell_type": "code",
   "execution_count": null,
   "metadata": {
    "collapsed": true
   },
   "outputs": [],
   "source": []
  },
  {
   "cell_type": "code",
   "execution_count": 4,
   "metadata": {
    "collapsed": true
   },
   "outputs": [],
   "source": [
    "# Main convolution loop\n",
    "\n",
    "def convolve(wav, R, wav_extended, flux_extended, FWHM_lim):\n",
    "        # select all values such that they are within the FWHM limits\n",
    "        FWHM = wav/R\n",
    "        indexes = [ i for i in range(len(wav_extended)) if ((wav - FWHM_lim*FWHM) < wav_extended[i] < (wav + FWHM_lim*FWHM))]\n",
    "        flux_2convolve = flux_extended[indexes[0]:indexes[-1]+1]\n",
    "        IP = unitary_Gauss(wav_extended[indexes[0]:indexes[-1]+1], wav, FWHM)\n",
    "        val = np.sum(IP*flux_2convolve) \n",
    "        unitary_val = np.sum(IP*np.ones_like(flux_2convolve))  # Effect of convolution onUnitary. For changing number of points\n",
    "        return val/unitary_val\n",
    "\n",
    "def fast_convolve(wav, R, wav_extended, flux_extended, FWHM_lim):\n",
    "    FWHM = wav/R\n",
    "    \n",
    "    index_mask = (wav_extended > (wav - FWHM_lim*FWHM)) &  (wav_extended < (wav + FWHM_lim*FWHM))\n",
    "    \n",
    "    flux_2convolve = flux_extended[index_mask]\n",
    "    IP = unitary_Gauss(wav_extended[index_mask], wav, FWHM)\n",
    "    \n",
    "    val = np.sum(IP*flux_2convolve) \n",
    "    unitary_val = np.sum(IP*np.ones_like(flux_2convolve))  # Effect of convolution onUnitary. For changing number of points\n",
    "        \n",
    "    return val/unitary_val"
   ]
  },
  {
   "cell_type": "code",
   "execution_count": 5,
   "metadata": {
    "collapsed": false
   },
   "outputs": [
    {
     "ename": "NameError",
     "evalue": "name 'wave_extended' is not defined",
     "output_type": "error",
     "traceback": [
      "\u001b[1;31m---------------------------------------------------------------------------\u001b[0m",
      "\u001b[1;31mNameError\u001b[0m                                 Traceback (most recent call last)",
      "\u001b[1;32m<ipython-input-5-ec2ad2e096f1>\u001b[0m in \u001b[0;36m<module>\u001b[1;34m()\u001b[0m\n\u001b[0;32m      1\u001b[0m \u001b[0mwav_extended\u001b[0m \u001b[1;33m=\u001b[0m \u001b[0mnp\u001b[0m\u001b[1;33m.\u001b[0m\u001b[0marange\u001b[0m\u001b[1;33m(\u001b[0m\u001b[1;33m-\u001b[0m\u001b[1;36m2000\u001b[0m\u001b[1;33m,\u001b[0m\u001b[1;36m2000\u001b[0m\u001b[1;33m)\u001b[0m\u001b[1;33m\u001b[0m\u001b[0m\n\u001b[1;32m----> 2\u001b[1;33m \u001b[0mflux_extended\u001b[0m \u001b[1;33m=\u001b[0m \u001b[0mnp\u001b[0m\u001b[1;33m.\u001b[0m\u001b[0mones_like\u001b[0m\u001b[1;33m(\u001b[0m\u001b[0mwave_extended\u001b[0m\u001b[1;33m)\u001b[0m\u001b[1;33m\u001b[0m\u001b[0m\n\u001b[0m\u001b[0;32m      3\u001b[0m \u001b[0mfwhm_lim\u001b[0m\u001b[1;33m=\u001b[0m\u001b[1;36m5\u001b[0m\u001b[1;33m\u001b[0m\u001b[0m\n\u001b[0;32m      4\u001b[0m \u001b[1;33m\u001b[0m\u001b[0m\n\u001b[0;32m      5\u001b[0m \u001b[0mwav\u001b[0m \u001b[1;33m=\u001b[0m \u001b[1;36m60\u001b[0m\u001b[1;33m\u001b[0m\u001b[0m\n",
      "\u001b[1;31mNameError\u001b[0m: name 'wave_extended' is not defined"
     ]
    }
   ],
   "source": [
    "wav_extended = np.arange(-2000,2000)\n",
    "flux_extended = np.ones_like(wave_extended)\n",
    "fwhm_lim=5\n",
    "\n",
    "wav = 60\n",
    "R=50000"
   ]
  },
  {
   "cell_type": "code",
   "execution_count": 6,
   "metadata": {
    "collapsed": false
   },
   "outputs": [
    {
     "ename": "NameError",
     "evalue": "name 'wav' is not defined",
     "output_type": "error",
     "traceback": [
      "\u001b[1;31m---------------------------------------------------------------------------\u001b[0m",
      "\u001b[1;31mNameError\u001b[0m                                 Traceback (most recent call last)",
      "\u001b[1;32m<ipython-input-6-7bbe3c60ac10>\u001b[0m in \u001b[0;36m<module>\u001b[1;34m()\u001b[0m\n\u001b[1;32m----> 1\u001b[1;33m \u001b[0mget_ipython\u001b[0m\u001b[1;33m(\u001b[0m\u001b[1;33m)\u001b[0m\u001b[1;33m.\u001b[0m\u001b[0mmagic\u001b[0m\u001b[1;33m(\u001b[0m\u001b[1;34m'timeit convolve(wav, R, wav_extended, flux_extended, fwhm_lim)'\u001b[0m\u001b[1;33m)\u001b[0m\u001b[1;33m\u001b[0m\u001b[0m\n\u001b[0m\u001b[0;32m      2\u001b[0m \u001b[0mget_ipython\u001b[0m\u001b[1;33m(\u001b[0m\u001b[1;33m)\u001b[0m\u001b[1;33m.\u001b[0m\u001b[0mmagic\u001b[0m\u001b[1;33m(\u001b[0m\u001b[1;34m'timeit fast_convolve(wav, R, wav_extended, flux_extended, fwhm_lim)'\u001b[0m\u001b[1;33m)\u001b[0m\u001b[1;33m\u001b[0m\u001b[0m\n",
      "\u001b[1;32mC:\\Users\\Jason\\Anaconda3\\lib\\site-packages\\IPython\\core\\interactiveshell.py\u001b[0m in \u001b[0;36mmagic\u001b[1;34m(self, arg_s)\u001b[0m\n\u001b[0;32m   2161\u001b[0m         \u001b[0mmagic_name\u001b[0m\u001b[1;33m,\u001b[0m \u001b[0m_\u001b[0m\u001b[1;33m,\u001b[0m \u001b[0mmagic_arg_s\u001b[0m \u001b[1;33m=\u001b[0m \u001b[0marg_s\u001b[0m\u001b[1;33m.\u001b[0m\u001b[0mpartition\u001b[0m\u001b[1;33m(\u001b[0m\u001b[1;34m' '\u001b[0m\u001b[1;33m)\u001b[0m\u001b[1;33m\u001b[0m\u001b[0m\n\u001b[0;32m   2162\u001b[0m         \u001b[0mmagic_name\u001b[0m \u001b[1;33m=\u001b[0m \u001b[0mmagic_name\u001b[0m\u001b[1;33m.\u001b[0m\u001b[0mlstrip\u001b[0m\u001b[1;33m(\u001b[0m\u001b[0mprefilter\u001b[0m\u001b[1;33m.\u001b[0m\u001b[0mESC_MAGIC\u001b[0m\u001b[1;33m)\u001b[0m\u001b[1;33m\u001b[0m\u001b[0m\n\u001b[1;32m-> 2163\u001b[1;33m         \u001b[1;32mreturn\u001b[0m \u001b[0mself\u001b[0m\u001b[1;33m.\u001b[0m\u001b[0mrun_line_magic\u001b[0m\u001b[1;33m(\u001b[0m\u001b[0mmagic_name\u001b[0m\u001b[1;33m,\u001b[0m \u001b[0mmagic_arg_s\u001b[0m\u001b[1;33m)\u001b[0m\u001b[1;33m\u001b[0m\u001b[0m\n\u001b[0m\u001b[0;32m   2164\u001b[0m \u001b[1;33m\u001b[0m\u001b[0m\n\u001b[0;32m   2165\u001b[0m     \u001b[1;31m#-------------------------------------------------------------------------\u001b[0m\u001b[1;33m\u001b[0m\u001b[1;33m\u001b[0m\u001b[0m\n",
      "\u001b[1;32mC:\\Users\\Jason\\Anaconda3\\lib\\site-packages\\IPython\\core\\interactiveshell.py\u001b[0m in \u001b[0;36mrun_line_magic\u001b[1;34m(self, magic_name, line)\u001b[0m\n\u001b[0;32m   2082\u001b[0m                 \u001b[0mkwargs\u001b[0m\u001b[1;33m[\u001b[0m\u001b[1;34m'local_ns'\u001b[0m\u001b[1;33m]\u001b[0m \u001b[1;33m=\u001b[0m \u001b[0msys\u001b[0m\u001b[1;33m.\u001b[0m\u001b[0m_getframe\u001b[0m\u001b[1;33m(\u001b[0m\u001b[0mstack_depth\u001b[0m\u001b[1;33m)\u001b[0m\u001b[1;33m.\u001b[0m\u001b[0mf_locals\u001b[0m\u001b[1;33m\u001b[0m\u001b[0m\n\u001b[0;32m   2083\u001b[0m             \u001b[1;32mwith\u001b[0m \u001b[0mself\u001b[0m\u001b[1;33m.\u001b[0m\u001b[0mbuiltin_trap\u001b[0m\u001b[1;33m:\u001b[0m\u001b[1;33m\u001b[0m\u001b[0m\n\u001b[1;32m-> 2084\u001b[1;33m                 \u001b[0mresult\u001b[0m \u001b[1;33m=\u001b[0m \u001b[0mfn\u001b[0m\u001b[1;33m(\u001b[0m\u001b[1;33m*\u001b[0m\u001b[0margs\u001b[0m\u001b[1;33m,\u001b[0m\u001b[1;33m**\u001b[0m\u001b[0mkwargs\u001b[0m\u001b[1;33m)\u001b[0m\u001b[1;33m\u001b[0m\u001b[0m\n\u001b[0m\u001b[0;32m   2085\u001b[0m             \u001b[1;32mreturn\u001b[0m \u001b[0mresult\u001b[0m\u001b[1;33m\u001b[0m\u001b[0m\n\u001b[0;32m   2086\u001b[0m \u001b[1;33m\u001b[0m\u001b[0m\n",
      "\u001b[1;32m<decorator-gen-60>\u001b[0m in \u001b[0;36mtimeit\u001b[1;34m(self, line, cell)\u001b[0m\n",
      "\u001b[1;32mC:\\Users\\Jason\\Anaconda3\\lib\\site-packages\\IPython\\core\\magic.py\u001b[0m in \u001b[0;36m<lambda>\u001b[1;34m(f, *a, **k)\u001b[0m\n\u001b[0;32m    191\u001b[0m     \u001b[1;31m# but it's overkill for just that one bit of state.\u001b[0m\u001b[1;33m\u001b[0m\u001b[1;33m\u001b[0m\u001b[0m\n\u001b[0;32m    192\u001b[0m     \u001b[1;32mdef\u001b[0m \u001b[0mmagic_deco\u001b[0m\u001b[1;33m(\u001b[0m\u001b[0marg\u001b[0m\u001b[1;33m)\u001b[0m\u001b[1;33m:\u001b[0m\u001b[1;33m\u001b[0m\u001b[0m\n\u001b[1;32m--> 193\u001b[1;33m         \u001b[0mcall\u001b[0m \u001b[1;33m=\u001b[0m \u001b[1;32mlambda\u001b[0m \u001b[0mf\u001b[0m\u001b[1;33m,\u001b[0m \u001b[1;33m*\u001b[0m\u001b[0ma\u001b[0m\u001b[1;33m,\u001b[0m \u001b[1;33m**\u001b[0m\u001b[0mk\u001b[0m\u001b[1;33m:\u001b[0m \u001b[0mf\u001b[0m\u001b[1;33m(\u001b[0m\u001b[1;33m*\u001b[0m\u001b[0ma\u001b[0m\u001b[1;33m,\u001b[0m \u001b[1;33m**\u001b[0m\u001b[0mk\u001b[0m\u001b[1;33m)\u001b[0m\u001b[1;33m\u001b[0m\u001b[0m\n\u001b[0m\u001b[0;32m    194\u001b[0m \u001b[1;33m\u001b[0m\u001b[0m\n\u001b[0;32m    195\u001b[0m         \u001b[1;32mif\u001b[0m \u001b[0mcallable\u001b[0m\u001b[1;33m(\u001b[0m\u001b[0marg\u001b[0m\u001b[1;33m)\u001b[0m\u001b[1;33m:\u001b[0m\u001b[1;33m\u001b[0m\u001b[0m\n",
      "\u001b[1;32mC:\\Users\\Jason\\Anaconda3\\lib\\site-packages\\IPython\\core\\magics\\execution.py\u001b[0m in \u001b[0;36mtimeit\u001b[1;34m(self, line, cell)\u001b[0m\n\u001b[0;32m   1039\u001b[0m             \u001b[0mnumber\u001b[0m \u001b[1;33m=\u001b[0m \u001b[1;36m1\u001b[0m\u001b[1;33m\u001b[0m\u001b[0m\n\u001b[0;32m   1040\u001b[0m             \u001b[1;32mfor\u001b[0m \u001b[0m_\u001b[0m \u001b[1;32min\u001b[0m \u001b[0mrange\u001b[0m\u001b[1;33m(\u001b[0m\u001b[1;36m1\u001b[0m\u001b[1;33m,\u001b[0m \u001b[1;36m10\u001b[0m\u001b[1;33m)\u001b[0m\u001b[1;33m:\u001b[0m\u001b[1;33m\u001b[0m\u001b[0m\n\u001b[1;32m-> 1041\u001b[1;33m                 \u001b[0mtime_number\u001b[0m \u001b[1;33m=\u001b[0m \u001b[0mtimer\u001b[0m\u001b[1;33m.\u001b[0m\u001b[0mtimeit\u001b[0m\u001b[1;33m(\u001b[0m\u001b[0mnumber\u001b[0m\u001b[1;33m)\u001b[0m\u001b[1;33m\u001b[0m\u001b[0m\n\u001b[0m\u001b[0;32m   1042\u001b[0m                 \u001b[0mworst_tuning\u001b[0m \u001b[1;33m=\u001b[0m \u001b[0mmax\u001b[0m\u001b[1;33m(\u001b[0m\u001b[0mworst_tuning\u001b[0m\u001b[1;33m,\u001b[0m \u001b[0mtime_number\u001b[0m \u001b[1;33m/\u001b[0m \u001b[0mnumber\u001b[0m\u001b[1;33m)\u001b[0m\u001b[1;33m\u001b[0m\u001b[0m\n\u001b[0;32m   1043\u001b[0m                 \u001b[1;32mif\u001b[0m \u001b[0mtime_number\u001b[0m \u001b[1;33m>=\u001b[0m \u001b[1;36m0.2\u001b[0m\u001b[1;33m:\u001b[0m\u001b[1;33m\u001b[0m\u001b[0m\n",
      "\u001b[1;32mC:\\Users\\Jason\\Anaconda3\\lib\\site-packages\\IPython\\core\\magics\\execution.py\u001b[0m in \u001b[0;36mtimeit\u001b[1;34m(self, number)\u001b[0m\n\u001b[0;32m    135\u001b[0m         \u001b[0mgc\u001b[0m\u001b[1;33m.\u001b[0m\u001b[0mdisable\u001b[0m\u001b[1;33m(\u001b[0m\u001b[1;33m)\u001b[0m\u001b[1;33m\u001b[0m\u001b[0m\n\u001b[0;32m    136\u001b[0m         \u001b[1;32mtry\u001b[0m\u001b[1;33m:\u001b[0m\u001b[1;33m\u001b[0m\u001b[0m\n\u001b[1;32m--> 137\u001b[1;33m             \u001b[0mtiming\u001b[0m \u001b[1;33m=\u001b[0m \u001b[0mself\u001b[0m\u001b[1;33m.\u001b[0m\u001b[0minner\u001b[0m\u001b[1;33m(\u001b[0m\u001b[0mit\u001b[0m\u001b[1;33m,\u001b[0m \u001b[0mself\u001b[0m\u001b[1;33m.\u001b[0m\u001b[0mtimer\u001b[0m\u001b[1;33m)\u001b[0m\u001b[1;33m\u001b[0m\u001b[0m\n\u001b[0m\u001b[0;32m    138\u001b[0m         \u001b[1;32mfinally\u001b[0m\u001b[1;33m:\u001b[0m\u001b[1;33m\u001b[0m\u001b[0m\n\u001b[0;32m    139\u001b[0m             \u001b[1;32mif\u001b[0m \u001b[0mgcold\u001b[0m\u001b[1;33m:\u001b[0m\u001b[1;33m\u001b[0m\u001b[0m\n",
      "\u001b[1;32m<magic-timeit>\u001b[0m in \u001b[0;36minner\u001b[1;34m(_it, _timer)\u001b[0m\n",
      "\u001b[1;31mNameError\u001b[0m: name 'wav' is not defined"
     ]
    }
   ],
   "source": [
    "%timeit convolve(wav, R, wav_extended, flux_extended, fwhm_lim)\n",
    "%timeit fast_convolve(wav, R, wav_extended, flux_extended, fwhm_lim)"
   ]
  },
  {
   "cell_type": "code",
   "execution_count": 7,
   "metadata": {
    "collapsed": false
   },
   "outputs": [
    {
     "data": {
      "text/plain": [
       "245.0"
      ]
     },
     "execution_count": 7,
     "metadata": {},
     "output_type": "execute_result"
    }
   ],
   "source": [
    "49/.2\n",
    "# ~250 x increase"
   ]
  },
  {
   "cell_type": "code",
   "execution_count": 8,
   "metadata": {
    "collapsed": false
   },
   "outputs": [
    {
     "ename": "NameError",
     "evalue": "name 'wav' is not defined",
     "output_type": "error",
     "traceback": [
      "\u001b[1;31m---------------------------------------------------------------------------\u001b[0m",
      "\u001b[1;31mNameError\u001b[0m                                 Traceback (most recent call last)",
      "\u001b[1;32m<ipython-input-8-478be2be200b>\u001b[0m in \u001b[0;36m<module>\u001b[1;34m()\u001b[0m\n\u001b[1;32m----> 1\u001b[1;33m \u001b[0ma\u001b[0m \u001b[1;33m=\u001b[0m \u001b[0mconvolve\u001b[0m\u001b[1;33m(\u001b[0m\u001b[0mwav\u001b[0m\u001b[1;33m,\u001b[0m \u001b[0mR\u001b[0m\u001b[1;33m,\u001b[0m \u001b[0mwav_extended\u001b[0m\u001b[1;33m,\u001b[0m \u001b[0mflux_extended\u001b[0m\u001b[1;33m,\u001b[0m \u001b[0mfwhm_lim\u001b[0m\u001b[1;33m)\u001b[0m\u001b[1;33m\u001b[0m\u001b[0m\n\u001b[0m\u001b[0;32m      2\u001b[0m \u001b[0mb\u001b[0m \u001b[1;33m=\u001b[0m \u001b[0mfast_convolve\u001b[0m\u001b[1;33m(\u001b[0m\u001b[0mwav\u001b[0m\u001b[1;33m,\u001b[0m \u001b[0mR\u001b[0m\u001b[1;33m,\u001b[0m \u001b[0mwav_extended\u001b[0m\u001b[1;33m,\u001b[0m \u001b[0mflux_extended\u001b[0m\u001b[1;33m,\u001b[0m \u001b[0mfwhm_lim\u001b[0m\u001b[1;33m)\u001b[0m\u001b[1;33m\u001b[0m\u001b[0m\n\u001b[0;32m      3\u001b[0m \u001b[0mnp\u001b[0m\u001b[1;33m.\u001b[0m\u001b[0misclose\u001b[0m\u001b[1;33m(\u001b[0m\u001b[0ma\u001b[0m\u001b[1;33m,\u001b[0m\u001b[0mb\u001b[0m\u001b[1;33m)\u001b[0m\u001b[1;33m\u001b[0m\u001b[0m\n",
      "\u001b[1;31mNameError\u001b[0m: name 'wav' is not defined"
     ]
    }
   ],
   "source": [
    "a = convolve(wav, R, wav_extended, flux_extended, fwhm_lim)\n",
    "b = fast_convolve(wav, R, wav_extended, flux_extended, fwhm_lim)\n",
    "np.isclose(a,b)"
   ]
  },
  {
   "cell_type": "markdown",
   "metadata": {},
   "source": [
    "# Test convolution fix"
   ]
  },
  {
   "cell_type": "code",
   "execution_count": 9,
   "metadata": {
    "collapsed": true
   },
   "outputs": [],
   "source": [
    "import numpy as np\n",
    "import time\n",
    "import datetime\n",
    "\n",
    "def wav_selector(wav, flux, wav_min, wav_max):\n",
    "    \"\"\"\n",
    "    function that returns wavelength and flux withn a giving range\n",
    "    \"\"\"    \n",
    "    wav_sel = np.array([value for value in wav if(wav_min < value < wav_max)], dtype=\"float64\")\n",
    "    flux_sel = np.array([value[1] for value in zip(wav,flux) if(wav_min < value[0] < wav_max)], dtype=\"float64\")\n",
    "    \n",
    "    return [wav_sel, flux_sel]\n",
    "\n",
    "\n",
    "\n",
    "def unitary_Gauss(x, center, FWHM):\n",
    "    \"\"\"\n",
    "    Gaussian_function of area=1\n",
    "\t\n",
    "\tp[0] = A;\n",
    "\tp[1] = mean;\n",
    "\tp[2] = FWHM;\n",
    "    \"\"\"\n",
    "    \n",
    "    sigma = np.abs(FWHM) /( 2 * np.sqrt(2 * np.log(2)) );\n",
    "    Amp = 1.0 / (sigma*np.sqrt(2*np.pi))\n",
    "    tau = -((x - center)**2) / (2*(sigma**2))\n",
    "    result = Amp * np.exp( tau );\n",
    "    \n",
    "    return result\n",
    "\n",
    "\n",
    "def chip_selector(wav, flux, chip):\n",
    "    chip = str(chip)\n",
    "    if(chip in [\"ALL\", \"all\", \"\",\"0\"]):\n",
    "        chipmin = float(hdr1[\"HIERARCH ESO INS WLEN STRT1\"])  # Wavelength start on detector [nm]\n",
    "        chipmax = float(hdr1[\"HIERARCH ESO INS WLEN END4\"])   # Wavelength end on detector [nm]\n",
    "        #return [wav, flux]\n",
    "    elif(chip == \"1\"):\n",
    "        chipmin = float(hdr1[\"HIERARCH ESO INS WLEN STRT1\"])  # Wavelength start on detector [nm]\n",
    "        chipmax = float(hdr1[\"HIERARCH ESO INS WLEN END1\"])   # Wavelength end on detector [nm]\n",
    "    elif(chip == \"2\"):\n",
    "        chipmin = float(hdr1[\"HIERARCH ESO INS WLEN STRT2\"])  # Wavelength start on detector [nm]\n",
    "        chipmax = float(hdr1[\"HIERARCH ESO INS WLEN END2\"])   # Wavelength end on detector [nm]\n",
    "    elif(chip == \"3\"):   \n",
    "        chipmin = float(hdr1[\"HIERARCH ESO INS WLEN STRT3\"])  # Wavelength start on detector [nm]\n",
    "        chipmax = float(hdr1[\"HIERARCH ESO INS WLEN END3\"])   # Wavelength end on detector [nm]\n",
    "    elif(chip == \"4\"):   \n",
    "        chipmin = float(hdr1[\"HIERARCH ESO INS WLEN STRT4\"])  # Wavelength start on detector [nm]\n",
    "        chipmax = float(hdr1[\"HIERARCH ESO INS WLEN END4\"])   # Wavelength end on detector [nm]\n",
    "    elif(chip == \"Joblib_small\"):   \n",
    "        chipmin = float(2118)  # Wavelength start on detector [nm]\n",
    "        chipmax = float(2119)  # Wavelength end on detector [nm]\n",
    "    elif(chip == \"Joblib_large\"):   \n",
    "        chipmin = float(2149)  # Wavelength start on detector [nm]\n",
    "        chipmax = float(2157)  # Wavelength end on detector [nm]\n",
    "    else:\n",
    "        print(\"Unrecognized chip tag.\")\n",
    "        exit()\n",
    "    \n",
    "    #select values form the chip  \n",
    "    wav_chip, flux_chip = wav_selector(wav, flux, chipmin, chipmax)\n",
    "    \n",
    "    return [wav_chip, flux_chip]\n"
   ]
  },
  {
   "cell_type": "code",
   "execution_count": 18,
   "metadata": {
    "collapsed": true
   },
   "outputs": [],
   "source": [
    "def fast_convolution(wav, flux, chip, R, FWHM_lim=5.0, n_jobs=-1):\n",
    "    \"\"\"Convolution code adapted from pedros code\"\"\"\n",
    "    \n",
    "    wav_chip, flux_chip = chip_selector(wav, flux, chip)\n",
    "    #we need to calculate the FWHM at this value in order to set the starting point for the convolution\n",
    "    \n",
    "    #print(wav_chip)\n",
    "    #print(flux_chip)\n",
    "    FWHM_min = wav_chip[0]/R    #FWHM at the extremes of vector\n",
    "    FWHM_max = wav_chip[-1]/R       \n",
    "    \n",
    "    #wide wavelength bin for the resolution_convolution\n",
    "    wav_extended, flux_extended = wav_selector(wav, flux, wav_chip[0]-FWHM_lim*FWHM_min, wav_chip[-1]+FWHM_lim*FWHM_max) \n",
    "    wav_extended = np.array(wav_extended, dtype=\"float64\")\n",
    "    flux_extended = np.array(flux_extended, dtype=\"float64\")\n",
    "    \n",
    "    print(\"Starting the fast Resolution convolution...\")\n",
    "    # Pre allocate space\n",
    "    #flux_conv_res = []\n",
    "    flux_conv_res = np.empty_like(wav_chip, dtype=\"float64\")\n",
    "    counter = 0 \n",
    "    for n, wav in enumerate(wav_chip):\n",
    "        result = fast_convolve(wav, R, wav_extended, flux_extended, FWHM_lim)\n",
    "        #print(result)\n",
    "        #if(len(flux_conv_res)%(len(wav_chip)//100 ) == 0):\n",
    "        if(n%(len(wav_chip)//100 ) == 0):\n",
    "            counter = counter+1\n",
    "            print(\"Resolution Convolution at {}%%...\".format(counter))\n",
    "        flux_conv_res[n] = result\n",
    "    flux_conv_res = np.array(result, dtype=\"float64\")\n",
    "    print(\"Done.\\n\")\n",
    "    \n",
    "\n",
    "    return [wav_chip, flux_conv_res ]\n",
    "\n",
    "def slow_convolution(wav, flux, chip, R, FWHM_lim=5.0, n_jobs=-1):\n",
    "    \"\"\"Convolution code adapted from pedros code\"\"\"\n",
    "    \n",
    "    wav_chip, flux_chip = chip_selector(wav, flux, chip)\n",
    "    #we need to calculate the FWHM at this value in order to set the starting point for the convolution\n",
    "    \n",
    "    #print(wav_chip)\n",
    "    #print(flux_chip)\n",
    "    FWHM_min = wav_chip[0]/R    #FWHM at the extremes of vector\n",
    "    FWHM_max = wav_chip[-1]/R       \n",
    "    \n",
    "    #wide wavelength bin for the resolution_convolution\n",
    "    wav_extended, flux_extended = wav_selector(wav, flux, wav_chip[0]-FWHM_lim*FWHM_min, wav_chip[-1]+FWHM_lim*FWHM_max) \n",
    "    wav_extended = np.array(wav_extended, dtype=\"float64\")\n",
    "    flux_extended = np.array(flux_extended, dtype=\"float64\")\n",
    "    \n",
    "    print(\"Starting the fast Resolution convolution...\")\n",
    "    # Pre allocate space\n",
    "    #flux_conv_res = []\n",
    "    flux_conv_res = np.empty_like(wav_chip, dtype=\"float64\")\n",
    "    counter = 0 \n",
    "    for n, wav in enumerate(wav_chip):\n",
    "        result = convolve(wav, R, wav_extended, flux_extended, FWHM_lim)\n",
    "        #print(result)\n",
    "        #if(len(flux_conv_res)%(len(wav_chip)//100 ) == 0):\n",
    "        if(n%(len(wav_chip)//100 ) == 0):\n",
    "            counter = counter+1\n",
    "            print(\"Resolution Convolution at {}%%...\".format(counter))\n",
    "        flux_conv_res[n] = result\n",
    "    flux_conv_res = np.array(result, dtype=\"float64\")\n",
    "    print(\"Done.\\n\")\n",
    "    \n",
    "\n",
    "    return [wav_chip, flux_conv_res ]"
   ]
  },
  {
   "cell_type": "code",
   "execution_count": 16,
   "metadata": {
    "collapsed": false
   },
   "outputs": [
    {
     "name": "stdout",
     "output_type": "stream",
     "text": [
      "Telluric Airmass  1.628051\n",
      "Telluric Resolution Power = Nan\n"
     ]
    }
   ],
   "source": [
    "### Test h20 convolution\n",
    "from astropy.io import fits\n",
    "chip1 = \"H20_scaling/CRIRE.2012-04-07T00-08-29.976_1.nod.ms.norm.sum.wavecal.fits\"\n",
    "\n",
    "Obs1 = fits.getdata(chip1) \n",
    "hdr1 = fits.getheader(chip1) \n",
    "\n",
    "import Obtain_Telluric as obt\n",
    "tapas_h20 = \"H20_scaling/tapas_2012-04-07T00-24-03_ReqId_12_No_Ifunction_barydone-NO.ipac\"\n",
    "\n",
    "tapas_h20_data, tapas_h20_hdr = obt.load_telluric(\"\", tapas_h20)\n",
    "tapas_h20_airmass = float(tapas_h20_hdr[\"airmass\"])\n",
    "\n",
    "print(\"Telluric Airmass \", tapas_h20_airmass)\n",
    "try:\n",
    "    tapas_h20_respower = int(float((tapas_h20_hdr[\"respower\"])))\n",
    "except:\n",
    "    tapas_h20_respower = \"Nan\"\n",
    "print(\"Telluric Resolution Power =\", tapas_h20_respower)\n",
    "\n",
    "\n",
    "\n",
    "\n"
   ]
  },
  {
   "cell_type": "code",
   "execution_count": 20,
   "metadata": {
    "collapsed": false
   },
   "outputs": [
    {
     "name": "stdout",
     "output_type": "stream",
     "text": [
      "Starting the fast Resolution convolution...\n",
      "Resolution Convolution at 1%%...\n",
      "Resolution Convolution at 2%%...\n",
      "Resolution Convolution at 3%%...\n",
      "Resolution Convolution at 4%%...\n",
      "Resolution Convolution at 5%%...\n",
      "Resolution Convolution at 6%%...\n",
      "Resolution Convolution at 7%%...\n",
      "Resolution Convolution at 8%%...\n",
      "Resolution Convolution at 9%%...\n",
      "Resolution Convolution at 10%%...\n",
      "Resolution Convolution at 11%%...\n",
      "Resolution Convolution at 12%%...\n",
      "Resolution Convolution at 13%%...\n",
      "Resolution Convolution at 14%%...\n",
      "Resolution Convolution at 15%%...\n",
      "Resolution Convolution at 16%%...\n",
      "Resolution Convolution at 17%%...\n",
      "Resolution Convolution at 18%%...\n",
      "Resolution Convolution at 19%%...\n",
      "Resolution Convolution at 20%%...\n",
      "Resolution Convolution at 21%%...\n",
      "Resolution Convolution at 22%%...\n",
      "Resolution Convolution at 23%%...\n",
      "Resolution Convolution at 24%%...\n",
      "Resolution Convolution at 25%%...\n",
      "Resolution Convolution at 26%%...\n",
      "Resolution Convolution at 27%%...\n",
      "Resolution Convolution at 28%%...\n",
      "Resolution Convolution at 29%%...\n",
      "Resolution Convolution at 30%%...\n",
      "Resolution Convolution at 31%%...\n",
      "Resolution Convolution at 32%%...\n",
      "Resolution Convolution at 33%%...\n",
      "Resolution Convolution at 34%%...\n",
      "Resolution Convolution at 35%%...\n",
      "Resolution Convolution at 36%%...\n",
      "Resolution Convolution at 37%%...\n",
      "Resolution Convolution at 38%%...\n",
      "Resolution Convolution at 39%%...\n",
      "Resolution Convolution at 40%%...\n",
      "Resolution Convolution at 41%%...\n",
      "Resolution Convolution at 42%%...\n",
      "Resolution Convolution at 43%%...\n",
      "Resolution Convolution at 44%%...\n",
      "Resolution Convolution at 45%%...\n",
      "Resolution Convolution at 46%%...\n",
      "Resolution Convolution at 47%%...\n",
      "Resolution Convolution at 48%%...\n",
      "Resolution Convolution at 49%%...\n",
      "Resolution Convolution at 50%%...\n",
      "Resolution Convolution at 51%%...\n",
      "Resolution Convolution at 52%%...\n",
      "Resolution Convolution at 53%%...\n",
      "Resolution Convolution at 54%%...\n",
      "Resolution Convolution at 55%%...\n",
      "Resolution Convolution at 56%%...\n",
      "Resolution Convolution at 57%%...\n",
      "Resolution Convolution at 58%%...\n",
      "Resolution Convolution at 59%%...\n",
      "Resolution Convolution at 60%%...\n",
      "Resolution Convolution at 61%%...\n",
      "Resolution Convolution at 62%%...\n",
      "Resolution Convolution at 63%%...\n",
      "Resolution Convolution at 64%%...\n",
      "Resolution Convolution at 65%%...\n",
      "Resolution Convolution at 66%%...\n",
      "Resolution Convolution at 67%%...\n",
      "Resolution Convolution at 68%%...\n",
      "Resolution Convolution at 69%%...\n",
      "Resolution Convolution at 70%%...\n",
      "Resolution Convolution at 71%%...\n",
      "Resolution Convolution at 72%%...\n",
      "Resolution Convolution at 73%%...\n",
      "Resolution Convolution at 74%%...\n",
      "Resolution Convolution at 75%%...\n",
      "Resolution Convolution at 76%%...\n",
      "Resolution Convolution at 77%%...\n",
      "Resolution Convolution at 78%%...\n",
      "Resolution Convolution at 79%%...\n",
      "Resolution Convolution at 80%%...\n",
      "Resolution Convolution at 81%%...\n",
      "Resolution Convolution at 82%%...\n",
      "Resolution Convolution at 83%%...\n",
      "Resolution Convolution at 84%%...\n",
      "Resolution Convolution at 85%%...\n",
      "Resolution Convolution at 86%%...\n",
      "Resolution Convolution at 87%%...\n",
      "Resolution Convolution at 88%%...\n",
      "Resolution Convolution at 89%%...\n",
      "Resolution Convolution at 90%%...\n",
      "Resolution Convolution at 91%%...\n",
      "Resolution Convolution at 92%%...\n",
      "Resolution Convolution at 93%%...\n",
      "Resolution Convolution at 94%%...\n",
      "Resolution Convolution at 95%%...\n",
      "Resolution Convolution at 96%%...\n",
      "Resolution Convolution at 97%%...\n",
      "Resolution Convolution at 98%%...\n",
      "Resolution Convolution at 99%%...\n",
      "Resolution Convolution at 100%%...\n",
      "Resolution Convolution at 101%%...\n",
      "Done.\n",
      "\n",
      "Convolution time for fast convolution =  8.66349196434021\n"
     ]
    }
   ],
   "source": [
    "\n",
    "start = time.time()\n",
    "\n",
    "fast_x,fast_y = fast_convolution(tapas_h20_data[0], tapas_h20_data[1], \"1\", 50000, FWHM_lim=5.0)\n",
    "  \n",
    "done = time.time()\n",
    "elapsed = done - start\n",
    "print(\"Convolution time for fast convolution = \", elapsed)\n",
    "\n"
   ]
  },
  {
   "cell_type": "code",
   "execution_count": 19,
   "metadata": {
    "collapsed": false
   },
   "outputs": [
    {
     "name": "stdout",
     "output_type": "stream",
     "text": [
      "Starting the fast Resolution convolution...\n",
      "Resolution Convolution at 1%%...\n",
      "Resolution Convolution at 2%%...\n",
      "Resolution Convolution at 3%%...\n",
      "Resolution Convolution at 4%%...\n",
      "Resolution Convolution at 5%%...\n",
      "Resolution Convolution at 6%%...\n",
      "Resolution Convolution at 7%%...\n",
      "Resolution Convolution at 8%%...\n",
      "Resolution Convolution at 9%%...\n",
      "Resolution Convolution at 10%%...\n",
      "Resolution Convolution at 11%%...\n",
      "Resolution Convolution at 12%%...\n",
      "Resolution Convolution at 13%%...\n",
      "Resolution Convolution at 14%%...\n",
      "Resolution Convolution at 15%%...\n",
      "Resolution Convolution at 16%%...\n",
      "Resolution Convolution at 17%%...\n",
      "Resolution Convolution at 18%%...\n",
      "Resolution Convolution at 19%%...\n",
      "Resolution Convolution at 20%%...\n",
      "Resolution Convolution at 21%%...\n",
      "Resolution Convolution at 22%%...\n",
      "Resolution Convolution at 23%%...\n",
      "Resolution Convolution at 24%%...\n",
      "Resolution Convolution at 25%%...\n",
      "Resolution Convolution at 26%%...\n",
      "Resolution Convolution at 27%%...\n",
      "Resolution Convolution at 28%%...\n",
      "Resolution Convolution at 29%%...\n",
      "Resolution Convolution at 30%%...\n",
      "Resolution Convolution at 31%%...\n",
      "Resolution Convolution at 32%%...\n",
      "Resolution Convolution at 33%%...\n",
      "Resolution Convolution at 34%%...\n",
      "Resolution Convolution at 35%%...\n",
      "Resolution Convolution at 36%%...\n",
      "Resolution Convolution at 37%%...\n",
      "Resolution Convolution at 38%%...\n",
      "Resolution Convolution at 39%%...\n",
      "Resolution Convolution at 40%%...\n",
      "Resolution Convolution at 41%%...\n",
      "Resolution Convolution at 42%%...\n",
      "Resolution Convolution at 43%%...\n",
      "Resolution Convolution at 44%%...\n",
      "Resolution Convolution at 45%%...\n",
      "Resolution Convolution at 46%%...\n",
      "Resolution Convolution at 47%%...\n",
      "Resolution Convolution at 48%%...\n",
      "Resolution Convolution at 49%%...\n",
      "Resolution Convolution at 50%%...\n",
      "Resolution Convolution at 51%%...\n",
      "Resolution Convolution at 52%%...\n",
      "Resolution Convolution at 53%%...\n",
      "Resolution Convolution at 54%%...\n",
      "Resolution Convolution at 55%%...\n",
      "Resolution Convolution at 56%%...\n",
      "Resolution Convolution at 57%%...\n",
      "Resolution Convolution at 58%%...\n",
      "Resolution Convolution at 59%%...\n",
      "Resolution Convolution at 60%%...\n",
      "Resolution Convolution at 61%%...\n",
      "Resolution Convolution at 62%%...\n",
      "Resolution Convolution at 63%%...\n",
      "Resolution Convolution at 64%%...\n",
      "Resolution Convolution at 65%%...\n",
      "Resolution Convolution at 66%%...\n",
      "Resolution Convolution at 67%%...\n",
      "Resolution Convolution at 68%%...\n",
      "Resolution Convolution at 69%%...\n",
      "Resolution Convolution at 70%%...\n",
      "Resolution Convolution at 71%%...\n",
      "Resolution Convolution at 72%%...\n",
      "Resolution Convolution at 73%%...\n",
      "Resolution Convolution at 74%%...\n",
      "Resolution Convolution at 75%%...\n",
      "Resolution Convolution at 76%%...\n",
      "Resolution Convolution at 77%%...\n",
      "Resolution Convolution at 78%%...\n",
      "Resolution Convolution at 79%%...\n",
      "Resolution Convolution at 80%%...\n",
      "Resolution Convolution at 81%%...\n",
      "Resolution Convolution at 82%%...\n",
      "Resolution Convolution at 83%%...\n",
      "Resolution Convolution at 84%%...\n",
      "Resolution Convolution at 85%%...\n",
      "Resolution Convolution at 86%%...\n",
      "Resolution Convolution at 87%%...\n",
      "Resolution Convolution at 88%%...\n",
      "Resolution Convolution at 89%%...\n",
      "Resolution Convolution at 90%%...\n",
      "Resolution Convolution at 91%%...\n",
      "Resolution Convolution at 92%%...\n",
      "Resolution Convolution at 93%%...\n",
      "Resolution Convolution at 94%%...\n",
      "Resolution Convolution at 95%%...\n",
      "Resolution Convolution at 96%%...\n",
      "Resolution Convolution at 97%%...\n",
      "Resolution Convolution at 98%%...\n",
      "Resolution Convolution at 99%%...\n",
      "Resolution Convolution at 100%%...\n",
      "Resolution Convolution at 101%%...\n",
      "Done.\n",
      "\n",
      "Convolution time for fast convolution =  937.4873948097229\n"
     ]
    }
   ],
   "source": [
    "\n",
    "start = time.time()\n",
    "\n",
    "slow_x, slow_y = slow_convolution(tapas_h20_data[0], tapas_h20_data[1], \"1\", 50000, FWHM_lim=5.0)\n",
    "  \n",
    "done = time.time()\n",
    "elapsed = done - start\n",
    "print(\"Convolution time for fast convolution = \", elapsed)"
   ]
  },
  {
   "cell_type": "code",
   "execution_count": 21,
   "metadata": {
    "collapsed": false
   },
   "outputs": [
    {
     "data": {
      "text/plain": [
       "117.125"
      ]
     },
     "execution_count": 21,
     "metadata": {},
     "output_type": "execute_result"
    }
   ],
   "source": [
    "937/8\n"
   ]
  },
  {
   "cell_type": "code",
   "execution_count": 62,
   "metadata": {
    "collapsed": false
   },
   "outputs": [],
   "source": [
    "#%%timeit\n",
    "# Test affect of list append verse np assignment with enumerate\n",
    "list_store = []\n",
    "for n, i in enumerate(range(10000000)):\n",
    "    list_store.append(i)\n",
    "\n"
   ]
  },
  {
   "cell_type": "code",
   "execution_count": 63,
   "metadata": {
    "collapsed": false
   },
   "outputs": [
    {
     "data": {
      "text/plain": [
       "10000000"
      ]
     },
     "execution_count": 63,
     "metadata": {},
     "output_type": "execute_result"
    }
   ],
   "source": [
    "len(list_store)"
   ]
  },
  {
   "cell_type": "code",
   "execution_count": 41,
   "metadata": {
    "collapsed": false
   },
   "outputs": [
    {
     "name": "stdout",
     "output_type": "stream",
     "text": [
      "1 loop, best of 3: 3.29 s per loop\n"
     ]
    }
   ],
   "source": [
    "%%timeit\n",
    "np_store = np.empty(10000000)\n",
    "for n, i in enumerate(range(10000000)):\n",
    "    np_store[n] = i\n",
    "\n",
    "\n"
   ]
  },
  {
   "cell_type": "code",
   "execution_count": 48,
   "metadata": {
    "collapsed": false
   },
   "outputs": [
    {
     "name": "stdout",
     "output_type": "stream",
     "text": [
      "1 loop, best of 3: 6.66 s per loop\n"
     ]
    }
   ],
   "source": [
    "%%timeit\n",
    "np_store = np.empty_like(list_store)\n",
    "for n, i in enumerate(range(10000000)):\n",
    "    np_store[n] = i\n"
   ]
  },
  {
   "cell_type": "code",
   "execution_count": 56,
   "metadata": {
    "collapsed": false
   },
   "outputs": [
    {
     "name": "stdout",
     "output_type": "stream",
     "text": [
      "1 loop, best of 3: 2.28 s per loop\n",
      "100 loops, best of 3: 6.43 ms per loop\n",
      "The slowest run took 8.02 times longer than the fastest. This could mean that an intermediate result is being cached.\n",
      "10000 loops, best of 3: 54.5 µs per loop\n",
      "10000 loops, best of 3: 101 µs per loop\n",
      "1000 loops, best of 3: 765 µs per loop\n"
     ]
    }
   ],
   "source": [
    "# np empty is faster than \n",
    "# np empty_like is faster on arrays than lists\n",
    "# np empty_like on an arary is faster than generating a new empty array of same size\n",
    "%timeit np.empty_like(list_store)\n",
    "%timeit np.arange(1000000)\n",
    "a=np.arange(1000000)\n",
    "%timeit np.empty_like(a)\n",
    "\n"
   ]
  },
  {
   "cell_type": "code",
   "execution_count": 65,
   "metadata": {
    "collapsed": false,
    "scrolled": true
   },
   "outputs": [
    {
     "name": "stdout",
     "output_type": "stream",
     "text": [
      "The slowest run took 7.11 times longer than the fastest. This could mean that an intermediate result is being cached.\n",
      "1000000 loops, best of 3: 314 ns per loop\n",
      "The slowest run took 14.67 times longer than the fastest. This could mean that an intermediate result is being cached.\n",
      "1000000 loops, best of 3: 243 ns per loop\n",
      "1000000\n",
      "10000000\n",
      "10000 loops, best of 3: 101 µs per loop\n",
      "1000 loops, best of 3: 753 µs per loop\n"
     ]
    }
   ],
   "source": [
    "# Get length of list verse ndarray\n",
    "%timeit len(list_store)\n",
    "%timeit len(a)\n",
    "print((len(a)))\n",
    "print((len(list_store)))\n",
    "%timeit np.empty(len(a))\n",
    "%timeit np.empty(len(list_store))\n",
    "\n",
    "# For an unknown reason np.empty is 6* slower when given len(list) rather than len(ndarray)? The len() times are similar"
   ]
  },
  {
   "cell_type": "markdown",
   "metadata": {},
   "source": [
    "In general I think when working with data it is best to transform to ndarrays and compute np functions on them for faster results.\n"
   ]
  },
  {
   "cell_type": "markdown",
   "metadata": {
    "collapsed": true
   },
   "source": [
    "# Insturment profile calculaltion\n",
    "\n",
    " cache values?\n",
    "\n",
    " calculate in own loop?\n",
    "\n",
    " broadcasting of some form?"
   ]
  },
  {
   "cell_type": "code",
   "execution_count": null,
   "metadata": {
    "collapsed": true
   },
   "outputs": [],
   "source": [
    "\n",
    "\n",
    "\n",
    "\n",
    "\n"
   ]
  }
 ],
 "metadata": {
  "kernelspec": {
   "display_name": "Python 3",
   "language": "python",
   "name": "python3"
  },
  "language_info": {
   "codemirror_mode": {
    "name": "ipython",
    "version": 3
   },
   "file_extension": ".py",
   "mimetype": "text/x-python",
   "name": "python",
   "nbconvert_exporter": "python",
   "pygments_lexer": "ipython3",
   "version": "3.4.4"
  }
 },
 "nbformat": 4,
 "nbformat_minor": 0
}

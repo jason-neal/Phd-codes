{
 "cells": [
  {
   "cell_type": "markdown",
   "metadata": {},
   "source": [
    "# Starfish Gridtools Issue # 89 \n",
    "I discovered a bug in the Starfish gridtools process_grid() method.\n",
    "I which an array was being enumerated but then deleting elemenets from the same array.\n",
    "Here is a simple example to show what the code was doing.\n"
   ]
  },
  {
   "cell_type": "code",
   "execution_count": 28,
   "metadata": {},
   "outputs": [
    {
     "name": "stdout",
     "output_type": "stream",
     "text": [
      "Total of 7 files to process.\n",
      "\n",
      "i = 0 , value = 1\n",
      "all_params [1 2 3 4 5 6 7] , len(all_params) =  7\n",
      "\n",
      "i = 1 , value = 2\n",
      "all_params [1 2 3 4 5 6 7] , len(all_params) =  7\n",
      "Trying to delete 2 from all params, it is even.\n",
      "but actually deleting all_params[1] = 2\n",
      "\n",
      "i = 2 , value = 3\n",
      "all_params [1 3 4 5 6 7] , len(all_params) =  6\n",
      "\n",
      "i = 3 , value = 4\n",
      "all_params [1 3 4 5 6 7] , len(all_params) =  6\n",
      "Trying to delete 4 from all params, it is even.\n",
      "but actually deleting all_params[3] = 5\n",
      "\n",
      "i = 4 , value = 5\n",
      "all_params [1 3 4 6 7] , len(all_params) =  5\n",
      "\n",
      "i = 5 , value = 6\n",
      "all_params [1 3 4 6 7] , len(all_params) =  5\n",
      "Trying to delete 6 from all params, it is even.\n"
     ]
    },
    {
     "ename": "IndexError",
     "evalue": "index 5 is out of bounds for axis 0 with size 5",
     "traceback": [
      "\u001b[0;31m---------------------------------------------------------------------------\u001b[0m",
      "\u001b[0;31mIndexError\u001b[0m                                Traceback (most recent call last)",
      "\u001b[0;32m<ipython-input-28-4c967ddc3f9e>\u001b[0m in \u001b[0;36m<module>\u001b[0;34m()\u001b[0m\n\u001b[1;32m     12\u001b[0m             \u001b[0;32mif\u001b[0m \u001b[0mparam\u001b[0m \u001b[0;34m%\u001b[0m \u001b[0;36m2\u001b[0m \u001b[0;34m==\u001b[0m \u001b[0;36m0\u001b[0m\u001b[0;34m:\u001b[0m\u001b[0;34m\u001b[0m\u001b[0m\n\u001b[1;32m     13\u001b[0m                 \u001b[0mprint\u001b[0m\u001b[0;34m(\u001b[0m\u001b[0;34m\"Trying to delete {} from all params, it is even.\"\u001b[0m\u001b[0;34m.\u001b[0m\u001b[0mformat\u001b[0m\u001b[0;34m(\u001b[0m\u001b[0mparam\u001b[0m\u001b[0;34m)\u001b[0m\u001b[0;34m)\u001b[0m\u001b[0;34m\u001b[0m\u001b[0m\n\u001b[0;32m---> 14\u001b[0;31m                 \u001b[0mprint\u001b[0m\u001b[0;34m(\u001b[0m\u001b[0;34m\"but actually deleting all_params[{}] = {}\"\u001b[0m\u001b[0;34m.\u001b[0m\u001b[0mformat\u001b[0m\u001b[0;34m(\u001b[0m\u001b[0mi\u001b[0m\u001b[0;34m,\u001b[0m \u001b[0mall_params\u001b[0m\u001b[0;34m[\u001b[0m\u001b[0mi\u001b[0m\u001b[0;34m]\u001b[0m\u001b[0;34m)\u001b[0m\u001b[0;34m)\u001b[0m\u001b[0;34m\u001b[0m\u001b[0m\n\u001b[0m\u001b[1;32m     15\u001b[0m                 \u001b[0mall_params\u001b[0m \u001b[0;34m=\u001b[0m \u001b[0mnp\u001b[0m\u001b[0;34m.\u001b[0m\u001b[0mdelete\u001b[0m\u001b[0;34m(\u001b[0m\u001b[0mall_params\u001b[0m\u001b[0;34m,\u001b[0m \u001b[0mi\u001b[0m\u001b[0;34m,\u001b[0m \u001b[0maxis\u001b[0m\u001b[0;34m=\u001b[0m\u001b[0;36m0\u001b[0m\u001b[0;34m)\u001b[0m\u001b[0;34m\u001b[0m\u001b[0m\n\u001b[1;32m     16\u001b[0m                 \u001b[0;32mcontinue\u001b[0m\u001b[0;34m\u001b[0m\u001b[0m\n",
      "\u001b[0;31mIndexError\u001b[0m: index 5 is out of bounds for axis 0 with size 5"
     ],
     "output_type": "error"
    }
   ],
   "source": [
    "# Test deletion logic\n",
    "import numpy as np\n",
    "param_list = range(1,8)\n",
    "\n",
    "all_params = np.array(param_list)\n",
    "\n",
    "print(\"Total of {} files to process.\".format(len(param_list)))\n",
    "\n",
    "for i,param in enumerate(all_params):\n",
    "            print(\"\\ni =\", i, \", value =\", param)\n",
    "            print(\"all_params\", all_params, \", len(all_params) = \", len(all_params))\n",
    "            if param % 2 == 0:\n",
    "                print(\"Trying to delete {} from all params, it is even.\".format(param))\n",
    "                print(\"but actually deleting all_params[{}] = {}\".format(i, all_params[i]))\n",
    "                all_params = np.delete(all_params, i, axis=0)\n",
    "                continue\n"
   ]
  },
  {
   "cell_type": "code",
   "execution_count": null,
   "metadata": {},
   "outputs": [],
   "source": [
    "The solution I created involved storing the indicies of the values to delete and then performing the delete at the end.\n",
    "\n"
   ]
  },
  {
   "cell_type": "code",
   "execution_count": 36,
   "metadata": {},
   "outputs": [
    {
     "name": "stdout",
     "output_type": "stream",
     "text": [
      "Total of 7 files to process.\n",
      "\n",
      "i = 0 , value = 1\n",
      "all_params [1 2 3 4 5 6 7] , len(all_params) =  7\n",
      "\n",
      "i = 1 , value = 2\n",
      "all_params [1 2 3 4 5 6 7] , len(all_params) =  7\n",
      "Trying to delete 2 from all params, it is even.\n",
      "\n",
      "i = 2 , value = 3\n",
      "all_params [1 2 3 4 5 6 7] , len(all_params) =  7\n",
      "\n",
      "i = 3 , value = 4\n",
      "all_params [1 2 3 4 5 6 7] , len(all_params) =  7\n",
      "Trying to delete 4 from all params, it is even.\n",
      "\n",
      "i = 4 , value = 5\n",
      "all_params [1 2 3 4 5 6 7] , len(all_params) =  7\n",
      "\n",
      "i = 5 , value = 6\n",
      "all_params [1 2 3 4 5 6 7] , len(all_params) =  7\n",
      "Trying to delete 6 from all params, it is even.\n",
      "\n",
      "i = 6 , value = 7\n",
      "all_params [1 2 3 4 5 6 7] , len(all_params) =  7\n",
      "\n",
      "all_params before bulk deletion [1 2 3 4 5 6 7] \n",
      "\n",
      "Doing deletion\n",
      "correct result (only odd numbers) =  [1 3 5 7]\n"
     ]
    }
   ],
   "source": [
    "import numpy as np\n",
    "param_list = range(1,8)\n",
    "\n",
    "all_params = np.array(param_list)\n",
    "invalid_params = []\n",
    "print(\"Total of {} files to process.\".format(len(param_list)))\n",
    "\n",
    "for i,param in enumerate(all_params):\n",
    "            print(\"\\ni =\", i, \", value =\", param)\n",
    "            print(\"all_params\", all_params, \", len(all_params) = \", len(all_params))\n",
    "            if param % 2 == 0:\n",
    "                print(\"Trying to delete {} from all params, it is even.\".format(param))\n",
    "                #all_params = np.delete(all_params, i, axis=0)\n",
    "                invalid_params.append(i)\n",
    "                continue\n",
    "\n",
    "print(\"\\nall_params before bulk deletion\", all_params, \"\\n\\nDoing deletion\")\n",
    "\n",
    "all_params = np.delete(all_params, invalid_params, axis=0)\n",
    "print(\"correct result (only odd numbers) = \", all_params)"
   ]
  },
  {
   "cell_type": "markdown",
   "metadata": {},
   "source": [
    "This change was submitted as PR #90"
   ]
  },
  {
   "cell_type": "code",
   "execution_count": null,
   "metadata": {},
   "outputs": [],
   "source": []
  }
 ],
 "metadata": {
  "kernelspec": {
   "display_name": "Python [conda env:sims]",
   "language": "python",
   "name": "conda-env-sims-py"
  },
  "language_info": {
   "codemirror_mode": {
    "name": "ipython",
    "version": 3
   },
   "file_extension": ".py",
   "mimetype": "text/x-python",
   "name": "python",
   "nbconvert_exporter": "python",
   "pygments_lexer": "ipython3",
   "version": "3.6.3"
  }
 },
 "nbformat": 4,
 "nbformat_minor": 2
}

{
 "cells": [
  {
   "cell_type": "markdown",
   "metadata": {
    "collapsed": true,
    "deletable": true,
    "editable": true
   },
   "source": [
    "# Relation between Convoled Spectra and not convolved Spectra of H20.\n",
    "\n"
   ]
  },
  {
   "cell_type": "code",
   "execution_count": null,
   "metadata": {
    "collapsed": false,
    "deletable": true,
    "editable": true
   },
   "outputs": [],
   "source": [
    "### Load modules and Bokeh\n",
    "# Imports from __future__ in case we're running Python 2\n",
    "from __future__ import division, print_function\n",
    "from __future__ import absolute_import, unicode_literals\n",
    "\n",
    "import numpy as np\n",
    "import matplotlib.pyplot as plt\n",
    "from astropy.io import fits\n",
    "\n",
    "# Seaborn, useful for graphics\n",
    "import seaborn as sns\n",
    "\n",
    "# Magic function to make matplotlib inline; other style specs must come AFTER\n",
    "%matplotlib inline\n",
    "\n",
    "# Import Bokeh modules for interactive plotting\n",
    "import bokeh.io\n",
    "import bokeh.mpl\n",
    "import bokeh.plotting\n",
    "\n",
    "# This enables SVG graphics inline.  There is a bug, so uncomment if it works.\n",
    "%config InlineBackend.figure_formats = {'svg',}\n",
    "\n",
    "# This enables high resolution PNGs. SVG is preferred, but has problems\n",
    "# rendering vertical and horizontal lines\n",
    "#%config InlineBackend.figure_formats = {'png', 'retina'}\n",
    "\n",
    "# JB's favorite Seaborn settings for notebooks\n",
    "rc = {'lines.linewidth': 1, \n",
    "      'axes.labelsize': 14, \n",
    "      'axes.titlesize': 16, \n",
    "      'axes.facecolor': 'DFDFE5'}\n",
    "sns.set_context('notebook', rc=rc)\n",
    "sns.set_style('darkgrid', rc=rc)\n",
    "\n",
    "# Set up Bokeh for inline viewing\n",
    "bokeh.io.output_notebook()"
   ]
  },
  {
   "cell_type": "markdown",
   "metadata": {
    "deletable": true,
    "editable": true
   },
   "source": [
    "## Load non convolved telluric"
   ]
  },
  {
   "cell_type": "code",
   "execution_count": null,
   "metadata": {
    "collapsed": false,
    "deletable": true,
    "editable": true
   },
   "outputs": [],
   "source": [
    "import TelluricSpectra.Obtain_Telluric as obt\n",
    "\n",
    "tapas_h20 = \"tapas_2012-04-07T00-24-03_ReqId_12_No_Ifunction_barydone-NO.ipac\"\n",
    "\n",
    "tapas_h20_data, tapas_h20_hdr = obt.load_telluric(\"\", tapas_h20)\n",
    "tapas_h20_airmass = float(tapas_h20_hdr[\"airmass\"])\n",
    "\n",
    "print(\"Telluric Airmass \", tapas_h20_airmass)\n",
    "try:\n",
    "    tapas_h20_respower = int(float((tapas_h20_hdr[\"respower\"])))\n",
    "except:\n",
    "    tapas_h20_respower = \"Nan\"\n",
    "print(\"Telluric Resolution Power =\", tapas_h20_respower)"
   ]
  },
  {
   "cell_type": "code",
   "execution_count": null,
   "metadata": {
    "collapsed": true,
    "deletable": true,
    "editable": true
   },
   "outputs": [],
   "source": [
    "# Load convolved"
   ]
  },
  {
   "cell_type": "code",
   "execution_count": null,
   "metadata": {
    "collapsed": false,
    "deletable": true,
    "editable": true
   },
   "outputs": [],
   "source": [
    "#conv_wav, conv_flux = np.loadtxt(\"Convolved_50000_tapas_allchips.txt\", delimiter=\"'\",unpack=True)\n",
    "\n",
    "conv_wav = np.loadtxt(\"Convolved_50000_tapas_wavelength_allchips.txt\")\n",
    "conv_flux = np.loadtxt(\"Convolved_50000_tapas_transmitance_allchips.txt\")\n",
    "\n",
    "print(conv_wav)\n",
    "print(conv_flux)"
   ]
  },
  {
   "cell_type": "code",
   "execution_count": null,
   "metadata": {
    "collapsed": false,
    "deletable": true,
    "editable": true
   },
   "outputs": [],
   "source": [
    "orig_flux = np.array([flux for wav, flux in zip(tapas_h20_data[0], tapas_h20_data[1]) if wav in conv_wav])\n",
    "\n",
    "plt.plot(orig_flux, conv_flux, \"o\")\n",
    "pl t.title(\"Affect of Convolution R=50000\")\n",
    "plt.xlabel(\"Original Flux\")\n",
    "plt.ylabel(\"Convolved Flux\\nR=50000\")\n",
    "\n",
    "bokeh.plotting.show(bokeh.mpl.to_bokeh())\n",
    "\n"
   ]
  },
  {
   "cell_type": "code",
   "execution_count": null,
   "metadata": {
    "collapsed": false,
    "deletable": true,
    "editable": true
   },
   "outputs": [],
   "source": [
    "plt.plot(tapas_h20_data[0],tapas_h20_data[1])\n",
    "plt.plot(conv_wav, conv_flux)\n",
    "plt.xlabel(\"Wavelength\")\n",
    "plt.ylabel(\"Flux\")\n",
    "\n",
    "bokeh.plotting.show(bokeh.mpl.to_bokeh())\n"
   ]
  },
  {
   "cell_type": "code",
   "execution_count": null,
   "metadata": {
    "collapsed": false,
    "deletable": true,
    "editable": true
   },
   "outputs": [],
   "source": [
    "#Wavelenght density\n",
    "plt.plot(tapas_h20_data[0][1:],tapas_h20_data[0][1:]-tapas_h20_data[0][:-1])\n",
    "plt.ylabel(\"Delta Wavelength\")\n",
    "plt.xlabel(\"Wavelength (nm)\")\n",
    "plt.title(\"Distribution of wavelength is not uniform\")\n",
    "bokeh.plotting.show(bokeh.mpl.to_bokeh())"
   ]
  },
  {
   "cell_type": "markdown",
   "metadata": {
    "deletable": true,
    "editable": true
   },
   "source": [
    "## Testing dividing by number of values in gaussian convolution"
   ]
  },
  {
   "cell_type": "code",
   "execution_count": null,
   "metadata": {
    "collapsed": true,
    "deletable": true,
    "editable": true
   },
   "outputs": [],
   "source": [
    "# Convolved_50000_tapas_wavelength_allchips_dividebynumber.txt\n",
    "# Testing dividing each value by number of points in convolution gaussian\n",
    "conv_wav_divide = np.loadtxt(\"Convolved_50000_tapas_wavelength_allchips_dividebynumber.txt\")\n",
    "conv_flux_divide = np.loadtxt(\"Convolved_50000_tapas_transmitance_allchips_dividebynumber.txt\")\n",
    "\n",
    "# Convolution with division by # of values in convolution did not work well. So proably have to divide by a fitted line.\n"
   ]
  },
  {
   "cell_type": "code",
   "execution_count": null,
   "metadata": {
    "collapsed": false,
    "deletable": true,
    "editable": true
   },
   "outputs": [],
   "source": [
    "plt.plot(orig_flux, conv_flux_divide, \"o\")\n",
    "plt.title(\"Divided values \\n Affect of Convolution R=50000\")\n",
    "plt.xlabel(\"Original Flux\")\n",
    "plt.ylabel(\"Convolved Flux\\nR=50000\")\n",
    "\n",
    "bokeh.plotting.show(bokeh.mpl.to_bokeh())"
   ]
  },
  {
   "cell_type": "code",
   "execution_count": null,
   "metadata": {
    "collapsed": false,
    "deletable": true,
    "editable": true
   },
   "outputs": [],
   "source": [
    "plt.plot(tapas_h20_data[0],tapas_h20_data[1])\n",
    "plt.plot(conv_wav_divide, conv_flux_divide)\n",
    "plt.plot(conv_wav, conv_flux)\n",
    "plt.xlabel(\"Wavelenght\")\n",
    "plt.ylabel(\"Flux with division\")\n",
    "\n",
    "bokeh.plotting.show(bokeh.mpl.to_bokeh())"
   ]
  },
  {
   "cell_type": "code",
   "execution_count": null,
   "metadata": {
    "collapsed": true,
    "deletable": true,
    "editable": true
   },
   "outputs": [],
   "source": []
  }
 ],
 "metadata": {
  "kernelspec": {
   "display_name": "Python [conda root]",
   "language": "python",
   "name": "conda-root-py"
  },
  "language_info": {
   "codemirror_mode": {
    "name": "ipython",
    "version": 3
   },
   "file_extension": ".py",
   "mimetype": "text/x-python",
   "name": "python",
   "nbconvert_exporter": "python",
   "pygments_lexer": "ipython3",
   "version": "3.5.3"
  }
 },
 "nbformat": 4,
 "nbformat_minor": 0
}

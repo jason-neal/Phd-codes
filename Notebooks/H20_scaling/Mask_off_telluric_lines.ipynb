{
 "cells": [
  {
   "cell_type": "markdown",
   "metadata": {
    "deletable": true,
    "editable": true
   },
   "source": [
    "## Code to mask Deep lines \n",
    "\n",
    "Grey out regions when telluric lines are deeper than 5%.\n"
   ]
  },
  {
   "cell_type": "code",
   "execution_count": null,
   "metadata": {
    "collapsed": false,
    "deletable": true,
    "editable": true
   },
   "outputs": [],
   "source": [
    "### Load modules and Bokeh\n",
    "# Imports from __future__ in case we're running Python 2\n",
    "from __future__ import division, print_function\n",
    "from __future__ import absolute_import, unicode_literals\n",
    "\n",
    "import numpy as np\n",
    "import matplotlib.pyplot as plt\n",
    "%matplotlib inline\n",
    "# Import Bokeh modules for interactive plotting\n",
    "import bokeh.io\n",
    "import bokeh.mpl\n",
    "import bokeh.plotting\n",
    "%config InlineBackend.figure_formats = {'svg',}\n",
    "# Set up Bokeh for inline viewing\n",
    "bokeh.io.output_notebook()"
   ]
  },
  {
   "cell_type": "code",
   "execution_count": null,
   "metadata": {
    "collapsed": true,
    "deletable": true,
    "editable": true
   },
   "outputs": [],
   "source": [
    "import TelluricSpectra.Obtain_Telluric as obt"
   ]
  },
  {
   "cell_type": "code",
   "execution_count": null,
   "metadata": {
    "collapsed": false,
    "deletable": true,
    "editable": true
   },
   "outputs": [],
   "source": [
    "\n",
    "tapas_all = \"../HD30501_data/1/tapas_2012-04-07T00-24-03_ReqId_10_R-50000_sratio-10_barydone-NO.ipac\"\n",
    "\n",
    "tapas_all_data, tapas_all_hdr = obt.load_telluric(\"\", tapas_all)\n",
    "\n",
    "\n",
    "deep_mask = tapas_all_data[1] < 0.9\n",
    "new_wl = tapas_all_data[0][deep_mask] \n",
    "new_data = tapas_all_data[1][deep_mask] "
   ]
  },
  {
   "cell_type": "code",
   "execution_count": null,
   "metadata": {
    "collapsed": false,
    "deletable": true,
    "editable": true
   },
   "outputs": [],
   "source": [
    "def line_edges(wl, I, lim=0.995):\n",
    "    print(wl[1]-wl[0])\n",
    "    wav_diff = wl[1]-wl[0]\n",
    "    beginings = [wav2 for wav1, wav2 in zip(wl[:-1], wl[1:]) if wav2-wav1 > 3*np.abs(wav_diff)]\n",
    "    ends = [wav1 for wav1, wav2 in zip(wl[:-1], wl[1:]) if wav2-wav1 > 3*np.abs(wav_diff)]\n",
    "    \n",
    "    beginings = [wl[0]] + beginings\n",
    "    ends = ends + [wl[-1]]\n",
    "    \n",
    "    return beginings, ends\n",
    "\n",
    "starts, ends = line_edges(new_wl, new_data)\n",
    "\n",
    "print(len(vals))\n",
    "print(starts, ends)"
   ]
  },
  {
   "cell_type": "code",
   "execution_count": null,
   "metadata": {
    "collapsed": false,
    "deletable": true,
    "editable": true
   },
   "outputs": [],
   "source": [
    "plt.plot(new_wl[:-1], new_wl[1:]-new_wl[:-1],\".\")\n",
    "bokeh.plotting.show(bokeh.mpl.to_bokeh())"
   ]
  },
  {
   "cell_type": "code",
   "execution_count": null,
   "metadata": {
    "collapsed": false,
    "deletable": true,
    "editable": true
   },
   "outputs": [],
   "source": [
    "plt.plot(tapas_all_data[0], tapas_all_data[1], \"-r\", label=\"all\")\n",
    "#plt.plot(new_wl, new_data, \"-k\", label=\"all\")\n",
    "\n",
    "[plt.axvspan(start, end, facecolor='g', alpha=0.5) for start, end in zip(starts, ends)] \n",
    "#bokeh.plotting.show(bokeh.mpl.to_bokeh())\n",
    "\n",
    "print(\"done\")"
   ]
  },
  {
   "cell_type": "code",
   "execution_count": null,
   "metadata": {
    "collapsed": true,
    "deletable": true,
    "editable": true
   },
   "outputs": [],
   "source": []
  },
  {
   "cell_type": "code",
   "execution_count": null,
   "metadata": {
    "collapsed": false,
    "deletable": true,
    "editable": true
   },
   "outputs": [],
   "source": [
    "# Bokeh example\n",
    "from bokeh.plotting import figure, show, output_file\n",
    "from bokeh.models import BoxAnnotation\n",
    "\n",
    "TOOLS = \"pan,wheel_zoom,box_zoom,reset,save\"\n",
    "\n",
    "p = figure(tools=TOOLS)\n",
    "\n",
    "p.line(tapas_all_data[0], tapas_all_data[1],\n",
    "       line_color=\"gray\", line_width=1, legend=\"Telluric\")\n",
    "\n",
    "Boxes = [BoxAnnotation(plot=p, left=start, right= end, fill_alpha=0.2, fill_color='red') for start, end in zip(starts, ends)]\n",
    "#low_box = BoxAnnotation(plot=p, top=80, fill_alpha=0.1, fill_color='red')\n",
    "#mid_box = BoxAnnotation(plot=p, bottom=80, top=180, fill_alpha=0.1, fill_color='green')\n",
    "#high_box = BoxAnnotation(plot=p, bottom=180, fill_alpha=0.1, fill_color='red')\n",
    "\n",
    "#p.renderers.extend([low_box, mid_box, high_box])\n",
    "p.renderers.extend(Boxes)\n",
    "\n",
    "p.title = \"Telluric Spectra\"\n",
    "#p.xgrid[0].grid_line_color=None\n",
    "#p.ygrid[0].grid_line_alpha=0.5\n",
    "p.xaxis.axis_label = 'Wavelength'\n",
    "p.yaxis.axis_label = 'Transmittance'\n",
    "\n",
    "show(p)"
   ]
  },
  {
   "cell_type": "markdown",
   "metadata": {
    "deletable": true,
    "editable": true
   },
   "source": [
    "## Define functions that can be used elseware"
   ]
  },
  {
   "cell_type": "code",
   "execution_count": null,
   "metadata": {
    "collapsed": false,
    "deletable": true,
    "editable": true
   },
   "outputs": [],
   "source": [
    "def bokeh_telluric_mask(fig, wl, I, mask_limit=0.9):\n",
    "    \"\"\" For use with bokeh\"\"\"\n",
    "    wl_mask = I < mask_limit\n",
    "    mean_step = np.mean([wl[1]-wl[0], wl[-1]-wl[-2]])   # Average nominal step size\n",
    "    starts, ends = mask_edges(wl[wl_mask], mean_step)\n",
    "    Boxes = [BoxAnnotation(plot=p, left=start, right= end, fill_alpha=0.2, fill_color='red') for start, end in zip(starts, ends)]\n",
    "    fig.renderers.extend(Boxes)\n",
    "    \n",
    "def matplotlib_telluric_mask(wl, I, mask_limit=0.9):\n",
    "    \"\"\"For use with matplotlib\"\"\"\n",
    "    wl_mask = I < mask_limit\n",
    "    mean_step = np.mean([wl[1]-wl[0], wl[-1]-wl[-2]])   # Average nominal step size\n",
    "    starts, ends = mask_edges(wl[wl_mask], mean_step)\n",
    "    [plt.axvspan(start, end, facecolor='g', alpha=0.5) for start, end in zip(starts, ends)] \n",
    "    \n",
    "def mask_edges(wl, mean_step):\n",
    "    beginings = [wav2 for wav1, wav2 in zip(wl[:-1], wl[1:]) if wav2-wav1 > 3*np.abs(mean_step)]\n",
    "    ends = [wav1 for wav1, wav2 in zip(wl[:-1], wl[1:]) if wav2-wav1 > 3*np.abs(mean_step)]\n",
    "    \n",
    "    # prepend start of first line, and append end of last line\n",
    "    beginings = [wl[0]] + beginings   # prepend starting value\n",
    "    ends = ends + [wl[-1]] # append end value\n",
    "    \n",
    "    return beginings, ends\n"
   ]
  },
  {
   "cell_type": "code",
   "execution_count": null,
   "metadata": {
    "collapsed": false,
    "deletable": true,
    "editable": true
   },
   "outputs": [],
   "source": [
    "# Bokeh example with new function\n",
    "from bokeh.plotting import figure, show, output_file\n",
    "from bokeh.models import BoxAnnotation\n",
    "\n",
    "TOOLS = \"pan,wheel_zoom,box_zoom,reset,save\"\n",
    "\n",
    "p = figure(tools=TOOLS)\n",
    "\n",
    "p.line(tapas_all_data[0], tapas_all_data[1],\n",
    "       line_color=\"olive\", line_width=2, legend=\"Telluric\")\n",
    "\n",
    "bokeh_telluric_mask(p, tapas_all_data[0], tapas_all_data[1], mask_limit=0.9)\n",
    "\n",
    "\n",
    "p.title = \"Telluric Spectra\"\n",
    "#p.xgrid[0].grid_line_color=None\n",
    "#p.ygrid[0].grid_line_alpha=0.5\n",
    "p.xaxis.axis_label = 'Wavelength'\n",
    "p.yaxis.axis_label = 'Transmittance'\n",
    "\n",
    "show(p)"
   ]
  },
  {
   "cell_type": "code",
   "execution_count": null,
   "metadata": {
    "collapsed": false,
    "deletable": true,
    "editable": true
   },
   "outputs": [],
   "source": [
    "plt.plot(tapas_all_data[0], tapas_all_data[1], \"-r\", label=\"all\")\n",
    "#plt.plot(new_wl, new_data, \"-k\", label=\"all\")\n",
    "\n",
    "matplotlib_telluric_mask(tapas_all_data[0], tapas_all_data[1], mask_limit=0.9)\n",
    "#bokeh.plotting.show(bokeh.mpl.to_bokeh())\n",
    "\n",
    "plt.show()"
   ]
  },
  {
   "cell_type": "code",
   "execution_count": null,
   "metadata": {
    "collapsed": true,
    "deletable": true,
    "editable": true
   },
   "outputs": [],
   "source": []
  }
 ],
 "metadata": {
  "kernelspec": {
   "display_name": "Python [conda root]",
   "language": "python",
   "name": "conda-root-py"
  },
  "language_info": {
   "codemirror_mode": {
    "name": "ipython",
    "version": 3
   },
   "file_extension": ".py",
   "mimetype": "text/x-python",
   "name": "python",
   "nbconvert_exporter": "python",
   "pygments_lexer": "ipython3",
   "version": "3.5.3"
  }
 },
 "nbformat": 4,
 "nbformat_minor": 0
}

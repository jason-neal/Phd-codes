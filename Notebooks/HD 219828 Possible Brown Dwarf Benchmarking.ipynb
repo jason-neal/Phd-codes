{
 "cells": [
  {
   "cell_type": "markdown",
   "metadata": {},
   "source": [
    "# HD 219828 \n",
    "### Possible Brown Dwarf Benchmarking:\n",
    "    \n",
    "Aim is to get be able to obtain a spectra of the companion around HD 219828.\n",
    "\n",
    "If this is possible then with GAIA data we will be able to benchmark this system.\n",
    "\n",
    "First to be able to do this we need to detemine the contrast for the object (Planet/ Brown Dwarf) and the star."
   ]
  },
  {
   "cell_type": "markdown",
   "metadata": {},
   "source": [
    "# Magntiude of the Star\n",
    "\n",
    "Magnitude of the star given in apparnet magnitude.\n",
    "\n",
    "To convert from apparent magnitude to absolute magnitude you calculate the distince modulii (m -M) = 5 *(log10(d) - 1).\n"
   ]
  },
  {
   "cell_type": "code",
   "execution_count": null,
   "metadata": {
    "collapsed": false
   },
   "outputs": [],
   "source": [
    "import math\n",
    "\n",
    "Vstar_apparent = 8.04\n",
    "print(\"Apparent magnitude of Star = \", round(Vstar_apparent, 3))\n",
    "Paralax = 12.83  # mas\n",
    "d = round((1 / Paralax) * 1000 , 1)   # paralax inin arcsec\n",
    "print(\"Distance = {0}. Calculated from a Paralax of {1}\".format(d, Paralax))\n",
    "\n",
    "#d = 76 # pc (nuno), 81pc discovery paper/wikipedia\n",
    "#d2 = 81 \n",
    "Age = 5 # Gyr\n",
    " \n",
    "distance_modulii = round(5 * (math.log10(d) - 1), 4) \n",
    "\n",
    "print(\"Distance Modulii for {0} pc = {1}\".format(d, round(distance_modulii,3)))\n",
    "\n",
    "Mag_star = Vstar_apparent - distance_modulii\n",
    "\n",
    "print(\"Absolute magnitude of Star [M = m - d]= \", round(Mag_star, 3))\n"
   ]
  },
  {
   "cell_type": "markdown",
   "metadata": {},
   "source": [
    "## Brown Dwarf Magnitudes:\n",
    "\n",
    "Using evolutionary models for cool brown dwarfs from Baraffe 2003, Appendix Table 4: 5 Gyr \n",
    "\n",
    "Working out the contrast of different mass Brown Dwarfs:\n",
    "We wish to calculate the contrasts for three different Brown Dwarf masses\n",
    "15, 50 and 80 Mjupiter. To find the rows with the closest mass in the table we need to convert these values to solar masses."
   ]
  },
  {
   "cell_type": "code",
   "execution_count": null,
   "metadata": {
    "collapsed": false
   },
   "outputs": [],
   "source": [
    "# Convert between solar and jupiter masses to read off table\n",
    "SolMassinMj = 1047.56  # MJjupiter\n",
    "BD_mass = [15, 50, 80]  # Mjupiter\n",
    "print(\"BD masses = {} Mjupiter\".format(BD_mass) )\n",
    "print(\"BD masses = {} Msolar\".format([round(M / SolMassinMj, 3) for M in BD_mass]))\n",
    "\n",
    "tableMasses = [0.0150, 0.05, 0.0750]  #Msolar\n",
    "BD_Teff = [399, 931, 2006] # Teff K\n",
    "\n",
    "print(\"Mass of closest rows from the table = {} Mjupiter\".format([round(tble*SolMassinMj, 3) for tble in tableMasses]))\n",
    "print(\"Teff of these BDs from the table = {} K\".format(BD_Teff))"
   ]
  },
  {
   "cell_type": "markdown",
   "metadata": {},
   "source": [
    "The Table has magnitudes for in many different passbands (VRIJHKL'M), along with some other parameters ( Teff, log Luminosity ratio, radius ratio, log g). The models only go up to the M band (4.7 μm), so will try and use that that for the calcualtions. Note VISIR operates in the N and Q bands centered around 10 μm and 22 μm respectivly.\n",
    "Only the bands J-M are copied into here."
   ]
  },
  {
   "cell_type": "code",
   "execution_count": null,
   "metadata": {
    "collapsed": false
   },
   "outputs": [],
   "source": [
    "BDBands = [\"J\", \"H\", \"K\", \"L'\", \"M\"]\n",
    "BDBands_centers = [1.220, 1.630, 2.190, 3.450, 4.750]  # μm\n",
    "BDMags_15 = [20.85, 21.14, 26.01, 16.96, 14.97]\n",
    "App_BDMags_15 = [round(bdmag + distance_modulii, 3) for bdmag in BDMags_15]\n",
    "BDMags_52 = [15.94, 16.05, 16.38, 13.38, 12.63]\n",
    "App_BDMags_52 = [round(bdmag + distance_modulii, 3) for bdmag in BDMags_52]\n",
    "BDMags_80 = [12.20, 11.92, 11.78, 10.54, 11.06]\n",
    "App_BDMags_80 = [round(bdmag + distance_modulii, 3) for bdmag in BDMags_80]\n",
    "\n",
    "#Magnitude in the M band\n",
    "print(\"BD masses = {} Mjupiter\".format(BD_mass) )\n",
    "print(\"Absolute BD Magnitudes in Mband = {}\".format([BDMags_15[-1], BDMags_52[-1] , BDMags_80[-1]]))\n",
    "print(\"Apparent BD Magnitudes in Mband = {}\".format([App_BDMags_15[-1], App_BDMags_52[-1] , App_BDMags_80[-1]]))\n",
    "\n"
   ]
  },
  {
   "cell_type": "markdown",
   "metadata": {},
   "source": [
    "# Conversion between Bands:\n",
    "Need to be able to convert between magnitudes in difference bands. For this I used the solar colours found in Casagrande et. al. 2012 \"The Infrared Colours of the Sun\". This gives the Solar colours from 2MASS and WISE surveys which are the passbands we want. We can use this as the star HD219828 has a temperature of 5891 K, which is similato the Sun.\n",
    "\n",
    "From what I understance the solor colours are the difference in magnitude between two bands. e.g. (V-k)=1.560 is a 1.560 magnitude difference between the V band and K band."
   ]
  },
  {
   "cell_type": "code",
   "execution_count": null,
   "metadata": {
    "collapsed": false
   },
   "outputs": [],
   "source": [
    "# Solar Colour values\n",
    "print(\"HD219828 with Solar Colour Conversions\")\n",
    "print(\"Using the logic if (V-J) = 1.198  then J = V - 1.198 \")\n",
    "Bands =  ['J', 'H', 'ks', 'W1', 'W2', 'W3', 'W4']\n",
    "Bands_space =  [' J', ' H', ' ks', ' W1', ' W2', ' W3', ' W4']\n",
    "Band_centers =  [1.25, 1.65, 2.17, 3.4, 4.6, 12, 22] # μm\n",
    "V_J = 1.198 \n",
    "V_H = 1.484\n",
    "V_Ks = 1.560   # 2.17 μm\n",
    "V_W1 = 1.608   # 3.4 μm\n",
    "V_W2 = 1.563   # 4.6 μm    # M = 4.7 μm\n",
    "V_W3 = 1.552   # 12 μm     # Nband = 8-14 μm\n",
    "V_W4 = 1.604   # 22 μm     # Qband = 21 μm\n",
    "\n",
    "AbsBandMags = [Mag_star-V_J, Mag_star-V_H, Mag_star-V_Ks, Mag_star-V_W1, Mag_star-V_W2, Mag_star-V_W3, Mag_star-V_W4]\n",
    "AppBandMags = [mag + distance_modulii for mag in AbsBandMags]\n",
    "print(\"Star V mag = \", round(Mag_star, 3))\n",
    "print(\"Bands = \\t\\t\\t\", Bands_space)\n",
    "print(\"Colours = \\t\\t\\t\",  [V_J, V_H, V_Ks, V_W1, V_W2, V_W3, V_W4])\n",
    "print(\"Absolute Band Magnitudes = \\t\", [round(a,3) for a in AbsBandMags])\n",
    "print(\"Star Apparent Band Magnitude = \\t\", [round(a,3) for a in AppBandMags])\n"
   ]
  },
  {
   "cell_type": "code",
   "execution_count": null,
   "metadata": {
    "collapsed": false
   },
   "outputs": [],
   "source": [
    "import matplotlib.pyplot as plt\n",
    "%matplotlib inline\n",
    "\n",
    "plt.figure()\n",
    "plt.plot(Band_centers , AbsBandMags, label = \"HD219828\")\n",
    "plt.plot(Band_centers , [8*a for a in AbsBandMags], label = \"HD219828 * 8 Mag\")\n",
    "#plt.plot(Band_centers , [a + 8 for a in AbsBandMags], label = \"HD219828 + 8 Mag\")\n",
    "plt.plot(BDBands_centers, BDMags_15, label = \"15 Mj\")\n",
    "plt.plot(BDBands_centers, BDMags_52, label = \"52 Mj\")\n",
    "plt.plot(BDBands_centers, BDMags_80, label = \"80 Mj\")\n",
    "plt.ylabel(\"Absolute Magntitude\")\n",
    "plt.xlabel(\"Wavelenght (um)\")\n",
    "plt.legend()\n",
    "\n",
    "plt.show(block=False)\n"
   ]
  },
  {
   "cell_type": "markdown",
   "metadata": {},
   "source": [
    "# Magnitude Differences:\n",
    "Now that we have the magnitudes for the star in the different band we can calculate the magnitude differences between the brown dwarf and the star can get a brightness difference ratio."
   ]
  },
  {
   "cell_type": "code",
   "execution_count": null,
   "metadata": {
    "collapsed": false
   },
   "outputs": [],
   "source": [
    "#Differences in magnitude and Relative Brightness in the M band\n",
    "f = 2.512\n",
    "\n",
    "BD_M_Mags = [BDMags_15[4], BDMags_52[4], BDMags_80[4]]\n",
    "Mag_diffs = [mag - AbsBandMags[4] for mag in BD_M_Mags]\n",
    "FluxRatios = [f** magdiff for magdiff in Mag_diffs]\n",
    "\n",
    "print(\"Abs Magnitude Difference in M/W2 Band (M_BD - M_*) and Flux ratio\")\n",
    "print(\"~15 MJ Brown Dwarf = {}, \\t F/F* ~= {} \\t~ {}\".format(round(Mag_diffs[0], 3), round(FluxRatios[0], 0), round(1/FluxRatios[0], 6)))\n",
    "print(\"~50 MJ Brown Dwarf = {}, \\t F/F* ~= {} \\t~ {}\".format(round(Mag_diffs[1], 3), round(FluxRatios[1], 0), round(1/FluxRatios[1], 6)))\n",
    "print(\"~80 MJ Brown Dwarf = {}, \\t F/F* ~= {} \\t~ {}\".format(round(Mag_diffs[2], 3), round(FluxRatios[2], 0), round(1/FluxRatios[2], 6)))\n",
    "\n"
   ]
  },
  {
   "cell_type": "markdown",
   "metadata": {},
   "source": [
    "Because this is in the M band and not the N or Q bands it is hard to say if this is a good result.\n"
   ]
  },
  {
   "cell_type": "markdown",
   "metadata": {},
   "source": [
    "#### Delta H J K values\n"
   ]
  },
  {
   "cell_type": "code",
   "execution_count": null,
   "metadata": {
    "collapsed": false
   },
   "outputs": [],
   "source": [
    "print(\"Bands = {} \".format(BDBands[:3]))\n",
    "print(\"Apparent Star Mag = {}\".format([round(AppBandMags[j], 3) for j in range(3)]))\n",
    "\n",
    "print(\"Apparent 80 MJ Mag = {}\".format(App_BDMags_80[:3]))\n",
    "Deltas_80 = [round(App_BDMags_80[i] - AppBandMags[i],3) for i in range (3)] \n",
    "print(\"80 MJ Deltas = {} \".format(Deltas_80))\n",
    "\n",
    "print(\"Apparent 52 MJ Mag = {}\".format(App_BDMags_52[:3]))\n",
    "Deltas_52 = [round(App_BDMags_52[i] - AppBandMags[i],3) for i in range (3)] \n",
    "print(\"52 MJ Deltas = {} \".format(Deltas_52))\n",
    "\n",
    "print(\"Apparent 15 MJ Mag = {}\".format(App_BDMags_15[:3]))\n",
    "Deltas_15 = [round(App_BDMags_15[i] - AppBandMags[i],3) for i in range (3)] \n",
    "print(\"15 MJ Deltas = {} \".format(Deltas_15))"
   ]
  },
  {
   "cell_type": "markdown",
   "metadata": {
    "collapsed": true
   },
   "source": [
    "## Signal to Noise:\n",
    "The required Signal to Noise has to be greater then the inverse of the flux ratio (10**-x). At this limit then the signal of the planet will be the same level as the noise. \n",
    "This is the values that I already calcualted so Minimum singal to noise is 4000."
   ]
  },
  {
   "cell_type": "code",
   "execution_count": null,
   "metadata": {
    "collapsed": false
   },
   "outputs": [],
   "source": [
    "print(\"S/N Calcualtions\")\n",
    "print(\"Singal to Noise Values needed {}\".format([round(ratio, 0) for ratio in FluxRatios]))"
   ]
  },
  {
   "cell_type": "markdown",
   "metadata": {},
   "source": [
    "## Black Body of Brown Dwarfs\n",
    "To give an indication about the N and Q band fluxes of the Brown Dwarfs\n",
    "Wiens displacement law can be used to find where the intensity per unit wavelength of the radiation produced by a black body is at a maximum"
   ]
  },
  {
   "cell_type": "code",
   "execution_count": null,
   "metadata": {
    "collapsed": false
   },
   "outputs": [],
   "source": [
    "b = 2.8977721*10**-3   # K m\n",
    "\n",
    "wlpeaks = [round( (b*10**6 )/Ti ,4 ) for Ti in BD_Teff]\n",
    "\n",
    "print(\"Bands = \\t\\t\\t\", Bands)\n",
    "print(\"Band centers = \\t\\t\\t {} μm\".format(Band_centers))\n",
    "print(\"Bands = \\t\\t\\t\", BDBands)\n",
    "print(\"Band centers = \\t\\t\\t {} μm \\n\".format(BDBands_centers))\n",
    "\n",
    "\n",
    "print(\"Brown Dwarf masses = \\t\\t {} Mjupiter\".format(BD_mass))\n",
    "print(\"Brown Dwarf Temperatures =\\t {} K\".format(BD_Teff))\n",
    "print(\"Wavelength of Peak intensity = \\t {} μm\".format(wlpeaks))"
   ]
  },
  {
   "cell_type": "markdown",
   "metadata": {},
   "source": [
    "From just Wiens law we can see that a 80 MJ BD will have peak intesnity in the H band, a 50 MJ BD will have peak intensity around the L band, and a 15 MJ BD a peak intensity just before the start of the N band (between 8 to 13μm according to VISIR page). So from this I infer that the magnitude of a 15 MJ BD will be lower in the N band but not for 50 and 80 Mj BDs"
   ]
  },
  {
   "cell_type": "markdown",
   "metadata": {
    "collapsed": true
   },
   "source": [
    "\n",
    "# Mangnitude Conversions\n",
    "\n",
    "Assuming that the M(ab) magnitude is directly convertable from the Magnitudes I have...\n",
    "\n",
    "m(AB) = -5/2 log10 (f_v/ZP)\n",
    "\n",
    "ZP = 170 +- 8 Jy for zero point in the M band  from Campins, Reike, & Lebovsky (1985) \"Absolute calibration oof photometery at 1 thought 5 μm\"\n",
    "\n",
    "ZP = 35.03±0.30  Jy  for  the  monochromatic  flux  density  of  “Vega”  at 10.6μm RIEKE ET AL. 2008 \"ABSOLUTE PHYSICAL CALIBRATION IN THE INFRARED\"\n"
   ]
  },
  {
   "cell_type": "code",
   "execution_count": null,
   "metadata": {
    "collapsed": false
   },
   "outputs": [],
   "source": [
    "import math\n",
    "f_nu = lambda m, ZP : 10 ** (-2.0*m/5.0) * ZP\n",
    "m_ab = lambda f_v, ZP: -5.0/2.0 * math.log10(f_v/ZP)\n",
    "#Assuming that the band magnitudes can go into this forular using the band zero points then \n",
    "V_ZP = 3631  # Jy\n",
    "M_ZP = 170   # Jy\n",
    "N_ZP = 35.03 # Jy\n",
    "\n",
    "f_V_star = f_nu(8.04 , V_ZP)\n",
    "f_M_star = f_nu(AppBandMags[4] , M_ZP)\n",
    "f_N_star = f_nu(AppBandMags[5] , N_ZP)\n",
    "\n",
    "\n",
    "Apparent_BD_mags_Mband = [App_BDMags_15[-1], App_BDMags_52[-1] , App_BDMags_80[-1]]\n",
    "F_M_BD = [round(f_nu(mag , M_ZP)*1000, 4) for mag in Apparent_BD_mags_Mband]\n",
    "\n",
    "print(\"Stellar host Spectral flux density in the V band = {0} mJy  M band = {1} mJy  and in the N band = {2} mJy\".format(round(f_V_star*1000,1), round(f_M_star*1000,1), round(f_N_star*1000,1)))\n",
    "print(\"Brown Dwarf Spectral density in M band\",  F_M_BD, \"mJy\")\n",
    "print(\"Assumptions made:\\n1. The band magnitudes calculated from COND model and distance modulii can be used in the m_ab monochromatic formula.\\n2. The apparent magnitude is the one used for the spectral flux density (as it is what we actually see).\\n3. Zero Point value for M band is 170 Jy, from  Campins, Reike, & Lebovsky (1985).\")\n"
   ]
  },
  {
   "cell_type": "markdown",
   "metadata": {
    "collapsed": true
   },
   "source": [
    "\n",
    "# Angular Separation"
   ]
  },
  {
   "cell_type": "code",
   "execution_count": null,
   "metadata": {
    "collapsed": false
   },
   "outputs": [],
   "source": [
    "semi_ax = 5.5 # AU\n",
    "\n",
    "\n",
    "angle = semi_ax / d\n",
    "\n",
    "print(\"Angular Seperation of = {} arcseconds\".format(angle))\n",
    "\n",
    "\n",
    "wavelength = 10*10**-6   # meters\n",
    "arcsec_per_rad = 206265    # arcesconds\n",
    "D_telescope = 8          #telescope Diameter (m)\n",
    "Diffrac_limit_rad = 1.22 * wavelength / D_telescope  # I am not sure if the 1.22 is needed here when using slit spectrograph \n",
    "Diffrac_limit_arcsec = arcsec_per_rad * Diffrac_limit_rad \n",
    "\n",
    "print(\"Diffraction limit of VLT = {} arcseconds\".format(Diffrac_limit_arcsec))\n",
    "\n"
   ]
  },
  {
   "cell_type": "code",
   "execution_count": null,
   "metadata": {
    "collapsed": true
   },
   "outputs": [],
   "source": []
  },
  {
   "cell_type": "code",
   "execution_count": null,
   "metadata": {
    "collapsed": true
   },
   "outputs": [],
   "source": []
  }
 ],
 "metadata": {
  "anaconda-cloud": {},
  "kernelspec": {
   "display_name": "Python [default]",
   "language": "python",
   "name": "python3"
  },
  "language_info": {
   "codemirror_mode": {
    "name": "ipython",
    "version": 3
   },
   "file_extension": ".py",
   "mimetype": "text/x-python",
   "name": "python",
   "nbconvert_exporter": "python",
   "pygments_lexer": "ipython3",
   "version": "3.5.2"
  }
 },
 "nbformat": 4,
 "nbformat_minor": 0
}

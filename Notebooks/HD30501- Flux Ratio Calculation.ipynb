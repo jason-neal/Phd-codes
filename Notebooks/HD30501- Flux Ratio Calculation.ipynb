{
 "cells": [
  {
   "cell_type": "markdown",
   "metadata": {},
   "source": [
    "# Calculate Flux ratio for the stars I have\n",
    "\n",
    "Based on the calculations done for VISIR proposal investigation\n",
    "\n"
   ]
  },
  {
   "cell_type": "code",
   "execution_count": 16,
   "metadata": {
    "collapsed": false
   },
   "outputs": [
    {
     "name": "stdout",
     "output_type": "stream",
     "text": [
      "Apparent magnitude of Star =  7.588\n",
      "Distance = 20.9. Calculated from a Paralax of 47.93\n",
      "Distance Modulii for 20.9 pc = 1.601\n",
      "Absolute magnitude of Star [M = m - d]=  5.987\n",
      "BD masses = [90] Mjupiter\n",
      "BD masses = [0.086] Msolar\n",
      "Test interp 2501.2\n",
      "Mass of closest rows from the table = [90.09] Mjupiter\n",
      "Teff of these BDs from the table = [2500] K\n",
      "Radius of HD30501b 0.107\n",
      "interpolated BD Mags [11.014, 10.614, 10.356, 9.64, 10.01]\n",
      "Apparent BD Mags  [12.615, 12.215, 11.957, 11.241, 11.611]\n",
      "\n",
      " USing Solar Colour Conversions\n",
      "Using the logic if (V-J) = 1.198  then J = V - 1.198 \n",
      "I don't think this is quite correct becasue HD30501 has a temp of 5200 which is not quite the sun.\n",
      "Star V mag =  5.987\n",
      "Bands = \t\t\t [' J', ' H', ' ks', ' W1', ' W2', ' W3', ' W4']\n",
      "Colours = \t\t\t [1.198, 1.484, 1.56, 1.608, 1.563, 1.552, 1.604]\n",
      "Absolute Band Magnitudes = \t [4.789, 4.503, 4.427, 4.379, 4.424, 4.435, 4.383]\n",
      "Star Apparent Band Magnitude = \t [6.39, 6.104, 6.028, 5.98, 6.025, 6.036, 5.984]\n"
     ]
    }
   ],
   "source": [
    "#First jsut for HD30501 for ENAA\n",
    "\n",
    "\n",
    "import math\n",
    "\n",
    "Vstar_apparent =  7.588\n",
    "print(\"Apparent magnitude of Star = \", round(Vstar_apparent, 3))\n",
    "Paralax = 47.93  # mas\n",
    "d = round((1 / Paralax) * 1000 , 1)   # paralax inin arcsec\n",
    "print(\"Distance = {0}. Calculated from a Paralax of {1}\".format(d, Paralax))\n",
    "\n",
    "#d = 76 # pc (nuno), 81pc discovery paper/wikipedia\n",
    "#d2 = 81 \n",
    "Age = \"0.8-7.0\" # Gyr\n",
    " \n",
    "distance_modulii = round(5 * (math.log10(d) - 1), 4) \n",
    "\n",
    "print(\"Distance Modulii for {0} pc = {1}\".format(d, round(distance_modulii,3)))\n",
    "\n",
    "Mag_star = Vstar_apparent - distance_modulii\n",
    "\n",
    "print(\"Absolute magnitude of Star [M = m - d]= \", round(Mag_star, 3))\n",
    "\n",
    "\n",
    "#HD30501 Mass = 90 Mj\n",
    "# Baraffe 2003, Appendix Table 4: 5 Gyr \n",
    "\n",
    "# Convert between solar and jupiter masses to read off table\n",
    "SolMassinMj = 1047.56  # MJjupiter\n",
    "BD_mass = [90]  # Mjupiter\n",
    "print(\"BD masses = {} Mjupiter\".format(BD_mass) )\n",
    "print(\"BD masses = {} Msolar\".format([round(M / SolMassinMj, 3) for M in BD_mass]))\n",
    "def interp_BD90(val1, val2):\n",
    "    return round((val2-val1)/(0.01) *(0.006) + val1, 3)\n",
    "    \n",
    "tableMasses = [0.0860]  #Msolar #interpolated value\n",
    "BD_Teff = [2500] # Teff K\n",
    "print('Test interp', interp_BD90(2320, 2622))\n",
    "\n",
    "print(\"Mass of closest rows from the table = {} Mjupiter\".format([round(tble*SolMassinMj, 3) for tble in tableMasses]))\n",
    "print(\"Teff of these BDs from the table = {} K\".format(BD_Teff))\n",
    "\n",
    "\n",
    "BDBands = [\"J\", \"H\", \"K\", \"L'\", \"M\"]\n",
    "BDBands_centers = [1.220, 1.630, 2.190, 3.450, 4.750]  # μm\n",
    "\n",
    "BDMags = [interp_BD90(11.44, 10.73), interp_BD90(11.07, 10.31), interp_BD90(10.83, 10.04), interp_BD90(9.97, 9.42), interp_BD90(10.43, 9.73)]\n",
    "App_BDMags = [round(bdmag + distance_modulii, 3) for bdmag in BDMags]\n",
    "\n",
    "Radius = interp_BD90(0.099, 0.113)\n",
    "print(\"Radius of HD30501b\", Radius)\n",
    "print(\"interpolated BD Mags\", BDMags)\n",
    "print(\"Apparent BD Mags \", App_BDMags)\n",
    "\n",
    "\n",
    "# Solar Colour values\n",
    "print(\"\\n USing Solar Colour Conversions\")\n",
    "print(\"Using the logic if (V-J) = 1.198  then J = V - 1.198 \")\n",
    "print(\"I don't think this is quite correct becasue HD30501 has a temp of 5200 which is not quite the sun.\")\n",
    "Bands =  ['J', 'H', 'ks', 'W1', 'W2', 'W3', 'W4']\n",
    "Bands_space =  [' J', ' H', ' ks', ' W1', ' W2', ' W3', ' W4']\n",
    "Band_centers =  [1.25, 1.65, 2.17, 3.4, 4.6, 12, 22] # μm\n",
    "V_J = 1.198 \n",
    "V_H = 1.484\n",
    "V_Ks = 1.560   # 2.17 μm\n",
    "V_W1 = 1.608   # 3.4 μm\n",
    "V_W2 = 1.563   # 4.6 μm    # M = 4.7 μm\n",
    "V_W3 = 1.552   # 12 μm     # Nband = 8-14 μm\n",
    "V_W4 = 1.604   # 22 μm     # Qband = 21 μm\n",
    "\n",
    "AbsBandMags = [Mag_star-V_J, Mag_star-V_H, Mag_star-V_Ks, Mag_star-V_W1, Mag_star-V_W2, Mag_star-V_W3, Mag_star-V_W4]\n",
    "AppBandMags = [mag + distance_modulii for mag in AbsBandMags]\n",
    "print(\"Star V mag = \", round(Mag_star, 3))\n",
    "print(\"Bands = \\t\\t\\t\", Bands_space)\n",
    "print(\"Colours = \\t\\t\\t\",  [V_J, V_H, V_Ks, V_W1, V_W2, V_W3, V_W4])\n",
    "print(\"Absolute Band Magnitudes = \\t\", [round(a,3) for a in AbsBandMags])\n",
    "print(\"Star Apparent Band Magnitude = \\t\", [round(a,3) for a in AppBandMags])"
   ]
  },
  {
   "cell_type": "code",
   "execution_count": 19,
   "metadata": {
    "collapsed": false
   },
   "outputs": [
    {
     "name": "stdout",
     "output_type": "stream",
     "text": [
      "Abs Magnitude Difference in k Band (M_BD - M_*) and Flux ratio\n",
      "~90 MJ Brown Dwarf = 5.929, \t F/F* ~= 235.0 \t~ 0.00425\n"
     ]
    }
   ],
   "source": [
    "#Differences in magnitude and Relative Brightness in the M band\n",
    "f = 2.512\n",
    "\n",
    "BD_M_Mags = [BDMags[2]] # want K band for hd30501\n",
    "Mag_diffs = [mag - AbsBandMags[2] for mag in BD_M_Mags]\n",
    "FluxRatios = [f** magdiff for magdiff in Mag_diffs]\n",
    "\n",
    "print(\"Abs Magnitude Difference in k Band (M_BD - M_*) and Flux ratio\")\n",
    "print(\"~90 MJ Brown Dwarf = {}, \\t F/F* ~= {} \\t~ {}\".format(round(Mag_diffs[0], 3), round(FluxRatios[0], 0), round(1/FluxRatios[0], 6)))\n",
    "\n"
   ]
  },
  {
   "cell_type": "code",
   "execution_count": null,
   "metadata": {
    "collapsed": true
   },
   "outputs": [],
   "source": []
  }
 ],
 "metadata": {
  "anaconda-cloud": {},
  "kernelspec": {
   "display_name": "Python [conda env:py35]",
   "language": "python",
   "name": "conda-env-py35-py"
  },
  "language_info": {
   "codemirror_mode": {
    "name": "ipython",
    "version": 3
   },
   "file_extension": ".py",
   "mimetype": "text/x-python",
   "name": "python",
   "nbconvert_exporter": "python",
   "pygments_lexer": "ipython3",
   "version": "3.5.2"
  }
 },
 "nbformat": 4,
 "nbformat_minor": 1
}

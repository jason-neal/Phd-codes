{
 "cells": [
  {
   "cell_type": "markdown",
   "metadata": {},
   "source": [
    "# Calculate Flux ratio for HD30501\n",
    "\n",
    "Based on the calculations done for VISIR proposal investigation\n",
    "\n",
    "I want to simulate the level of the signal expected to observe in the spectral differential analysis.\n",
    "We have normalized (to 1) spectra that are a combined flux I = I_star + I_planet. The normalized flux is I_star >> I_planet then the amplitude of the I_norm = 1 + I_planet/I_star. And the amplitude of the planet spectra will be of I_planet/I_star or the flux ratio F/F_*."
   ]
  },
  {
   "cell_type": "code",
   "execution_count": null,
   "metadata": {
    "collapsed": true
   },
   "outputs": [],
   "source": [
    "from __future__ import division, print_function\n",
    "import math\n",
    "\n",
    "# Some constants\n",
    "SolMassinMj = 1047.56            # MJjupiter  (1 M_sun = 1047 M_Jupiter)\n",
    "\n",
    "def interp_BD90(val1, val2):    # Function to interpolate in the tables\n",
    "    return round((val2-val1)/(0.01) *(0.006) + val1, 3)"
   ]
  },
  {
   "cell_type": "markdown",
   "metadata": {},
   "source": [
    "Calculating the visual aboslute magnitude of HD30501 using the parallax and the visual apparent magnitude"
   ]
  },
  {
   "cell_type": "code",
   "execution_count": null,
   "metadata": {
    "collapsed": false
   },
   "outputs": [],
   "source": [
    "\n",
    "Vstar_apparent =  7.588               # Apparent magnitude of HD30501 - Simbad\n",
    "Bstar_apparent =  8.474               # Apparent B magnitude of HD30501 - Simbad\n",
    "Paralax = 47.93                       # mas\n",
    "Age = \"0.8-7.0\" # Gyr \n",
    "\n",
    "# Calculations\n",
    "\n",
    "d = round((1 / Paralax) * 1000 , 1)   # distance in parsec\n",
    "distance_modulii = round(5 * (math.log10(d) - 1), 4) \n",
    "Mag_star = Vstar_apparent - distance_modulii   # Absolute magnitude in visible\n",
    "\n",
    "print(\"Distance = {0}. Calculated from a Paralax of {1}\".format(d, Paralax))\n",
    "print(\"Distance Modulii for {0} pc = {1}\".format(d, round(distance_modulii,3)))\n",
    "print(\"Apparent magnitude of Star = \", round(Vstar_apparent, 3))\n",
    "print(\"Absolute magnitude of Star [M = m - d]= \", round(Mag_star, 3))\n"
   ]
  },
  {
   "cell_type": "code",
   "execution_count": null,
   "metadata": {
    "collapsed": false
   },
   "outputs": [],
   "source": [
    "\n",
    "# HD30501b  # Mass = 90 Mj = 0.086 M_solar   \n",
    "# Baraffe 2003, Evolution modeling\n",
    "# Appendix Table 4: 5 Gyr \n",
    "\n",
    "\n",
    "BD_mass = 90.                                    # MJ        Mass of HD30501 b\n",
    "BD_mass_sol =  BD_mass / SolMassinMj             # M_solar   Mass of HD30501 b  = 0.086 M_solar \n",
    "\n",
    "# Interpolate values from the table to this mass\n",
    "\n",
    "BD_Teff = interp_BD90(2320, 2622)    # K\n",
    "BD_Radius = interp_BD90(0.099, 0.113)\n",
    "\n",
    "\n",
    "BDBands =         [\" J \", \" H \", \" K \", \" L \", \" M \"]\n",
    "BDBands_centers = [1.220, 1.630, 2.190, 3.450, 4.750]  # μm\n",
    "\n",
    "Abs_BDMags = [interp_BD90(11.44, 10.73), interp_BD90(11.07, 10.31), interp_BD90(10.83, 10.04), interp_BD90(9.97, 9.42), interp_BD90(10.43, 9.73)]\n",
    "App_BDMags = [round(bdmag + distance_modulii, 3) for bdmag in Abs_BDMags]\n",
    "print(\"Known Mass:\")\n",
    "print(\"HD30501b Mass              = {} Mjupiter\".format(BD_mass) )\n",
    "print(\"HD30501b Mass              = {} Msolar\".format(round(BD_mass_sol,4)))\n",
    "\n",
    "print(\"\\nInterplated values of HD30501b from Barraffe 2003:\\n\")\n",
    "print(\"Teff                 = {} K\".format(BD_Teff))\n",
    "print(\"Radius               = {} R_sun\".format(BD_Radius))\n",
    "\n",
    "print(\"NIR Bands            = {}\".format(BDBands))\n",
    "print(\"Absolute BD Mags     = {}\".format(Abs_BDMags))\n",
    "print(\"Apparent BD Mags     = {}\".format(App_BDMags))\n"
   ]
  },
  {
   "cell_type": "markdown",
   "metadata": {},
   "source": [
    "# Calculation of Flux ratio from the differnce in magnitude of star and BD.\n",
    "\n",
    "#I am less certian with this method and need to check the solar colour is the correct way to go.\n",
    "\n",
    "#Simbad apparent mag of HD30501\n",
    "J 6.059 \n",
    "H 5.642\n",
    "K 5.525 "
   ]
  },
  {
   "cell_type": "code",
   "execution_count": null,
   "metadata": {
    "collapsed": true
   },
   "outputs": [],
   "source": [
    "# Quickly doing for K band now"
   ]
  },
  {
   "cell_type": "code",
   "execution_count": null,
   "metadata": {
    "collapsed": false
   },
   "outputs": [],
   "source": [
    "Star_K = 5.525\n",
    "Abs_K = Vstar_apparent - distance_modulii \n",
    "\n",
    "# Differences in magnitude and Relative Brightness in the K band\n",
    "f = 2.512\n",
    "\n",
    "Kmag_diff = Abs_BDMags[2] - Star_K\n",
    "FluxRatio = f** Kmag_diff\n",
    "\n",
    "print(\"Abs Mag Diff in K Band (M_BD - M_*) and Flux ratio\")\n",
    "print(\"M_bd-Mstar = {}, \\t F/F* ~= {} \\t~ {}\".format(round(Kmag_diff , 3), round(FluxRatio, 2), round(1/FluxRatio, 6)))\n",
    "\n",
    "print(\"YUSSS!!!\")"
   ]
  },
  {
   "cell_type": "code",
   "execution_count": null,
   "metadata": {
    "collapsed": true
   },
   "outputs": [],
   "source": []
  },
  {
   "cell_type": "code",
   "execution_count": null,
   "metadata": {
    "collapsed": false
   },
   "outputs": [],
   "source": [
    "# Need to finish this off!!!\n",
    "\n",
    "# Solar Colour values\n",
    "print(\"\\n USing Solar Colour Conversions\")\n",
    "print(\"Using the logic if (V-J) = 1.198  then J = V - 1.198 \")\n",
    "print(\"I don't think this is quite correct becasue HD30501 has a temp of 5200 which is not quite the sun.\")\n",
    "Bands =  ['J', 'H', 'ks', 'W1', 'W2', 'W3', 'W4']\n",
    "Bands_space =  [' J', ' H', ' ks', ' W1', ' W2', ' W3', ' W4']\n",
    "Band_centers =  [1.25, 1.65, 2.17, 3.4, 4.6, 12, 22] # μm\n",
    "V_J = 1.198 \n",
    "V_H = 1.484\n",
    "V_Ks = 1.560   # 2.17 μm\n",
    "V_W1 = 1.608   # 3.4 μm\n",
    "V_W2 = 1.563   # 4.6 μm    # M = 4.7 μm\n",
    "V_W3 = 1.552   # 12 μm     # Nband = 8-14 μm\n",
    "V_W4 = 1.604   # 22 μm     # Qband = 21 μm\n",
    "\n",
    "AbsBandMags = [Mag_star-V_J, Mag_star-V_H, Mag_star-V_Ks, Mag_star-V_W1, Mag_star-V_W2, Mag_star-V_W3, Mag_star-V_W4]\n",
    "AppBandMags = [mag + distance_modulii for mag in AbsBandMags]\n",
    "print(\"Star V mag = \", round(Mag_star, 3))\n",
    "print(\"Bands = \\t\\t\\t\", Bands_space)\n",
    "print(\"Colours = \\t\\t\\t\",  [V_J, V_H, V_Ks, V_W1, V_W2, V_W3, V_W4])\n",
    "print(\"Absolute Band Magnitudes = \\t\", [round(a,3) for a in AbsBandMags])\n",
    "print(\"Star Apparent Band Magnitude = \\t\", [round(a,3) for a in AppBandMags])"
   ]
  },
  {
   "cell_type": "code",
   "execution_count": null,
   "metadata": {
    "collapsed": true
   },
   "outputs": [],
   "source": []
  },
  {
   "cell_type": "code",
   "execution_count": null,
   "metadata": {
    "collapsed": false
   },
   "outputs": [],
   "source": [
    "#Differences in magnitude and Relative Brightness in the M band\n",
    "f = 2.512\n",
    "\n",
    "BD_M_Mags = [BDMags[2]] # want K band for hd30501\n",
    "Mag_diffs = [mag - AbsBandMags[2] for mag in BD_M_Mags]\n",
    "FluxRatios = [f** magdiff for magdiff in Mag_diffs]\n",
    "\n",
    "print(\"Abs Magnitude Difference in k Band (M_BD - M_*) and Flux ratio\")\n",
    "print(\"~90 MJ Brown Dwarf = {}, \\t F/F* ~= {} \\t~ {}\".format(round(Mag_diffs[0], 3), round(FluxRatios[0], 0), round(1/FluxRatios[0], 6)))\n",
    "\n"
   ]
  },
  {
   "cell_type": "markdown",
   "metadata": {},
   "source": [
    "# Radius of HD30501\n",
    "Directly from http://cas.sdss.org/dr4/en/proj/advanced/hr/radius1.asp \n",
    "\n",
    "    R/Rs = (Ts/T)^2(L/Ls)^(1/2)\n",
    "where R is the radius, T is the Temperature, and L is the luminosity. The s subscript denotes the solar values.\n",
    "\n",
    "\n",
    "The temperature of a star is related to its b-v magnitude. A subsection of the table is \n",
    "\n",
    "    | b-v  |  Surface Temperature (Kelvin)  | \n",
    "    \n",
    "    | 0.58 |  5900  | \n",
    "    \n",
    "    | 0.69 |  5600  | \n",
    "    \n",
    "    | 0.85 |  5100  | \n",
    "    \n",
    "    | 1.16 |  4200  | \n",
    "    \n",
    "\n",
    "\n",
    "The temperatures can be found approximately from the table above by looking at the B-V values. To find the ratio L/Ls, we can use the absolute magnitudes of the stars. The magnitude scale is a logarithmic scale. For every decrease in brightness of 1 magnitude, the star is 2.51 times as bright. Therefore, L/Ls can be found from the equation\n",
    "\n",
    "    L/Ls = 2.51 Dm,\n",
    "\n",
    "where Dm = ms - m  where, ms = 4.83 absolute magnitude of the sun"
   ]
  },
  {
   "cell_type": "code",
   "execution_count": null,
   "metadata": {
    "collapsed": false
   },
   "outputs": [],
   "source": [
    "BminusV = Bstar_apparent - Vstar_apparent\n",
    "Teff_Star = (4200-5100)/(1.16-0.85) * (BminusV-0.85) + 5100    # Linear interpolation\n",
    "\n",
    "Ts_T = 5800. / Teff_Star    # Temperature ratio\n",
    "\n",
    "Dm =   4.83 - Mag_star      # Differnce of aboslute magnitude\n",
    "L_Ls = 2.51 ** Dm           # Luminosity ratio\n",
    "\n",
    "R_Rs = (Ts_T)**2*(L_Ls)**0.5    # Raidus of Star in Solar Radii\n",
    "\n",
    "BD_R = BD_Radius / R_Rs          # Radius_bd / Radius_star\n",
    "\n",
    "BD_area_ratio =  BD_R**2\n",
    "\n",
    "print(\"B-V         = {}\".format(round(BminusV, 3)))\n",
    "print(\"Star Teff   = {} K\".format(round(Teff_Star)))\n",
    "print(\"Ts/T ratio  = {} \".format(round(Ts_T, 4)))\n",
    "\n",
    "print(\"Mag_star    = {} \".format(round(Mag_star, 4)))\n",
    "print(\"Mag diff    = {} \".format(round(Dm, 4)))\n",
    "print(\"L/Ls ratio  = {} \".format(round(L_Ls, 4)))\n",
    "print(\"\\nRadius Calculations:\") \n",
    "print(\"R/Rs ratio                   = {} \".format(round(R_Rs, 4)))\n",
    "print(\"HD30501 Radius               = {} R_sun\".format(round(R_Rs, 4)))\n",
    "print(\"HD30501b Radius              = {} R_sun\".format(round(BD_Radius, 4)))\n",
    "print(\"Radius HD30501b/HD30501      = {}\".format(round(BD_R, 4)))\n",
    "print(\"Area ratio HD30501b/HD30501  = {} !!!\".format(round(BD_area_ratio, 4)))"
   ]
  },
  {
   "cell_type": "markdown",
   "metadata": {},
   "source": [
    "## Conclusions:\n",
    "\n",
    "From the radius ratio between for HD30501 the expected signal should have an amplitude of up to 0.0183.\n",
    "\n",
    "Preliminary look at the flux ratios I get F/F* = 86  = 1/(0.012)\n",
    "\n",
    "**Reasons for previous descrepancy :**\n",
    "\n",
    "In my last calculation I used -Dm (switched the order). This therefore made HD30501 brighter (rather than smaller) then the sun and therefore larger calculated radius (2.1 R_sun). This was giving a area ratio of 0.002  so an order of magnitude smaller which was causing worries. "
   ]
  },
  {
   "cell_type": "code",
   "execution_count": null,
   "metadata": {
    "collapsed": true
   },
   "outputs": [],
   "source": []
  }
 ],
 "metadata": {
  "anaconda-cloud": {},
  "kernelspec": {
   "display_name": "Python [conda env:py35]",
   "language": "python",
   "name": "conda-env-py35-py"
  },
  "language_info": {
   "codemirror_mode": {
    "name": "ipython",
    "version": 3
   },
   "file_extension": ".py",
   "mimetype": "text/x-python",
   "name": "python",
   "nbconvert_exporter": "python",
   "pygments_lexer": "ipython3",
   "version": "3.5.2"
  }
 },
 "nbformat": 4,
 "nbformat_minor": 1
}

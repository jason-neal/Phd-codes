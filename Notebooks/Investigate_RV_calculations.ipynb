{
 "cells": [
  {
   "cell_type": "markdown",
   "metadata": {},
   "source": [
    "# RV calculation at specific times.\n",
    "\n",
    "To determine the RV of the planets expected in my atmospheres"
   ]
  },
  {
   "cell_type": "code",
   "execution_count": null,
   "metadata": {
    "collapsed": false
   },
   "outputs": [],
   "source": [
    "from __future__ import division, print_function\n",
    "import numpy as np\n",
    "import matplotlib.pyplot as plt\n",
    "\n",
    "import sys\n",
    "#sys.path.append('/home/jneal/azores/planet/rvs/exonailer/utilities')\n",
    "from ajplanet import pl_rv_array as rv_curve\n",
    "    \n",
    "%pylab inline"
   ]
  },
  {
   "cell_type": "code",
   "execution_count": null,
   "metadata": {
    "collapsed": false
   },
   "outputs": [],
   "source": [
    "# Get parameters for star and taget\n",
    "Red_JD = 2400000\n",
    "\n",
    "mean_val = 23.710 # +- 0.017\n",
    "Period = 2073.6   # +3 - 2.9 days\n",
    "e = 0.741         # +_ 0.04\n",
    "K1 = 1703.1       #+- 26  ms^-1\n",
    "Tau = 53851.5      # +- 3 JD    Note: I think this is tau but I am not sure. \n",
    "omega = 70.4 * np.pi/180     # +- 0.7 deg\n",
    "\n",
    "\n",
    "#Target parameters:  Obtained from sahlmann et al.\n",
    "#                 [mean_val, K1, omega, e, Tau, Period]\n",
    "HD30501_params = [23.710, 1703.1, 70.4, 0.741, 53851.5, 2073.6]  # sahlman\n",
    "HD211847_params = [6.689, 291.4,159.2, 0.685, 62030.1, 7929.4]  # Best fit solution from sahlmann not complete period coverage\n",
    "HD4747_params   = [9.904, 703.3, -94.2, 0.723, 62059.11, 11593.2] # Best fit solution from sahlmann not complete period coverage\n",
    "HD167665_params = [8.003, 609.5, -134.3,0.340, 56987.6, 4451.8]  # sahlman\n",
    "HD162020_params = [-27.328, 1813, 28.40, 0.277, 51990.677, 8.428198]  # here mean val in km/s K in m/s https://arxiv.org/pdf/astro-ph/0202458v2.pdf\n",
    "HD202206_params = [14.681, 564.8, 160.32, 0.429, 51919.02, 256.003] #drift of 42.9 ms per year!    # here mean val in km/s K in m/s\n",
    "\n",
    "\n",
    "HD30501_times =  [2456024.505902, 2456140.887153, 2456141.866329, 2456145.904258]  # from data - need to double check with calculated data centers\n",
    "HD162020_times = []\n",
    "HD202206_times = []   \n",
    "HD211847_times = []  \n",
    "HD4747_times = []\n",
    "HD167665_times = [] \n",
    "\n",
    "params_dict = {\"HD30501\":HD30501_params, \"HD211847\":HD211847_params, \\\n",
    "              \"HD4747\":HD4747_params, \"HD167665\":HD167665_params, \\\n",
    "               \"HD162020\":HD162020_params, \"HD202206\":HD202206_params, }\n",
    "\n",
    "times_dict = {\"HD30501\":HD30501_times, \"HD162020\":HD162020_times, \\\n",
    "              \"HD202206\":HD202206_times, \"HD211847\":HD211847_times, \\\n",
    "              \"HD4747\":HD4747_times, \"HD167665\":HD167665_times}\n",
    "\n",
    "def RV_from_params(t, params):\n",
    "    \"\"\" Get RV values with parameter list.\n",
    "    \n",
    "    input:\n",
    "        t -- The time/s at which to calculate the RV value\n",
    "        params -- a list of values [mean_val, K1, omega, e, Tau, Period]\n",
    "    \n",
    "    omega should be given in degrees. This function converts it to radians.\n",
    "    \n",
    "    Outputs:\n",
    "        RVs -- The radial velocity values evaluated at the given times.\n",
    "    \n",
    "    \"\"\"\n",
    "    params[2] = np.deg2rad(params[2])\n",
    "    print(params)\n",
    "    # Note: test that is np.deg2rad is faster than *np.pi /180\n",
    "    RVs = rv_curve(t, *params) # *unpacks parameters from list\n",
    "    return RVs\n",
    "\n",
    "RV_HD30501 = RV_from_params(HD30501_times, HD30501_params)\n",
    "\n",
    "\n",
    "def analayse_RV_phase(params):\n",
    "    \"\"\"Plot RV phase curve use period and T0 to get times from phase.\"\"\"\n",
    "    pass\n",
    "\n",
    "print(HD30501_times)\n",
    "print(a)"
   ]
  },
  {
   "cell_type": "code",
   "execution_count": null,
   "metadata": {
    "collapsed": false
   },
   "outputs": [],
   "source": [
    "# Time we want the observation for\n",
    "# HD30501 test value\n",
    "\n",
    "\n",
    "#2012 April  7 00:08:29.9 UT is\n",
    "#t = 2456024.505902 - Red_JD\n",
    "\n",
    "#Time = 2012_08_01T09:17:30\n",
    "#JD 2456140.887153\n",
    "#t = 2456140.887153 - Red_JD\n",
    "\n",
    "#2012 August  2 08:47:30.8 UT is\n",
    "t = 2456141.866329 - Red_JD # JD\n",
    "\n",
    "#2012 August  6 09:42:07.9 UT\n",
    "t = 2456145.904258 - Red_JD\n",
    "\n",
    "\n",
    "print(\"Reduced JD for this time {0}\".format(t))\n"
   ]
  },
  {
   "cell_type": "code",
   "execution_count": null,
   "metadata": {
    "collapsed": false
   },
   "outputs": [],
   "source": [
    "# Calculate Mean anomaly:\n",
    "#Assuming To = Tau\n",
    "\n",
    "M_anomaly = 2 * np.pi * (t - Tau)/ Period\n",
    "print(\"Mean Anomaly = {}\".format(M_anomaly))"
   ]
  },
  {
   "cell_type": "code",
   "execution_count": null,
   "metadata": {
    "collapsed": false
   },
   "outputs": [],
   "source": [
    "# Calcualte Ecentric Anomaly E:\n",
    "#Need to iterativaly find a result to this equation M = E - e sin(E)\n",
    "from lmfit import minimize, Parameters\n",
    "import lmfit\n",
    "\n",
    "def anomaly_residual(params, M, e):\n",
    "    # Minimize this funciton\n",
    "    E = params[\"E\"].value\n",
    "    return M - (E + e * np.sin(E))\n",
    "\n",
    "# Set up parameters \n",
    "params = Parameters()\n",
    "params.add('E', value=M_anomaly)   # add min and max values ?\n",
    "               \n",
    "out = minimize(anomaly_residual, params, args=(M_anomaly, e))\n",
    "                \n",
    "E_anomaly = out.params[\"E\"].value\n",
    "print(\"Eccentric Anomaly = {0}\".format(E_anomaly))\n",
    "#print(lmfit.fit_report(out))\n",
    "\n",
    "M_test = E_anomaly + e*np.sin(E_anomaly)\n",
    "\n",
    "print(\"Mean Anomaly = {0}\".format(M_anomaly))\n",
    "print(\"Mean Anomaly = {0} from Eccentric Anomaly\".format(M_test))"
   ]
  },
  {
   "cell_type": "code",
   "execution_count": null,
   "metadata": {
    "collapsed": false
   },
   "outputs": [],
   "source": [
    "# Ecentric anomaly vai newton method.\n",
    "\n",
    "import scipy\n",
    "from scipy.optimize import newton \n",
    "def newton_anomaly_residual(E, M, e):\n",
    "    return  E + e * np.sin(E) - M\n",
    "\n",
    "# this method is faster than lmfit for this task\n",
    "E_newton = newton(newton_anomaly_residual, M_anomaly, args=(M_anomaly, e))\n",
    "\n",
    "print(\"E_newton\", E_newton, \"E_guess\", M_anomaly)\n"
   ]
  },
  {
   "cell_type": "code",
   "execution_count": null,
   "metadata": {
    "collapsed": false
   },
   "outputs": [],
   "source": [
    "       \n",
    "%timeit out = minimize(anomaly_residual, params, args=(M_anomaly, e))\n",
    "%timeit E_newton = newton(newton_anomaly_residual, M_anomaly, args=(M_anomaly, e))\n"
   ]
  },
  {
   "cell_type": "code",
   "execution_count": null,
   "metadata": {
    "collapsed": false
   },
   "outputs": [],
   "source": [
    "# Determine true anomaly from Ecentric anomaly\n",
    "#tan(nu/2) = np.sqrt((1+e)/(1-e))tan (E/2)\n",
    "\n",
    "true_anomaly = 2 * np.arctan(np.sqrt((1+e)/(1-e)) * np.tan(E_anomaly/2))\n",
    "\n",
    "print(\"True anomaly value = {0}\".format(true_anomaly))\n",
    "#nu goes into RV equations"
   ]
  },
  {
   "cell_type": "code",
   "execution_count": null,
   "metadata": {
    "collapsed": false
   },
   "outputs": [],
   "source": [
    "# Now Calculalte the RV\n",
    "\n",
    "RV = mean_val + K1 *(np.cos(true_anomaly + omega) + e * np.cos(omega))\n",
    "\n",
    "print(\"RV value {0} ms^-1 at time {1} JD*\".format(round(RV, 2), round(t, 3)))"
   ]
  },
  {
   "cell_type": "code",
   "execution_count": null,
   "metadata": {
    "collapsed": true
   },
   "outputs": [],
   "source": []
  },
  {
   "cell_type": "code",
   "execution_count": null,
   "metadata": {
    "collapsed": false
   },
   "outputs": [],
   "source": [
    "# HD 30501 RV \n",
    "#2012 April  7 00:08:29.9 UT is\n",
    "##RV1 = 275.06 #ms^-1\n",
    "#Time = 2012_08_01T09:17:30\n",
    "#JD 2456140.887153\n",
    "##RV2 = -488.76 # ms^-1\n",
    "\n",
    "#2012 August  2 08:47:30.8 UT is\n",
    "##RV3 = -494.14   # ms^-1\n",
    "#2012 August  6 09:42:07.9 UT\n",
    "##RV4 = -516.1   # ms^-1"
   ]
  },
  {
   "cell_type": "markdown",
   "metadata": {
    "collapsed": false
   },
   "source": [
    "import matplotlib.pyplot as plt\n",
    "\n",
    "plt.plot(RV1)\n",
    "plt.plot(RV2)\n",
    "plt.plot(RV3)\n",
    "plt.plot(RV4)\n",
    "\n",
    "\n"
   ]
  },
  {
   "cell_type": "code",
   "execution_count": null,
   "metadata": {
    "collapsed": true
   },
   "outputs": [],
   "source": []
  },
  {
   "cell_type": "code",
   "execution_count": null,
   "metadata": {
    "collapsed": true
   },
   "outputs": [],
   "source": [
    "from lmfit import minimize, Parameters\n",
    "import lmfit"
   ]
  },
  {
   "cell_type": "code",
   "execution_count": null,
   "metadata": {
    "collapsed": true
   },
   "outputs": [],
   "source": [
    "def Mean_Anomaly(t, Tau, Period):\n",
    "    \"\"\" Calculate mean Anomaly using period, tau and a time value\"\"\"\n",
    "    return 2 * np.pi * (t - Tau)/ Period\n",
    "    \n",
    "\n",
    "def anomaly_residual(params, M, e):\n",
    "    # Minimize this funciton\n",
    "    E = params[\"E\"].value\n",
    "    return M - (E + e * np.sin(E))    \n",
    "\n",
    "\n",
    "def Radial_velocity(mean_val, K1, true_anomaly, omega, e):\n",
    "    # Calculate RV of star\n",
    "    return mean_val + K1 *(np.cos(true_anomaly + omega) + e * np.cos(omega))\n"
   ]
  },
  {
   "cell_type": "code",
   "execution_count": null,
   "metadata": {
    "collapsed": false
   },
   "outputs": [],
   "source": [
    "def True_Anomaly(E_anomaly, e):\n",
    "    # Rodrigo suggests using arctan 2 to preserve signs. \n",
    "    # and turn into divions of sin and cos to preserve the quater of parameter space your in.\n",
    "    return 2 * np.arctan(np.sqrt((1+e)/(1-e)) * np.tan(E_anomaly/2))\n",
    "\n",
    "def True_Anomaly2(E_anomaly, e):\n",
    "    # Rodrigo suggests using arctan 2 to preserve signs. \n",
    "    # and turn into divions of sin and cos to preserve the quater of parameter space your in.\n",
    "    #return 2 * np.arctan(np.sqrt(1+e)/ np.sqrt(1-e)) * np.sin(E_anomaly/2) / np.cos(E_anomaly/2)\n",
    "    return 2 * np.arctan(np.sqrt(1+e)/ np.sqrt(1-e) * np.tan(E_anomaly/2))\n",
    "\n",
    "\n",
    "def True_Anomaly3(E_anomaly, e):\n",
    "    # Rodrigo suggests using arctan 2 to preserve signs. \n",
    "    # and turn into divions of sin and cos to preserve the quater of parameter space your in.\n",
    "    #return 2 * np.arctan(np.sqrt(1+e)/ np.sqrt(1-e)) * np.sin(E_anomaly/2) / np.cos(E_anomaly/2)\n",
    "    return 2 * np.arctan2( np.sqrt(1-e) * np.cos(E_anomaly/2), np.sqrt(1+e) * np.sin(E_anomaly/2))\n",
    "\n",
    "def True_Anomaly4(E_anomaly, e):\n",
    "    # Rodrigo suggests using arctan 2 to preserve signs. \n",
    "    # and turn into divions of sin and cos to preserve the quater of parameter space your in.\n",
    "    #return 2 * np.arctan(np.sqrt(1+e)/ np.sqrt(1-e)) * np.sin(E_anomaly/2) / np.cos(E_anomaly/2)\n",
    "    return 2 * np.arctan2( np.sqrt(1+e) * np.sin(E_anomaly/2), np.sqrt(1-e) * np.cos(E_anomaly/2))\n"
   ]
  },
  {
   "cell_type": "code",
   "execution_count": null,
   "metadata": {
    "collapsed": false
   },
   "outputs": [],
   "source": [
    "\n",
    "times = np.linspace(Tau, Tau+Period, 1000)\n",
    "\n",
    "M_anomalies = Mean_Anomaly(times, Tau, Period)\n",
    "E_anomalies = np.empty_like(M_anomalies)\n",
    "for i, t_i in enumerate(times):\n",
    "    #params = Parameters()\n",
    "    #params.add('E', value=M_anomalies[i])   # add min and max values ? \n",
    "    #out = minimize(anomaly_residual, params, args=(M_anomalies[i], e))\n",
    "    #E_anomalies[i] = out.params[\"E\"].value\n",
    "    E_anomalies[i] = newton(newton_anomaly_residual, M_anomalies[i], args=(M_anomalies[i], e))\n",
    "\n",
    "print(\"Done \")"
   ]
  },
  {
   "cell_type": "code",
   "execution_count": null,
   "metadata": {
    "collapsed": false
   },
   "outputs": [],
   "source": [
    "\n",
    "#print(\"Eccentric Anomaly = {0}\".format(E_anomalies))\n",
    "#print(lmfit.fit_report(out))\n",
    "\n",
    "M_tests = E_anomalies + e*np.sin(E_anomalies)\n",
    "\n",
    "#print(\"Mean Anomaly = {0}\".format(M_anomalies))\n",
    "#print(\"Mean Anomaly = {0} from Eccentric Anomaly\".format(M_tests))\n",
    "\n",
    "#print(\"Differences {}\".format(M_tests-M_anomalies))\n",
    "\n",
    "plt.plot(M_tests-M_anomalies)\n",
    "plt.title(\"Differences between M_tests and M_anomalies\")\n",
    "plt.show()\n",
    "#print(lmfit.report_fit(out))\n",
    "\n",
    "T_anomalies = True_Anomaly(E_anomalies, e)\n",
    "T_anomalies2 = True_Anomaly2(E_anomalies, e)\n",
    "T_anomalies3 = True_Anomaly3(E_anomalies, e)\n",
    "T_anomalies4 = True_Anomaly4(E_anomalies, e)\n",
    "print(\"done\")"
   ]
  },
  {
   "cell_type": "code",
   "execution_count": null,
   "metadata": {
    "collapsed": false
   },
   "outputs": [],
   "source": [
    "#print(T_anomalies)\n",
    "#print(T_anomalies2)\n",
    "#print(T_anomalies3)\n",
    "#plt.plot(times, T_anomalies, label=\"1\")\n",
    "#plt.plot(times, T_anomalies2, label=\"2\")\n",
    "#plt.show()"
   ]
  },
  {
   "cell_type": "code",
   "execution_count": null,
   "metadata": {
    "collapsed": false
   },
   "outputs": [],
   "source": [
    "RVs_1 = Radial_velocity(mean_val, K1, T_anomalies, omega, e)\n",
    "RVs_2 = Radial_velocity(mean_val, K1, T_anomalies2, omega, e)\n",
    "RVs_3 = Radial_velocity(mean_val, K1, T_anomalies3, omega, e)\n",
    "RVs_4 = Radial_velocity(mean_val, K1, T_anomalies4, omega, e)\n",
    "   "
   ]
  },
  {
   "cell_type": "code",
   "execution_count": null,
   "metadata": {
    "collapsed": false
   },
   "outputs": [],
   "source": [
    "# Test ajplanet comparision\n",
    "\n",
    "#mean_val, K1, T_anomalies4, omega, e\n",
    "#ajplanet_rvs = rv_curve(t, gamma,K,omega,ecc,to,P)\n",
    "ajplanet_rvs = rv_curve(times, mean_val, K1, omega, e, Tau, Period)\n",
    "\n",
    "print(rv_curve(HD30501_times, mean_val, K1, omega, e, Tau, Period))"
   ]
  },
  {
   "cell_type": "code",
   "execution_count": null,
   "metadata": {
    "collapsed": false
   },
   "outputs": [],
   "source": [
    "plt.plot((times-Tau) / Period, RVs_1, label=\"1\")\n",
    "plt.plot((times-Tau) / Period, RVs_2,'+', label=\"2\")\n",
    "plt.plot((times-Tau) / Period, RVs_3, 'o', label=\"3\")\n",
    "plt.plot((times-Tau) / Period, RVs_4, \"--\", label=\"4\")\n",
    "plt.plot((times-Tau) / Period, ajplanet_rvs, \"k*\", label=\"ajplanet\")\n",
    "plt.title(\"Radial Velocities\")\n",
    "plt.legend()\n",
    "plt.show()"
   ]
  },
  {
   "cell_type": "code",
   "execution_count": null,
   "metadata": {
    "collapsed": true
   },
   "outputs": [],
   "source": [
    "#plt.plot(T_anomalies, RVs_1)\n",
    "#plt.plot(T_anomalies2, RVs_2)\n",
    "#plt.show()"
   ]
  },
  {
   "cell_type": "code",
   "execution_count": null,
   "metadata": {
    "collapsed": true
   },
   "outputs": [],
   "source": [
    "\n",
    "# My Values are not good atm when compaing to rvcurve. "
   ]
  },
  {
   "cell_type": "code",
   "execution_count": null,
   "metadata": {
    "collapsed": false
   },
   "outputs": [],
   "source": []
  },
  {
   "cell_type": "code",
   "execution_count": null,
   "metadata": {
    "collapsed": true
   },
   "outputs": [],
   "source": [
    "# Try thre true anomaly given by the lecuture on facebook."
   ]
  },
  {
   "cell_type": "code",
   "execution_count": null,
   "metadata": {
    "collapsed": true
   },
   "outputs": [],
   "source": []
  },
  {
   "cell_type": "code",
   "execution_count": null,
   "metadata": {
    "collapsed": true
   },
   "outputs": [],
   "source": []
  }
 ],
 "metadata": {
  "kernelspec": {
   "display_name": "Python 2",
   "language": "python",
   "name": "python2"
  },
  "language_info": {
   "codemirror_mode": {
    "name": "ipython",
    "version": 2
   },
   "file_extension": ".py",
   "mimetype": "text/x-python",
   "name": "python",
   "nbconvert_exporter": "python",
   "pygments_lexer": "ipython2",
   "version": "2.7.12"
  }
 },
 "nbformat": 4,
 "nbformat_minor": 0
}

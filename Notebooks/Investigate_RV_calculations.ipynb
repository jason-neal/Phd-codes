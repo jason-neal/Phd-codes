{
 "cells": [
  {
   "cell_type": "markdown",
   "metadata": {},
   "source": [
    "# RV calculation at specific times.\n",
    "\n",
    "To determine the RV of the planets expected in my atmospheres"
   ]
  },
  {
   "cell_type": "code",
   "execution_count": 1,
   "metadata": {
    "collapsed": false
   },
   "outputs": [
    {
     "name": "stdout",
     "output_type": "stream",
     "text": [
      "Populating the interactive namespace from numpy and matplotlib\n"
     ]
    }
   ],
   "source": [
    "from __future__ import division, print_function\n",
    "import numpy as np\n",
    "import matplotlib.pyplot as plt\n",
    "\n",
    "from PyAstronomy import pyasl   # for doppler shift\n",
    "import sys\n",
    "#sys.path.append('/home/jneal/azores/planet/rvs/exonailer/utilities')\n",
    "try: \n",
    "    #import ajplanet\n",
    "    from ajplanet import pl_rv_array\n",
    "except:\n",
    "    pass\n",
    "%pylab inline"
   ]
  },
  {
   "cell_type": "code",
   "execution_count": 2,
   "metadata": {
    "collapsed": true
   },
   "outputs": [],
   "source": [
    "#Rodrigo Diaz's true anomaly calculation\n",
    "\n",
    "import numpy as np\n",
    "\n",
    "def trueanomaly(ma, ecc, niterationmax=10000):\n",
    "    \"\"\"\n",
    "    Compute the true anomaly using the Newton-Raphson method.\n",
    "\n",
    "    :param array-like ma: mean anomaly.\n",
    "    :param float ecc: orbital eccentricity.\n",
    "    :param int niterationmax: maximum number of iterations for N-R method.\n",
    "    \"\"\"\n",
    "    \n",
    "    if not isinstance(ma, float):\n",
    "        ea = ma\n",
    "    else:\n",
    "        ea = np.array([ma,])\n",
    "\n",
    "    # Initialise at ea0 = ma\n",
    "    niteration = 0\n",
    "    ea0 = ma\n",
    "    \n",
    "    while np.linalg.norm(ea - ea0, ord=1) > 1e-5 or niteration==0:\n",
    "        ea0 = ea\n",
    " \n",
    "        ff = ea - ecc*np.sin(ea) - ma   # Function\n",
    "        dff = 1 - ecc*np.cos(ea)        # Derivative\n",
    "\n",
    "        # Use Newton method\n",
    "        ea = ea0 - ff / dff\n",
    "\n",
    "        # Increase iteration number; if above limit, break with exception.\n",
    "        niteration += 1\n",
    "        if niteration >= niterationmax:\n",
    "            raise RuntimeError('Eccentric anomaly computation'\n",
    "                               'not converged.')\n",
    "        \n",
    "    # Compute true anomaly from eccentric anomaly\n",
    "    return 2. * np.arctan2(np.sqrt(1. + ecc) * np.sin(ea/2.),\n",
    "                           np.sqrt(1. - ecc) * np.cos(ea/2.))\n",
    "\n",
    "# Maen Anomaly calculation\n",
    "def meananomaly(t, T0, P):\n",
    "    \"\"\" Calculate mean Anomaly using period, tau and a time value\"\"\"\n",
    "    if not isinstance(t, np.ndarray):\n",
    "        t = np.array(t)\n",
    "    return 2 * np.pi * (t - T0) / P\n",
    "\n",
    "def radialvelocity(gamma, K, ta, omega, ecc):\n",
    "    # Calculate radial velocity of star\n",
    "    return gamma + K *(np.cos(ta + omega) + ecc * np.cos(omega))\n",
    "\n",
    "def rv_curve_py(t, gamma, K, omega, ecc, T, P):\n",
    "    ma = meananomaly(t, T, P)\n",
    "    ta = trueanomaly(ma, ecc)\n",
    "    rv = radialvelocity(gamma, K, ta, omega, ecc)\n",
    "    return rv\n",
    "    \n",
    "    "
   ]
  },
  {
   "cell_type": "code",
   "execution_count": 3,
   "metadata": {
    "collapsed": false
   },
   "outputs": [
    {
     "name": "stdout",
     "output_type": "stream",
     "text": [
      "14.6\n",
      "14.399999999999999\n",
      "24.0\n"
     ]
    }
   ],
   "source": [
    "#turn 1997.04 +- 0.02 into julian days\n",
    "print(0.04 * 365)\n",
    "print(.6*24)\n",
    "print(.4*60)\n",
    "# Julian date for CE  1997 January 14 14:24:00.0 UT is\n",
    "# JD 2450463.100000"
   ]
  },
  {
   "cell_type": "code",
   "execution_count": 4,
   "metadata": {
    "collapsed": false
   },
   "outputs": [],
   "source": [
    "\n",
    "#Target parameters:  Obtained from sahlmann et al.\n",
    "#                 [mean_val, K1, omega, e, Tau, Period]\n",
    "\n",
    "#HD4747_params   = [9.904, 703.3, -94.2, 0.723, 62059.1, 11593.2] # Best fit solution from sahlmann not complete period coverage\n",
    "#Crepp 2016 updated HD4747 parameters  t = 1997.04\n",
    "\n",
    "HD4747_params   = [-0.219, 755.3, -69.1, 0.740, 50463.10, 37.88*365.25] \n",
    "HD162020_params = [-27.328, 1813, 28.40, 0.277, 51990.677, 8.428198]  # here mean val in km/s K in m/s https://arxiv.org/pdf/astro-ph/0202458v2.pdf\n",
    "HD167665_params = [8.003, 609.5, -134.3 ,0.340, 56987.6, 4451.8]  # sahlman\n",
    "HD211847_params = [6.689, 291.4, 159.2, 0.685, 62030.1, 7929.4]  # Best fit solution from sahlmann not complete period coverage\n",
    "HD30501_params =  [23.710, 1703.1, 70.4, 0.741, 53851.5, 2073.6]  # sahlman\n",
    "\n",
    "\n",
    "# 2 companions\n",
    "# One of these used 3 body equations - need to compare relative strengths\n",
    "HD168443b_params = [-0.046533, 475.133, 172.923, 0.52883, 15626.199, 58.1125] #  % msini = 7.659Mjp, a=0.2931AU, dv/dt (ms−1 yr−1) −0.00868\n",
    "HD168443c_params = [-0.046533, 297.70, 64.87, 0.2113, 15521.3, 1749.83] \n",
    "#singal companion- old model\n",
    "#HD202206_params = [14.681, 564.8, 160.32, 0.429, 51919.02, 256.003] #drift of 42.9 ms per year!    # here mean val in km/s K in m/s\n",
    "HD202206b_params = [14.721, 564.75, 161.18, 0.435, 52250.00, 255.87] #\\citet{Correia2005_hd202206bc}\\\\  % \\lambda = 266.228 deg (mean longitude)\n",
    "HD202206c_params = [14.721, 42.01, 78.9, 0.267, 52250.00, 1383.4] # \\citet{Correia2005_hd202206bc}\\\\ % \\lambda = 30.586 deg (mean longitude)\n",
    "\n",
    "\n",
    "#Median times \n",
    "# extremeties are +- 14 minutes\n",
    "HD30501_times =  [2456024.505902, 2456140.88716, 2456141.86633, 2456145.904258]  # from data - need to double check with calculated data centers\n",
    "HD162020_times = [2456112.76624, 2456112.79015]\n",
    "HD202206_times = [ 2456120.78801, 2456121.73727, 2456119.85411]   \n",
    "HD211847_times = [0, 2456121.78793]   # Need to find out the first value here. \n",
    "HD4747_times =   [2456114.81674]\n",
    "HD167665_times = [2456136.70895, 2456136.73434, 2456144.62087] \n",
    "HD168443_times = [2456144.68718, 2456144.70753]\n",
    "params_dict = {\"HD30501\":HD30501_params, \"HD211847\":HD211847_params, \\\n",
    "               \"HD4747\":HD4747_params, \"HD167665\":HD167665_params, \\\n",
    "               \"HD162020\":HD162020_params, \\\n",
    "               \"HD202206b\":HD202206b_params,\"HD202206c\":HD202206c_params, \\\n",
    "               \"HD168443b\":HD168443b_params,\"HD168443c\":HD168443c_params}\n",
    "               # \"HD202206\":HD202206_params,\n",
    "    \n",
    "times_dict = {\"HD30501\":HD30501_times, \"HD162020\":HD162020_times, \\\n",
    "              \"HD202206\":HD202206_times, \"HD211847\":HD211847_times, \\\n",
    "              \"HD4747\":HD4747_times, \"HD167665\":HD167665_times, \\\n",
    "             \"HD168443\":HD168443_times}\n"
   ]
  },
  {
   "cell_type": "markdown",
   "metadata": {},
   "source": [
    "# Keplerian Orbital Parameters:"
   ]
  },
  {
   "cell_type": "code",
   "execution_count": 13,
   "metadata": {
    "collapsed": false
   },
   "outputs": [],
   "source": [
    "def RV_from_params(t, params, use_offset=True):\n",
    "    \"\"\" Get RV values with parameter list.\n",
    "    \n",
    "    input:\n",
    "        t -- The time/s at which to calculate the RV value\n",
    "        params -- a list of values [mean_val, K1, omega, e, Tau, Period]\n",
    "    \n",
    "    omega should be given in degrees. This function converts it to radians.\n",
    "    \n",
    "    Outputs:\n",
    "        RVs -- The radial velocity values evaluated at the given times.\n",
    "    \n",
    "    \"\"\"\n",
    "    if not isinstance(t, np.ndarray):\n",
    "        t = np.array(t)\n",
    "        \n",
    "    params = params[:]\n",
    "    params[2] = np.deg2rad(params[2])\n",
    "    \n",
    "    if not use_offset:\n",
    "        params[0] = 0\n",
    "    else:\n",
    "        params[0] = params[0] * 1000 # Turn into m/s\n",
    "    #print(params)\n",
    "    # Note: test that is np.deg2rad is faster than *np.pi /180\n",
    "    try: # Try rv_curve first\n",
    "        #import ajplanet\n",
    "        RVs = pl_rv_array(t, *params) # *unpacks parameters from list\n",
    "        #print(\"used ajplanet\")\n",
    "    except:\n",
    "        RVs = rv_curve_py(t, *params) # *unpacks parameters from list\n",
    "        #print(\"used python\")\n",
    "    return RVs\n",
    "\n",
    "\n",
    "def plot_RV_phase_curve(params, name=False, t_vals=False, use_offset=False):\n",
    "    \"\"\"Plot RV phase curve use period and T0 to get times from phase.\n",
    "    \n",
    "    params -- a list of values [mean_val, K1, omega, e, Tau, Period]\"\"\"\n",
    "    \n",
    "    phase = np.linspace(-0.1,1.1, 200)\n",
    "    t = params[4] + phase*params[5]\n",
    "    \n",
    "    rv_values = RV_from_params(t, params)\n",
    "    \n",
    "    plt.figure()\n",
    "    plt.plot(phase, rv_values)\n",
    "    if name:\n",
    "        plt.title(\"RV Phase curve for {}\".format(name))\n",
    "    else:\n",
    "        plt.title(\"RV Phase curve\")\n",
    "    if t_vals:\n",
    "        for t_num, t_val in enumerate(t_vals):\n",
    "            phi = (t_val - params[4])/params[5]  % 1\n",
    "            rv = RV_from_params(t_val, params)\n",
    "            plt.plot(phi, rv, \"+\",label = \"Obs #{0}\".format(t_num), markersize=16, markeredgewidth=3)\n",
    "            plt.legend(loc=0)\n",
    "    plt.xlabel(\"Phase\")\n",
    "    plt.ylabel(\"RV amplitude (m/s)\")\n",
    "    plt.show()\n",
    "\n",
    "    \n",
    "def test_rv_curves(t, params):\n",
    "    \n",
    "    if not isinstance(t, np.ndarray):\n",
    "        t = np.array(t)\n",
    "    else:\n",
    "        pass\n",
    "    params = params[:]\n",
    "    params[2] = np.deg2rad(params[2])\n",
    "    params[0] = 0\n",
    "\n",
    "    aj_rv = pl_rv_array(t, *params) # *unpacks parameters from list\n",
    "    \n",
    "    py_rv = rv_curve_py(t, *params)\n",
    "    \n",
    "    print(\"Ajplanet RVs = {}\".format(aj_rv))\n",
    "    print(\"Python RVs   = {}\".format(py_rv))\n",
    "    return None\n",
    "\n",
    "\n",
    "def Obs_RV_error(t, params, name=False ):\n",
    "    \n",
    "    obs_time_sigma = 14/(60*24)  # +-14min\n",
    "    \n",
    "    if not isinstance(t, np.ndarray):\n",
    "        t = np.array(t)\n",
    "    \n",
    "    t_start = t - obs_time_sigma\n",
    "    t_end =  t + obs_time_sigma\n",
    "    \n",
    "    RV_start = RV_from_params(t_start, params, use_offset=False)\n",
    "    RV_end = RV_from_params(t_end, params, use_offset=False)\n",
    "    \n",
    "    RV_difference = RV_end - RV_start \n",
    "    \n",
    "    #if name:\n",
    "        #print(\"RV change over observation for {} m/s\".format(RV_difference))\n",
    "    return RV_difference\n",
    "\n",
    "def RV_calculations(times, params, use_offset=False):\n",
    "    \n",
    "    for target in times:\n",
    "        print(\"\\nTarget {}\".format(target))\n",
    "        time = times[target]\n",
    "       \n",
    "        \n",
    "        if target in [\"HD202206\", \"HD168443\"]:\n",
    "            targetb = target + \"b\" \n",
    "            targetc = target + \"c\"\n",
    "            paramb = params[targetb]\n",
    "            paramc = params[targetc]\n",
    "            \n",
    "            rv_values = RV_from_params(time, paramb, use_offset=use_offset)\n",
    "            rv_values_c = RV_from_params(time, paramc, use_offset=use_offset)\n",
    "            rv_diff_b = Obs_RV_error(time, paramb, name=targetb)\n",
    "            rv_diff_c = Obs_RV_error(time, paramc, name=targetc)\n",
    "            print(\"Gamma subtracted RV values for b = {0} m/s\".format(rv_values))\n",
    "            print(\"RV change over exptime for b     = {0} m/s\".format(rv_diff_b))\n",
    "            print(\"Gamma subtracted RV values for c = {0} m/s\".format(rv_values_c))\n",
    "            print(\"RV change over exptime for c     = {0} m/s\".format(rv_diff_c))\n",
    "            print(\"Combined RV value for triplet    = {0} m/s\".format(rv_values + rv_values_c))\n",
    "            print(\"Combined RV Diff between Obs     = {0} m/s\".format(np.diff(rv_values + rv_values_c)))\n",
    "            plot_RV_phase_curve(paramb, name=targetb, t_vals=time, use_offset=False)\n",
    "            plot_RV_phase_curve(paramc, name=targetc, t_vals=time, use_offset=False)\n",
    "            \n",
    "        else:\n",
    "            param = params[target]   \n",
    "                                \n",
    "            rv_values = RV_from_params(time, param, use_offset=use_offset)\n",
    "            rv_diff = Obs_RV_error(time, param, name=target)\n",
    "            \n",
    "            print(\"Gamma subtracted rv values = {0} m/s\".format(rv_values))\n",
    "            print(\"RV change over exptime     = {0} m/s\".format(rv_diff))\n",
    "            print(\"RV Diff between Obs        = {0} m/s\".format(np.diff(rv_values)))\n",
    "            \n",
    "            low_doppler, high_doppler = band_doppler_shifts(np.diff(rv_values))\n",
    "            print(\"lower wl shifts\", low_doppler)\n",
    "            print(\"upper wls shifts\", high_doppler)\n",
    "            plot_RV_phase_curve(param, name=target, t_vals=time, use_offset=False)\n",
    "            \n",
    "            \n",
    "    return None\n",
    "\n",
    "def band_doppler_shifts(RVs):\n",
    "    \"\"\" Calculate wavelenght shift at start and end of observation wavelenght range\n",
    "    \n",
    "    To find expected waveleght shifts to look for.\"\"\"\n",
    "    \n",
    "    lower_org_wl = 2121.056  #nm\n",
    "    upper_org_wl = 2160.205  #nm\n",
    "    #middle_wl = (lower_wl + upper_wl)/2.0\n",
    "    #wavelengths = np.array([lower_wl, middle_wl,upper_wl])\n",
    "    wavelengths = np.array([lower_org_wl, upper_org_wl])\n",
    "    upper_wls = np.empty_like(wavelengths)\n",
    "    lower_wls = np.empty_like(wavelengths)\n",
    "    \n",
    "    for i, rv in enumerate(RVs):\n",
    "        rv /= 1000  # turn into km/s\n",
    "        __ , new_wls = pyasl.dopplerShift(wavelengths, np.ones_like(wavelengths), rv, edgeHandling=\"firstlast\")\n",
    "        \n",
    "        #result_wls.append(new_wls - wavelengths)\n",
    "        lower_wls[i] = new_wls[0] \n",
    "        upper_wls[i] = new_wls[1]\n",
    "    lower_shifts, upper_shifts = lower_wls - lower_org_wl, upper_wls-upper_org_wl\n",
    "    return lower_shifts, upper_shifts"
   ]
  },
  {
   "cell_type": "code",
   "execution_count": 14,
   "metadata": {
    "collapsed": false
   },
   "outputs": [
    {
     "name": "stdout",
     "output_type": "stream",
     "text": [
      "\n",
      "Target HD211847\n",
      "Gamma subtracted rv values = [-37.78938112  -6.34781552] m/s\n",
      "RV change over exptime     = [ 0.00214781 -0.00576619] m/s\n",
      "RV Diff between Obs        = [ 31.4415656] m/s\n",
      "lower wl shifts [  2.22451632e-04  -2.12740670e+03]\n",
      "upper wls shifts [  2.26557491e-04  -2.16020500e+03]\n"
     ]
    },
    {
     "data": {
      "image/png": "[encoded data removed]",
      "text/plain": [
       "<matplotlib.figure.Figure at 0xa49c5c0>"
      ]
     },
     "metadata": {},
     "output_type": "display_data"
    },
    {
     "name": "stdout",
     "output_type": "stream",
     "text": [
      "\n",
      "Target HD30501\n",
      "Gamma subtracted rv values = [-246.88768364 -122.27137959 -121.21000561 -116.82986697] m/s\n",
      "RV change over exptime     = [ 0.02066453  0.02107387  0.02107985  0.02110496] m/s\n",
      "RV Diff between Obs        = [ 124.61630405    1.06137397    4.38013865] m/s\n"
     ]
    },
    {
     "ename": "IndexError",
     "evalue": "index 2 is out of bounds for axis 0 with size 2",
     "output_type": "error",
     "traceback": [
      "\u001b[1;31m---------------------------------------------------------------------------\u001b[0m",
      "\u001b[1;31mIndexError\u001b[0m                                Traceback (most recent call last)",
      "\u001b[1;32m<ipython-input-14-1584fa96f930>\u001b[0m in \u001b[0;36m<module>\u001b[1;34m()\u001b[0m\n\u001b[1;32m----> 1\u001b[1;33m \u001b[0mRV_calculations\u001b[0m\u001b[1;33m(\u001b[0m\u001b[0mtimes_dict\u001b[0m\u001b[1;33m,\u001b[0m \u001b[0mparams_dict\u001b[0m\u001b[1;33m)\u001b[0m\u001b[1;33m\u001b[0m\u001b[0m\n\u001b[0m",
      "\u001b[1;32m<ipython-input-13-52403a1c58b3>\u001b[0m in \u001b[0;36mRV_calculations\u001b[1;34m(times, params, use_offset)\u001b[0m\n\u001b[0;32m    135\u001b[0m             \u001b[0mprint\u001b[0m\u001b[1;33m(\u001b[0m\u001b[1;34m\"RV Diff between Obs        = {0} m/s\"\u001b[0m\u001b[1;33m.\u001b[0m\u001b[0mformat\u001b[0m\u001b[1;33m(\u001b[0m\u001b[0mnp\u001b[0m\u001b[1;33m.\u001b[0m\u001b[0mdiff\u001b[0m\u001b[1;33m(\u001b[0m\u001b[0mrv_values\u001b[0m\u001b[1;33m)\u001b[0m\u001b[1;33m)\u001b[0m\u001b[1;33m)\u001b[0m\u001b[1;33m\u001b[0m\u001b[0m\n\u001b[0;32m    136\u001b[0m \u001b[1;33m\u001b[0m\u001b[0m\n\u001b[1;32m--> 137\u001b[1;33m             \u001b[0mlow_doppler\u001b[0m\u001b[1;33m,\u001b[0m \u001b[0mhigh_doppler\u001b[0m \u001b[1;33m=\u001b[0m \u001b[0mband_doppler_shifts\u001b[0m\u001b[1;33m(\u001b[0m\u001b[0mnp\u001b[0m\u001b[1;33m.\u001b[0m\u001b[0mdiff\u001b[0m\u001b[1;33m(\u001b[0m\u001b[0mrv_values\u001b[0m\u001b[1;33m)\u001b[0m\u001b[1;33m)\u001b[0m\u001b[1;33m\u001b[0m\u001b[0m\n\u001b[0m\u001b[0;32m    138\u001b[0m             \u001b[0mprint\u001b[0m\u001b[1;33m(\u001b[0m\u001b[1;34m\"lower wl shifts\"\u001b[0m\u001b[1;33m,\u001b[0m \u001b[0mlow_doppler\u001b[0m\u001b[1;33m)\u001b[0m\u001b[1;33m\u001b[0m\u001b[0m\n\u001b[0;32m    139\u001b[0m             \u001b[0mprint\u001b[0m\u001b[1;33m(\u001b[0m\u001b[1;34m\"upper wls shifts\"\u001b[0m\u001b[1;33m,\u001b[0m \u001b[0mhigh_doppler\u001b[0m\u001b[1;33m)\u001b[0m\u001b[1;33m\u001b[0m\u001b[0m\n",
      "\u001b[1;32m<ipython-input-13-52403a1c58b3>\u001b[0m in \u001b[0;36mband_doppler_shifts\u001b[1;34m(RVs)\u001b[0m\n\u001b[0;32m    161\u001b[0m \u001b[1;33m\u001b[0m\u001b[0m\n\u001b[0;32m    162\u001b[0m         \u001b[1;31m#result_wls.append(new_wls - wavelengths)\u001b[0m\u001b[1;33m\u001b[0m\u001b[1;33m\u001b[0m\u001b[0m\n\u001b[1;32m--> 163\u001b[1;33m         \u001b[0mlower_wls\u001b[0m\u001b[1;33m[\u001b[0m\u001b[0mi\u001b[0m\u001b[1;33m]\u001b[0m \u001b[1;33m=\u001b[0m \u001b[0mnew_wls\u001b[0m\u001b[1;33m[\u001b[0m\u001b[1;36m0\u001b[0m\u001b[1;33m]\u001b[0m\u001b[1;33m\u001b[0m\u001b[0m\n\u001b[0m\u001b[0;32m    164\u001b[0m         \u001b[0mupper_wls\u001b[0m\u001b[1;33m[\u001b[0m\u001b[0mi\u001b[0m\u001b[1;33m]\u001b[0m \u001b[1;33m=\u001b[0m \u001b[0mnew_wls\u001b[0m\u001b[1;33m[\u001b[0m\u001b[1;36m1\u001b[0m\u001b[1;33m]\u001b[0m\u001b[1;33m\u001b[0m\u001b[0m\n\u001b[0;32m    165\u001b[0m     \u001b[0mlower_shifts\u001b[0m\u001b[1;33m,\u001b[0m \u001b[0mupper_shifts\u001b[0m \u001b[1;33m=\u001b[0m \u001b[0mlower_wls\u001b[0m \u001b[1;33m-\u001b[0m \u001b[0mlower_org_wl\u001b[0m\u001b[1;33m,\u001b[0m \u001b[0mupper_wls\u001b[0m\u001b[1;33m-\u001b[0m\u001b[0mupper_org_wl\u001b[0m\u001b[1;33m\u001b[0m\u001b[0m\n",
      "\u001b[1;31mIndexError\u001b[0m: index 2 is out of bounds for axis 0 with size 2"
     ]
    }
   ],
   "source": [
    "RV_calculations(times_dict, params_dict)"
   ]
  },
  {
   "cell_type": "code",
   "execution_count": null,
   "metadata": {
    "collapsed": false
   },
   "outputs": [],
   "source": [
    "RV_HD30501 = RV_from_params(HD30501_times, HD30501_params, use_offset=False)\n",
    "print(HD30501_times)\n",
    "print(RV_HD30501)\n",
    "\n"
   ]
  },
  {
   "cell_type": "code",
   "execution_count": null,
   "metadata": {
    "collapsed": false
   },
   "outputs": [],
   "source": [
    "RV_HD4747 = RV_from_params(HD4747_times, HD4747_params, use_offset=False)\n",
    "print(np.array(HD4747_times) - 2440000)\n",
    "print(RV_HD4747)\n",
    "\n",
    "plot_RV_phase_curve(HD4747_params, t_vals=HD4747_times, name=\"HD4747\")\n"
   ]
  },
  {
   "cell_type": "code",
   "execution_count": null,
   "metadata": {
    "collapsed": false
   },
   "outputs": [],
   "source": []
  },
  {
   "cell_type": "code",
   "execution_count": null,
   "metadata": {
    "collapsed": false
   },
   "outputs": [],
   "source": [
    "plot_RV_phase_curve(HD202206b_params, t_vals=HD202206_times, use_offset=False, name=\"HD202206b\")\n",
    "plot_RV_phase_curve(HD202206c_params, t_vals=HD202206_times, use_offset=False, name=\"HD202206c\")"
   ]
  },
  {
   "cell_type": "code",
   "execution_count": null,
   "metadata": {
    "collapsed": false
   },
   "outputs": [],
   "source": [
    "plot_RV_phase_curve(HD211847_params, t_vals=HD211847_times, use_offset=False, name=\"HD211847\")"
   ]
  },
  {
   "cell_type": "code",
   "execution_count": null,
   "metadata": {
    "collapsed": false
   },
   "outputs": [],
   "source": [
    "plot_RV_phase_curve(HD162020_params, t_vals=HD162020_times, use_offset=False, name=\"HD162020\")"
   ]
  },
  {
   "cell_type": "markdown",
   "metadata": {},
   "source": [
    "## Testing Functions"
   ]
  },
  {
   "cell_type": "code",
   "execution_count": null,
   "metadata": {
    "collapsed": false
   },
   "outputs": [],
   "source": [
    "test_rv_curves(HD30501_times, HD30501_params)\n",
    "test_rv_curves(HD162020_times, HD162020_params)\n",
    "test_rv_curves(HD202206_times, HD202206b_params)\n",
    "test_rv_curves(HD202206_times, HD202206c_params)\n",
    "test_rv_curves(HD211847_times, HD211847_params)\n",
    "test_rv_curves(HD4747_times, HD4747_params)\n",
    "test_rv_curves(HD167665_times, HD167665_params)\n",
    "test_rv_curves(HD168443_times, HD168443b_params)\n",
    "test_rv_curves(HD168443_times, HD168443c_params)\n"
   ]
  },
  {
   "cell_type": "code",
   "execution_count": null,
   "metadata": {
    "collapsed": false
   },
   "outputs": [],
   "source": [
    "%timeit aj_rv = pl_rv_array(HD30501_times, *HD30501_params) # *unpacks parameters from list\n",
    "    \n",
    "%timeit py_rv = rv_curve_py(HD30501_times, *HD30501_params) # ajplanet version is 15 X faster "
   ]
  },
  {
   "cell_type": "code",
   "execution_count": null,
   "metadata": {
    "collapsed": true
   },
   "outputs": [],
   "source": []
  },
  {
   "cell_type": "code",
   "execution_count": null,
   "metadata": {
    "collapsed": false
   },
   "outputs": [],
   "source": [
    "# Radial Velocity cahnges over observation \n",
    "\n",
    "\n",
    "__ = Obs_RV_error(HD30501_times, HD30501_params, name=\"HD30501\")\n",
    "__ = Obs_RV_error(HD162020_times, HD162020_params, name=\"HD162020\")\n",
    "\n"
   ]
  },
  {
   "cell_type": "code",
   "execution_count": null,
   "metadata": {
    "collapsed": false
   },
   "outputs": [],
   "source": [
    "# Test RV determination \n",
    "\n",
    "# Get parameters for star and taget\n",
    "Red_JD = 2400000\n",
    "#hd30501\n",
    "mean_val = 23.710 # +- 0.017\n",
    "Period = 2073.6   # +3 - 2.9 days\n",
    "e = 0.741         # +_ 0.04\n",
    "K1 = 1703.1       #+- 26  ms^-1\n",
    "Tau = 53851.5      # +- 3 JD    Note: I think this is tau but I am not sure. \n",
    "omega = 70.4 * np.pi/180     # +- 0.7 deg\n",
    "\n",
    "for ti in np.array([2456024.505902, 2456140.887153, 2456141.866329, 2456145.904258]) - Red_JD:\n",
    "   # Calculate Mean anomaly:\n",
    "   M_anomaly = meananomaly(ti, Tau, Period)\n",
    "   #print(\"Mean Anomaly = {}\".format(M_anomaly))\n",
    "\n",
    "   # Determine true anomaly from mean anomaly\n",
    "   true_anomaly = trueanomaly(M_anomaly, e)\n",
    "   #print(\"Daiz true anomaly = {0}\".format(true_anomaly))\n",
    "   #nu goes into RV equations\n",
    "\n",
    "   # Now Calculalte the RV\n",
    "   RV = mean_val + K1 *(np.cos(true_anomaly + omega) + e * np.cos(omega))\n",
    "\n",
    "   print(\"RV value {0} ms^-1 at time {1} JD*\".format( RV ,  ti ))"
   ]
  },
  {
   "cell_type": "code",
   "execution_count": null,
   "metadata": {
    "collapsed": false
   },
   "outputs": [],
   "source": []
  },
  {
   "cell_type": "code",
   "execution_count": null,
   "metadata": {
    "collapsed": true
   },
   "outputs": [],
   "source": []
  },
  {
   "cell_type": "code",
   "execution_count": null,
   "metadata": {
    "collapsed": false
   },
   "outputs": [],
   "source": []
  },
  {
   "cell_type": "markdown",
   "metadata": {
    "collapsed": false
   },
   "source": [
    "\n",
    "\n",
    "\n"
   ]
  },
  {
   "cell_type": "code",
   "execution_count": null,
   "metadata": {
    "collapsed": true
   },
   "outputs": [],
   "source": []
  },
  {
   "cell_type": "code",
   "execution_count": null,
   "metadata": {
    "collapsed": true
   },
   "outputs": [],
   "source": []
  },
  {
   "cell_type": "code",
   "execution_count": null,
   "metadata": {
    "collapsed": true
   },
   "outputs": [],
   "source": []
  },
  {
   "cell_type": "code",
   "execution_count": null,
   "metadata": {
    "collapsed": false
   },
   "outputs": [],
   "source": []
  },
  {
   "cell_type": "code",
   "execution_count": null,
   "metadata": {
    "collapsed": false
   },
   "outputs": [],
   "source": [
    "\n",
    "times = np.linspace(Tau, Tau+Period, 1000)\n",
    "\n",
    "M_anomalies = Mean_Anomaly(times, Tau, Period)\n",
    "\n"
   ]
  },
  {
   "cell_type": "code",
   "execution_count": null,
   "metadata": {
    "collapsed": false
   },
   "outputs": [],
   "source": [
    "\n",
    "plt.plot(M_tests-M_anomalies)\n",
    "plt.title(\"Differences between M_tests and M_anomalies\")\n",
    "plt.show()\n",
    "#print(lmfit.report_fit(out))\n",
    "\n",
    "T_anomalies = True_Anomaly(E_anomalies, e)\n",
    "T_anomalies2 = True_Anomaly2(E_anomalies, e)\n",
    "T_anomalies3 = True_Anomaly3(E_anomalies, e)\n",
    "T_anomalies4 = True_Anomaly4(E_anomalies, e)\n",
    "\n",
    "rod_true = trueanomaly(M_anomalies, e)\n",
    "print(\"done\")"
   ]
  },
  {
   "cell_type": "code",
   "execution_count": null,
   "metadata": {
    "collapsed": false
   },
   "outputs": [],
   "source": [
    "#print(T_anomalies)\n",
    "#print(T_anomalies2)\n",
    "#print(T_anomalies3)\n",
    "#plt.plot(times, T_anomalies, label=\"1\")\n",
    "#plt.plot(times, T_anomalies2, label=\"2\")\n",
    "#plt.show()"
   ]
  },
  {
   "cell_type": "code",
   "execution_count": null,
   "metadata": {
    "collapsed": false
   },
   "outputs": [],
   "source": [
    "RVs_1 = Radial_velocity(mean_val, K1, T_anomalies, omega, e)\n",
    "RVs_2 = Radial_velocity(mean_val, K1, T_anomalies2, omega, e)\n",
    "RVs_3 = Radial_velocity(mean_val, K1, T_anomalies3, omega, e)\n",
    "RVs_4 = Radial_velocity(mean_val, K1, T_anomalies4, omega, e)\n",
    "RVs_true = Radial_velocity(mean_val, K1, rod_true, omega, e)"
   ]
  },
  {
   "cell_type": "code",
   "execution_count": null,
   "metadata": {
    "collapsed": false
   },
   "outputs": [],
   "source": [
    "# Test ajplanet comparision\n",
    "\n",
    "#mean_val, K1, T_anomalies4, omega, e\n",
    "#ajplanet_rvs = rv_curve(t, gamma,K,omega,ecc,to,P)\n",
    "ajplanet_rvs = rv_curve(times, mean_val, K1, omega, e, Tau, Period)\n",
    "\n",
    "print(rv_curve(HD30501_times, mean_val, K1, omega, e, Tau, Period))"
   ]
  },
  {
   "cell_type": "code",
   "execution_count": null,
   "metadata": {
    "collapsed": false
   },
   "outputs": [],
   "source": [
    "plt.plot((times-Tau) / Period, RVs_1, label=\"1\")\n",
    "plt.plot((times-Tau) / Period, RVs_2,'+', label=\"2\")\n",
    "plt.plot((times-Tau) / Period, RVs_3, 'o', label=\"3\")\n",
    "plt.plot((times-Tau) / Period, RVs_4, \"--\", label=\"4\")\n",
    "plt.plot((times-Tau) / Period, RVs_true, \"--\", label=\"4\")\n",
    "#plt.plot((times-Tau) / Period, ajplanet_rvs, \"k*\", label=\"ajplanet\")\n",
    "plt.title(\"Radial Velocities\")\n",
    "plt.legend(loc=0)\n",
    "plt.show()"
   ]
  },
  {
   "cell_type": "code",
   "execution_count": null,
   "metadata": {
    "collapsed": true
   },
   "outputs": [],
   "source": [
    "#plt.plot(T_anomalies, RVs_1)\n",
    "#plt.plot(T_anomalies2, RVs_2)\n",
    "#plt.show()"
   ]
  },
  {
   "cell_type": "code",
   "execution_count": null,
   "metadata": {
    "collapsed": true
   },
   "outputs": [],
   "source": [
    "\n",
    "# My Values are not good atm when compaing to rvcurve. "
   ]
  },
  {
   "cell_type": "code",
   "execution_count": null,
   "metadata": {
    "collapsed": false
   },
   "outputs": [],
   "source": []
  },
  {
   "cell_type": "code",
   "execution_count": null,
   "metadata": {
    "collapsed": true
   },
   "outputs": [],
   "source": [
    "# Try thre true anomaly given by the lecuture on facebook."
   ]
  },
  {
   "cell_type": "code",
   "execution_count": null,
   "metadata": {
    "collapsed": true
   },
   "outputs": [],
   "source": []
  },
  {
   "cell_type": "code",
   "execution_count": null,
   "metadata": {
    "collapsed": true
   },
   "outputs": [],
   "source": [
    "## Old code to caluclate true anomaly from mean anomaly\n",
    "\n",
    "\n",
    "\n"
   ]
  },
  {
   "cell_type": "code",
   "execution_count": null,
   "metadata": {
    "collapsed": true
   },
   "outputs": [],
   "source": []
  }
 ],
 "metadata": {
  "kernelspec": {
   "display_name": "Python 3",
   "language": "python",
   "name": "python3"
  },
  "language_info": {
   "codemirror_mode": {
    "name": "ipython",
    "version": 3
   },
   "file_extension": ".py",
   "mimetype": "text/x-python",
   "name": "python",
   "nbconvert_exporter": "python",
   "pygments_lexer": "ipython3",
   "version": "3.4.4"
  }
 },
 "nbformat": 4,
 "nbformat_minor": 0
}

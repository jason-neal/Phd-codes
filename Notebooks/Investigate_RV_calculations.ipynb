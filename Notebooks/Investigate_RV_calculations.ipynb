{
 "cells": [
  {
   "cell_type": "markdown",
   "metadata": {},
   "source": [
    "# RV calculation at specific times.\n",
    "\n",
    "To determine the RV of the planets expected in my atmospheres"
   ]
  },
  {
   "cell_type": "code",
   "execution_count": null,
   "metadata": {
    "collapsed": false
   },
   "outputs": [],
   "source": [
    "from __future__ import division, print_function\n",
    "import numpy as np\n",
    "import matplotlib.pyplot as plt\n",
    "\n",
    "import sys\n",
    "#sys.path.append('/home/jneal/azores/planet/rvs/exonailer/utilities')\n",
    "\n",
    "%pylab inline"
   ]
  },
  {
   "cell_type": "code",
   "execution_count": null,
   "metadata": {
    "collapsed": true
   },
   "outputs": [],
   "source": [
    "#Rodrigo Diaz's true anomaly calculation\n",
    "\n",
    "import numpy as np\n",
    "\n",
    "def trueanomaly(ma, ecc, niterationmax=10000):\n",
    "    \"\"\"\n",
    "    Compute the true anomaly using the Newton-Raphson method.\n",
    "\n",
    "    :param array-like ma: mean anomaly.\n",
    "    :param float ecc: orbital eccentricity.\n",
    "    :param int niterationmax: maximum number of iterations for N-R method.\n",
    "    \"\"\"\n",
    "    \n",
    "    if not isinstance(ma, float):\n",
    "        ea = ma\n",
    "    else:\n",
    "        ea = np.array([ma,])\n",
    "\n",
    "    # Initialise at ea0 = ma\n",
    "    niteration = 0\n",
    "    ea0 = ma\n",
    "    \n",
    "    while np.linalg.norm(ea - ea0, ord=1) > 1e-5 or niteration==0:\n",
    "        ea0 = ea\n",
    " \n",
    "        ff = ea - ecc*np.sin(ea) - ma   # Function\n",
    "        dff = 1 - ecc*np.cos(ea)        # Derivative\n",
    "\n",
    "        # Use Newton method\n",
    "        ea = ea0 - ff / dff\n",
    "\n",
    "        # Increase iteration number; if above limit, break with exception.\n",
    "        niteration += 1\n",
    "        if niteration >= niterationmax:\n",
    "            raise RuntimeError('Eccentric anomaly computation'\n",
    "                               'not converged.')\n",
    "        \n",
    "    # Compute true anomaly from eccentric anomaly\n",
    "    return 2. * np.arctan2(np.sqrt(1. + ecc) * np.sin(ea/2.),\n",
    "                           np.sqrt(1. - ecc) * np.cos(ea/2.))\n",
    "\n",
    "# Maen Anomaly calculation\n",
    "def meananomaly(t, T0, P):\n",
    "    \"\"\" Calculate mean Anomaly using period, tau and a time value\"\"\"\n",
    "    return 2 * np.pi * (t - T0) / P\n",
    "\n",
    "def radialvelocity(gamma, K, ta, omega, ecc):\n",
    "    # Calculate radial velocity of star\n",
    "    return gamma + K *(np.cos(ta + omega) + ecc * np.cos(omega))\n",
    "\n",
    "def rv_curve_py(t, gamma, K, omega, ecc, T, P):\n",
    "    ma = meananomaly(t, T, P)\n",
    "    ta = trueanomaly(ma, ecc)\n",
    "    rv = radialvelocity(gamma, K, ta, omega, ecc)\n",
    "    return rv\n",
    "    \n",
    "    "
   ]
  },
  {
   "cell_type": "code",
   "execution_count": null,
   "metadata": {
    "collapsed": false
   },
   "outputs": [],
   "source": [
    "#turn 1997.04 +- 0.02 into julian days\n",
    "print(0.04 * 365)\n",
    "print(.6*24)\n",
    "print(.4*60)\n",
    "# Julian date for CE  1997 January 14 14:24:00.0 UT is\n",
    "# JD 2450463.100000"
   ]
  },
  {
   "cell_type": "markdown",
   "metadata": {},
   "source": [
    "# Keplerian Orbital Parameters:"
   ]
  },
  {
   "cell_type": "code",
   "execution_count": null,
   "metadata": {
    "collapsed": false
   },
   "outputs": [],
   "source": [
    "\n",
    "\n",
    "#Target parameters:  Obtained from sahlmann et al.\n",
    "#                 [mean_val, K1, omega, e, Tau, Period]\n",
    "\n",
    "#HD4747_params   = [9.904, 703.3, -94.2, 0.723, 62059.1, 11593.2] # Best fit solution from sahlmann not complete period coverage\n",
    "#Crepp 2016 updated HD4747 parameters  t = 1997.04\n",
    "\n",
    "HD4747_params   = [-0.219, 755.3, -69.1, 0.740, 50463.10, 37.88*365.25] \n",
    "HD162020_params = [-27.328, 1813, 28.40, 0.277, 51990.677, 8.428198]  # here mean val in km/s K in m/s https://arxiv.org/pdf/astro-ph/0202458v2.pdf\n",
    "HD167665_params = [8.003, 609.5, -134.3 ,0.340, 56987.6, 4451.8]  # sahlman\n",
    "HD211847_params = [6.689, 291.4, 159.2, 0.685, 62030.1, 7929.4]  # Best fit solution from sahlmann not complete period coverage\n",
    "HD30501_params =  [23.710, 1703.1, 70.4, 0.741, 53851.5, 2073.6]  # sahlman\n",
    "\n",
    "\n",
    "# 2 companions\n",
    "# One of these used 3 body equations - need to compare relative strengths\n",
    "HD168443b_params = [-0.046533, 475.133, 172.923, 0.52883, 15626.199, 58.1125] #  % msini = 7.659Mjp, a=0.2931AU, dv/dt (ms−1 yr−1) −0.00868\n",
    "HD168443c_params = [-0.046533, 297.70, 64.87, 0.2113, 15521.3, 1749.83] \n",
    "#singal companion- old model\n",
    "#HD202206_params = [14.681, 564.8, 160.32, 0.429, 51919.02, 256.003] #drift of 42.9 ms per year!    # here mean val in km/s K in m/s\n",
    "HD202206b_params = [14.721, 564.75, 161.18, 0.435, 52250.00, 255.87] #\\citet{Correia2005_hd202206bc}\\\\  % \\lambda = 266.228 deg (mean longitude)\n",
    "HD202206c_params = [14.721, 42.01, 78.9, 0.267, 52250.00, 1383.4] # \\citet{Correia2005_hd202206bc}\\\\ % \\lambda = 30.586 deg (mean longitude)\n",
    "\n",
    "\n",
    "#Median times \n",
    "# extremeties are +- 14 minutes\n",
    "HD30501_times =  [2456024.505902, 2456140.88716, 2456141.86633, 2456145.904258]  # from data - need to double check with calculated data centers\n",
    "HD162020_times = [2456112.76624, 2456112.79015]\n",
    "HD202206_times = [ 2456120.78801, 2456121.73727, 2456119.85411]   \n",
    "HD211847_times = [0, 2456121.78793]   # Need to find out the first value here. \n",
    "HD4747_times =   [2456114.81674]\n",
    "HD167665_times = [2456136.70895, 2456136.73434, 2456144.62087] \n",
    "HD168443_times = [2456144.68718, 2456144.70753]\n",
    "params_dict = {\"HD30501\":HD30501_params, \"HD211847\":HD211847_params, \\\n",
    "               \"HD4747\":HD4747_params, \"HD167665\":HD167665_params, \\\n",
    "               \"HD162020\":HD162020_params, \\\n",
    "               \"HD202206b\":HD202206b_params,\"HD202206c\":HD202206c_params, \\\n",
    "               \"HD168443b\":HD168443b_params,\"HD168443c\":HD168443c_params}\n",
    "               # \"HD202206\":HD202206_params,\n",
    "    \n",
    "times_dict = {\"HD30501\":HD30501_times, \"HD162020\":HD162020_times, \\\n",
    "              \"HD202206\":HD202206_times, \"HD211847\":HD211847_times, \\\n",
    "              \"HD4747\":HD4747_times, \"HD167665\":HD167665_times, \\\n",
    "             \"HD168443\":HD168443_times}\n"
   ]
  },
  {
   "cell_type": "code",
   "execution_count": null,
   "metadata": {
    "collapsed": false
   },
   "outputs": [],
   "source": [
    "def RV_from_params(t, params):\n",
    "    \"\"\" Get RV values with parameter list.\n",
    "    \n",
    "    input:\n",
    "        t -- The time/s at which to calculate the RV value\n",
    "        params -- a list of values [mean_val, K1, omega, e, Tau, Period]\n",
    "    \n",
    "    omega should be given in degrees. This function converts it to radians.\n",
    "    \n",
    "    Outputs:\n",
    "        RVs -- The radial velocity values evaluated at the given times.\n",
    "    \n",
    "    \"\"\"\n",
    "    if not isinstance(t, np.ndarray):\n",
    "        t = np.array(t)\n",
    "    else:\n",
    "        pass\n",
    "    params = params[:]\n",
    "    params[0] = params[0] * 1000 # Turn into m/s\n",
    "    params[2] = np.deg2rad(params[2])\n",
    "    #print(params)\n",
    "    # Note: test that is np.deg2rad is faster than *np.pi /180\n",
    "    try: # Try rv_curve first\n",
    "        RVs = rv_curve(t, *params) # *unpacks parameters from list\n",
    "    except:\n",
    "        RVs = rv_curve_py(t, *params) # *unpacks parameters from list\n",
    "    return RVs\n",
    "\n",
    "\n",
    "def plot_RV_phase_curve(params, name=False, t_vals=False):\n",
    "    \"\"\"Plot RV phase curve use period and T0 to get times from phase.\n",
    "    \n",
    "    params -- a list of values [mean_val, K1, omega, e, Tau, Period]\"\"\"\n",
    "    \n",
    "    phase = np.linspace(-0.1,1.1, 200)\n",
    "    t = params[4] + phase*params[5]\n",
    "    \n",
    "    rv_values = RV_from_params(t, params)\n",
    "    \n",
    "    plt.figure()\n",
    "    plt.plot(phase, rv_values)\n",
    "    if name:\n",
    "        plt.title(\"RV Phase curve for {}\".format(name))\n",
    "    else:\n",
    "        plt.title(\"RV Phase curve\")\n",
    "    if t_vals:\n",
    "        for t_num, t_val in enumerate(t_vals):\n",
    "            phi = (t_val - params[4])/params[5]  % 1\n",
    "            rv = RV_from_params(t_val, params)\n",
    "            plt.plot(phi, rv, \"+\",label = \"Obs #{0}\".format(t_num), markersize=16, markeredgewidth=3)\n",
    "            plt.legend(loc=0)\n",
    "    plt.xlabel(\"Phase\")\n",
    "    plt.ylabel(\"RV amplitude (m/s)\")\n",
    "    plt.show()\n"
   ]
  },
  {
   "cell_type": "code",
   "execution_count": null,
   "metadata": {
    "collapsed": false
   },
   "outputs": [],
   "source": [
    "RV_HD30501 = RV_from_params(HD30501_times, HD30501_params)\n",
    "print(HD30501_times)\n",
    "print(RV_HD30501)\n"
   ]
  },
  {
   "cell_type": "code",
   "execution_count": null,
   "metadata": {
    "collapsed": false
   },
   "outputs": [],
   "source": [
    "RV_HD4747 = RV_from_params(HD4747_times, HD4747_params)\n",
    "print(np.array(HD4747_times) - 2440000)\n",
    "print(RV_HD4747)\n",
    "plot_RV_phase_curve(HD4747_params, t_vals=HD4747_times)"
   ]
  },
  {
   "cell_type": "code",
   "execution_count": null,
   "metadata": {
    "collapsed": false
   },
   "outputs": [],
   "source": []
  },
  {
   "cell_type": "code",
   "execution_count": null,
   "metadata": {
    "collapsed": false
   },
   "outputs": [],
   "source": [
    "plot_RV_phase_curve(HD202206b_params, t_vals=HD202206_times)\n",
    "plot_RV_phase_curve(HD202206c_params, t_vals=HD202206_times)"
   ]
  },
  {
   "cell_type": "code",
   "execution_count": null,
   "metadata": {
    "collapsed": false
   },
   "outputs": [],
   "source": [
    "plot_RV_phase_curve(HD211847_params, t_vals=HD211847_times)"
   ]
  },
  {
   "cell_type": "code",
   "execution_count": null,
   "metadata": {
    "collapsed": false
   },
   "outputs": [],
   "source": [
    "plot_RV_phase_curve(HD162020_params, t_vals=HD162020_times)"
   ]
  },
  {
   "cell_type": "code",
   "execution_count": null,
   "metadata": {
    "collapsed": false
   },
   "outputs": [],
   "source": [
    "obs_time_sigma = 14/(60*24)  # +-14min"
   ]
  },
  {
   "cell_type": "code",
   "execution_count": null,
   "metadata": {
    "collapsed": false
   },
   "outputs": [],
   "source": [
    "# Test RV determination \n",
    "\n",
    "# Get parameters for star and taget\n",
    "Red_JD = 2400000\n",
    "#hd30501\n",
    "mean_val = 23.710 # +- 0.017\n",
    "Period = 2073.6   # +3 - 2.9 days\n",
    "e = 0.741         # +_ 0.04\n",
    "K1 = 1703.1       #+- 26  ms^-1\n",
    "Tau = 53851.5      # +- 3 JD    Note: I think this is tau but I am not sure. \n",
    "omega = 70.4 * np.pi/180     # +- 0.7 deg\n",
    "\n",
    "for ti in np.array([2456024.505902, 2456140.887153, 2456141.866329, 2456145.904258]) - Red_JD:\n",
    "   # Calculate Mean anomaly:\n",
    "   M_anomaly = meananomaly(ti, Tau, Period)\n",
    "   #print(\"Mean Anomaly = {}\".format(M_anomaly))\n",
    "\n",
    "   # Determine true anomaly from mean anomaly\n",
    "   true_anomaly = trueanomaly(M_anomaly, e)\n",
    "   #print(\"Daiz true anomaly = {0}\".format(true_anomaly))\n",
    "   #nu goes into RV equations\n",
    "\n",
    "   # Now Calculalte the RV\n",
    "   RV = mean_val + K1 *(np.cos(true_anomaly + omega) + e * np.cos(omega))\n",
    "\n",
    "   print(\"RV value {0} ms^-1 at time {1} JD*\".format( RV ,  ti ))"
   ]
  },
  {
   "cell_type": "code",
   "execution_count": null,
   "metadata": {
    "collapsed": false
   },
   "outputs": [],
   "source": []
  },
  {
   "cell_type": "code",
   "execution_count": null,
   "metadata": {
    "collapsed": true
   },
   "outputs": [],
   "source": []
  },
  {
   "cell_type": "code",
   "execution_count": null,
   "metadata": {
    "collapsed": false
   },
   "outputs": [],
   "source": []
  },
  {
   "cell_type": "markdown",
   "metadata": {
    "collapsed": false
   },
   "source": [
    "\n",
    "\n",
    "\n"
   ]
  },
  {
   "cell_type": "code",
   "execution_count": null,
   "metadata": {
    "collapsed": true
   },
   "outputs": [],
   "source": []
  },
  {
   "cell_type": "code",
   "execution_count": null,
   "metadata": {
    "collapsed": true
   },
   "outputs": [],
   "source": []
  },
  {
   "cell_type": "code",
   "execution_count": null,
   "metadata": {
    "collapsed": true
   },
   "outputs": [],
   "source": []
  },
  {
   "cell_type": "code",
   "execution_count": null,
   "metadata": {
    "collapsed": false
   },
   "outputs": [],
   "source": []
  },
  {
   "cell_type": "code",
   "execution_count": null,
   "metadata": {
    "collapsed": false
   },
   "outputs": [],
   "source": [
    "\n",
    "times = np.linspace(Tau, Tau+Period, 1000)\n",
    "\n",
    "M_anomalies = Mean_Anomaly(times, Tau, Period)\n",
    "\n"
   ]
  },
  {
   "cell_type": "code",
   "execution_count": null,
   "metadata": {
    "collapsed": false
   },
   "outputs": [],
   "source": [
    "\n",
    "plt.plot(M_tests-M_anomalies)\n",
    "plt.title(\"Differences between M_tests and M_anomalies\")\n",
    "plt.show()\n",
    "#print(lmfit.report_fit(out))\n",
    "\n",
    "T_anomalies = True_Anomaly(E_anomalies, e)\n",
    "T_anomalies2 = True_Anomaly2(E_anomalies, e)\n",
    "T_anomalies3 = True_Anomaly3(E_anomalies, e)\n",
    "T_anomalies4 = True_Anomaly4(E_anomalies, e)\n",
    "\n",
    "rod_true = trueanomaly(M_anomalies, e)\n",
    "print(\"done\")"
   ]
  },
  {
   "cell_type": "code",
   "execution_count": null,
   "metadata": {
    "collapsed": false
   },
   "outputs": [],
   "source": [
    "#print(T_anomalies)\n",
    "#print(T_anomalies2)\n",
    "#print(T_anomalies3)\n",
    "#plt.plot(times, T_anomalies, label=\"1\")\n",
    "#plt.plot(times, T_anomalies2, label=\"2\")\n",
    "#plt.show()"
   ]
  },
  {
   "cell_type": "code",
   "execution_count": null,
   "metadata": {
    "collapsed": false
   },
   "outputs": [],
   "source": [
    "RVs_1 = Radial_velocity(mean_val, K1, T_anomalies, omega, e)\n",
    "RVs_2 = Radial_velocity(mean_val, K1, T_anomalies2, omega, e)\n",
    "RVs_3 = Radial_velocity(mean_val, K1, T_anomalies3, omega, e)\n",
    "RVs_4 = Radial_velocity(mean_val, K1, T_anomalies4, omega, e)\n",
    "RVs_true = Radial_velocity(mean_val, K1, rod_true, omega, e)"
   ]
  },
  {
   "cell_type": "code",
   "execution_count": null,
   "metadata": {
    "collapsed": false
   },
   "outputs": [],
   "source": [
    "# Test ajplanet comparision\n",
    "\n",
    "#mean_val, K1, T_anomalies4, omega, e\n",
    "#ajplanet_rvs = rv_curve(t, gamma,K,omega,ecc,to,P)\n",
    "ajplanet_rvs = rv_curve(times, mean_val, K1, omega, e, Tau, Period)\n",
    "\n",
    "print(rv_curve(HD30501_times, mean_val, K1, omega, e, Tau, Period))"
   ]
  },
  {
   "cell_type": "code",
   "execution_count": null,
   "metadata": {
    "collapsed": false
   },
   "outputs": [],
   "source": [
    "plt.plot((times-Tau) / Period, RVs_1, label=\"1\")\n",
    "plt.plot((times-Tau) / Period, RVs_2,'+', label=\"2\")\n",
    "plt.plot((times-Tau) / Period, RVs_3, 'o', label=\"3\")\n",
    "plt.plot((times-Tau) / Period, RVs_4, \"--\", label=\"4\")\n",
    "plt.plot((times-Tau) / Period, RVs_true, \"--\", label=\"4\")\n",
    "#plt.plot((times-Tau) / Period, ajplanet_rvs, \"k*\", label=\"ajplanet\")\n",
    "plt.title(\"Radial Velocities\")\n",
    "plt.legend(loc=0)\n",
    "plt.show()"
   ]
  },
  {
   "cell_type": "code",
   "execution_count": null,
   "metadata": {
    "collapsed": true
   },
   "outputs": [],
   "source": [
    "#plt.plot(T_anomalies, RVs_1)\n",
    "#plt.plot(T_anomalies2, RVs_2)\n",
    "#plt.show()"
   ]
  },
  {
   "cell_type": "code",
   "execution_count": null,
   "metadata": {
    "collapsed": true
   },
   "outputs": [],
   "source": [
    "\n",
    "# My Values are not good atm when compaing to rvcurve. "
   ]
  },
  {
   "cell_type": "code",
   "execution_count": null,
   "metadata": {
    "collapsed": false
   },
   "outputs": [],
   "source": []
  },
  {
   "cell_type": "code",
   "execution_count": null,
   "metadata": {
    "collapsed": true
   },
   "outputs": [],
   "source": [
    "# Try thre true anomaly given by the lecuture on facebook."
   ]
  },
  {
   "cell_type": "code",
   "execution_count": null,
   "metadata": {
    "collapsed": true
   },
   "outputs": [],
   "source": []
  },
  {
   "cell_type": "code",
   "execution_count": null,
   "metadata": {
    "collapsed": true
   },
   "outputs": [],
   "source": [
    "## Old code to caluclate true anomaly from mean anomaly\n",
    "\n",
    "\n",
    "\n"
   ]
  },
  {
   "cell_type": "code",
   "execution_count": null,
   "metadata": {
    "collapsed": true
   },
   "outputs": [],
   "source": []
  }
 ],
 "metadata": {
  "kernelspec": {
   "display_name": "Python 3",
   "language": "python",
   "name": "python3"
  },
  "language_info": {
   "codemirror_mode": {
    "name": "ipython",
    "version": 3
   },
   "file_extension": ".py",
   "mimetype": "text/x-python",
   "name": "python",
   "nbconvert_exporter": "python",
   "pygments_lexer": "ipython3",
   "version": "3.4.4"
  }
 },
 "nbformat": 4,
 "nbformat_minor": 0
}

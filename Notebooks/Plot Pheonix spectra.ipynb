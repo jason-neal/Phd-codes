{
 "cells": [
  {
   "cell_type": "markdown",
   "metadata": {},
   "source": [
    "# Display Phoenix model of Brown Dwarf"
   ]
  },
  {
   "cell_type": "code",
   "execution_count": null,
   "metadata": {
    "collapsed": false
   },
   "outputs": [],
   "source": [
    "from __future__ import division, print_function \n",
    "import numpy as np\n",
    "import matplotlib.pyplot as plt\n",
    "from astropy.io import fits\n",
    "%matplotlib inline\n",
    "\n",
    "from Spectrum import Spectrum"
   ]
  },
  {
   "cell_type": "code",
   "execution_count": null,
   "metadata": {
    "collapsed": false
   },
   "outputs": [],
   "source": [
    "# From plot fits\n",
    "pathwave = \"/home/jneal/Phd/data/phoenixmodels/WAVE_PHOENIX-ACES-AGSS-COND-2011.fits\"\n",
    "model = \"/home/jneal/Phd/data/phoenixmodels/HD30501b-lte02500-5.00-0.0.PHOENIX-ACES-AGSS-COND-2011-HiRes.fits\"\n",
    "star_model = \"/home/jneal/Phd/data/phoenixmodels/HD30501-lte05200-4.50-0.0.PHOENIX-ACES-AGSS-COND-2011-HiRes.fits\"\n",
    "\n",
    "I_mod = fits.getdata(model)\n",
    "I_star = fits.getdata(star_model)\n",
    "hdr = fits.getheader(star_model)\n",
    "hdr_star = fits.getheader(star_model)\n",
    "w_mod = fits.getdata(pathwave)\n",
    "\n",
    "w_mod /= 10   # turn into nm\n",
    "\n",
    "w0 = 2112\n",
    "w1 = 2124\n",
    "\n",
    "# Specifiying wavelength range\n",
    "i = (w_mod > w0) & (w_mod < w1)\n",
    "w_mod = w_mod[i]\n",
    "I_mod = I_mod[i]\n",
    "I_star = I_star[i]\n",
    "        \n",
    "# https://phoenix.ens-lyon.fr/Grids/FORMAT\n",
    "# I_mod = 10 ** (I_mod-8.0)\n",
    "I_mod /= np.median(I_mod)\n",
    "# Normalization (use first 50 points below 1.2 as continuum)\n",
    "mod_maxes = I_mod[(I_mod < 1.2)].argsort()[-50:][::-1]\n",
    "I_mod /= np.median(I_mod[mod_maxes])\n",
    "\n",
    "#I_mod, w_mod = dopplerShift(wvl=w_mod, flux=I_mod, v=rv1, fill_value=0.95)\n",
    "I_star /= np.median(I_star)\n",
    "# Normalization (use first 50 points below 1.2 as continuum)\n",
    "maxes = I_star[(I_star < 1.2)].argsort()[-50:][::-1]\n",
    "I_star /= np.median(I_star[maxes])    \n",
    "    \n",
    "#spec_mod = Spectrum.Spectrum(I_mod, w_mod, calibrated=True)    \n",
    "#spec_star = Spectrum.Spectrum(I_star, w_mod, calibrated=True)  "
   ]
  },
  {
   "cell_type": "code",
   "execution_count": null,
   "metadata": {
    "collapsed": false
   },
   "outputs": [],
   "source": [
    "plt.plot(w_mod, I_mod , label=\"2500 K\")\n",
    "#plt.plot(w_mod, (I_mod-np.median(I_mod)) + 1 , label=\"2500 K\")\n",
    "plt.plot(w_mod, I_star, label=\"5200 K\")\n",
    "plt.show()"
   ]
  },
  {
   "cell_type": "code",
   "execution_count": null,
   "metadata": {
    "collapsed": true
   },
   "outputs": [],
   "source": []
  },
  {
   "cell_type": "code",
   "execution_count": null,
   "metadata": {
    "collapsed": false
   },
   "outputs": [],
   "source": []
  },
  {
   "cell_type": "code",
   "execution_count": null,
   "metadata": {
    "collapsed": false
   },
   "outputs": [],
   "source": [
    "\n",
    "# RV shift and subtract\n",
    "#mod_spec =  Spectrum(I_mod, xaxis=w_mod)\n",
    "#mod_spec2 = Spectrum(I_mod, w_mod)\n",
    "#star_spec = Spectrum(I_star, w_mod)\n",
    "\n",
    "def dopplershift(x, RV):\n",
    "    c = 299792.458\n",
    "    lambdaShift = x * (RV / c)\n",
    "    #print(\"lambdaShift\", lambdaShift)\n",
    "    return x + lambdaShift\n",
    "    \n",
    "\n",
    "\n",
    "def dopplershift_and_interp(x, y, RV):\n",
    "    \"Doppler shift and interpolate to original wavelength positions \"\n",
    "    x_prime = dopplershift(x, RV)\n",
    "    #print(x_prime -x)\n",
    "    y_prime = np.interp(x, x_prime, y)\n",
    "    \n",
    "    return y_prime\n",
    "    \n",
    "\n",
    "def RV_differences_spectrum(x,y,RV):\n",
    "    \"Return a the difference in spectrum when one is RV shifted by the RV value given\"\n",
    "    y_prime = dopplershift_and_interp(x, y, RV)\n",
    "    \n",
    "    y_diff = y-y_prime\n",
    "    return y_diff\n",
    "\n",
    "\n"
   ]
  },
  {
   "cell_type": "code",
   "execution_count": null,
   "metadata": {
    "collapsed": true
   },
   "outputs": [],
   "source": [
    "# Adding Convolution Into the mix\n",
    "\n",
    "#import sys\n",
    "#sys.path.append('../../UsefulModules/')\n",
    "from IP_Convolution import IPconvolution\n"
   ]
  },
  {
   "cell_type": "code",
   "execution_count": null,
   "metadata": {
    "collapsed": false
   },
   "outputs": [],
   "source": [
    "# Convovle to 100K, 50K and 10K\n",
    "for Res in [10000,50000,100000]:\n",
    "    print(\"Convolving to R={} and then RV shifting\".format(Res))\n",
    "    new_w_mod, new_I_mod = IPconvolution(w_mod, I_mod, [min(w_mod),max(w_mod)], R=Res, FWHM_lim=5.0, plot=True, verbose=False)\n",
    "\n",
    "    for RV in [1]:\n",
    "        diff_spec = RV_differences_spectrum(new_w_mod, new_I_mod, RV)\n",
    "        plt.plot(new_w_mod, diff_spec, label=\"{} km/s\".format(RV))\n",
    "        plt.title(\"Difference Spectra at R={} \".format(Res))\n",
    "        plt.legend()\n",
    "        plt.ylim([-0.02,.02])\n",
    "    plt.show()\n",
    "\n"
   ]
  },
  {
   "cell_type": "code",
   "execution_count": null,
   "metadata": {
    "collapsed": false
   },
   "outputs": [],
   "source": [
    "# RV shift and subtracting and then convolving\n",
    "\n",
    "for Res in [10000,50000,100000]:\n",
    "    print(\"Create a difference spectra then convolve to R={}\".format(Res))\n",
    "    for RV in [1]:\n",
    "        diff_spec = RV_differences_spectrum(w_mod, I_mod, RV)\n",
    "        new_w_mod, new_I_mod = IPconvolution(w_mod, diff_spec, [min(w_mod),max(w_mod)], R=Res, FWHM_lim=5.0, plot=False, verbose=False)\n",
    "        #plt.figure()\n",
    "        plt.plot(new_w_mod, new_I_mod, label=\"{} km/s\".format(RV))\n",
    "        plt.title(\"Convolved Difference Spectra at R={} \".format(Res))\n",
    "        plt.legend()\n",
    "    plt.show()\n",
    "\n",
    "\n"
   ]
  },
  {
   "cell_type": "code",
   "execution_count": null,
   "metadata": {
    "collapsed": true
   },
   "outputs": [],
   "source": []
  },
  {
   "cell_type": "code",
   "execution_count": null,
   "metadata": {
    "collapsed": true
   },
   "outputs": [],
   "source": []
  },
  {
   "cell_type": "code",
   "execution_count": null,
   "metadata": {
    "collapsed": true
   },
   "outputs": [],
   "source": []
  },
  {
   "cell_type": "code",
   "execution_count": null,
   "metadata": {
    "collapsed": true
   },
   "outputs": [],
   "source": []
  }
 ],
 "metadata": {
  "anaconda-cloud": {},
  "kernelspec": {
   "display_name": "Python [conda env:py35]",
   "language": "python",
   "name": "conda-env-py35-py"
  },
  "language_info": {
   "codemirror_mode": {
    "name": "ipython",
    "version": 3
   },
   "file_extension": ".py",
   "mimetype": "text/x-python",
   "name": "python",
   "nbconvert_exporter": "python",
   "pygments_lexer": "ipython3",
   "version": "3.5.2"
  }
 },
 "nbformat": 4,
 "nbformat_minor": 1
}

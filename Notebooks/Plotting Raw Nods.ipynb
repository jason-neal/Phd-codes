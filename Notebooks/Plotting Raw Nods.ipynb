{
 "cells": [
  {
   "cell_type": "code",
   "execution_count": 1,
   "metadata": {},
   "outputs": [],
   "source": [
    "import numpy\n",
    "import matplotlib.pyplot as plt\n",
    "import matplotlib.pyplot as plt\n",
    "import numpy as np\n",
    "from matplotlib import colors, ticker, cm\n",
    "from astropy.io import fits\n"
   ]
  },
  {
   "cell_type": "code",
   "execution_count": 2,
   "metadata": {},
   "outputs": [
    {
     "name": "stdout",
     "output_type": "stream",
     "text": [
      "[]\n"
     ]
    }
   ],
   "source": [
    "target = \"HD30501\"\n",
    "obs = \"1\"\n",
    "chip = 1\n",
    "import glob\n",
    "folder = \"/home/jneal/data/Crires/BD-DRACS/2017/\"\n",
    "name = \"{0}-{1}/CRIRE-*_{2}.fits\".format(target.upper(), obs, chip)\n",
    "\n",
    "files = glob.glob(folder + name)\n",
    "print(files)"
   ]
  },
  {
   "cell_type": "code",
   "execution_count": 3,
   "metadata": {},
   "outputs": [],
   "source": [
    "#To use the below work to plot each nod.\n",
    "\n",
    "#Maybe plot the quicklooks aswell."
   ]
  },
  {
   "cell_type": "code",
   "execution_count": null,
   "metadata": {},
   "outputs": [],
   "source": []
  },
  {
   "cell_type": "code",
   "execution_count": 4,
   "metadata": {},
   "outputs": [],
   "source": [
    "# Targets to test:\n",
    "# Plot raw nods to check for location of artifacts verse glow.\n",
    "\n",
    "#HD202206-1   nod 2 # \n",
    "#CRIRE.2012-07-12T07:08:59.651_2\n",
    "#CRIRE.2012-07-12T07:12:39.576_1 \n",
    "nodA1  = \"../../../data/Crires/BDs-DRACS/HD202206-1-copy_to_find_artifacts/CRIRE.2012-07-12T06:54:44.372.fits\"\n",
    "nodB1  = \"../../../data/Crires/BDs-DRACS/HD202206-1-copy_to_find_artifacts/CRIRE.2012-07-12T06:58:20.691.fits\"\n",
    "nodB2  = \"../../../data/Crires/BDs-DRACS/HD202206-1-copy_to_find_artifacts/CRIRE.2012-07-12T07:01:49.683.fits\"\n",
    "nodA2  = \"../../../data/Crires/BDs-DRACS/HD202206-1-copy_to_find_artifacts/CRIRE.2012-07-12T07:05:30.660.fits\"\n",
    "\n",
    "nodA3  = \"../../../data/Crires/BDs-DRACS/HD202206-1-copy_to_find_artifacts/CRIRE.2012-07-12T07:08:59.651.fits\"\n",
    "nodB3  = \"../../../data/Crires/BDs-DRACS/HD202206-1-copy_to_find_artifacts/CRIRE.2012-07-12T07:12:39.576.fits\"\n",
    "nodB4  = \"../../../data/Crires/BDs-DRACS/HD202206-1-copy_to_find_artifacts/CRIRE.2012-07-12T07:16:06.773.fits\"\n",
    "nodA4  = \"../../../data/Crires/BDs-DRACS/HD202206-1-copy_to_find_artifacts/CRIRE.2012-07-12T07:19:47.498.fits\"\n"
   ]
  },
  {
   "cell_type": "code",
   "execution_count": 5,
   "metadata": {},
   "outputs": [
    {
     "ename": "FileNotFoundError",
     "evalue": "[Errno 2] No such file or directory: '../../../data/Crires/BDs-DRACS/HD202206-1-copy_to_find_artifacts/CRIRE.2012-07-12T06:54:44.372.fits'",
     "output_type": "error",
     "traceback": [
      "\u001b[0;31m---------------------------------------------------------------------------\u001b[0m",
      "\u001b[0;31mFileNotFoundError\u001b[0m                         Traceback (most recent call last)",
      "\u001b[0;32m<ipython-input-5-5f79c9ffea97>\u001b[0m in \u001b[0;36m<module>\u001b[0;34m()\u001b[0m\n\u001b[1;32m      1\u001b[0m \u001b[0;34m\u001b[0m\u001b[0m\n\u001b[0;32m----> 2\u001b[0;31m \u001b[0mA1_hdulist\u001b[0m \u001b[0;34m=\u001b[0m \u001b[0mfits\u001b[0m\u001b[0;34m.\u001b[0m\u001b[0mopen\u001b[0m\u001b[0;34m(\u001b[0m\u001b[0mnodA1\u001b[0m \u001b[0;34m,\u001b[0m\u001b[0mmemmap\u001b[0m\u001b[0;34m=\u001b[0m\u001b[0;32mTrue\u001b[0m\u001b[0;34m)\u001b[0m\u001b[0;34m\u001b[0m\u001b[0m\n\u001b[0m\u001b[1;32m      3\u001b[0m \u001b[0mA2_hdulist\u001b[0m \u001b[0;34m=\u001b[0m \u001b[0mfits\u001b[0m\u001b[0;34m.\u001b[0m\u001b[0mopen\u001b[0m\u001b[0;34m(\u001b[0m\u001b[0mnodA2\u001b[0m \u001b[0;34m,\u001b[0m\u001b[0mmemmap\u001b[0m\u001b[0;34m=\u001b[0m\u001b[0;32mTrue\u001b[0m\u001b[0;34m)\u001b[0m\u001b[0;34m\u001b[0m\u001b[0m\n\u001b[1;32m      4\u001b[0m \u001b[0mB1_hdulist\u001b[0m \u001b[0;34m=\u001b[0m \u001b[0mfits\u001b[0m\u001b[0;34m.\u001b[0m\u001b[0mopen\u001b[0m\u001b[0;34m(\u001b[0m\u001b[0mnodB1\u001b[0m \u001b[0;34m,\u001b[0m\u001b[0mmemmap\u001b[0m\u001b[0;34m=\u001b[0m\u001b[0;32mTrue\u001b[0m\u001b[0;34m)\u001b[0m\u001b[0;34m\u001b[0m\u001b[0m\n\u001b[1;32m      5\u001b[0m \u001b[0mB2_hdulist\u001b[0m \u001b[0;34m=\u001b[0m \u001b[0mfits\u001b[0m\u001b[0;34m.\u001b[0m\u001b[0mopen\u001b[0m\u001b[0;34m(\u001b[0m\u001b[0mnodB2\u001b[0m \u001b[0;34m,\u001b[0m\u001b[0mmemmap\u001b[0m\u001b[0;34m=\u001b[0m\u001b[0;32mTrue\u001b[0m\u001b[0;34m)\u001b[0m\u001b[0;34m\u001b[0m\u001b[0m\n",
      "\u001b[0;32m~/anaconda3/envs/py36/lib/python3.6/site-packages/astropy/io/fits/hdu/hdulist.py\u001b[0m in \u001b[0;36mfitsopen\u001b[0;34m(name, mode, memmap, save_backup, cache, lazy_load_hdus, **kwargs)\u001b[0m\n\u001b[1;32m    162\u001b[0m \u001b[0;34m\u001b[0m\u001b[0m\n\u001b[1;32m    163\u001b[0m     return HDUList.fromfile(name, mode, memmap, save_backup, cache,\n\u001b[0;32m--> 164\u001b[0;31m                             lazy_load_hdus, **kwargs)\n\u001b[0m\u001b[1;32m    165\u001b[0m \u001b[0;34m\u001b[0m\u001b[0m\n\u001b[1;32m    166\u001b[0m \u001b[0;34m\u001b[0m\u001b[0m\n",
      "\u001b[0;32m~/anaconda3/envs/py36/lib/python3.6/site-packages/astropy/io/fits/hdu/hdulist.py\u001b[0m in \u001b[0;36mfromfile\u001b[0;34m(cls, fileobj, mode, memmap, save_backup, cache, lazy_load_hdus, **kwargs)\u001b[0m\n\u001b[1;32m    400\u001b[0m         return cls._readfrom(fileobj=fileobj, mode=mode, memmap=memmap,\n\u001b[1;32m    401\u001b[0m                              \u001b[0msave_backup\u001b[0m\u001b[0;34m=\u001b[0m\u001b[0msave_backup\u001b[0m\u001b[0;34m,\u001b[0m \u001b[0mcache\u001b[0m\u001b[0;34m=\u001b[0m\u001b[0mcache\u001b[0m\u001b[0;34m,\u001b[0m\u001b[0;34m\u001b[0m\u001b[0m\n\u001b[0;32m--> 402\u001b[0;31m                              lazy_load_hdus=lazy_load_hdus, **kwargs)\n\u001b[0m\u001b[1;32m    403\u001b[0m \u001b[0;34m\u001b[0m\u001b[0m\n\u001b[1;32m    404\u001b[0m     \u001b[0;34m@\u001b[0m\u001b[0mclassmethod\u001b[0m\u001b[0;34m\u001b[0m\u001b[0m\n",
      "\u001b[0;32m~/anaconda3/envs/py36/lib/python3.6/site-packages/astropy/io/fits/hdu/hdulist.py\u001b[0m in \u001b[0;36m_readfrom\u001b[0;34m(cls, fileobj, data, mode, memmap, save_backup, cache, lazy_load_hdus, **kwargs)\u001b[0m\n\u001b[1;32m    984\u001b[0m             \u001b[0;32mif\u001b[0m \u001b[0;32mnot\u001b[0m \u001b[0misinstance\u001b[0m\u001b[0;34m(\u001b[0m\u001b[0mfileobj\u001b[0m\u001b[0;34m,\u001b[0m \u001b[0m_File\u001b[0m\u001b[0;34m)\u001b[0m\u001b[0;34m:\u001b[0m\u001b[0;34m\u001b[0m\u001b[0m\n\u001b[1;32m    985\u001b[0m                 \u001b[0;31m# instantiate a FITS file object (ffo)\u001b[0m\u001b[0;34m\u001b[0m\u001b[0;34m\u001b[0m\u001b[0m\n\u001b[0;32m--> 986\u001b[0;31m                 \u001b[0mfileobj\u001b[0m \u001b[0;34m=\u001b[0m \u001b[0m_File\u001b[0m\u001b[0;34m(\u001b[0m\u001b[0mfileobj\u001b[0m\u001b[0;34m,\u001b[0m \u001b[0mmode\u001b[0m\u001b[0;34m=\u001b[0m\u001b[0mmode\u001b[0m\u001b[0;34m,\u001b[0m \u001b[0mmemmap\u001b[0m\u001b[0;34m=\u001b[0m\u001b[0mmemmap\u001b[0m\u001b[0;34m,\u001b[0m \u001b[0mcache\u001b[0m\u001b[0;34m=\u001b[0m\u001b[0mcache\u001b[0m\u001b[0;34m)\u001b[0m\u001b[0;34m\u001b[0m\u001b[0m\n\u001b[0m\u001b[1;32m    987\u001b[0m             \u001b[0;31m# The Astropy mode is determined by the _File initializer if the\u001b[0m\u001b[0;34m\u001b[0m\u001b[0;34m\u001b[0m\u001b[0m\n\u001b[1;32m    988\u001b[0m             \u001b[0;31m# supplied mode was None\u001b[0m\u001b[0;34m\u001b[0m\u001b[0;34m\u001b[0m\u001b[0m\n",
      "\u001b[0;32m~/anaconda3/envs/py36/lib/python3.6/site-packages/astropy/utils/decorators.py\u001b[0m in \u001b[0;36mwrapper\u001b[0;34m(*args, **kwargs)\u001b[0m\n\u001b[1;32m    485\u001b[0m                         \u001b[0;31m# one with the name of the new argument to the function\u001b[0m\u001b[0;34m\u001b[0m\u001b[0;34m\u001b[0m\u001b[0m\n\u001b[1;32m    486\u001b[0m                         \u001b[0mkwargs\u001b[0m\u001b[0;34m[\u001b[0m\u001b[0mnew_name\u001b[0m\u001b[0;34m[\u001b[0m\u001b[0mi\u001b[0m\u001b[0;34m]\u001b[0m\u001b[0;34m]\u001b[0m \u001b[0;34m=\u001b[0m \u001b[0mvalue\u001b[0m\u001b[0;34m\u001b[0m\u001b[0m\n\u001b[0;32m--> 487\u001b[0;31m             \u001b[0;32mreturn\u001b[0m \u001b[0mfunction\u001b[0m\u001b[0;34m(\u001b[0m\u001b[0;34m*\u001b[0m\u001b[0margs\u001b[0m\u001b[0;34m,\u001b[0m \u001b[0;34m**\u001b[0m\u001b[0mkwargs\u001b[0m\u001b[0;34m)\u001b[0m\u001b[0;34m\u001b[0m\u001b[0m\n\u001b[0m\u001b[1;32m    488\u001b[0m \u001b[0;34m\u001b[0m\u001b[0m\n\u001b[1;32m    489\u001b[0m         \u001b[0;32mreturn\u001b[0m \u001b[0mwrapper\u001b[0m\u001b[0;34m\u001b[0m\u001b[0m\n",
      "\u001b[0;32m~/anaconda3/envs/py36/lib/python3.6/site-packages/astropy/io/fits/file.py\u001b[0m in \u001b[0;36m__init__\u001b[0;34m(self, fileobj, mode, memmap, overwrite, cache)\u001b[0m\n\u001b[1;32m    173\u001b[0m             \u001b[0mself\u001b[0m\u001b[0;34m.\u001b[0m\u001b[0m_open_fileobj\u001b[0m\u001b[0;34m(\u001b[0m\u001b[0mfileobj\u001b[0m\u001b[0;34m,\u001b[0m \u001b[0mmode\u001b[0m\u001b[0;34m,\u001b[0m \u001b[0moverwrite\u001b[0m\u001b[0;34m)\u001b[0m\u001b[0;34m\u001b[0m\u001b[0m\n\u001b[1;32m    174\u001b[0m         \u001b[0;32melif\u001b[0m \u001b[0misinstance\u001b[0m\u001b[0;34m(\u001b[0m\u001b[0mfileobj\u001b[0m\u001b[0;34m,\u001b[0m \u001b[0mstr\u001b[0m\u001b[0;34m)\u001b[0m\u001b[0;34m:\u001b[0m\u001b[0;34m\u001b[0m\u001b[0m\n\u001b[0;32m--> 175\u001b[0;31m             \u001b[0mself\u001b[0m\u001b[0;34m.\u001b[0m\u001b[0m_open_filename\u001b[0m\u001b[0;34m(\u001b[0m\u001b[0mfileobj\u001b[0m\u001b[0;34m,\u001b[0m \u001b[0mmode\u001b[0m\u001b[0;34m,\u001b[0m \u001b[0moverwrite\u001b[0m\u001b[0;34m)\u001b[0m\u001b[0;34m\u001b[0m\u001b[0m\n\u001b[0m\u001b[1;32m    176\u001b[0m         \u001b[0;32melse\u001b[0m\u001b[0;34m:\u001b[0m\u001b[0;34m\u001b[0m\u001b[0m\n\u001b[1;32m    177\u001b[0m             \u001b[0mself\u001b[0m\u001b[0;34m.\u001b[0m\u001b[0m_open_filelike\u001b[0m\u001b[0;34m(\u001b[0m\u001b[0mfileobj\u001b[0m\u001b[0;34m,\u001b[0m \u001b[0mmode\u001b[0m\u001b[0;34m,\u001b[0m \u001b[0moverwrite\u001b[0m\u001b[0;34m)\u001b[0m\u001b[0;34m\u001b[0m\u001b[0m\n",
      "\u001b[0;32m~/anaconda3/envs/py36/lib/python3.6/site-packages/astropy/io/fits/file.py\u001b[0m in \u001b[0;36m_open_filename\u001b[0;34m(self, filename, mode, overwrite)\u001b[0m\n\u001b[1;32m    526\u001b[0m \u001b[0;34m\u001b[0m\u001b[0m\n\u001b[1;32m    527\u001b[0m         \u001b[0;32mif\u001b[0m \u001b[0;32mnot\u001b[0m \u001b[0mself\u001b[0m\u001b[0;34m.\u001b[0m\u001b[0m_try_read_compressed\u001b[0m\u001b[0;34m(\u001b[0m\u001b[0mself\u001b[0m\u001b[0;34m.\u001b[0m\u001b[0mname\u001b[0m\u001b[0;34m,\u001b[0m \u001b[0mmagic\u001b[0m\u001b[0;34m,\u001b[0m \u001b[0mmode\u001b[0m\u001b[0;34m,\u001b[0m \u001b[0mext\u001b[0m\u001b[0;34m=\u001b[0m\u001b[0mext\u001b[0m\u001b[0;34m)\u001b[0m\u001b[0;34m:\u001b[0m\u001b[0;34m\u001b[0m\u001b[0m\n\u001b[0;32m--> 528\u001b[0;31m             \u001b[0mself\u001b[0m\u001b[0;34m.\u001b[0m\u001b[0m_file\u001b[0m \u001b[0;34m=\u001b[0m \u001b[0mfileobj_open\u001b[0m\u001b[0;34m(\u001b[0m\u001b[0mself\u001b[0m\u001b[0;34m.\u001b[0m\u001b[0mname\u001b[0m\u001b[0;34m,\u001b[0m \u001b[0mIO_FITS_MODES\u001b[0m\u001b[0;34m[\u001b[0m\u001b[0mmode\u001b[0m\u001b[0;34m]\u001b[0m\u001b[0;34m)\u001b[0m\u001b[0;34m\u001b[0m\u001b[0m\n\u001b[0m\u001b[1;32m    529\u001b[0m             \u001b[0mself\u001b[0m\u001b[0;34m.\u001b[0m\u001b[0mclose_on_error\u001b[0m \u001b[0;34m=\u001b[0m \u001b[0;32mTrue\u001b[0m\u001b[0;34m\u001b[0m\u001b[0m\n\u001b[1;32m    530\u001b[0m \u001b[0;34m\u001b[0m\u001b[0m\n",
      "\u001b[0;32m~/anaconda3/envs/py36/lib/python3.6/site-packages/astropy/io/fits/util.py\u001b[0m in \u001b[0;36mfileobj_open\u001b[0;34m(filename, mode)\u001b[0m\n\u001b[1;32m    386\u001b[0m     \"\"\"\n\u001b[1;32m    387\u001b[0m \u001b[0;34m\u001b[0m\u001b[0m\n\u001b[0;32m--> 388\u001b[0;31m     \u001b[0;32mreturn\u001b[0m \u001b[0mopen\u001b[0m\u001b[0;34m(\u001b[0m\u001b[0mfilename\u001b[0m\u001b[0;34m,\u001b[0m \u001b[0mmode\u001b[0m\u001b[0;34m,\u001b[0m \u001b[0mbuffering\u001b[0m\u001b[0;34m=\u001b[0m\u001b[0;36m0\u001b[0m\u001b[0;34m)\u001b[0m\u001b[0;34m\u001b[0m\u001b[0m\n\u001b[0m\u001b[1;32m    389\u001b[0m \u001b[0;34m\u001b[0m\u001b[0m\n\u001b[1;32m    390\u001b[0m \u001b[0;34m\u001b[0m\u001b[0m\n",
      "\u001b[0;31mFileNotFoundError\u001b[0m: [Errno 2] No such file or directory: '../../../data/Crires/BDs-DRACS/HD202206-1-copy_to_find_artifacts/CRIRE.2012-07-12T06:54:44.372.fits'"
     ]
    }
   ],
   "source": [
    "\n",
    "A1_hdulist = fits.open(nodA1 ,memmap=True)\n",
    "A2_hdulist = fits.open(nodA2 ,memmap=True)\n",
    "B1_hdulist = fits.open(nodB1 ,memmap=True)\n",
    "B2_hdulist = fits.open(nodB2 ,memmap=True)\n",
    "A3_hdulist = fits.open(nodA3 ,memmap=True)\n",
    "A4_hdulist = fits.open(nodA4 ,memmap=True)\n",
    "B3_hdulist = fits.open(nodB3 ,memmap=True)\n",
    "B4_hdulist = fits.open(nodB4 ,memmap=True)\n",
    "\n",
    "print(A1_hdulist)\n",
    "A1_hdulist.info()\n",
    "#print(repr(A1_hdulist[0].header))\n",
    "\n",
    "#HIERARCH ESO SEQ NODPOS \n",
    "prihdrA1 = A1_hdulist[0].header\n",
    "prihdrA2 = A2_hdulist[0].header\n",
    "\n",
    "print(prihdrA1[\"HIERARCH ESO SEQ NODPOS\"])\n",
    "print(prihdrA2[\"HIERARCH ESO SEQ NODPOS\"])\n",
    "#A1_hdulist[0].header(\"HIERARCH ESO SEQ NODPOS\")\n",
    "\n",
    "\n"
   ]
  },
  {
   "cell_type": "code",
   "execution_count": null,
   "metadata": {},
   "outputs": [],
   "source": [
    "# Load master dark\n",
    "dark = \"../../../data/Crires/BDs-DRACS/HD202206-1-copy_to_find_artifacts/MasterDarkSpec_2.fits\"\n",
    "flat = \"../../../data/Crires/BDs-DRACS/HD202206-1-copy_to_find_artifacts/FlatR_2.fits\"\n",
    "\n",
    "Flat = fits.open(flat)\n",
    "Dark = fits.open(dark)\n",
    "\n",
    "Flatdata = Flat[0].data\n",
    "Darkdata = Dark[0].data\n"
   ]
  },
  {
   "cell_type": "code",
   "execution_count": null,
   "metadata": {},
   "outputs": [],
   "source": [
    "hdr = A1_hdulist[2].header \n",
    "#chip2 = hdulist[2].data\n",
    "#hdulist[0].header['object']\n",
    "#set(hdr.keys())\n",
    "\n",
    "print(\"A1 nod\", A1_hdulist[0].header[\"HIERARCH ESO SEQ NODPOS\"])\n",
    "print(\"B1 nod\", B1_hdulist[0].header[\"HIERARCH ESO SEQ NODPOS\"])\n",
    "print(\"A2 nod\", A2_hdulist[0].header[\"HIERARCH ESO SEQ NODPOS\"])\n",
    "print(\"B2 nod\", B2_hdulist[0].header[\"HIERARCH ESO SEQ NODPOS\"])\n",
    "print(\"A3 nod\", A3_hdulist[0].header[\"HIERARCH ESO SEQ NODPOS\"])\n",
    "print(\"B3 nod\", B3_hdulist[0].header[\"HIERARCH ESO SEQ NODPOS\"])\n",
    "print(\"A4 nod\", A4_hdulist[0].header[\"HIERARCH ESO SEQ NODPOS\"])\n",
    "print(\"B4 nod\", B4_hdulist[0].header[\"HIERARCH ESO SEQ NODPOS\"])\n",
    "\n",
    "\n"
   ]
  },
  {
   "cell_type": "code",
   "execution_count": null,
   "metadata": {},
   "outputs": [],
   "source": [
    "nodA1_2 = (A1_hdulist[2].data - Darkdata)/ Flatdata\n",
    "nodA2_2 = (A2_hdulist[2].data - Darkdata)/ Flatdata\n",
    "nodB1_2 = (B1_hdulist[2].data - Darkdata)/ Flatdata\n",
    "nodB2_2 = (B2_hdulist[2].data - Darkdata)/ Flatdata\n",
    "nodA3_2 = (A3_hdulist[2].data - Darkdata)/ Flatdata\n",
    "nodA4_2 = (A4_hdulist[2].data - Darkdata)/ Flatdata\n",
    "nodB3_2 = (B3_hdulist[2].data - Darkdata)/ Flatdata\n",
    "nodB4_2 = (B4_hdulist[2].data - Darkdata)/ Flatdata\n"
   ]
  },
  {
   "cell_type": "code",
   "execution_count": null,
   "metadata": {},
   "outputs": [],
   "source": [
    "nodB2_B1 = nodB2_2 - nodB1_2\n",
    "nodB3_B1 = nodB3_2 - nodB1_2\n",
    "nodB4_B1 = nodB4_2 - nodB1_2\n",
    "nodB3_B2 = nodB3_2 - nodB2_2\n",
    "nodB4_B3 = nodB4_2 - nodB3_2\n",
    "\n",
    "nodA2_A1 = nodA2_2 - nodA1_2\n",
    "nodA3_A1 = nodA3_2 - nodA1_2\n",
    "nodA3_A2 = nodA4_2 - nodA2_2\n",
    "nodA4_A2 = nodA4_2 - nodA2_2\n",
    "nodA4_A3 = nodA4_2 - nodA3_2"
   ]
  },
  {
   "cell_type": "code",
   "execution_count": null,
   "metadata": {},
   "outputs": [],
   "source": [
    "plt.figure()\n",
    "im = plt.imshow(nodB3_B1[300:400,:])\n",
    "plt.show()"
   ]
  },
  {
   "cell_type": "code",
   "execution_count": null,
   "metadata": {},
   "outputs": [],
   "source": [
    "x = np.arange(1024)\n",
    "y = np.arange(512)\n",
    "\n",
    "X, Y = np.meshgrid(x, y)\n",
    "\n",
    "# slice\n",
    "X1 = X[300:400,:]\n",
    "Y1 = Y[300:400,:]\n",
    "nodB3_B1_slice = nodB3_B1[300:400,:]\n",
    "\n",
    "cs = plt.contourf(X1, Y1, nodB3_B1_slice,locator=ticker.LogLocator() )\n",
    "#cs = plt.contourf(X, Y, nodB3_B1, locator=ticker.LogLocator(), cmap=cm.PuBu_r)\n",
    "\n",
    "cbar = plt.colorbar()\n",
    "\n",
    "plt.show()\n",
    "cs = plt.contourf(X1, Y1, -nodB3_B1_slice, locator=ticker.LogLocator() )\n",
    "#cs = plt.contourf(X, Y, nodB3_B1, locator=ticker.LogLocator(), cmap=cm.PuBu_r)\n",
    "\n",
    "cbar = plt.colorbar()\n",
    "\n",
    "plt.show()"
   ]
  },
  {
   "cell_type": "code",
   "execution_count": null,
   "metadata": {},
   "outputs": [],
   "source": [
    "plt.figure()\n",
    "cs = plt.contourf(X1, Y1, nodB3_B2[300:400,:], locator=ticker.LogLocator() )\n",
    "#cs = plt.contourf(X, Y, nodB3_B1, locator=ticker.LogLocator(), cmap=cm.PuBu_r)\n",
    "\n",
    "cbar = plt.colorbar()\n",
    "\n",
    "plt.show()\n",
    "cs = plt.contourf(X1, Y1, -nodB3_B2[300:400,:], locator=ticker.LogLocator() )\n",
    "#cs = plt.contourf(X, Y, nodB3_B1, locator=ticker.LogLocator(), cmap=cm.PuBu_r)\n",
    "\n",
    "cbar = plt.colorbar()\n",
    "\n",
    "plt.show()"
   ]
  },
  {
   "cell_type": "code",
   "execution_count": null,
   "metadata": {},
   "outputs": [],
   "source": [
    "#Bnods\n",
    "if False:\n",
    "    for i in range(335,380,2):\n",
    "     print(i)\n",
    "     plt.plot(nodB1_2[i,:]- nodA1_2[i,:], label=\"1\")\n",
    "     plt.plot(nodB2_2[i,:]- nodA2_2[i,:], label=\"2\")\n",
    "     plt.plot(nodB3_2[i,:]- nodA3_2[i,:], label=\"3\")\n",
    "     plt.plot(nodB4_2[i,:]- nodA4_2[i,:], label=\"4\")\n",
    "     plt.ylim([0,1000])\n",
    "     plt.legend(loc=0)\n",
    "     plt.show()\n",
    "    \n"
   ]
  },
  {
   "cell_type": "code",
   "execution_count": null,
   "metadata": {},
   "outputs": [],
   "source": [
    "# Poor rectangular aperature\n",
    "\n",
    "# Sum   from 335 to 353 sum 3 and 4    \n",
    "#    from 341 to 363 sum 1 and 2\n",
    "nodB4_A4 = nodB4_2 - nodA4_2 \n",
    "nodB3_A3 = nodB3_2 - nodA3_2 \n",
    "nodB2_A2 = nodB2_2 - nodA2_2 \n",
    "nodB1_A1 = nodB1_2 - nodA1_2 \n",
    "\n",
    "\n",
    "B1_ext = np.sum(nodB1_A1[341:363,:],axis=0)\n",
    "B2_ext = np.sum(nodB2_A2[341:363,:],axis=0)\n",
    "B3_ext =  np.sum(nodB3_A3[335:353,:],axis=0)\n",
    "B4_ext =  np.sum(nodB4_A4[335:353,:],axis=0)\n",
    "np.size(B4_ext)\n",
    "\n",
    "plt.figure()\n",
    "plt.title(\"Rough Extraction of HD202206-1 ..._2.fits\")\n",
    "plt.plot(B1_ext, label=\"B1 extracted\")\n",
    "plt.plot(B2_ext, label=\"B2 extracted\")\n",
    "plt.plot(B3_ext, label=\"B3 extracted\")\n",
    "plt.plot(B4_ext, label=\"B4 extracted\")\n",
    "plt.legend(loc=0)\n",
    "plt.show()"
   ]
  },
  {
   "cell_type": "code",
   "execution_count": null,
   "metadata": {},
   "outputs": [],
   "source": [
    "#Anods\n",
    "if False:\n",
    "  for i in range(200, 250,1):\n",
    "  #for i in range(335,380,2):\n",
    "    print(i)\n",
    "    plt.plot(nodA3_2[i,:]- nodB3_2[i,:])\n",
    "    plt.ylim([0,1000])\n",
    "    plt.show()\n",
    "    "
   ]
  },
  {
   "cell_type": "code",
   "execution_count": null,
   "metadata": {},
   "outputs": [],
   "source": [
    "# Plot the extracted spectra to compare:\n",
    "\n",
    "nodB1_ext  = \"../../../data/Crires/BDs-DRACS/HD202206-1-copy_to_find_artifacts/CRIRE.2012-07-12T06:58:20.691_2.nod.ms.fits\"\n",
    "nodB2_ext  = \"../../../data/Crires/BDs-DRACS/HD202206-1-copy_to_find_artifacts/CRIRE.2012-07-12T07:01:49.683_2.nod.ms.fits\"\n",
    "nodB3_ext  = \"../../../data/Crires/BDs-DRACS/HD202206-1-copy_to_find_artifacts/CRIRE.2012-07-12T07:12:39.576_2.nod.ms.fits\"\n",
    "nodB4_ext  = \"../../../data/Crires/BDs-DRACS/HD202206-1-copy_to_find_artifacts/CRIRE.2012-07-12T07:16:06.773_2.nod.ms.fits\"\n",
    "\n",
    "B1 = fits.getdata(nodB1_ext)\n",
    "B2 = fits.getdata(nodB2_ext)\n",
    "B3 = fits.getdata(nodB3_ext)\n",
    "B4 = fits.getdata(nodB4_ext)\n",
    "\n",
    "## PLot pedros extracted values\n",
    "Pedro1 = \"../../../data/Crires/CRIRE.2012-07-12T07:12:39.576_2.nod.ms.fits\"\n",
    "Pedro2 = \"../../../data/Crires/CRIRE.2012-07-12T07:16:06.773_2.nod.ms.fits\"\n",
    "P1 = fits.getdata(Pedro1)\n",
    "P2 = fits.getdata(Pedro2)\n",
    "\n",
    "plt.figure()\n",
    "plt.title(\"IRAF extracted HD202206-1 ..._2.nod.ms.fits\")\n",
    "plt.plot(P1, \"g\", label= \"Pedro 1\")\n",
    "plt.plot(P2, \"r\", label= \"Pedro 2\")\n",
    "plt.plot(B3, \"y--\", label= \"B3 nod\")\n",
    "plt.plot(B4, \"b--\", label= \"B4 nod\")\n",
    "plt.legend(loc=0)\n",
    "plt.show()\n"
   ]
  },
  {
   "cell_type": "code",
   "execution_count": null,
   "metadata": {},
   "outputs": [],
   "source": [
    "# Plot the extracted spectra to compare:\n",
    "#Normalized extracted spectra from IRAF\n",
    "nodB1_ext  = \"../../../data/Crires/BDs-DRACS/HD202206-1-copy_to_find_artifacts/CRIRE.2012-07-12T06:58:20.691_2.nod.ms.fits\"\n",
    "nodB2_ext  = \"../../../data/Crires/BDs-DRACS/HD202206-1-copy_to_find_artifacts/CRIRE.2012-07-12T07:01:49.683_2.nod.ms.fits\"\n",
    "nodB3_ext  = \"../../../data/Crires/BDs-DRACS/HD202206-1-copy_to_find_artifacts/CRIRE.2012-07-12T07:12:39.576_2.nod.ms.fits\"\n",
    "nodB4_ext  = \"../../../data/Crires/BDs-DRACS/HD202206-1-copy_to_find_artifacts/CRIRE.2012-07-12T07:16:06.773_2.nod.ms.fits\"\n",
    "\n",
    "B1 = fits.getdata(nodB1_ext)\n",
    "B2 = fits.getdata(nodB2_ext)\n",
    "B3 = fits.getdata(nodB3_ext)\n",
    "B4 = fits.getdata(nodB4_ext)\n",
    "\n",
    "plt.figure()\n",
    "plt.title(\"Python and  IRAF extracted HD202206-1 ..._2.nod.ms.fits\")\n",
    "\n",
    "plt.plot(B1_ext, label=\"B1 python\")\n",
    "plt.plot(B2_ext, label=\"B2 python\")\n",
    "plt.plot(B3_ext, label=\"B3 python\")\n",
    "plt.plot(B4_ext, label=\"B4 python\")\n",
    "plt.plot(B1, label= \"B1 Iraf\")\n",
    "plt.plot(B2, label= \"B2 Iraf\")\n",
    "plt.plot(B3, label= \"B3 Iraf\")\n",
    "plt.plot(B4, label= \"B4 Iraf\")\n",
    "plt.legend(loc=0)\n",
    "plt.show()"
   ]
  },
  {
   "cell_type": "code",
   "execution_count": null,
   "metadata": {},
   "outputs": [],
   "source": [
    "# plot jsut a summed version and the iraf extracted values\n"
   ]
  },
  {
   "cell_type": "code",
   "execution_count": null,
   "metadata": {},
   "outputs": [],
   "source": [
    "if True:\n",
    " plt.imshow(nodB4_B1)\n",
    " plt.show()\n",
    " plt.imshow(nodB2_B1)\n",
    " plt.show()\n",
    " plt.imshow(nodB3_B1)\n",
    " plt.show()\n",
    " plt.imshow(nodB4_B1)\n",
    " plt.show()\n",
    " plt.imshow(nodB3_B2)\n",
    " plt.show()\n",
    " plt.imshow(nodB4_B3)\n",
    " plt.show()\n"
   ]
  },
  {
   "cell_type": "code",
   "execution_count": null,
   "metadata": {},
   "outputs": [],
   "source": [
    "if False:\n",
    " plt.imshow(nodA2_A1)\n",
    " plt.show()\n",
    " plt.imshow(nodA3_A1)\n",
    " plt.show()\n",
    " plt.imshow(nodA3_A2)\n",
    " plt.show()\n",
    " plt.imshow(nodA4_A2)\n",
    " plt.show()\n",
    " plt.imshow(nodA4_A3)\n",
    " plt.show()"
   ]
  },
  {
   "cell_type": "code",
   "execution_count": null,
   "metadata": {},
   "outputs": [],
   "source": []
  },
  {
   "cell_type": "code",
   "execution_count": null,
   "metadata": {},
   "outputs": [],
   "source": [
    "plt.figure()\n",
    "cs = plt.contourf(X, Y, nodA3_A1, locator=ticker.LogLocator(), cmap=cm.PuBu_r)\n",
    "\n",
    "cbar = plt.colorbar()\n",
    "\n",
    "plt.show()"
   ]
  },
  {
   "cell_type": "code",
   "execution_count": null,
   "metadata": {},
   "outputs": [],
   "source": [
    "plt.figure()\n",
    "cs = plt.contourf(X, Y, nodA3_A2, locator=ticker.LogLocator(), cmap=cm.PuBu_r)\n",
    "\n",
    "cbar = plt.colorbar()\n",
    "\n",
    "plt.show()"
   ]
  },
  {
   "cell_type": "code",
   "execution_count": null,
   "metadata": {},
   "outputs": [],
   "source": [
    "plt.figure()\n",
    "cs = plt.contourf(X, Y, nodA2_A1, locator=ticker.LogLocator(), cmap=cm.PuBu_r)\n",
    "\n",
    "cbar = plt.colorbar()\n",
    "\n",
    "plt.show()"
   ]
  },
  {
   "cell_type": "code",
   "execution_count": null,
   "metadata": {},
   "outputs": [],
   "source": []
  }
 ],
 "metadata": {
  "kernelspec": {
   "display_name": "Python 3",
   "language": "python",
   "name": "python3"
  },
  "language_info": {
   "codemirror_mode": {
    "name": "ipython",
    "version": 3
   },
   "file_extension": ".py",
   "mimetype": "text/x-python",
   "name": "python",
   "nbconvert_exporter": "python",
   "pygments_lexer": "ipython3",
   "version": "3.6.4"
  }
 },
 "nbformat": 4,
 "nbformat_minor": 2
}

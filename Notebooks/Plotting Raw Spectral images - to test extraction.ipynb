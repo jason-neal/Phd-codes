{
 "cells": [
  {
   "cell_type": "code",
   "execution_count": null,
   "metadata": {
    "collapsed": false
   },
   "outputs": [],
   "source": [
    "import numpy\n",
    "import matplotlib.pyplot as plt\n",
    "import matplotlib.pyplot as plt\n",
    "import numpy as np\n",
    "from matplotlib import colors, ticker, cm\n",
    "from astropy.io import fits\n",
    "\n",
    "#%pylab inline\n",
    "#%matplotlib inline\n",
    "#%matplotlib qt"
   ]
  },
  {
   "cell_type": "code",
   "execution_count": null,
   "metadata": {
    "collapsed": false
   },
   "outputs": [],
   "source": [
    "#Targets to test:\n",
    "\n",
    "#HD202206-1   nod 2 # \n",
    "#CRIRE.2012-07-12T07:08:59.651_2\n",
    "#CRIRE.2012-07-12T07:12:39.576_1 \n",
    "nodA1  = \"../../../data/Crires/BDs-DRACS/HD202206-1-copy_to_find_artifacts/CRIRE.2012-07-12T06:54:44.372.fits\"\n",
    "nodB1  = \"../../../data/Crires/BDs-DRACS/HD202206-1-copy_to_find_artifacts/CRIRE.2012-07-12T06:58:20.691.fits\"\n",
    "nodB2  = \"../../../data/Crires/BDs-DRACS/HD202206-1-copy_to_find_artifacts/CRIRE.2012-07-12T07:01:49.683.fits\"\n",
    "nodA2  = \"../../../data/Crires/BDs-DRACS/HD202206-1-copy_to_find_artifacts/CRIRE.2012-07-12T07:05:30.660.fits\"\n",
    "\n",
    "nodA3  = \"../../../data/Crires/BDs-DRACS/HD202206-1-copy_to_find_artifacts/CRIRE.2012-07-12T07:08:59.651.fits\"\n",
    "nodB3  = \"../../../data/Crires/BDs-DRACS/HD202206-1-copy_to_find_artifacts/CRIRE.2012-07-12T07:12:39.576.fits\"\n",
    "nodB4  = \"../../../data/Crires/BDs-DRACS/HD202206-1-copy_to_find_artifacts/CRIRE.2012-07-12T07:16:06.773.fits\"\n",
    "nodA4  = \"../../../data/Crires/BDs-DRACS/HD202206-1-copy_to_find_artifacts/CRIRE.2012-07-12T07:19:47.498.fits\"\n"
   ]
  },
  {
   "cell_type": "code",
   "execution_count": null,
   "metadata": {
    "collapsed": false
   },
   "outputs": [],
   "source": [
    "\n",
    "A1_hdulist = fits.open(nodA1 ,memmap=True)\n",
    "A2_hdulist = fits.open(nodA2 ,memmap=True)\n",
    "B1_hdulist = fits.open(nodB1 ,memmap=True)\n",
    "B2_hdulist = fits.open(nodB2 ,memmap=True)\n",
    "A3_hdulist = fits.open(nodA3 ,memmap=True)\n",
    "A4_hdulist = fits.open(nodA4 ,memmap=True)\n",
    "B3_hdulist = fits.open(nodB3 ,memmap=True)\n",
    "B4_hdulist = fits.open(nodB4 ,memmap=True)\n",
    "\n",
    "print(A1_hdulist)\n",
    "A1_hdulist.info()\n",
    "#print(repr(A1_hdulist[0].header))\n",
    "\n",
    "#HIERARCH ESO SEQ NODPOS \n",
    "prihdrA1 = A1_hdulist[0].header\n",
    "prihdrA2 = A2_hdulist[0].header\n",
    "\n",
    "print(prihdrA1[\"HIERARCH ESO SEQ NODPOS\"])\n",
    "print(prihdrA2[\"HIERARCH ESO SEQ NODPOS\"])\n",
    "#A1_hdulist[0].header(\"HIERARCH ESO SEQ NODPOS\")\n",
    "\n",
    "\n"
   ]
  },
  {
   "cell_type": "code",
   "execution_count": null,
   "metadata": {
    "collapsed": false
   },
   "outputs": [],
   "source": [
    "# Load master dark\n",
    "dark = \"../../../data/Crires/BDs-DRACS/HD202206-1-copy_to_find_artifacts/MasterDarkSpec_2.fits\"\n",
    "flat = \"../../../data/Crires/BDs-DRACS/HD202206-1-copy_to_find_artifacts/FlatR_2.fits\"\n",
    "\n",
    "Flat = fits.open(flat)\n",
    "Dark = fits.open(dark)\n",
    "\n",
    "Flatdata = Flat[0].data\n",
    "Darkdata = Dark[0].data\n"
   ]
  },
  {
   "cell_type": "code",
   "execution_count": null,
   "metadata": {
    "collapsed": false
   },
   "outputs": [],
   "source": [
    "hdr = A1_hdulist[2].header \n",
    "#chip2 = hdulist[2].data\n",
    "#hdulist[0].header['object']\n",
    "#set(hdr.keys())\n",
    "\n",
    "print(\"A1 nod\", A1_hdulist[0].header[\"HIERARCH ESO SEQ NODPOS\"])\n",
    "print(\"B1 nod\", B1_hdulist[0].header[\"HIERARCH ESO SEQ NODPOS\"])\n",
    "print(\"A2 nod\", A2_hdulist[0].header[\"HIERARCH ESO SEQ NODPOS\"])\n",
    "print(\"B2 nod\", B2_hdulist[0].header[\"HIERARCH ESO SEQ NODPOS\"])\n",
    "print(\"A3 nod\", A3_hdulist[0].header[\"HIERARCH ESO SEQ NODPOS\"])\n",
    "print(\"B3 nod\", B3_hdulist[0].header[\"HIERARCH ESO SEQ NODPOS\"])\n",
    "print(\"A4 nod\", A4_hdulist[0].header[\"HIERARCH ESO SEQ NODPOS\"])\n",
    "print(\"B4 nod\", B4_hdulist[0].header[\"HIERARCH ESO SEQ NODPOS\"])\n",
    "\n",
    "\n"
   ]
  },
  {
   "cell_type": "code",
   "execution_count": null,
   "metadata": {
    "collapsed": false
   },
   "outputs": [],
   "source": [
    "nodA1_2 = (A1_hdulist[2].data - Darkdata)/ Flatdata\n",
    "nodA2_2 = (A2_hdulist[2].data - Darkdata)/ Flatdata\n",
    "nodB1_2 = (B1_hdulist[2].data - Darkdata)/ Flatdata\n",
    "nodB2_2 = (B2_hdulist[2].data - Darkdata)/ Flatdata\n",
    "nodA3_2 = (A3_hdulist[2].data - Darkdata)/ Flatdata\n",
    "nodA4_2 = (A4_hdulist[2].data - Darkdata)/ Flatdata\n",
    "nodB3_2 = (B3_hdulist[2].data - Darkdata)/ Flatdata\n",
    "nodB4_2 = (B4_hdulist[2].data - Darkdata)/ Flatdata\n"
   ]
  },
  {
   "cell_type": "code",
   "execution_count": null,
   "metadata": {
    "collapsed": false
   },
   "outputs": [],
   "source": [
    "nodB2_B1 = nodB2_2 - nodB1_2\n",
    "nodB3_B1 = nodB3_2 - nodB1_2\n",
    "nodB4_B1 = nodB4_2 - nodB1_2\n",
    "nodB3_B2 = nodB3_2 - nodB2_2\n",
    "nodB4_B3 = nodB4_2 - nodB3_2\n",
    "\n",
    "nodA2_A1 = nodA2_2 - nodA1_2\n",
    "nodA3_A1 = nodA3_2 - nodA1_2\n",
    "nodA3_A2 = nodA4_2 - nodA2_2\n",
    "nodA4_A2 = nodA4_2 - nodA2_2\n",
    "nodA4_A3 = nodA4_2 - nodA3_2"
   ]
  },
  {
   "cell_type": "code",
   "execution_count": null,
   "metadata": {
    "collapsed": false
   },
   "outputs": [],
   "source": [
    "plt.figure()\n",
    "im = plt.imshow(nodB3_B1[300:400,:])\n",
    "plt.show()"
   ]
  },
  {
   "cell_type": "code",
   "execution_count": null,
   "metadata": {
    "collapsed": false
   },
   "outputs": [],
   "source": [
    "x = np.arange(1024)\n",
    "y = np.arange(512)\n",
    "\n",
    "X, Y = np.meshgrid(x, y)\n",
    "\n",
    "# slice\n",
    "X1 = X[300:400,:]\n",
    "Y1 = Y[300:400,:]\n",
    "nodB3_B1_slice = nodB3_B1[300:400,:]\n",
    "\n",
    "cs = plt.contourf(X1, Y1, nodB3_B1_slice,locator=ticker.LogLocator() )\n",
    "#cs = plt.contourf(X, Y, nodB3_B1, locator=ticker.LogLocator(), cmap=cm.PuBu_r)\n",
    "\n",
    "cbar = plt.colorbar()\n",
    "\n",
    "plt.show()\n",
    "cs = plt.contourf(X1, Y1, -nodB3_B1_slice, locator=ticker.LogLocator() )\n",
    "#cs = plt.contourf(X, Y, nodB3_B1, locator=ticker.LogLocator(), cmap=cm.PuBu_r)\n",
    "\n",
    "cbar = plt.colorbar()\n",
    "\n",
    "plt.show()"
   ]
  },
  {
   "cell_type": "code",
   "execution_count": null,
   "metadata": {
    "collapsed": false
   },
   "outputs": [],
   "source": [
    "plt.figure()\n",
    "cs = plt.contourf(X1, Y1, nodB3_B2[300:400,:], locator=ticker.LogLocator() )\n",
    "#cs = plt.contourf(X, Y, nodB3_B1, locator=ticker.LogLocator(), cmap=cm.PuBu_r)\n",
    "\n",
    "cbar = plt.colorbar()\n",
    "\n",
    "plt.show()\n",
    "cs = plt.contourf(X1, Y1, -nodB3_B2[300:400,:], locator=ticker.LogLocator() )\n",
    "#cs = plt.contourf(X, Y, nodB3_B1, locator=ticker.LogLocator(), cmap=cm.PuBu_r)\n",
    "\n",
    "cbar = plt.colorbar()\n",
    "\n",
    "plt.show()"
   ]
  },
  {
   "cell_type": "code",
   "execution_count": null,
   "metadata": {
    "collapsed": false
   },
   "outputs": [],
   "source": [
    "#Bnods\n",
    "if False:\n",
    "    for i in range(335,380,2):\n",
    "     print(i)\n",
    "     plt.plot(nodB1_2[i,:]- nodA1_2[i,:], label=\"1\")\n",
    "     plt.plot(nodB2_2[i,:]- nodA2_2[i,:], label=\"2\")\n",
    "     plt.plot(nodB3_2[i,:]- nodA3_2[i,:], label=\"3\")\n",
    "     plt.plot(nodB4_2[i,:]- nodA4_2[i,:], label=\"4\")\n",
    "     plt.ylim([0,1000])\n",
    "     plt.legend(loc=0)\n",
    "     plt.show()\n",
    "    \n"
   ]
  },
  {
   "cell_type": "code",
   "execution_count": null,
   "metadata": {
    "collapsed": false
   },
   "outputs": [],
   "source": [
    "# Poor rectangular aperature\n",
    "\n",
    "# Sum   from 335 to 353 sum 3 and 4    \n",
    "#    from 341 to 363 sum 1 and 2\n",
    "nodB4_A4 = nodB4_2 - nodA4_2 \n",
    "nodB3_A3 = nodB3_2 - nodA3_2 \n",
    "nodB2_A2 = nodB2_2 - nodA2_2 \n",
    "nodB1_A1 = nodB1_2 - nodA1_2 \n",
    "\n",
    "\n",
    "B1_ext = np.sum(nodB1_A1[341:363,:],axis=0)\n",
    "B2_ext = np.sum(nodB2_A2[341:363,:],axis=0)\n",
    "B3_ext =  np.sum(nodB3_A3[335:353,:],axis=0)\n",
    "B4_ext =  np.sum(nodB4_A4[335:353,:],axis=0)\n",
    "np.size(B4_ext)\n",
    "\n",
    "plt.figure()\n",
    "plt.title(\"Rough Extraction of HD202206-1 ..._2.fits\")\n",
    "plt.plot(B1_ext, label=\"B1 extracted\")\n",
    "plt.plot(B2_ext, label=\"B2 extracted\")\n",
    "plt.plot(B3_ext, label=\"B3 extracted\")\n",
    "plt.plot(B4_ext, label=\"B4 extracted\")\n",
    "plt.legend(loc=0)\n",
    "plt.show()"
   ]
  },
  {
   "cell_type": "code",
   "execution_count": null,
   "metadata": {
    "collapsed": false
   },
   "outputs": [],
   "source": [
    "#Anods\n",
    "if False:\n",
    "  for i in range(200, 250,1):\n",
    "  #for i in range(335,380,2):\n",
    "    print(i)\n",
    "    plt.plot(nodA3_2[i,:]- nodB3_2[i,:])\n",
    "    plt.ylim([0,1000])\n",
    "    plt.show()\n",
    "    "
   ]
  },
  {
   "cell_type": "code",
   "execution_count": null,
   "metadata": {
    "collapsed": false
   },
   "outputs": [],
   "source": [
    "# Plot the extracted spectra to compare:\n",
    "\n",
    "nodB1_ext  = \"../../../data/Crires/BDs-DRACS/HD202206-1-copy_to_find_artifacts/CRIRE.2012-07-12T06:58:20.691_2.nod.ms.fits\"\n",
    "nodB2_ext  = \"../../../data/Crires/BDs-DRACS/HD202206-1-copy_to_find_artifacts/CRIRE.2012-07-12T07:01:49.683_2.nod.ms.fits\"\n",
    "nodB3_ext  = \"../../../data/Crires/BDs-DRACS/HD202206-1-copy_to_find_artifacts/CRIRE.2012-07-12T07:12:39.576_2.nod.ms.fits\"\n",
    "nodB4_ext  = \"../../../data/Crires/BDs-DRACS/HD202206-1-copy_to_find_artifacts/CRIRE.2012-07-12T07:16:06.773_2.nod.ms.fits\"\n",
    "\n",
    "B1 = fits.getdata(nodB1_ext)\n",
    "B2 = fits.getdata(nodB2_ext)\n",
    "B3 = fits.getdata(nodB3_ext)\n",
    "B4 = fits.getdata(nodB4_ext)\n",
    "\n",
    "## PLot pedros extracted values\n",
    "Pedro1 = \"../../../data/Crires/CRIRE.2012-07-12T07:12:39.576_2.nod.ms.fits\"\n",
    "Pedro2 = \"../../../data/Crires/CRIRE.2012-07-12T07:16:06.773_2.nod.ms.fits\"\n",
    "P1 = fits.getdata(Pedro1)\n",
    "P2 = fits.getdata(Pedro2)\n",
    "\n",
    "plt.figure()\n",
    "plt.title(\"IRAF extracted HD202206-1 ..._2.nod.ms.fits\")\n",
    "plt.plot(P1, \"g\", label= \"Pedro 1\")\n",
    "plt.plot(P2, \"r\", label= \"Pedro 2\")\n",
    "plt.plot(B3, \"y--\", label= \"B3 nod\")\n",
    "plt.plot(B4, \"b--\", label= \"B4 nod\")\n",
    "plt.legend(loc=0)\n",
    "plt.show()\n"
   ]
  },
  {
   "cell_type": "code",
   "execution_count": null,
   "metadata": {
    "collapsed": false
   },
   "outputs": [],
   "source": [
    "# Plot the extracted spectra to compare:\n",
    "#Normalized extracted spectra from IRAF\n",
    "nodB1_ext  = \"../../../data/Crires/BDs-DRACS/HD202206-1-copy_to_find_artifacts/CRIRE.2012-07-12T06:58:20.691_2.nod.ms.fits\"\n",
    "nodB2_ext  = \"../../../data/Crires/BDs-DRACS/HD202206-1-copy_to_find_artifacts/CRIRE.2012-07-12T07:01:49.683_2.nod.ms.fits\"\n",
    "nodB3_ext  = \"../../../data/Crires/BDs-DRACS/HD202206-1-copy_to_find_artifacts/CRIRE.2012-07-12T07:12:39.576_2.nod.ms.fits\"\n",
    "nodB4_ext  = \"../../../data/Crires/BDs-DRACS/HD202206-1-copy_to_find_artifacts/CRIRE.2012-07-12T07:16:06.773_2.nod.ms.fits\"\n",
    "\n",
    "B1 = fits.getdata(nodB1_ext)\n",
    "B2 = fits.getdata(nodB2_ext)\n",
    "B3 = fits.getdata(nodB3_ext)\n",
    "B4 = fits.getdata(nodB4_ext)\n",
    "\n",
    "plt.figure()\n",
    "plt.title(\"Python and  IRAF extracted HD202206-1 ..._2.nod.ms.fits\")\n",
    "\n",
    "plt.plot(B1_ext, label=\"B1 python\")\n",
    "plt.plot(B2_ext, label=\"B2 python\")\n",
    "plt.plot(B3_ext, label=\"B3 python\")\n",
    "plt.plot(B4_ext, label=\"B4 python\")\n",
    "plt.plot(B1, label= \"B1 Iraf\")\n",
    "plt.plot(B2, label= \"B2 Iraf\")\n",
    "plt.plot(B3, label= \"B3 Iraf\")\n",
    "plt.plot(B4, label= \"B4 Iraf\")\n",
    "plt.legend(loc=0)\n",
    "plt.show()"
   ]
  },
  {
   "cell_type": "code",
   "execution_count": null,
   "metadata": {
    "collapsed": true
   },
   "outputs": [],
   "source": [
    "# plot jsut a summed version and the iraf extracted values\n"
   ]
  },
  {
   "cell_type": "code",
   "execution_count": null,
   "metadata": {
    "collapsed": false
   },
   "outputs": [],
   "source": [
    "if True:\n",
    " plt.imshow(nodB4_B1)\n",
    " plt.show()\n",
    " plt.imshow(nodB2_B1)\n",
    " plt.show()\n",
    " plt.imshow(nodB3_B1)\n",
    " plt.show()\n",
    " plt.imshow(nodB4_B1)\n",
    " plt.show()\n",
    " plt.imshow(nodB3_B2)\n",
    " plt.show()\n",
    " plt.imshow(nodB4_B3)\n",
    " plt.show()\n"
   ]
  },
  {
   "cell_type": "code",
   "execution_count": null,
   "metadata": {
    "collapsed": false
   },
   "outputs": [],
   "source": [
    "if False:\n",
    " plt.imshow(nodA2_A1)\n",
    " plt.show()\n",
    " plt.imshow(nodA3_A1)\n",
    " plt.show()\n",
    " plt.imshow(nodA3_A2)\n",
    " plt.show()\n",
    " plt.imshow(nodA4_A2)\n",
    " plt.show()\n",
    " plt.imshow(nodA4_A3)\n",
    " plt.show()"
   ]
  },
  {
   "cell_type": "code",
   "execution_count": null,
   "metadata": {
    "collapsed": false
   },
   "outputs": [],
   "source": []
  },
  {
   "cell_type": "code",
   "execution_count": null,
   "metadata": {
    "collapsed": false
   },
   "outputs": [],
   "source": [
    "plt.figure()\n",
    "cs = plt.contourf(X, Y, nodA3_A1, locator=ticker.LogLocator(), cmap=cm.PuBu_r)\n",
    "\n",
    "cbar = plt.colorbar()\n",
    "\n",
    "plt.show()"
   ]
  },
  {
   "cell_type": "code",
   "execution_count": null,
   "metadata": {
    "collapsed": false
   },
   "outputs": [],
   "source": [
    "plt.figure()\n",
    "cs = plt.contourf(X, Y, nodA3_A2, locator=ticker.LogLocator(), cmap=cm.PuBu_r)\n",
    "\n",
    "cbar = plt.colorbar()\n",
    "\n",
    "plt.show()"
   ]
  },
  {
   "cell_type": "code",
   "execution_count": null,
   "metadata": {
    "collapsed": false
   },
   "outputs": [],
   "source": [
    "plt.figure()\n",
    "cs = plt.contourf(X, Y, nodA2_A1, locator=ticker.LogLocator(), cmap=cm.PuBu_r)\n",
    "\n",
    "cbar = plt.colorbar()\n",
    "\n",
    "plt.show()"
   ]
  },
  {
   "cell_type": "code",
   "execution_count": null,
   "metadata": {
    "collapsed": true
   },
   "outputs": [],
   "source": []
  }
 ],
 "metadata": {
  "kernelspec": {
   "display_name": "Python 2",
   "language": "python",
   "name": "python2"
  },
  "language_info": {
   "codemirror_mode": {
    "name": "ipython",
    "version": 2
   },
   "file_extension": ".py",
   "mimetype": "text/x-python",
   "name": "python",
   "nbconvert_exporter": "python",
   "pygments_lexer": "ipython2",
   "version": "2.7.12"
  }
 },
 "nbformat": 4,
 "nbformat_minor": 0
}

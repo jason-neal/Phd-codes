{
 "cells": [
  {
   "cell_type": "markdown",
   "metadata": {},
   "source": [
    "# Doppler effect at 2 micro:\n",
    "\n",
    "Tests of size of doppler effect and test linearity.\n",
    "    "
   ]
  },
  {
   "cell_type": "code",
   "execution_count": null,
   "metadata": {
    "collapsed": false
   },
   "outputs": [],
   "source": [
    "from __future__ import print_function, division\n",
    "from PyAstronomy import pyasl\n",
    "import numpy as np\n",
    "import matplotlib.pylab as plt\n",
    "%matplotlib inline"
   ]
  },
  {
   "cell_type": "markdown",
   "metadata": {},
   "source": [
    "## Size of doppler effect"
   ]
  },
  {
   "cell_type": "code",
   "execution_count": null,
   "metadata": {
    "collapsed": false
   },
   "outputs": [],
   "source": [
    "RVs = np.array([1, 10, 100, 1000, 10000]) # m/s 1m/s to 10km/s\n",
    "\n",
    "wavelengths = np.linspace(2000, 2200, 1000)*10  # nm : 0.01 nm intervals\n",
    "wavelengths = wavelengths * 10  # in Angstroms\n",
    "\n",
    "plt.figure()\n",
    "for rv in RVs:\n",
    "    rv_km = rv/1000.  # turn into km/s\n",
    "    __ , new_wavelengths = pyasl.dopplerShift(wavelengths, np.ones_like(wavelengths), rv_km, edgeHandling=\"firstlast\")\n",
    "\n",
    "    plt.semilogy(wavelengths/10, new_wavelengths-wavelengths, label=\"RV = {} m/s\".format(rv))\n",
    "\n",
    "plt.title(\"RV doppler effect at 2.1 micron\")\n",
    "plt.xlabel(\"Wavelength (nm)\")\n",
    "plt.ylabel(\"Wavelength doppler Shift\")\n",
    "plt.legend(loc=0)\n",
    "plt.show()\n",
    "\n",
    "print()"
   ]
  },
  {
   "cell_type": "code",
   "execution_count": null,
   "metadata": {
    "collapsed": false
   },
   "outputs": [],
   "source": [
    "plt.figure()\n",
    "for rv in RVs:\n",
    "    rv_km = rv/1000.  # turn into km/s\n",
    "    __ , new_wavelengths = pyasl.dopplerShift(wavelengths, np.ones_like(wavelengths), rv_km, edgeHandling=\"firstlast\")\n",
    "\n",
    "    plt.semilogy(wavelengths/10, (new_wavelengths-wavelengths)/wavelengths, label=\"RV = {} m/s\".format(rv))\n",
    "\n",
    "plt.title(\"RV doppler effect at 2.1 micron\")\n",
    "plt.xlabel(\"Wavelength (nm)\")\n",
    "plt.ylabel(\"z\")\n",
    "plt.legend(loc=0)\n",
    "plt.show()\n",
    "\n",
    "print()\n",
    "\n",
    "z = []\n"
   ]
  },
  {
   "cell_type": "code",
   "execution_count": null,
   "metadata": {
    "collapsed": false
   },
   "outputs": [],
   "source": [
    "wl = np.array([20000,30000]) #A\n",
    "new_wls = []\n",
    "z = []\n",
    "for rv in RVs:\n",
    "    __ , new_wl= pyasl.dopplerShift(wl, np.ones_like(wl), rv/1000., edgeHandling=\"firstlast\")\n",
    "    new_wls.append(new_wl)\n",
    "    z.append((new_wl-wl)/wl)\n",
    "    \n",
    "print(\"wl = {}\".format(wl))\n",
    "print(\"RV     = {}\".format(RVs))\n",
    "\n",
    "print(\"new wl = {}\".format(new_wls))\n",
    "print(\"wl diff= {}\".format(np.array(new_wls)-wl))\n",
    "print(\"z      = {}\".format(z))\n"
   ]
  },
  {
   "cell_type": "markdown",
   "metadata": {},
   "source": [
    "# Linearity - True"
   ]
  },
  {
   "cell_type": "code",
   "execution_count": null,
   "metadata": {
    "collapsed": true
   },
   "outputs": [],
   "source": [
    "# apply different RVs and then undo them all at once.\n",
    "#Try same order and differnt order of mag"
   ]
  },
  {
   "cell_type": "code",
   "execution_count": null,
   "metadata": {
    "collapsed": true
   },
   "outputs": [],
   "source": [
    "org_wl = np.array([4000, 7000, 20000,30000])  # A\n",
    "RVs = np.array([13, 5, -13, 10, 23.5, 2, -10, -30.5])  # adding these values in order should return value to begining i think"
   ]
  },
  {
   "cell_type": "code",
   "execution_count": null,
   "metadata": {
    "collapsed": false
   },
   "outputs": [],
   "source": [
    "# Low RV\n",
    "low_RV = RVs/1000.\n",
    "\n",
    "z_org = []\n",
    "z_new = []\n",
    "new_wls = []\n",
    "iter_wl = org_wl\n",
    "rv_sum = 0\n",
    "\n",
    "for this_rv in low_RV:\n",
    "    __ , new_wl = pyasl.dopplerShift(iter_wl, np.ones_like(iter_wl), this_rv, edgeHandling=\"firstlast\")\n",
    "    new_wls.append(new_wl)\n",
    "    z_org.append((new_wl-org_wl)/org_wl)\n",
    "    z_new.append((new_wl-iter_wl)/iter_wl)\n",
    "    iter_wl = new_wl\n",
    "    rv_sum += this_rv\n",
    "    \n",
    "\n",
    "#print(z_org)\n",
    "print(\"Low RV values          = {0} km/s\".format(low_RV))\n",
    "print(\"Low RV Loop Difference = {0}\".format(iter_wl - org_wl))\n"
   ]
  },
  {
   "cell_type": "code",
   "execution_count": null,
   "metadata": {
    "collapsed": true
   },
   "outputs": [],
   "source": [
    "# At m/s levels the wavelength values return to their original values after multiple shift with a total rv of 0.\n",
    "# at mid and high RV they almost get back to same values. I think floating point cretes the errors."
   ]
  },
  {
   "cell_type": "code",
   "execution_count": null,
   "metadata": {
    "collapsed": false
   },
   "outputs": [],
   "source": [
    "# Med RV \n",
    "med_RV = RVs/10\n",
    "\n",
    "z_org = []\n",
    "z_new = []\n",
    "new_wls = []\n",
    "iter_wl = org_wl\n",
    "rv_sum = 0\n",
    "\n",
    "for this_rv in med_RV:\n",
    "    __ , new_wl = pyasl.dopplerShift(iter_wl, np.ones_like(iter_wl), this_rv, edgeHandling=\"firstlast\")\n",
    "    new_wls.append(new_wl)\n",
    "    z_org.append((new_wl-org_wl)/org_wl)\n",
    "    z_new.append((new_wl-iter_wl)/iter_wl)\n",
    "    iter_wl = new_wl\n",
    "    rv_sum += this_rv\n",
    "    \n",
    "print(z_org)\n",
    "\n",
    "#print(z_org)\n",
    "print(\"Med RV values          = {0} km/s\".format(med_RV))\n",
    "print(\"Med RV Loop Difference = {0}\".format(iter_wl - org_wl))"
   ]
  },
  {
   "cell_type": "code",
   "execution_count": null,
   "metadata": {
    "collapsed": false
   },
   "outputs": [],
   "source": [
    "#High RV \n",
    "high_RV = RVs*10\n",
    "\n",
    "z_org = []\n",
    "z_new = []\n",
    "new_wls = []\n",
    "iter_wl = org_wl\n",
    "rv_sum = 0\n",
    "\n",
    "for this_rv in high_RV:\n",
    "    __ , new_wl = pyasl.dopplerShift(iter_wl, np.ones_like(iter_wl), this_rv, edgeHandling=\"firstlast\")\n",
    "    new_wls.append(new_wl)\n",
    "    z_org.append((new_wl-org_wl)/org_wl)\n",
    "    z_new.append((new_wl-iter_wl)/iter_wl)\n",
    "    iter_wl = new_wl\n",
    "    rv_sum += this_rv\n",
    "    \n",
    "#print(z_org)\n",
    "print(\"High RV values          = {0} km/s\".format(high_RV))\n",
    "print(\"High RV Loop Difference = {0}\".format(iter_wl - org_wl))"
   ]
  },
  {
   "cell_type": "code",
   "execution_count": null,
   "metadata": {
    "collapsed": true
   },
   "outputs": [],
   "source": [
    "# From this I think that the RV is linear and you can apply a bunch of different rv shifts after each other\n",
    "# There is jsut an issue with floating point precision"
   ]
  },
  {
   "cell_type": "code",
   "execution_count": null,
   "metadata": {
    "collapsed": true
   },
   "outputs": [],
   "source": []
  },
  {
   "cell_type": "code",
   "execution_count": null,
   "metadata": {
    "collapsed": true
   },
   "outputs": [],
   "source": []
  }
 ],
 "metadata": {
  "kernelspec": {
   "display_name": "Python 2",
   "language": "python",
   "name": "python2"
  },
  "language_info": {
   "codemirror_mode": {
    "name": "ipython",
    "version": 2
   },
   "file_extension": ".py",
   "mimetype": "text/x-python",
   "name": "python",
   "nbconvert_exporter": "python",
   "pygments_lexer": "ipython2",
   "version": "2.7.12"
  }
 },
 "nbformat": 4,
 "nbformat_minor": 0
}

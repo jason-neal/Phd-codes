{
 "cells": [
  {
   "cell_type": "markdown",
   "metadata": {},
   "source": [
    "# Star RV from Keplerian Orbital solution:\n",
    "\n",
    "Determine the radial velocity at the time of each observation to apply the correct shifts to align the spectra pecisely after BERV correction. Or determine how big the shifts would be.\n",
    "\n"
   ]
  },
  {
   "cell_type": "markdown",
   "metadata": {},
   "source": [
    "For a test using the keplerian orbital solution from Sahlmann et al 2010.\n",
    "## Parameters for HD30501"
   ]
  },
  {
   "cell_type": "code",
   "execution_count": null,
   "metadata": {
    "collapsed": true
   },
   "outputs": [],
   "source": [
    "Object = \"HD30501\"\n",
    "\n",
    "gamma_c98 = 23.725 # km/s    +/- 0.026\n",
    "gamma_c07 = 23.710 # km/s    +/- 0.028\n",
    "P = 2073.6         # days    +/- 3\n",
    "e = 0.741          #         +/- 0.004\n",
    "K_1 = 1703.1       # m/s     +/- 26\n",
    "T_0 = 53851.5      # JD^*    +/- 3\n",
    "omega = 70.4       # deg     +/- 0.7\n",
    "\n",
    "# Companion parameters\n",
    "M_2sini = 62.3     # M_J     +/- 2.1"
   ]
  },
  {
   "cell_type": "code",
   "execution_count": null,
   "metadata": {
    "collapsed": true
   },
   "outputs": [],
   "source": [
    "# To be continued at a later date / if needed"
   ]
  },
  {
   "cell_type": "code",
   "execution_count": null,
   "metadata": {
    "collapsed": true
   },
   "outputs": [],
   "source": []
  }
 ],
 "metadata": {
  "kernelspec": {
   "display_name": "Python [default]",
   "language": "python",
   "name": "python3"
  },
  "language_info": {
   "codemirror_mode": {
    "name": "ipython",
    "version": 3
   },
   "file_extension": ".py",
   "mimetype": "text/x-python",
   "name": "python",
   "nbconvert_exporter": "python",
   "pygments_lexer": "ipython3",
   "version": "3.5.3"
  }
 },
 "nbformat": 4,
 "nbformat_minor": 1
}

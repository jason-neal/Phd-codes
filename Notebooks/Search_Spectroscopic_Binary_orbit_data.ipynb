{
 "cells": [
  {
   "cell_type": "markdown",
   "metadata": {
    "collapsed": true
   },
   "source": [
    "# Analyse Spectroscopic Binaries\n",
    "Looking at orbtial tables to determine any good ones to test our technique on\n",
    "\n",
    "Source of data http://sb9.astro.ulb.ac.be/mainform.cgi\n",
    "\n",
    "And learning how to use pandas dataframes. \n",
    "Jason Neal 22 September 2016"
   ]
  },
  {
   "cell_type": "code",
   "execution_count": null,
   "metadata": {
    "collapsed": true
   },
   "outputs": [],
   "source": [
    "import pandas as pd\n",
    "import numpy as np"
   ]
  },
  {
   "cell_type": "code",
   "execution_count": null,
   "metadata": {
    "collapsed": true
   },
   "outputs": [],
   "source": [
    "Main_data = \"/home/jneal/Phd/data/Spectroscopic_Binaries_9/Main.dta\"\n",
    "Orbit_data =\"/home/jneal/Phd/data/Spectroscopic_Binaries_9/Orbits.dta\""
   ]
  },
  {
   "cell_type": "code",
   "execution_count": null,
   "metadata": {
    "collapsed": false
   },
   "outputs": [],
   "source": [
    "main_names = [\"System Number\", \"1900.0 coords\", \n",
    "              \"2000.0 coords\", \"Component\", \"Mag 1\",\n",
    "              \"Filter 1\", \"Mag 2\", \"Filter 2\", \n",
    "              \"Spectral type 1\", \"Spectral type 2\"]\n",
    "\n",
    "main = pd.read_table(Main_data,delimiter=\"|\",header=None, names=main_names)\n",
    "#main.columns\n",
    "\n",
    "# Remove items that dont have magnitudes\n",
    "cleaned = main.dropna(axis=0, how='any', thresh=None, subset=[\"Mag 1\",\"Mag 2\"], inplace=False)\n",
    "\n",
    "\n",
    "# Add extra column like\n",
    "#sLength = len(df1['a'])\n",
    "#df1['e'] = p.Series(np.random.randn(sLength), index=df1.index)\n"
   ]
  },
  {
   "cell_type": "code",
   "execution_count": null,
   "metadata": {
    "collapsed": false
   },
   "outputs": [],
   "source": [
    "f = 2.512\n",
    "cleaned[\"Mag 1\"] = pd.to_numeric(cleaned[\"Mag 1\"], errors=\"ignore\")\n",
    "cleaned[\"Mag 2\"] = pd.to_numeric(cleaned[\"Mag 2\"], errors=\"ignore\")\n",
    "\n",
    "\n",
    "cleaned [\"Mag diff\"] = cleaned[\"Mag 1\"] - cleaned[\"Mag 2\"]\n",
    "cleaned[\"Flux Ratio\"] = f ** cleaned[\"Mag diff\"]\n",
    "cleaned[\"Other Ratio\"] = f ** -cleaned[\"Mag diff\"]"
   ]
  },
  {
   "cell_type": "code",
   "execution_count": null,
   "metadata": {
    "collapsed": false
   },
   "outputs": [],
   "source": [
    "cleaned\n",
    "# Now want to look for value with other ratio between 10 and 150\n",
    "filtered=cleaned[(cleaned[\"Other Ratio\"] < 1000) & (cleaned[\"Other Ratio\"] > 5) & (cleaned[\"Mag 2\"] < 12)]"
   ]
  },
  {
   "cell_type": "code",
   "execution_count": null,
   "metadata": {
    "collapsed": false
   },
   "outputs": [],
   "source": [
    "orbit_names = [\"System Number\", \"Orbit number for that system\", \"Period (d)\", \"error on P (d)\",\n",
    "               \"Periastron time (JD-2400000)\", \"error on Periastron time\", \"Flag on periastron time\",\n",
    "               \"eccentricity\", \"error on eccentricity\", \"argument of periastron (deg)\", \"error on omega\", \n",
    "               \"K1 (km/s)\", \"error on K1 (km/s)\", \"K2 (km/s)\", \"error on K2 (km/s)\", \n",
    "               \"systemic velocity (km/s)\", \"error on V0 (km/s)\", \"rms RV1 (km/s)\", \"rms RV2 (km/s)\",\n",
    "               \"#RV1 \", \"#RV2\", \"Grade (0:poor, 5: definitive)\", \"Bibcode\", \"Contributor\", \"Accessibility\"]\n",
    "\n",
    "orbits = pd.read_table(Orbit_data, delimiter=\"|\", header=None, names=orbit_names)\n",
    "orbits.columns\n",
    "#orbits.sort(\"Period (d)\")\n",
    "\n",
    "s = orbits[[\"System Number\", \"Period (d)\", \"K1 (km/s)\", \"K2 (km/s)\", \"rms RV1 (km/s)\", \"Periastron time (JD-2400000)\", \"argument of periastron (deg)\"]]\n",
    "\n",
    "#print(section.sort(\"K2 (km/s)\"))\n",
    "s[(s[\"Period (d)\"] < 20) & (s[\"Period (d)\"] > 5)]\n",
    "a = s[(s[\"Period (d)\"] < 20) & (s[\"Period (d)\"] > 5)]\n",
    "\n",
    "# Drop rows that have NAN on any value in this subsection  could use subset to just select K1, K2 etc\n",
    "b = a.dropna(axis=0, how='any', thresh=None, subset=None, inplace=False)\n",
    "\n",
    "#print(b)\n"
   ]
  },
  {
   "cell_type": "code",
   "execution_count": null,
   "metadata": {
    "collapsed": false
   },
   "outputs": [],
   "source": []
  },
  {
   "cell_type": "markdown",
   "metadata": {},
   "source": [
    "# Find systems in main that match the orbits parameters"
   ]
  },
  {
   "cell_type": "code",
   "execution_count": null,
   "metadata": {
    "collapsed": false
   },
   "outputs": [],
   "source": [
    "#matches = s[s[\"System Number\"] == cleaned[\"System Number\"]]\n",
    "\n",
    "matches = pd.merge(filtered, orbits, on= [\"System Number\"], how='inner')  "
   ]
  },
  {
   "cell_type": "code",
   "execution_count": null,
   "metadata": {
    "collapsed": false
   },
   "outputs": [],
   "source": [
    "matches[[\"System Number\", \"Mag 1\", \"Mag 2\", \"Flux Ratio\", \"Other Ratio\", \"Period (d)\", \"K1 (km/s)\", \"K2 (km/s)\"]]\n"
   ]
  },
  {
   "cell_type": "markdown",
   "metadata": {},
   "source": [
    "# \n",
    "The flux ratio between the binaries is quite low in general around <20  when we are look to aim at >100. Also not very bright targets."
   ]
  },
  {
   "cell_type": "code",
   "execution_count": null,
   "metadata": {
    "collapsed": true
   },
   "outputs": [],
   "source": []
  }
 ],
 "metadata": {
  "anaconda-cloud": {},
  "kernelspec": {
   "display_name": "Python [conda env:py35]",
   "language": "python",
   "name": "conda-env-py35-py"
  },
  "language_info": {
   "codemirror_mode": {
    "name": "ipython",
    "version": 3
   },
   "file_extension": ".py",
   "mimetype": "text/x-python",
   "name": "python",
   "nbconvert_exporter": "python",
   "pygments_lexer": "ipython3",
   "version": "3.5.2"
  }
 },
 "nbformat": 4,
 "nbformat_minor": 1
}

{
 "cells": [
  {
   "cell_type": "markdown",
   "metadata": {},
   "source": [
    "# Analyse Spectroscopic Binaries\n",
    "Looking at orbtial tables to determine any good ones to test our technique on\n",
    "\n",
    " Source of data http://sb9.astro.ulb.ac.be/mainform.cgi"
   ]
  },
  {
   "cell_type": "code",
   "execution_count": null,
   "metadata": {
    "collapsed": true
   },
   "outputs": [],
   "source": [
    "import pandas as pd\n",
    "import numpy as np"
   ]
  },
  {
   "cell_type": "code",
   "execution_count": null,
   "metadata": {
    "collapsed": true
   },
   "outputs": [],
   "source": [
    "Main_data = \"/home/jneal/Phd/data/Spectroscopic_Binaries_9/Main.dta\"\n",
    "Orbit_data =\"/home/jneal/Phd/data/Spectroscopic_Binaries_9/Orbits.dta\""
   ]
  },
  {
   "cell_type": "code",
   "execution_count": null,
   "metadata": {
    "collapsed": false
   },
   "outputs": [],
   "source": [
    "main_names = [\"System Number (SB8: <=1469)\", \"1900.0 coordinates (for backward compatibility with SB8)\", \n",
    "              \"2000.0 coordinates\", \"Component\", \"Magnitude of component 1\",\n",
    "              \"Filter component 1\", \"Magnitude of component 2\", \"Filter component 2\", \n",
    "              \"Spectral type component 1\", \"Spectral type component 2\"]\n",
    "\n",
    "main = pd.read_table(Main_data,delimiter=\"|\",header=None, names=main_names)\n",
    "#main.columns\n",
    "\n",
    "# Remove items that dont have magnitudes\n",
    "main.dropna(axis=0, how='any', thresh=None, subset=[\"Magnitude of component 1\",\"Magnitude of component 2\"], inplace=False)\n",
    "\n",
    "\n",
    "# Add extra column like\n",
    "#sLength = len(df1['a'])\n",
    "#df1['e'] = p.Series(np.random.randn(sLength), index=df1.index)\n"
   ]
  },
  {
   "cell_type": "code",
   "execution_count": null,
   "metadata": {
    "collapsed": false
   },
   "outputs": [],
   "source": [
    "orbit_names = [\"System number\", \"Orbit number for that system\", \"Period (d)\", \"error on P (d)\",\n",
    "               \"Periastron time (JD-2400000)\", \"error on Periastron time\", \"Flag on periastron time\",\n",
    "               \"eccentricity\", \"error on eccentricity\", \"argument of periastron (deg)\", \"error on omega\", \n",
    "               \"K1 (km/s)\", \"error on K1 (km/s)\", \"K2 (km/s)\", \"error on K2 (km/s)\", \n",
    "               \"systemic velocity (km/s)\", \"error on V0 (km/s)\", \"rms RV1 (km/s)\", \"rms RV2 (km/s)\",\n",
    "               \"#RV1 \", \"#RV2\", \"Grade (0:poor, 5: definitive)\", \"Bibcode\", \"Contributor\", \"Accessibility\"]\n",
    "\n",
    "orbits = pd.read_table(Orbit_data, delimiter=\"|\", header=None, names=orbit_names)\n",
    "orbits.columns\n",
    "#orbits.sort(\"Period (d)\")\n",
    "\n",
    "s = orbits[[\"System number\", \"Period (d)\", \"K1 (km/s)\", \"K2 (km/s)\", \"rms RV1 (km/s)\", \"Periastron time (JD-2400000)\", \"argument of periastron (deg)\"]]\n",
    "\n",
    "#print(section.sort(\"K2 (km/s)\"))\n",
    "s[(s[\"Period (d)\"] < 20) & (s[\"Period (d)\"] > 5)]\n",
    "a = s[(s[\"Period (d)\"] < 20) & (s[\"Period (d)\"] > 5)]\n",
    "#print(a)\n",
    "a[\"K1 (km/s)\"]\n",
    "#b = a[a[\"K2 (km/s)\"] < 50]\n",
    "# Drop rows that have NAN on any value in this subsection  could use subset to just select K1, K2 etc\n",
    "b = a.dropna(axis=0, how='any', thresh=None, subset=None, inplace=False)\n",
    "\n",
    "print(b)\n"
   ]
  },
  {
   "cell_type": "code",
   "execution_count": null,
   "metadata": {
    "collapsed": false
   },
   "outputs": [],
   "source": []
  },
  {
   "cell_type": "code",
   "execution_count": null,
   "metadata": {
    "collapsed": true
   },
   "outputs": [],
   "source": []
  }
 ],
 "metadata": {
  "anaconda-cloud": {},
  "kernelspec": {
   "display_name": "Python [conda env:py35]",
   "language": "python",
   "name": "conda-env-py35-py"
  },
  "language_info": {
   "codemirror_mode": {
    "name": "ipython",
    "version": 3
   },
   "file_extension": ".py",
   "mimetype": "text/x-python",
   "name": "python",
   "nbconvert_exporter": "python",
   "pygments_lexer": "ipython3",
   "version": "3.5.2"
  }
 },
 "nbformat": 4,
 "nbformat_minor": 1
}

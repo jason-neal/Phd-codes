{
 "cells": [
  {
   "cell_type": "markdown",
   "metadata": {},
   "source": [
    "# HD30501 simulated differential spectrum"
   ]
  },
  {
   "cell_type": "code",
   "execution_count": null,
   "metadata": {},
   "outputs": [],
   "source": [
    "from astropy.io import fits\n",
    "import numpy as np\n",
    "import matplotlib.pyplot as plt\n",
    "import PyAstronomy.pyasl as pyasl"
   ]
  },
  {
   "cell_type": "code",
   "execution_count": null,
   "metadata": {},
   "outputs": [],
   "source": [
    "# Load phoenix spectrum\n",
    "pathwave = \"/home/jneal/Phd/data/phoenixmodels/WAVE_PHOENIX-ACES-AGSS-COND-2011.fits\"\n",
    "specpath = \"/home/jneal/Phd/data/phoenixmodels/HD30501b-lte02500-5.00-0.0.PHOENIX-ACES-AGSS-COND-2011-HiRes.fits\"\n",
    "w_mod = fits.getdata(pathwave)\n",
    "w_mod /= 10   # turn into nm\n",
    "flux = fits.getdata(specpath)\n",
    "hdr = fits.getheader(specpath)\n",
    "# spec = Spectrum(xaxis=w_mod, flux=flux, header=hdr)\n",
    "\n",
    "\n",
    "# Cut at 2050 - 2150nm\n",
    "mask = (w_mod < 2150) & (w_mod > 2050)\n",
    "w_mod = w_mod[mask]\n",
    "flux = flux[mask]\n",
    "\n",
    "# Normalize\n",
    "flux /= np.median(flux)\n",
    "maxes = flux.argsort()[-100:][::-1]\n",
    "flux /= np.median(flux[maxes])\n",
    "flux[flux<0] = 0"
   ]
  },
  {
   "cell_type": "code",
   "execution_count": null,
   "metadata": {
    "collapsed": true
   },
   "outputs": [],
   "source": [
    "# Calculated Planet RV \n",
    "RV_planet = {\"1\":2327.66695686, \"2a\":1152.7794576, \"2b\":1142.77278133,\"3\":1101.47665896} #m/s\n",
    "\n",
    "obs_num = \"1\"\n",
    "ref_num = \"3\""
   ]
  },
  {
   "cell_type": "code",
   "execution_count": null,
   "metadata": {},
   "outputs": [],
   "source": [
    "\n",
    "nflux_rvobs, wlprime_rvobs = pyasl.dopplerShift(w_mod, flux, RV_planet[obs_num]/1000, edgeHandling=None, fillValue=None)\n",
    "nflux_rvref, wlprime_rvref = pyasl.dopplerShift(w_mod, flux, RV_planet[ref_num]/1000, edgeHandling=None, fillValue=None)\n",
    "nflux_rv6, wlprime_rv6 = pyasl.dopplerShift(w_mod, flux, 6+RV_planet[ref_num]/1000, edgeHandling=None, fillValue=None)\n",
    "nflux_rv12, wlprime_rv12 = pyasl.dopplerShift(w_mod, flux, 12+RV_planet[ref_num]/1000, edgeHandling=None, fillValue=None)\n",
    "nflux_rvhalf, wlprime_rvhalf = pyasl.dopplerShift(w_mod, flux, 0.5+RV_planet[ref_num]/1000, edgeHandling=None, fillValue=None)\n",
    "\n",
    "\n",
    "spec_diff = nflux_rvobs - nflux_rvref\n",
    "spec_diff6 = nflux_rv6 - nflux_rvref\n",
    "spec_diff12 = nflux_rv12 - nflux_rvref\n",
    "spec_diffhalf = nflux_rvhalf - nflux_rvref"
   ]
  },
  {
   "cell_type": "code",
   "execution_count": null,
   "metadata": {},
   "outputs": [],
   "source": [
    "print(spec_diff)"
   ]
  },
  {
   "cell_type": "code",
   "execution_count": null,
   "metadata": {},
   "outputs": [],
   "source": [
    "plt.plot(w_mod, nflux_rvobs)\n",
    "plt.title(\"PHOENIX-ACES Teff=2500K\")\n",
    "plt.xlabel(\"Wavelength (nm)\")\n",
    "plt.ylabel(\"Normalized flux\")\n",
    "plt.xlim([2112,2123])\n",
    "plt.show()\n",
    "\n",
    "\n",
    "plt.plot(w_mod, 0.01 * spec_diff)\n",
    "plt.title(\"Simulated Spectral Difference\")\n",
    "plt.xlim([2112,2123])\n",
    "plt.xlabel(\"Wavelength (nm)\")\n",
    "plt.ylabel(\"Normalized flux diff\")\n",
    "plt.show()\n",
    "\n",
    "plt.plot(w_mod, 0.01 * spec_diff)\n",
    "plt.title(\"Simulated Spectral Difference\")\n",
    "plt.ylim([-0.02, 0.02])\n",
    "plt.xlim([2112,2123])\n",
    "plt.xlabel(\"Wavelength (nm)\")\n",
    "plt.ylabel(\"Normalized flux diff\")\n",
    "plt.show()\n",
    "\n",
    "\n",
    "plt.plot(w_mod, spec_diff6, label=\"6 km/s\")\n",
    "plt.plot(w_mod, spec_diff, label=\"1 km/s\")\n",
    "plt.plot(w_mod, spec_diffhalf, label=\"0.25 km/s\")\n",
    "\n",
    "plt.title(\"RV Separation\")\n",
    "plt.xlim([2112,2123])\n",
    "plt.xlabel(\"Wavelength (nm)\")\n",
    "plt.ylabel(\"Normalized flux diff\")\n",
    "plt.legend()\n",
    "plt.show()"
   ]
  },
  {
   "cell_type": "code",
   "execution_count": null,
   "metadata": {},
   "outputs": [],
   "source": [
    "# Amplitude of differnce spectra\n",
    "rvs = np.arange(-9, 10, 0.2)\n",
    "avg_amplitude = np.zeros_like(rvs)\n",
    "max_amplitude = np.zeros_like(rvs)\n",
    "max_amplitude = []\n",
    "for i, rv in enumerate(rvs):\n",
    "    nflux_rv, wlprime_rv = pyasl.dopplerShift(w_mod, flux, rv, edgeHandling=None, fillValue=None)\n",
    "    diff =  flux - nflux_rv\n",
    "    new_diff = diff[~np.isnan(diff)]\n",
    "    # print(abs(diff))\n",
    "    # print(np.max(new_diff))\n",
    "    # max_amplitude[i] = np.max(new_diff)\n",
    "    max_amplitude.append(np.max(abs(new_diff)))\n",
    "    # print(max_amplitude)\n",
    "    # avg_amplitude[i] = np.median(new_diff)\n",
    "    \n",
    "plt.plot(rvs, max_amplitude)\n",
    "plt.title(\"Maximum Differnce\")\n",
    "plt.ylabel(\"Flux difference\")\n",
    "plt.xlabel(\"RV difference (km/s)\")\n",
    "plt.show()\n",
    "\n",
    "\n",
    "plt.plot(rvs, max_amplitude)\n",
    "plt.title(\"Maximum Difference\")\n",
    "plt.vlines(x=[-1,1], ymin=-0.5, ymax = 0.7)\n",
    "plt.ylim(0,0.6)\n",
    "plt.ylabel(\"Flux difference\")\n",
    "plt.xlabel(\"RV difference (km/s)\")\n",
    "plt.show()\n",
    "\n",
    "\n",
    "\n",
    "# Try a 0 rv shift\n",
    "nflux_1, wlprime_rv = pyasl.dopplerShift(w_mod, flux, 0, edgeHandling=None, fillValue=None)\n",
    "diff =  flux - nflux_1\n",
    "print(diff)"
   ]
  },
  {
   "cell_type": "code",
   "execution_count": null,
   "metadata": {
    "collapsed": true
   },
   "outputs": [],
   "source": []
  },
  {
   "cell_type": "code",
   "execution_count": null,
   "metadata": {
    "collapsed": true
   },
   "outputs": [],
   "source": []
  },
  {
   "cell_type": "code",
   "execution_count": null,
   "metadata": {
    "collapsed": true
   },
   "outputs": [],
   "source": []
  }
 ],
 "metadata": {
  "anaconda-cloud": {},
  "kernelspec": {
   "display_name": "Python [conda root]",
   "language": "python",
   "name": "conda-root-py"
  },
  "language_info": {
   "codemirror_mode": {
    "name": "ipython",
    "version": 3
   },
   "file_extension": ".py",
   "mimetype": "text/x-python",
   "name": "python",
   "nbconvert_exporter": "python",
   "pygments_lexer": "ipython3",
   "version": "3.5.3"
  }
 },
 "nbformat": 4,
 "nbformat_minor": 2
}

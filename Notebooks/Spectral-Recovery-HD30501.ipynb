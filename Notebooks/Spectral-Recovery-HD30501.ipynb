{
 "cells": [
  {
   "cell_type": "markdown",
   "metadata": {},
   "source": [
    "# Spectral Recovery of HD30501\n",
    "March 2016"
   ]
  },
  {
   "cell_type": "code",
   "execution_count": 36,
   "metadata": {
    "collapsed": true
   },
   "outputs": [],
   "source": [
    "import numpy as np\n",
    "import matplotlib.pyplot as plt\n",
    "from astropy.io import fits"
   ]
  },
  {
   "cell_type": "markdown",
   "metadata": {},
   "source": [
    "### Load in the Telluric corrected spectra\n",
    "\n",
    "##### For now just with the wavecal values "
   ]
  },
  {
   "cell_type": "code",
   "execution_count": 37,
   "metadata": {
    "collapsed": false
   },
   "outputs": [],
   "source": [
    "#path = 'C:/Users/Jason/Dropbox/PhD/hd30501-Wavecal-march16/'\n",
    "#name1 = \"CRIRE.2012-04-07T00:0829.976_1.nod.ms.norm.sum.wavecal.tellcorr.test.fits\"\n",
    "#name2 = \"CRIRE.2012-08-01T09-17-30.195_1.nod.ms.norm.sum.wavecal.tellcorr.test.fits\"\n",
    "#name3 = \"CRIRE.2012-08-02T08-47-30.843_1.nod.ms.norm.sum.wavecal.tellcorr.test.fits\"\n",
    "#name4 = \"CRIRE.2012-08-06T09-42-07.888_1.nod.ms.norm.sum.wavecal.tellcorr.test.fits\" \n",
    "\n",
    "path=\"/home/jneal/Phd/data/Hd30501-tellcorrected-test/\"\n",
    "\n",
    "name1 = \"CRIRE.2012-04-07T00:08:29.976_1.nod.ms.norm.sum.wavecal.tellcorr.test.fits\"\n",
    "name2 = \"CRIRE.2012-08-01T09:17:30.195_1.nod.ms.norm.sum.wavecal.tellcorr.test.fits\"\n",
    "name3 = \"CRIRE.2012-08-02T08:47:30.843_1.nod.ms.norm.sum.wavecal.tellcorr.test.fits\"\n",
    "name4 = \"CRIRE.2012-08-06T09:42:07.888_1.nod.ms.norm.sum.wavecal.tellcorr.test.fits\" \n",
    "\n",
    "# Names for all 4 detectors\n",
    "name1_chips = [name1[:30]+str(i)+name1[31:] for i in range(1,5)]\n",
    "name2_chips = [name2[:30]+str(i)+name2[31:] for i in range(1,5)]\n",
    "name3_chips = [name3[:30]+str(i)+name3[31:] for i in range(1,5)]\n",
    "name4_chips = [name4[:30]+str(i)+name4[31:] for i in range(1,5)]\n"
   ]
  },
  {
   "cell_type": "code",
   "execution_count": 38,
   "metadata": {
    "collapsed": false
   },
   "outputs": [
    {
     "name": "stdout",
     "output_type": "stream",
     "text": [
      "Names of the different data vectors in the fits file\n",
      "Obs1 Column names = ['Wavelength', 'Corrected_DRACS', 'Extracted_DRACS', 'Interpolated_Tapas']\n",
      "Data from Detectors is now loaded\n"
     ]
    }
   ],
   "source": [
    "detector = 3   # choose which chip to look at\n",
    "\n",
    "Obs1 = fits.getdata(path + name1_chips[detector]) \n",
    "hdr1 = fits.getheader(path + name1_chips[detector]) \n",
    "Obs2 = fits.getdata(path + name2_chips[detector])\n",
    "hdr2 = fits.getheader(path + name2_chips[detector])\n",
    "Obs3 = fits.getdata(path + name3_chips[detector])\n",
    "hdr3 = fits.getheader(path + name3_chips[detector])\n",
    "Obs4 = fits.getdata(path + name4_chips[detector])\n",
    "hdr4 = fits.getheader(path + name4_chips[detector])\n",
    "print(\"Names of the different data vectors in the fits file\")\n",
    "print(\"Obs1 Column names = {}\".format(Obs1.columns.names))\n",
    "wl1 = Obs1[\"Wavelength\"]\n",
    "I1_uncorr = Obs1[\"Extracted_DRACS\"]\n",
    "I1 = Obs1[\"Corrected_DRACS\"]\n",
    "\n",
    "#print(\"Obs2 Column names = {}\".format(Obs2.columns.names))\n",
    "wl2 = Obs2[\"Wavelength\"]\n",
    "I2_uncorr = Obs2[\"Extracted_DRACS\"]\n",
    "I2 = Obs2[\"Corrected_DRACS\"]\n",
    "Tell_2 = Obs2[\"Interpolated_Tapas\"]\n",
    "\n",
    "#print(\"Obs3 Column names = {}\".format(Obs3.columns.names))\n",
    "wl3 = Obs3[\"Wavelength\"]\n",
    "I3_uncorr = Obs3[\"Extracted_DRACS\"]\n",
    "I3 = Obs3[\"Corrected_DRACS\"]\n",
    "\n",
    "#print(\"Obs4 Column names = {}\".format(Obs4.columns.names))\n",
    "wl4 = Obs4[\"Wavelength\"]\n",
    "I4_uncorr = Obs4[\"Extracted_DRACS\"]\n",
    "I4 = Obs4[\"Corrected_DRACS\"]\n",
    "\n",
    "print(\"Data from Detectors is now loaded\")"
   ]
  },
  {
   "cell_type": "markdown",
   "metadata": {},
   "source": [
    "Plotting the telluric corrected spectra for the different observations here shows that the BERV corrected tapas is good with all the stellar lines lining up very nicely in the plot below without having to apply a correction myself. I previously showed that the tapas BERV correction is correct and gives the same spectra as if I took the non BERV tapas spectra and applied BERV correction from PyAstronomy. Althought I do not know if there is a significant affect between applying it before or after the pixel mapping. \n",
    "\n",
    "BERV correction aligns the stellar lines."
   ]
  },
  {
   "cell_type": "code",
   "execution_count": 45,
   "metadata": {
    "collapsed": true
   },
   "outputs": [],
   "source": [
    "# Plot detector \n",
    "plt.figure()\n",
    "plt.plot(wl1 , I1, label=\"1\")\n",
    "plt.plot(wl2 , I2, label=\"2\")\n",
    "plt.plot(wl3 , I3, label=\"3\")\n",
    "plt.plot(wl4 , I4, label=\"4\")\n",
    "plt.legend(loc=0)\n",
    "plt.title(\"All Telluric Corrected observations of HD30501\")\n",
    "plt.show()\n",
    "\n",
    "# plt spectra and telluric lines to check that there is good wavelength calibration\n",
    "plt.figure()\n",
    "plt.plot(wl1 , I1_uncorr, label=\"1 Obs\")\n",
    "plt.plot(wl1 , Obs1[\"Interpolated_Tapas\"], label=\"1 Telluric\")\n",
    "plt.plot(wl2 , I2_uncorr, label=\"2 Obs\")\n",
    "plt.plot(wl2 , Obs2[\"Interpolated_Tapas\"], label=\"2 Telluric\")\n",
    "plt.plot(wl3 , I3_uncorr, label=\"3 Obs\")\n",
    "plt.plot(wl3 , Obs3[\"Interpolated_Tapas\"], label=\"3 Telluric\")\n",
    "plt.plot(wl4 , I4_uncorr, label=\"4 Obs\")\n",
    "plt.plot(wl4 , Obs4[\"Interpolated_Tapas\"], label=\"4 Telluric\")\n",
    "plt.legend(loc=0)\n",
    "plt.show()"
   ]
  },
  {
   "cell_type": "markdown",
   "metadata": {},
   "source": [
    "To be able to subtract the spectra from each other they need to be interpolated to the same wavelength scale. For this target 3 of the wavelengths are very close together while the 1st is (0.1 nm) different at each pixel so will interpolate to the 2nd observations wavelength."
   ]
  },
  {
   "cell_type": "code",
   "execution_count": 35,
   "metadata": {
    "collapsed": true
   },
   "outputs": [],
   "source": [
    "plt.figure()\n",
    "plt.plot(wl1, \"o-\", label=\"1\")\n",
    "plt.plot(wl2, \"+-\",label=\"2\")\n",
    "plt.plot(wl3, \"*-\", label=\"3\")\n",
    "plt.plot(wl4, \".-\",  label=\"4\")\n",
    "plt.legend(loc=0)\n",
    "plt.title(\"Wavelength values for pixels of each observation of \\ndetector 1\")\n",
    "plt.xlabel(\"pixel\")\n",
    "plt.ylabel(\"Wavelength\")\n",
    "plt.xlim([600,610])\n",
    "ylimits = [[2118.5,2119],[2133.4,2133.8],[2147.4,2147.8],[2160.9,2161.2]]\n",
    "plt.ylim(ylimits[detector])\n",
    "\n",
    "\n",
    "ax = plt.gca()\n",
    "ax.get_yaxis().get_major_formatter().set_useOffset(False)\n",
    "plt.show()"
   ]
  },
  {
   "cell_type": "markdown",
   "metadata": {},
   "source": [
    "### Interpolation to same wavelengths"
   ]
  },
  {
   "cell_type": "code",
   "execution_count": 30,
   "metadata": {
    "collapsed": false
   },
   "outputs": [],
   "source": [
    "from scipy.interpolate import interp1d\n",
    "\n",
    "# Using bounds_error=False to make it work if outside wavelgnth range\n",
    "# if fill-value is not given then will replace outisde bounds values with NaNs\n",
    "interp_1 = interp1d(wl1, I1, kind=\"linear\", bounds_error=False)   \n",
    "interp_2 = interp1d(wl2, I2, kind=\"linear\", bounds_error=False)\n",
    "interp_3 = interp1d(wl3, I3, kind=\"linear\", bounds_error=False)\n",
    "interp_4 = interp1d(wl4, I4, kind=\"linear\", bounds_error=False)\n",
    "\n",
    "wl = wl2     # Specify here sto easily change the reference wavelength\n",
    "I1_interp = interp_1(wl) \n",
    "I2_interp = interp_2(wl) \n",
    "I3_interp = interp_3(wl) \n",
    "I4_interp = interp_4(wl) \n"
   ]
  },
  {
   "cell_type": "code",
   "execution_count": 34,
   "metadata": {
    "collapsed": true
   },
   "outputs": [],
   "source": [
    "# Plot detector 1\n",
    "plt.figure()\n",
    "plt.plot(wl ,I1_interp, label=\"1\")\n",
    "plt.plot(wl ,I2_interp, label=\"2\")\n",
    "plt.plot(wl ,I3_interp, label=\"3\")\n",
    "plt.plot(wl ,I4_interp, label=\"4\")\n",
    "plt.legend(loc=0)\n",
    "plt.title(\"All Telluric Corrected observations of HD30501\")\n",
    "plt.show()"
   ]
  },
  {
   "cell_type": "markdown",
   "metadata": {},
   "source": [
    "### Subtraction of the different observations"
   ]
  },
  {
   "cell_type": "code",
   "execution_count": 32,
   "metadata": {
    "collapsed": false
   },
   "outputs": [],
   "source": [
    "\n",
    "plt.figure()\n",
    "plt.suptitle(\"Subtraction of different observations from detector {}\".format(detector), fontsize=16)\n",
    "plt.subplot(711)\n",
    "plt.plot(wl, I1_interp-I2_interp, label=\"Obs 1 - Obs 2\")\n",
    "#plt.title(\"Observation 1 - Observation 2\")\n",
    "plt.legend(loc=0)\n",
    "\n",
    "plt.subplot(712)\n",
    "plt.plot(wl, I1_interp-I3_interp, label=\"Obs 1 - Obs 3\")\n",
    "#plt.title(\"Observation 1 - Observation 3\")\n",
    "plt.legend(loc=0)\n",
    "\n",
    "plt.subplot(713)\n",
    "plt.plot(wl, I1_interp-I4_interp, label=\"Obs 1 - Obs 4\")\n",
    "#plt.title(\"Observation 1 - Observation 4\")\n",
    "plt.legend(loc=0)\n",
    "\n",
    "plt.subplot(714)\n",
    "plt.plot(wl, I2_interp-I3_interp, label=\"Obs 2 - Obs 3\")\n",
    "#plt.title(\"Observation 2 - Observation 3\")\n",
    "plt.legend(loc=0)\n",
    "\n",
    "plt.subplot(715)\n",
    "plt.plot(wl, I2_interp-I4_interp, label=\"Obs 2 - Obs 4\")\n",
    "#plt.title(\"Observation 2 - Observation 4\")\n",
    "plt.legend(loc=0)\n",
    "\n",
    "plt.subplot(716)\n",
    "plt.plot(wl, I3_interp-I4_interp, label=\"Obs 3 - Obs 4\")\n",
    "plt.legend(loc=0)\n",
    "\n",
    "plt.subplot(717)\n",
    "plt.plot(wl2, Tell_2, 'r', label=\"Tapas\")\n",
    "plt.plot(wl2, I2_uncorr, 'k', label=\"Exctracted\")\n",
    "#plt.title(\"Telluric line locations\")\n",
    "plt.legend(loc=0)\n",
    "plt.show()"
   ]
  },
  {
   "cell_type": "code",
   "execution_count": null,
   "metadata": {
    "collapsed": true
   },
   "outputs": [],
   "source": []
  },
  {
   "cell_type": "markdown",
   "metadata": {
    "collapsed": true
   },
   "source": [
    "### Convert ra and dec to decimal degrees\n",
    "This is if need to do BERV corrections manually\n",
    "\n",
    "To go into PyAstronomy helio-center vecolity calculations."
   ]
  },
  {
   "cell_type": "code",
   "execution_count": 13,
   "metadata": {
    "collapsed": true
   },
   "outputs": [],
   "source": [
    "def ra2deg(ra):\n",
    "    split = ra.split(\":\")\n",
    "    deg = float(split[0])*15.0 + float(split[1])/4.0 + float(split[2])/240.0 \n",
    "    return deg\n",
    "\n",
    "def dec2deg(dec):\n",
    "\t#  degrees ( ° ), minutes ( ' ), and seconds ( \" )\n",
    "\t#convert to degrees in decimal\n",
    "    split = dec.split(\":\")\n",
    "    print(split)\n",
    "    if float(split[0]) < 0:\n",
    "        deg = abs(float(split[0])) + (float(split[1]) + (float(split[2])/60) )/60\n",
    "        deg *= -1 \n",
    "    else:\n",
    "        deg = float(split[0]) + (float(split[1]) + (float(split[2])/60) )/60 \n",
    "    return deg"
   ]
  },
  {
   "cell_type": "markdown",
   "metadata": {},
   "source": [
    "#### Baycenter Corrections\n",
    "http://www.hs.uni-hamburg.de/DE/Ins/Per/Czesla/PyA/PyA/pyaslDoc/aslDoc/baryvel.html\n",
    "##### The telluric spectra should possibly be redone with no barycenter correction so that we can alpply our own... Currently for HD30501 bayrcorr was used i think, check \n",
    "The baryvel() and baryCorr() functions allow to calculate Earth’s helio- and barycentric motion and project it onto a given direction toward a star. The helcorr() includes a barycentric correction including the effect caused by the rotating Earth.\n",
    "\n",
    "from PyAstronomy import baryCorr\n",
    "baryCorr(jd, ra, dec, deq=0.0)\n",
    "### PyAstronomy.pyasl.baryCorr(jd, ra, dec, deq=0.0)\n",
    "    Calculate barycentric correction.\n",
    "###### Parameters :\t\n",
    "jd : float\n",
    "    The time at which to calculate the correction.\n",
    "ra : float\n",
    "    Right ascension in degrees.\n",
    "dec : float\n",
    "    Declination in degrees.\n",
    "deq : float, optional\n",
    "    The mean equinox of barycentric velocity calculation (see bryvel()). If zero, it is assumed to be the same as jd.\n",
    "###### Returns :\t\n",
    "Projected heliocentric velocity : float\n",
    "    Heliocentric velocity toward star [km/s]\n",
    "Projected barycentric velocity : float\n",
    "    Barycentric velocity toward star [km/s]\n",
    "\n",
    "###     PyAstronomy.pyasl.helcorr(obs_long, obs_lat, obs_alt, ra2000, dec2000, jd, debug=False)\n",
    "\n",
    "Calculate barycentric velocity correction.\n",
    "\n",
    "This function calculates the motion of an observer in the direction of a star. In contract to baryvel() and baryCorr(), the rotation of the Earth is taken into account.\n",
    "\n",
    "\n",
    "###### Parameters :\t\n",
    "obs_long : float\n",
    "    Longitude of observatory (degrees, eastern direction is positive)\n",
    "obs_lat : float\n",
    "    Latitude of observatory [deg]\n",
    "obs_alt : float\n",
    "    Altitude of observatory [m]\n",
    "ra2000 : float\n",
    "    Right ascension of object for epoch 2000.0 [deg]\n",
    "dec2000 : float\n",
    "\n",
    "    Declination of object for epoch 2000.0 [deg]\n",
    "\n",
    "jd : float\n",
    "\n",
    "    Julian date for the middle of exposure.\n",
    "\n",
    "###### Returns :\t\n",
    "Barycentric correction : float\n",
    "    The barycentric correction accounting for the rotation of the Earth, the rotation of the Earth’s center around the Earth-Moon barycenter, and the motion of the Earth-Moon barycenter around the center of the Sun [km/s].\n",
    "\n",
    "HJD : float\n",
    "    Heliocentric Julian date for middle of exposure.\n",
    "\n",
    "\n",
    "\n",
    "Bayrcenter correction velocities from the tapas files to check with my calculations\n",
    "\n",
    "#### HD30501-1 \n",
    "bayrtcor = 135.854484 ,\n",
    "baryvcor = -5.722224\n",
    "#### HD30501-2a\n",
    "barytcor = -33.867880 ,\n",
    "baryvcor = 9.57472\n",
    "#### hd30501-2b \n",
    "barytcor = -20.212341, \n",
    "baryvcor = 9.662005\n",
    "#### HD30501-3\n",
    "barytcor = -31.206540, \n",
    "baryvcor = 9.619015"
   ]
  },
  {
   "cell_type": "code",
   "execution_count": null,
   "metadata": {
    "collapsed": true
   },
   "outputs": [],
   "source": [
    "# barycentric correction\n",
    "from PyAstronomy import baryCorr\n",
    "from PyAstronomy import pyasl\n",
    "\n",
    "baryCorr(jd, ra, dec, deq=0.0)\n",
    "\n",
    "\n"
   ]
  },
  {
   "cell_type": "code",
   "execution_count": null,
   "metadata": {
    "collapsed": true
   },
   "outputs": [],
   "source": [
    "\n",
    "\n",
    "# Plot the spectra together \n",
    "\n",
    "plt.figure()\n",
    "plt.plot(wl1, I1, label=\"Obs1\")\n",
    "plt.plot(wl2, I2, label=\"Obs2\")\n",
    "plt.plot(wl3, I2, label=\"Obs3\")\n",
    "plt.plot(wl4, I4, label=\"Obs4\")\n",
    "plt.show()\n",
    "\n",
    "\n",
    "\n",
    "\n"
   ]
  },
  {
   "cell_type": "code",
   "execution_count": 15,
   "metadata": {
    "collapsed": true
   },
   "outputs": [],
   "source": [
    "# Subtract 2 spectra and see the differences\n",
    "#need to interpolate to a common wavelength scale\n",
    "\n"
   ]
  },
  {
   "cell_type": "code",
   "execution_count": null,
   "metadata": {
    "collapsed": true
   },
   "outputs": [],
   "source": []
  },
  {
   "cell_type": "markdown",
   "metadata": {},
   "source": [
    "# Cross Correlation method to find best shift for the spectra"
   ]
  },
  {
   "cell_type": "code",
   "execution_count": null,
   "metadata": {
    "collapsed": true
   },
   "outputs": [],
   "source": []
  },
  {
   "cell_type": "code",
   "execution_count": null,
   "metadata": {
    "collapsed": true
   },
   "outputs": [],
   "source": []
  },
  {
   "cell_type": "code",
   "execution_count": null,
   "metadata": {
    "collapsed": true
   },
   "outputs": [],
   "source": []
  },
  {
   "cell_type": "code",
   "execution_count": null,
   "metadata": {
    "collapsed": true
   },
   "outputs": [],
   "source": []
  },
  {
   "cell_type": "code",
   "execution_count": null,
   "metadata": {
    "collapsed": true
   },
   "outputs": [],
   "source": []
  },
  {
   "cell_type": "markdown",
   "metadata": {},
   "source": [
    "## Examples of using PyAstronomy:\n",
    "    "
   ]
  },
  {
   "cell_type": "code",
   "execution_count": 17,
   "metadata": {
    "collapsed": false
   },
   "outputs": [
    {
     "ename": "ImportError",
     "evalue": "No module named 'PyAstronomy'",
     "output_type": "error",
     "traceback": [
      "\u001b[1;31m---------------------------------------------------------------------------\u001b[0m",
      "\u001b[1;31mImportError\u001b[0m                               Traceback (most recent call last)",
      "\u001b[1;32m<ipython-input-17-83c5a1aa8038>\u001b[0m in \u001b[0;36m<module>\u001b[1;34m()\u001b[0m\n\u001b[1;32m----> 1\u001b[1;33m \u001b[1;32mfrom\u001b[0m \u001b[0mPyAstronomy\u001b[0m \u001b[1;32mimport\u001b[0m \u001b[0mpyasl\u001b[0m\u001b[1;33m\u001b[0m\u001b[0m\n\u001b[0m\u001b[0;32m      2\u001b[0m \u001b[1;33m\u001b[0m\u001b[0m\n\u001b[0;32m      3\u001b[0m \u001b[1;31m# Coordinates of European Southern Observatory\u001b[0m\u001b[1;33m\u001b[0m\u001b[1;33m\u001b[0m\u001b[0m\n\u001b[0;32m      4\u001b[0m \u001b[1;31m# (Coordinates of UT1)\u001b[0m\u001b[1;33m\u001b[0m\u001b[1;33m\u001b[0m\u001b[0m\n\u001b[0;32m      5\u001b[0m \u001b[0mlongitude\u001b[0m \u001b[1;33m=\u001b[0m \u001b[1;36m289.5967661\u001b[0m\u001b[1;33m\u001b[0m\u001b[0m\n",
      "\u001b[1;31mImportError\u001b[0m: No module named 'PyAstronomy'"
     ]
    }
   ],
   "source": [
    "from PyAstronomy import pyasl\n",
    "\n",
    "# Coordinates of European Southern Observatory\n",
    "# (Coordinates of UT1)\n",
    "longitude = 289.5967661\n",
    "latitude = -24.62586583\n",
    "altitude = 2635.43\n",
    "\n",
    "# Coordinates of HD 12345 (J2000)\n",
    "ra2000 = 030.20313477\n",
    "dec2000 = -12.87498346\n",
    "\n",
    "# (Mid-)Time of observation\n",
    "jd = 2450528.2335\n",
    "\n",
    "# Calculate barycentric correction (debug=True show\n",
    "# various intermediate results)\n",
    "corr, hjd = pyasl.helcorr(longitude, latitude, altitude, \\\n",
    "            ra2000, dec2000, jd, debug=True)\n",
    "\n",
    "print(\"Barycentric correction [km/s]: \", corr)\n",
    "print(\"Heliocentric Julian day: \", hjd)"
   ]
  },
  {
   "cell_type": "code",
   "execution_count": null,
   "metadata": {
    "collapsed": true
   },
   "outputs": [],
   "source": []
  },
  {
   "cell_type": "code",
   "execution_count": null,
   "metadata": {
    "collapsed": true
   },
   "outputs": [],
   "source": []
  }
 ],
 "metadata": {
  "kernelspec": {
   "display_name": "Python 2",
   "language": "python",
   "name": "python2"
  },
  "language_info": {
   "codemirror_mode": {
    "name": "ipython",
    "version": 2
   },
   "file_extension": ".py",
   "mimetype": "text/x-python",
   "name": "python",
   "nbconvert_exporter": "python",
   "pygments_lexer": "ipython2",
   "version": "2.7.11"
  }
 },
 "nbformat": 4,
 "nbformat_minor": 0
}

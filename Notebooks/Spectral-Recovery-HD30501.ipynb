{
 "cells": [
  {
   "cell_type": "markdown",
   "metadata": {},
   "source": [
    "# Spectral Recovery of HD30501\n",
    "March 2016"
   ]
  },
  {
   "cell_type": "code",
   "execution_count": 19,
   "metadata": {
    "collapsed": true
   },
   "outputs": [],
   "source": [
    "import numpy as np\n",
    "import matplotlib.pyplot as plt\n",
    "from astropy.io import fits\n"
   ]
  },
  {
   "cell_type": "markdown",
   "metadata": {},
   "source": [
    "### Load in the Telluric corrected spectra\n",
    "\n",
    "##### For now just with the wavecal values "
   ]
  },
  {
   "cell_type": "code",
   "execution_count": 25,
   "metadata": {
    "collapsed": false
   },
   "outputs": [],
   "source": [
    "path = 'C:/Users/Jason/Dropbox/PhD/hd30501-Wavecal-march16/'\n",
    "#path = \"C:\\Users\\Jason\\Dropbox\\PhD\\hd30501-Wavecal-march16\\\"\n",
    "name1 = \"CRIRE.2012-04-07T00-08-29.976_1.nod.ms.norm.sum.wavecal.fits\"\n",
    "name2 = \"CRIRE.2012-08-01T09-17-30.195_1.nod.ms.norm.sum.wavecal.fits\"\n",
    "name3 = \"CRIRE.2012-08-02T08-47-30.843_1.nod.ms.norm.sum.wavecal.fits\"\n",
    "name4 = \"CRIRE.2012-08-06T09-42-07.888_1.nod.ms.norm.sum.wavecal.fits\" "
   ]
  },
  {
   "cell_type": "code",
   "execution_count": 36,
   "metadata": {
    "collapsed": false
   },
   "outputs": [
    {
     "name": "stdout",
     "output_type": "stream",
     "text": [
      "Obs1 Column names = ['Wavelength', 'Extracted_DRACS', 'Pixel']\n",
      "Obs2 Column names = ['Wavelength', 'Extracted_DRACS', 'Pixel']\n",
      "Obs3 Column names = ['Wavelength', 'Extracted_DRACS', 'Pixel']\n",
      "Obs4 Column names = ['Wavelength', 'Extracted_DRACS', 'Pixel']\n",
      "Data from Detectors is now loaded\n"
     ]
    }
   ],
   "source": [
    "# Loop over chips maybe ?\n",
    "Obs1 = fits.getdata(path + name1) \n",
    "hdr1 = fits.getheader(path + name1) \n",
    "Obs2 = fits.getdata(path + name2)\n",
    "hdr2 = fits.getheader(path + name2)\n",
    "Obs3 = fits.getdata(path + name3)\n",
    "hdr3 = fits.getheader(path + name3)\n",
    "Obs4 = fits.getdata(path + name4)\n",
    "hdr4 = fits.getheader(path + name4)\n",
    "\n",
    "print(\"Obs1 Column names = {}\".format(Obs1.columns.names))\n",
    "wl1 = Obs1[\"Wavelength\"]\n",
    "I1 = Obs1[\"Extracted_DRACS\"]\n",
    "\n",
    "print(\"Obs2 Column names = {}\".format(Obs2.columns.names))\n",
    "wl2 = Obs2[\"Wavelength\"]\n",
    "I2 = Obs2[\"Extracted_DRACS\"]\n",
    "\n",
    "print(\"Obs3 Column names = {}\".format(Obs3.columns.names))\n",
    "wl3 = Obs3[\"Wavelength\"]\n",
    "I3 = Obs3[\"Extracted_DRACS\"]\n",
    "\n",
    "print(\"Obs4 Column names = {}\".format(Obs4.columns.names))\n",
    "wl4 = Obs4[\"Wavelength\"]\n",
    "I4 = Obs4[\"Extracted_DRACS\"]\n",
    "\n",
    "print(\"Data from Detectors is now loaded\")"
   ]
  },
  {
   "cell_type": "code",
   "execution_count": null,
   "metadata": {
    "collapsed": true
   },
   "outputs": [],
   "source": []
  },
  {
   "cell_type": "markdown",
   "metadata": {},
   "source": [
    "#### Baycenter Corrections\n",
    "http://www.hs.uni-hamburg.de/DE/Ins/Per/Czesla/PyA/PyA/pyaslDoc/aslDoc/baryvel.html\n",
    "##### The telluric spectra should possibly be redone with no barycenter correction so that we can alpply our own... Currently for HD30501 bayrcorr was used i think, check \n",
    "The baryvel() and baryCorr() functions allow to calculate Earth’s helio- and barycentric motion and project it onto a given direction toward a star. The helcorr() includes a barycentric correction including the effect caused by the rotating Earth.\n",
    "\n",
    "from PyAstronomy import baryCorr\n",
    "baryCorr(jd, ra, dec, deq=0.0)\n",
    "### PyAstronomy.pyasl.baryCorr(jd, ra, dec, deq=0.0)\n",
    "    Calculate barycentric correction.\n",
    "###### Parameters :\t\n",
    "jd : float\n",
    "    The time at which to calculate the correction.\n",
    "ra : float\n",
    "    Right ascension in degrees.\n",
    "dec : float\n",
    "    Declination in degrees.\n",
    "deq : float, optional\n",
    "    The mean equinox of barycentric velocity calculation (see bryvel()). If zero, it is assumed to be the same as jd.\n",
    "###### Returns :\t\n",
    "Projected heliocentric velocity : float\n",
    "    Heliocentric velocity toward star [km/s]\n",
    "Projected barycentric velocity : float\n",
    "    Barycentric velocity toward star [km/s]\n",
    "\n",
    "###     PyAstronomy.pyasl.helcorr(obs_long, obs_lat, obs_alt, ra2000, dec2000, jd, debug=False)\n",
    "\n",
    "Calculate barycentric velocity correction.\n",
    "\n",
    "This function calculates the motion of an observer in the direction of a star. In contract to baryvel() and baryCorr(), the rotation of the Earth is taken into account.\n",
    "\n",
    "\n",
    "###### Parameters :\t\n",
    "obs_long : float\n",
    "    Longitude of observatory (degrees, eastern direction is positive)\n",
    "obs_lat : float\n",
    "    Latitude of observatory [deg]\n",
    "obs_alt : float\n",
    "    Altitude of observatory [m]\n",
    "ra2000 : float\n",
    "    Right ascension of object for epoch 2000.0 [deg]\n",
    "dec2000 : float\n",
    "\n",
    "    Declination of object for epoch 2000.0 [deg]\n",
    "\n",
    "jd : float\n",
    "\n",
    "    Julian date for the middle of exposure.\n",
    "\n",
    "###### Returns :\t\n",
    "Barycentric correction : float\n",
    "    The barycentric correction accounting for the rotation of the Earth, the rotation of the Earth’s center around the Earth-Moon barycenter, and the motion of the Earth-Moon barycenter around the center of the Sun [km/s].\n",
    "\n",
    "HJD : float\n",
    "    Heliocentric Julian date for middle of exposure.\n",
    "\n",
    "\n",
    "\n",
    "Bayrcenter correction velocities from the tapas files to check with my calculations\n",
    "\n",
    "#### HD30501-1 \n",
    "bayrtcor = 135.854484 ,\n",
    "baryvcor = -5.722224\n",
    "#### HD30501-2a\n",
    "barytcor = -33.867880 ,\n",
    "baryvcor = 9.57472\n",
    "#### hd30501-2b \n",
    "barytcor = -20.212341, \n",
    "baryvcor = 9.662005\n",
    "#### HD30501-3\n",
    "barytcor = -31.206540, \n",
    "baryvcor = 9.619015"
   ]
  },
  {
   "cell_type": "code",
   "execution_count": null,
   "metadata": {
    "collapsed": true
   },
   "outputs": [],
   "source": [
    "# barycentric correction\n",
    "from PyAstronomy import baryCorr\n",
    "from PyAstronomy import pyasl\n",
    "\n",
    "baryCorr(jd, ra, dec, deq=0.0)\n",
    "\n",
    "\n"
   ]
  },
  {
   "cell_type": "code",
   "execution_count": null,
   "metadata": {
    "collapsed": true
   },
   "outputs": [],
   "source": [
    "\n",
    "\n",
    "# Plot the spectra together \n",
    "\n",
    "plt.figure()\n",
    "plt.plot(wl1, I1, label=\"Obs1\")\n",
    "plt.plot(wl2, I2, label=\"Obs2\")\n",
    "plt.plot(wl3, I2, label=\"Obs3\")\n",
    "plt.plot(wl4, I4, label=\"Obs4\")\n",
    "plt.show()\n",
    "\n",
    "\n",
    "\n",
    "\n"
   ]
  },
  {
   "cell_type": "code",
   "execution_count": 15,
   "metadata": {
    "collapsed": true
   },
   "outputs": [],
   "source": [
    "# Subtract 2 spectra and see the differences\n",
    "#need to interpolate to a common wavelength scale\n",
    "\n"
   ]
  },
  {
   "cell_type": "code",
   "execution_count": null,
   "metadata": {
    "collapsed": true
   },
   "outputs": [],
   "source": []
  },
  {
   "cell_type": "markdown",
   "metadata": {},
   "source": [
    "# Cross Correlation method to find best shift for the spectra"
   ]
  },
  {
   "cell_type": "code",
   "execution_count": null,
   "metadata": {
    "collapsed": true
   },
   "outputs": [],
   "source": []
  },
  {
   "cell_type": "code",
   "execution_count": null,
   "metadata": {
    "collapsed": true
   },
   "outputs": [],
   "source": []
  },
  {
   "cell_type": "code",
   "execution_count": null,
   "metadata": {
    "collapsed": true
   },
   "outputs": [],
   "source": []
  },
  {
   "cell_type": "code",
   "execution_count": null,
   "metadata": {
    "collapsed": true
   },
   "outputs": [],
   "source": []
  },
  {
   "cell_type": "code",
   "execution_count": null,
   "metadata": {
    "collapsed": true
   },
   "outputs": [],
   "source": []
  },
  {
   "cell_type": "markdown",
   "metadata": {},
   "source": [
    "## Examples of using PyAstronomy:\n",
    "    "
   ]
  },
  {
   "cell_type": "code",
   "execution_count": 17,
   "metadata": {
    "collapsed": false
   },
   "outputs": [
    {
     "ename": "ImportError",
     "evalue": "No module named 'PyAstronomy'",
     "output_type": "error",
     "traceback": [
      "\u001b[1;31m---------------------------------------------------------------------------\u001b[0m",
      "\u001b[1;31mImportError\u001b[0m                               Traceback (most recent call last)",
      "\u001b[1;32m<ipython-input-17-83c5a1aa8038>\u001b[0m in \u001b[0;36m<module>\u001b[1;34m()\u001b[0m\n\u001b[1;32m----> 1\u001b[1;33m \u001b[1;32mfrom\u001b[0m \u001b[0mPyAstronomy\u001b[0m \u001b[1;32mimport\u001b[0m \u001b[0mpyasl\u001b[0m\u001b[1;33m\u001b[0m\u001b[0m\n\u001b[0m\u001b[0;32m      2\u001b[0m \u001b[1;33m\u001b[0m\u001b[0m\n\u001b[0;32m      3\u001b[0m \u001b[1;31m# Coordinates of European Southern Observatory\u001b[0m\u001b[1;33m\u001b[0m\u001b[1;33m\u001b[0m\u001b[0m\n\u001b[0;32m      4\u001b[0m \u001b[1;31m# (Coordinates of UT1)\u001b[0m\u001b[1;33m\u001b[0m\u001b[1;33m\u001b[0m\u001b[0m\n\u001b[0;32m      5\u001b[0m \u001b[0mlongitude\u001b[0m \u001b[1;33m=\u001b[0m \u001b[1;36m289.5967661\u001b[0m\u001b[1;33m\u001b[0m\u001b[0m\n",
      "\u001b[1;31mImportError\u001b[0m: No module named 'PyAstronomy'"
     ]
    }
   ],
   "source": [
    "from PyAstronomy import pyasl\n",
    "\n",
    "# Coordinates of European Southern Observatory\n",
    "# (Coordinates of UT1)\n",
    "longitude = 289.5967661\n",
    "latitude = -24.62586583\n",
    "altitude = 2635.43\n",
    "\n",
    "# Coordinates of HD 12345 (J2000)\n",
    "ra2000 = 030.20313477\n",
    "dec2000 = -12.87498346\n",
    "\n",
    "# (Mid-)Time of observation\n",
    "jd = 2450528.2335\n",
    "\n",
    "# Calculate barycentric correction (debug=True show\n",
    "# various intermediate results)\n",
    "corr, hjd = pyasl.helcorr(longitude, latitude, altitude, \\\n",
    "            ra2000, dec2000, jd, debug=True)\n",
    "\n",
    "print(\"Barycentric correction [km/s]: \", corr)\n",
    "print(\"Heliocentric Julian day: \", hjd)"
   ]
  },
  {
   "cell_type": "code",
   "execution_count": null,
   "metadata": {
    "collapsed": true
   },
   "outputs": [],
   "source": []
  },
  {
   "cell_type": "code",
   "execution_count": null,
   "metadata": {
    "collapsed": true
   },
   "outputs": [],
   "source": []
  }
 ],
 "metadata": {
  "kernelspec": {
   "display_name": "Python 3",
   "language": "python",
   "name": "python3"
  },
  "language_info": {
   "codemirror_mode": {
    "name": "ipython",
    "version": 3
   },
   "file_extension": ".py",
   "mimetype": "text/x-python",
   "name": "python",
   "nbconvert_exporter": "python",
   "pygments_lexer": "ipython3",
   "version": "3.4.4"
  }
 },
 "nbformat": 4,
 "nbformat_minor": 0
}

{
 "cells": [
  {
   "cell_type": "code",
   "execution_count": null,
   "metadata": {
    "collapsed": true
   },
   "outputs": [],
   "source": [
    "# Compare Spectrum_Overload and astropy specuits\n"
   ]
  },
  {
   "cell_type": "code",
   "execution_count": 1,
   "metadata": {
    "collapsed": false
   },
   "outputs": [],
   "source": [
    "from __future__ import division, print_function\n",
    "\n",
    "# Astropy affilate specutils\n",
    "from specutils.io import read_fits, write_fits\n",
    "from specutils import Spectrum1D\n",
    "from specutils.wcs import specwcs      # for wavelength mapping  pixel->wavelength\n",
    "from astropy import units as u\n",
    "# My spectrum with overloaded operators\n",
    "from spectrum_overload.Spectrum import Spectrum \n",
    "#from specutils.io import read_fits\n",
    "from astropy.io import fits\n",
    "import numpy as np"
   ]
  },
  {
   "cell_type": "code",
   "execution_count": 2,
   "metadata": {
    "collapsed": false
   },
   "outputs": [],
   "source": [
    "data = fits.getdata(\"../Notebooks/HD30501_data/3/CRIRE.2012-08-02T08-47-30.843_1.nod.ms.norm.sum.fits\")\n",
    "wavecal_data = fits.getdata(\"../Notebooks/HD30501_data/3/CRIRE.2012-08-02T08-47-30.843_1.nod.ms.norm.sum.wavecal.fits\")\n",
    "hdr = fits.getheader(\"../Notebooks/HD30501_data/3/CRIRE.2012-08-02T08-47-30.843_1.nod.ms.norm.sum.fits\")\n",
    "\n",
    "# Load using Specturm_overload\n",
    "overload = Spectrum(data, None, calibrated=False)\n",
    "overload_wavecal = Spectrum(wavecal_data[\"Extracted_DRACS\"], wavecal_data[\"Wavelength\"], calibrated=True)\n"
   ]
  },
  {
   "cell_type": "code",
   "execution_count": null,
   "metadata": {
    "collapsed": false
   },
   "outputs": [],
   "source": [
    "# Trying the same with specutils\n",
    "\n",
    "myspec = Spectrum1D.from_array(wavecal_data[\"Wavelength\"], wavecal_data[\"Extracted_DRACS\"])  # This does not set the wavelenght\n",
    "print(myspec)\n",
    "print(myspec.dispersion)\n",
    "print(\"wavecal_data\", wavecal_data[\"Extracted_DRACS\"])\n",
    "wave_with_unit = wavecal_data[\"Wavelength\"] * u.nanometer\n",
    "myspec_nm = Spectrum1D.from_array(wave_with_unit, wavecal_data[\"Extracted_DRACS\"])\n",
    "\n",
    "print(myspec_nm)\n",
    "print(myspec_nm.wavelength)\n",
    "print(myspec_nm.flux)\n",
    "\n",
    "\n",
    "# Try determine the wcs units from the wavelenght axis\n",
    "\n",
    "print(myspec_nm.wcs)\n",
    "\n",
    "\n",
    "\n",
    "# Write the made spectrum \n",
    "write_fits.write(myspec_nm, \"Mytestspec.txt\")\n",
    "\n"
   ]
  },
  {
   "cell_type": "code",
   "execution_count": null,
   "metadata": {
    "collapsed": false
   },
   "outputs": [],
   "source": [
    "\n"
   ]
  },
  {
   "cell_type": "code",
   "execution_count": null,
   "metadata": {
    "collapsed": false
   },
   "outputs": [],
   "source": [
    "# Try read in with Spectrum1D\n",
    "\n",
    "\n",
    "#Spectrum1D.from_fits(\"../Notebooks/HD30501_data/3/CRIRE.2012-08-02T08-47-30.843_1.nod.ms.norm.sum.fits\")\n",
    "read_spec = read_fits.read_fits_spectrum1d(\"../Notebooks/HD30501_data/3/CRIRE.2012-08-02T08-47-30.843_1.nod.ms.norm.sum.fits\")"
   ]
  },
  {
   "cell_type": "code",
   "execution_count": 4,
   "metadata": {
    "collapsed": false
   },
   "outputs": [],
   "source": [
    "\n",
    "#read_fits.read_fits_spectrum1d('')"
   ]
  },
  {
   "cell_type": "code",
   "execution_count": null,
   "metadata": {
    "collapsed": true
   },
   "outputs": [],
   "source": []
  },
  {
   "cell_type": "code",
   "execution_count": null,
   "metadata": {
    "collapsed": false
   },
   "outputs": [],
   "source": [
    "s = Spectrum1D.from_array(np.array([0])*u.angstrom, np.array([0])*u.joule)"
   ]
  },
  {
   "cell_type": "code",
   "execution_count": null,
   "metadata": {
    "collapsed": false
   },
   "outputs": [],
   "source": [
    "write_text.write(s, 'testspec.fits')"
   ]
  },
  {
   "cell_type": "code",
   "execution_count": null,
   "metadata": {
    "collapsed": false
   },
   "outputs": [],
   "source": [
    "s.flux = (s.flux + s.flux ) * s.flux_unit\n"
   ]
  },
  {
   "cell_type": "raw",
   "metadata": {},
   "source": [
    "read_fits.FITSWCSSpectrum(hdr)\n"
   ]
  },
  {
   "cell_type": "code",
   "execution_count": 8,
   "metadata": {
    "collapsed": false
   },
   "outputs": [
    {
     "name": "stdout",
     "output_type": "stream",
     "text": [
      "SIMPLE  =                    T / Fits standard                                  BITPIX  =                  -32 / Bits per pixel                                 NAXIS   =                    1 / Number of axes                                 NAXIS1  =                 1024 / Axis length                                    EXTEND  =                    F / File may contain extensions                    ORIGIN  = 'NOAO-IRAF FITS Image Kernel July 2003' / FITS file originator        DATE    = '2016-03-21T16:58:29' / Date FITS file was generated                  IRAF-TLM= '2016-03-21T16:58:29' / Time of last modification                     OBJECT  = 'HD30501 '           / Name of the object observed                    TELESCOP= 'ESO-VLT-U1'                  / Telescope name                        INSTRUME= 'CRIRES  '                    / Instrument name                       RA      =            71.407426          / 04:45:37.7 RA (J2000) pointing (deg)  DEC     =            -50.07557          / -50:04:32.0 DEC (J2000) pointing (deg)EQUINOX =                2000.          / Standard FK5 (years)                  RADECSYS= 'FK5     '                    / Coordinate reference frame            EXPTIME =          180.0000000 / Integration time                               MJD-OBS =       56141.36632920 / Obs start 2012-08-02T08:47:30.842              DATE-OBS= '2012-08-02T08:47:30.8425' / Observing date                           UTC     =            31649.000          / 08:47:29.000 UTC at start (sec)       LST     =             3077.167          / 00:51:17.167 LST at start (sec)       PI-COI  = 'UNKNOWN '           / PI-COI name.                                   OBSERVER= 'UNKNOWN '           / Name of observer.                              ORIGFILE= 'CRIRES_SPEC_OBS215_0107.fits' / Original File Name                   HIERARCH ESO ADA ABSROT END  =    -58.41365 / Abs rot angle at exp end (deg)    HIERARCH ESO ADA ABSROT PPOS = 'POS     '   / sign of probe position            HIERARCH ESO ADA ABSROT START=    -58.24959 / Abs rot angle at exp start (deg)  HIERARCH ESO ADA GUID DEC    =    -50.16239 / -50:09:44.6 Guide star DEC J2000  HIERARCH ESO ADA GUID RA     =    71.436341 / 04:45:44.7 Guide star RA J2000    HIERARCH ESO ADA GUID STATUS = 'ON      '   / Status of autoguider              HIERARCH ESO ADA POSANG      =      0.00000 / Position angle at start           HIERARCH ESO AOS RTC DIAPHRAGM POSITION= '1.548978449482229' / Diaphragm named pHIERARCH ESO AOS RTC GUIDESTAR FLUX= 10407535.000000 / Flux for target star [phoHIERARCH ESO AOS RTC GUIDESTAR MAGNITUDE= 11.849036 / Magnitude of the target stHIERARCH ESO AOS RTC LOOP FREQUENCY= 420.000000 / Loop update rate              HIERARCH ESO AOS RTC LOOP GAIN-INT= 0.501640 / Loop gain, integral part         HIERARCH ESO AOS RTC LOOP GAIN-LGSTT= 1.000000 / Gain of the T/T in LGS mode    HIERARCH ESO AOS RTC LOOP GAIN-PROP= 0.000000 / Loop gain, proportional part    HIERARCH ESO AOS RTC LOOP GAIN-REC= 0.000000 / Loop gain, recurrent part        HIERARCH ESO AOS RTC LOOP HORDER=         0 / High order loop on or off         HIERARCH ESO AOS RTC LOOP LGS=            0 / LGS jitter loop on or off         HIERARCH ESO AOS RTC LOOP STATE= 'OPEN    ' / Loop state, open or closed        HIERARCH ESO AOS RTC LOOP TIPTILT=        0 / Tip Tilt loop on or off           HIERARCH ESO AOS RTC MEMBRANE ROC= 0.505157 / Membrane ROC                      HIERARCH ESO AOS RTC NDWHEEL POSNAME= 'Close   ' / Neutral density filter wheel HIERARCH ESO AOS RTC OBS ENCMEAN=  0.000086 / Mean Encircled energy in one pointHIERARCH ESO AOS RTC OBS ENCSTD=   0.000000 / Std of enc. energy                HIERARCH ESO AOS RTC OBS FWHMMEAN= 62.501446 / Full Width at Half Maximum [m]   HIERARCH ESO AOS RTC OBS FWHMSTD=  0.005805 / Std of the FWHM [m]               HIERARCH ESO AOS RTC OBS L0MEAN=   0.000000 / Mean outer scale [m]              HIERARCH ESO AOS RTC OBS L0STD=    0.000000 / Std of outer scale [m]            HIERARCH ESO AOS RTC OBS R0MEAN=   0.000000 / Mean Fried parameter [m]          HIERARCH ESO AOS RTC OBS R0STD=    0.000000 / Fried param std [m]               HIERARCH ESO AOS RTC OBS STREHLMEAN= 44.341481 / Mean Strehl ratio              HIERARCH ESO AOS RTC OBS STREHLSTD= 0.108297 / Strehl ratio std                 HIERARCH ESO AOS RTC OBS T0MEAN=   0.000000 / Mean correlation time [s]         HIERARCH ESO AOS RTC OBS T0STD=    0.000000 / Std of correlation time [s]       HIERARCH ESO AOS RTC OBS WFEMEAN=  0.858567 / Mean WaveFront Error              HIERARCH ESO AOS RTC OBS WFESTD=   0.002603 / Std of the wfe                    HIERARCH ESO AOS RTC SENSOR RAWFLUX= 30660.000000 / Raw flux as measured on the HIERARCH ESO DET CHIP NAME   = 'Aladdin3' / Detector name                       HIERARCH ESO DET CHIP TYPE   = 'IR' / The Type of Det Chip                      HIERARCH ESO DET CHOP FREQ   = 0 / Chopping Frequency                           HIERARCH ESO DET CON OPMODE  = 'NORMAL' / Operational Mode                      HIERARCH ESO DET DID         = 'ESO-VLT-DIC.IRACE-1.48' / Dictionary Name and ReHIERARCH ESO DET DIT         = 180.0000000 / Integration Time                   HIERARCH ESO DET DITDELAY    = 0.100 / Pause Between DITs                       HIERARCH ESO DET EXP NAME    = 'CRIRES_SPEC_OBS215_0107' / Exposure Name        HIERARCH ESO DET EXP NO      = 14060 / Exposure number                          HIERARCH ESO DET EXP UTC     = '2012-08-02T08:50:50.9913' / File Creation Time  HIERARCH ESO DET FILE CUBE ST= F / Data Cube On/Off                             HIERARCH ESO DET FRAM NO     = 1 / Frame number                                 HIERARCH ESO DET FRAM TYPE   = 'INT' / Frame type                               HIERARCH ESO DET FRAM UTC    = '2012-08-02T08:50:49.6510' / Time Recv Frame     HIERARCH ESO DET IRACE ADC1 DELAY= 3 / ADC Delay Adjustment                     HIERARCH ESO DET IRACE ADC1 ENABLE= 1 / Enable ADC Board (0/1)                  HIERARCH ESO DET IRACE ADC1 FILTER1= 0 / ADC Filter1 Adjustment                 HIERARCH ESO DET IRACE ADC1 FILTER2= 0 / ADC Filter2 Adjustment                 HIERARCH ESO DET IRACE ADC1 HEADER= 1 / Header of ADC Board                     HIERARCH ESO DET IRACE ADC1 NAME= 'SCIENCE' / Name for ADC Board                HIERARCH ESO DET IRACE ADC2 DELAY= 3 / ADC Delay Adjustment                     HIERARCH ESO DET IRACE ADC2 ENABLE= 1 / Enable ADC Board (0/1)                  HIERARCH ESO DET IRACE ADC2 FILTER1= 0 / ADC Filter1 Adjustment                 HIERARCH ESO DET IRACE ADC2 FILTER2= 0 / ADC Filter2 Adjustment                 HIERARCH ESO DET IRACE ADC2 HEADER= 1 / Header of ADC Board                     HIERARCH ESO DET IRACE ADC2 NAME= 'SCIENCE' / Name for ADC Board                HIERARCH ESO DET IRACE ADC3 DELAY= 3 / ADC Delay Adjustment                     HIERARCH ESO DET IRACE ADC3 ENABLE= 1 / Enable ADC Board (0/1)                  HIERARCH ESO DET IRACE ADC3 FILTER1= 0 / ADC Filter1 Adjustment                 HIERARCH ESO DET IRACE ADC3 FILTER2= 0 / ADC Filter2 Adjustment                 HIERARCH ESO DET IRACE ADC3 HEADER= 1 / Header of ADC Board                     HIERARCH ESO DET IRACE ADC3 NAME= 'SCIENCE' / Name for ADC Board                HIERARCH ESO DET IRACE ADC4 DELAY= 3 / ADC Delay Adjustment                     HIERARCH ESO DET IRACE ADC4 ENABLE= 1 / Enable ADC Board (0/1)                  HIERARCH ESO DET IRACE ADC4 FILTER1= 0 / ADC Filter1 Adjustment                 HIERARCH ESO DET IRACE ADC4 FILTER2= 0 / ADC Filter2 Adjustment                 HIERARCH ESO DET IRACE ADC4 HEADER= 1 / Header of ADC Board                     HIERARCH ESO DET IRACE ADC4 NAME= 'SCIENCE' / Name for ADC Board                HIERARCH ESO DET IRACE ADC5 DELAY= 3 / ADC Delay Adjustment                     HIERARCH ESO DET IRACE ADC5 ENABLE= 1 / Enable ADC Board (0/1)                  HIERARCH ESO DET IRACE ADC5 FILTER1= 0 / ADC Filter1 Adjustment                 HIERARCH ESO DET IRACE ADC5 FILTER2= 0 / ADC Filter2 Adjustment                 HIERARCH ESO DET IRACE ADC5 HEADER= 1 / Header of ADC Board                     HIERARCH ESO DET IRACE ADC5 NAME= 'SCIENCE' / Name for ADC Board                HIERARCH ESO DET IRACE ADC6 DELAY= 3 / ADC Delay Adjustment                     HIERARCH ESO DET IRACE ADC6 ENABLE= 1 / Enable ADC Board (0/1)                  HIERARCH ESO DET IRACE ADC6 FILTER1= 0 / ADC Filter1 Adjustment                 HIERARCH ESO DET IRACE ADC6 FILTER2= 0 / ADC Filter2 Adjustment                 HIERARCH ESO DET IRACE ADC6 HEADER= 1 / Header of ADC Board                     HIERARCH ESO DET IRACE ADC6 NAME= 'SCIENCE' / Name for ADC Board                HIERARCH ESO DET IRACE ADC7 DELAY= 3 / ADC Delay Adjustment                     HIERARCH ESO DET IRACE ADC7 ENABLE= 1 / Enable ADC Board (0/1)                  HIERARCH ESO DET IRACE ADC7 FILTER1= 0 / ADC Filter1 Adjustment                 HIERARCH ESO DET IRACE ADC7 FILTER2= 0 / ADC Filter2 Adjustment                 HIERARCH ESO DET IRACE ADC7 HEADER= 1 / Header of ADC Board                     HIERARCH ESO DET IRACE ADC7 NAME= 'SCIENCE' / Name for ADC Board                HIERARCH ESO DET IRACE ADC8 DELAY= 3 / ADC Delay Adjustment                     HIERARCH ESO DET IRACE ADC8 ENABLE= 1 / Enable ADC Board (0/1)                  HIERARCH ESO DET IRACE ADC8 FILTER1= 0 / ADC Filter1 Adjustment                 HIERARCH ESO DET IRACE ADC8 FILTER2= 0 / ADC Filter2 Adjustment                 HIERARCH ESO DET IRACE ADC8 HEADER= 1 / Header of ADC Board                     HIERARCH ESO DET IRACE ADC8 NAME= 'SCIENCE' / Name for ADC Board                HIERARCH ESO DET IRACE SEQCONT= F / Sequencer Continuous Mode                   HIERARCH ESO DET MINDIT      = 18.3207000 / Minimum DIT                         HIERARCH ESO DET MODE NAME   = '' / DCS Detector Mode                           HIERARCH ESO DET NC NSAMPPIX = 4 / # of Samples/Pixel                           HIERARCH ESO DET NCORRS      = 51 / Read-Out Mode                               HIERARCH ESO DET NCORRS NAME = 'FowlerNsamp' / Read-Out Mode Name               HIERARCH ESO DET NDIT        = 1 / # of Sub-Integrations                        HIERARCH ESO DET NDITSKIP    = 0 / DITs skipped at 1st.INT                      HIERARCH ESO DET NDSAMPLES   = 40 / # of Non-Dest. Samples                      HIERARCH ESO DET NDSKIP      = 0 / Samples skipped per DIT                      HIERARCH ESO DET RSPEED      = 12 / Read-Speed Factor                           HIERARCH ESO DET RSPEEDADD   = 0 / Read-Speed Add                               HIERARCH ESO DET VOLT1 CLKHI1= -0.5000 / Set Value High-Clock                   HIERARCH ESO DET VOLT1 CLKHI10= -6.5000 / Set Value High-Clock                  HIERARCH ESO DET VOLT1 CLKHI11= -6.4000 / Set Value High-Clock                  HIERARCH ESO DET VOLT1 CLKHI12= -3.0000 / Set Value High-Clock                  HIERARCH ESO DET VOLT1 CLKHI13= -3.0000 / Set Value High-Clock                  HIERARCH ESO DET VOLT1 CLKHI14= 0.0000 / Set Value High-Clock                   HIERARCH ESO DET VOLT1 CLKHI15= 0.0000 / Set Value High-Clock                   HIERARCH ESO DET VOLT1 CLKHI16= 0.0000 / Set Value High-Clock                   HIERARCH ESO DET VOLT1 CLKHI2= -0.5000 / Set Value High-Clock                   HIERARCH ESO DET VOLT1 CLKHI3= -0.5000 / Set Value High-Clock                   HIERARCH ESO DET VOLT1 CLKHI4= -0.5000 / Set Value High-Clock                   HIERARCH ESO DET VOLT1 CLKHI5= -0.5000 / Set Value High-Clock                   HIERARCH ESO DET VOLT1 CLKHI6= -0.5000 / Set Value High-Clock                   HIERARCH ESO DET VOLT1 CLKHI7= -0.5000 / Set Value High-Clock                   HIERARCH ESO DET VOLT1 CLKHI8= -0.5000 / Set Value High-Clock                   HIERARCH ESO DET VOLT1 CLKHI9= 0.0000 / Set Value High-Clock                    HIERARCH ESO DET VOLT1 CLKHINM1= 'clk1Hi CkFSync' / Name of High-Clock          HIERARCH ESO DET VOLT1 CLKHINM10= 'clk10Hi VnRow' / Name of High-Clock          HIERARCH ESO DET VOLT1 CLKHINM11= 'clk11Hi VnCol' / Name of High-Clock          HIERARCH ESO DET VOLT1 CLKHINM12= 'clock12Hi VrstOn' / Name of High-Clock       HIERARCH ESO DET VOLT1 CLKHINM13= 'clock13Hi VrstOff' / Name of High-Clock      HIERARCH ESO DET VOLT1 CLKHINM14= 'clock14Hi' / Name of High-Clock              HIERARCH ESO DET VOLT1 CLKHINM15= 'clock15Hi' / Name of High-Clock              HIERARCH ESO DET VOLT1 CLKHINM16= 'clock16Hi' / Name of High-Clock              HIERARCH ESO DET VOLT1 CLKHINM2= 'clk2Hi CkF1' / Name of High-Clock             HIERARCH ESO DET VOLT1 CLKHINM3= 'clk3Hi CkF2' / Name of High-Clock             HIERARCH ESO DET VOLT1 CLKHINM4= 'clk4Hi CkSSync' / Name of High-Clock          HIERARCH ESO DET VOLT1 CLKHINM5= 'clk5Hi CkS1' / Name of High-Clock             HIERARCH ESO DET VOLT1 CLKHINM6= 'clk6Hi CkS2' / Name of High-Clock             HIERARCH ESO DET VOLT1 CLKHINM7= 'clk7Hi CkS_O/E' / Name of High-Clock          HIERARCH ESO DET VOLT1 CLKHINM8= 'clk8Hi RDES' / Name of High-Clock             HIERARCH ESO DET VOLT1 CLKHINM9= 'clk9Hi VROW_ON' / Name of High-Clock          HIERARCH ESO DET VOLT1 CLKHIT1= -0.4688 / Tel Value High-Clock                  HIERARCH ESO DET VOLT1 CLKHIT10= -6.4258 / Tel Value High-Clock                 HIERARCH ESO DET VOLT1 CLKHIT11= -6.3672 / Tel Value High-Clock                 HIERARCH ESO DET VOLT1 CLKHIT12= -2.9639 / Tel Value High-Clock                 HIERARCH ESO DET VOLT1 CLKHIT13= -2.9639 / Tel Value High-Clock                 HIERARCH ESO DET VOLT1 CLKHIT14= 0.0146 / Tel Value High-Clock                  HIERARCH ESO DET VOLT1 CLKHIT15= 0.0244 / Tel Value High-Clock                  HIERARCH ESO DET VOLT1 CLKHIT16= 0.0342 / Tel Value High-Clock                  HIERARCH ESO DET VOLT1 CLKHIT2= -0.4834 / Tel Value High-Clock                  HIERARCH ESO DET VOLT1 CLKHIT3= -0.4736 / Tel Value High-Clock                  HIERARCH ESO DET VOLT1 CLKHIT4= -0.4834 / Tel Value High-Clock                  HIERARCH ESO DET VOLT1 CLKHIT5= -0.4834 / Tel Value High-Clock                  HIERARCH ESO DET VOLT1 CLKHIT6= -0.4883 / Tel Value High-Clock                  HIERARCH ESO DET VOLT1 CLKHIT7= -0.4883 / Tel Value High-Clock                  HIERARCH ESO DET VOLT1 CLKHIT8= -0.4834 / Tel Value High-Clock                  HIERARCH ESO DET VOLT1 CLKHIT9= 0.0293 / Tel Value High-Clock                   HIERARCH ESO DET VOLT1 CLKLO1= -6.0000 / Set value Low-Clock                    HIERARCH ESO DET VOLT1 CLKLO10= -6.5000 / Set value Low-Clock                   HIERARCH ESO DET VOLT1 CLKLO11= -6.4000 / Set value Low-Clock                   HIERARCH ESO DET VOLT1 CLKLO12= -6.0000 / Set value Low-Clock                   HIERARCH ESO DET VOLT1 CLKLO13= -6.0000 / Set value Low-Clock                   HIERARCH ESO DET VOLT1 CLKLO14= 0.0000 / Set value Low-Clock                    HIERARCH ESO DET VOLT1 CLKLO15= 0.0000 / Set value Low-Clock                    HIERARCH ESO DET VOLT1 CLKLO16= 0.0000 / Set value Low-Clock                    HIERARCH ESO DET VOLT1 CLKLO2= -6.0000 / Set value Low-Clock                    HIERARCH ESO DET VOLT1 CLKLO3= -6.0000 / Set value Low-Clock                    HIERARCH ESO DET VOLT1 CLKLO4= -6.0000 / Set value Low-Clock                    HIERARCH ESO DET VOLT1 CLKLO5= -6.0000 / Set value Low-Clock                    HIERARCH ESO DET VOLT1 CLKLO6= -6.0000 / Set value Low-Clock                    HIERARCH ESO DET VOLT1 CLKLO7= -6.0000 / Set value Low-Clock                    HIERARCH ESO DET VOLT1 CLKLO8= -6.0000 / Set value Low-Clock                    HIERARCH ESO DET VOLT1 CLKLO9= -6.0000 / Set value Low-Clock                    HIERARCH ESO DET VOLT1 CLKLONM1= 'clk1Lo CkFSync' / Name of Low-Clock           HIERARCH ESO DET VOLT1 CLKLONM10= 'clk10Lo VnRow' / Name of Low-Clock           HIERARCH ESO DET VOLT1 CLKLONM11= 'clk11Lo VnCol' / Name of Low-Clock           HIERARCH ESO DET VOLT1 CLKLONM12= 'clock12Lo VrstOn' / Name of Low-Clock        HIERARCH ESO DET VOLT1 CLKLONM13= 'clock13Lo VrstOff' / Name of Low-Clock       HIERARCH ESO DET VOLT1 CLKLONM14= 'clock14Lo' / Name of Low-Clock               HIERARCH ESO DET VOLT1 CLKLONM15= 'clock15Lo' / Name of Low-Clock               HIERARCH ESO DET VOLT1 CLKLONM16= 'clock16Lo' / Name of Low-Clock               HIERARCH ESO DET VOLT1 CLKLONM2= 'clk2Lo CkF1' / Name of Low-Clock              HIERARCH ESO DET VOLT1 CLKLONM3= 'clk3Lo CkF2' / Name of Low-Clock              HIERARCH ESO DET VOLT1 CLKLONM4= 'clk4Lo CkSSync' / Name of Low-Clock           HIERARCH ESO DET VOLT1 CLKLONM5= 'clk5Lo CkS1' / Name of Low-Clock              HIERARCH ESO DET VOLT1 CLKLONM6= 'clk6Lo CkS2' / Name of Low-Clock              HIERARCH ESO DET VOLT1 CLKLONM7= 'clk7Lo CkS_O/E' / Name of Low-Clock           HIERARCH ESO DET VOLT1 CLKLONM8= 'clk8Lo RDES' / Name of Low-Clock              HIERARCH ESO DET VOLT1 CLKLONM9= 'clk9Lo VROW_ON' / Name of Low-Clock           HIERARCH ESO DET VOLT1 CLKLOT1= -5.9570 / Tel Value Low-Clock                   HIERARCH ESO DET VOLT1 CLKLOT10= -6.4697 / Tel Value Low-Clock                  HIERARCH ESO DET VOLT1 CLKLOT11= -6.3428 / Tel Value Low-Clock                  HIERARCH ESO DET VOLT1 CLKLOT12= -5.9424 / Tel Value Low-Clock                  HIERARCH ESO DET VOLT1 CLKLOT13= -5.9570 / Tel Value Low-Clock                  HIERARCH ESO DET VOLT1 CLKLOT14= 0.0342 / Tel Value Low-Clock                   HIERARCH ESO DET VOLT1 CLKLOT15= 0.0293 / Tel Value Low-Clock                   HIERARCH ESO DET VOLT1 CLKLOT16= 0.0391 / Tel Value Low-Clock                   HIERARCH ESO DET VOLT1 CLKLOT2= -5.9570 / Tel Value Low-Clock                   HIERARCH ESO DET VOLT1 CLKLOT3= -5.9570 / Tel Value Low-Clock                   HIERARCH ESO DET VOLT1 CLKLOT4= -5.9521 / Tel Value Low-Clock                   HIERARCH ESO DET VOLT1 CLKLOT5= -5.9619 / Tel Value Low-Clock                   HIERARCH ESO DET VOLT1 CLKLOT6= -5.9521 / Tel Value Low-Clock                   HIERARCH ESO DET VOLT1 CLKLOT7= -5.9570 / Tel Value Low-Clock                   HIERARCH ESO DET VOLT1 CLKLOT8= -5.9521 / Tel Value Low-Clock                   HIERARCH ESO DET VOLT1 CLKLOT9= -5.9082 / Tel Value Low-Clock                   HIERARCH ESO DET VOLT1 DC1   = -3.4000 / Set value DC-Voltage                   HIERARCH ESO DET VOLT1 DC10  = 2.0000 / Set value DC-Voltage                    HIERARCH ESO DET VOLT1 DC11  = -3.6000 / Set value DC-Voltage                   HIERARCH ESO DET VOLT1 DC12  = -1.5000 / Set value DC-Voltage                   HIERARCH ESO DET VOLT1 DC13  = -1.1500 / Set value DC-Voltage                   HIERARCH ESO DET VOLT1 DC14  = -1.2000 / Set value DC-Voltage                   HIERARCH ESO DET VOLT1 DC15  = -1.7000 / Set value DC-Voltage                   HIERARCH ESO DET VOLT1 DC2   = -3.4000 / Set value DC-Voltage                   HIERARCH ESO DET VOLT1 DC3   = -3.4000 / Set value DC-Voltage                   HIERARCH ESO DET VOLT1 DC4   = -3.4000 / Set value DC-Voltage                   HIERARCH ESO DET VOLT1 DC5   = -3.8000 / Set value DC-Voltage                   HIERARCH ESO DET VOLT1 DC6   = -1.5000 / Set value DC-Voltage                   HIERARCH ESO DET VOLT1 DC7   = -1.3000 / Set value DC-Voltage                   HIERARCH ESO DET VOLT1 DC8   = -2.0000 / Set value DC-Voltage                   HIERARCH ESO DET VOLT1 DC9   = -2.5000 / Set value DC-Voltage                   HIERARCH ESO DET VOLT1 DCNM1 = 'DC1 VdetCom D1' / Name of DC-voltage            HIERARCH ESO DET VOLT1 DCNM10= 'DC10 Vload' / Name of DC-voltage                HIERARCH ESO DET VOLT1 DCNM11= 'DC11 Vtest' / Name of DC-voltage                HIERARCH ESO DET VOLT1 DCNM12= 'DC12 REF1' / Name of DC-voltage                 HIERARCH ESO DET VOLT1 DCNM13= 'DC13 REF2' / Name of DC-voltage                 HIERARCH ESO DET VOLT1 DCNM14= 'DC14 REF3' / Name of DC-voltage                 HIERARCH ESO DET VOLT1 DCNM15= 'DC15 REF4' / Name of DC-voltage                 HIERARCH ESO DET VOLT1 DCNM2 = 'DC2 VdetCom D2' / Name of DC-voltage            HIERARCH ESO DET VOLT1 DCNM3 = 'DC3 VdetCom D3' / Name of DC-voltage            HIERARCH ESO DET VOLT1 DCNM4 = 'DC4 VdetCom D4' / Name of DC-voltage            HIERARCH ESO DET VOLT1 DCNM5 = 'DC5 VddUc' / Name of DC-voltage                 HIERARCH ESO DET VOLT1 DCNM6 = 'DC6 VddCl' / Name of DC-voltage                 HIERARCH ESO DET VOLT1 DCNM7 = 'DC7 VddOut' / Name of DC-voltage                HIERARCH ESO DET VOLT1 DCNM8 = 'DC8 VggCl' / Name of DC-voltage                 HIERARCH ESO DET VOLT1 DCNM9 = 'DC9 Iref(250k to)' / Name of DC-voltage         HIERARCH ESO DET VOLT1 DCTA1 = -3.3984 / Tel Value 1 for DC                     HIERARCH ESO DET VOLT1 DCTA10= 2.0020 / Tel Value 1 for DC                      HIERARCH ESO DET VOLT1 DCTA11= -3.6035 / Tel Value 1 for DC                     HIERARCH ESO DET VOLT1 DCTA12= -1.5039 / Tel Value 1 for DC                     HIERARCH ESO DET VOLT1 DCTA13= -1.1523 / Tel Value 1 for DC                     HIERARCH ESO DET VOLT1 DCTA14= -1.2012 / Tel Value 1 for DC                     HIERARCH ESO DET VOLT1 DCTA15= -1.6992 / Tel Value 1 for DC                     HIERARCH ESO DET VOLT1 DCTA2 = -3.4033 / Tel Value 1 for DC                     HIERARCH ESO DET VOLT1 DCTA3 = -3.4033 / Tel Value 1 for DC                     HIERARCH ESO DET VOLT1 DCTA4 = -3.4033 / Tel Value 1 for DC                     HIERARCH ESO DET VOLT1 DCTA5 = -3.8037 / Tel Value 1 for DC                     HIERARCH ESO DET VOLT1 DCTA6 = -1.5039 / Tel Value 1 for DC                     HIERARCH ESO DET VOLT1 DCTA7 = -1.3037 / Tel Value 1 for DC                     HIERARCH ESO DET VOLT1 DCTA8 = -2.0020 / Tel Value 1 for DC                     HIERARCH ESO DET VOLT1 DCTA9 = -2.5000 / Tel Value 1 for DC                     HIERARCH ESO DET VOLT1 DCTB1 = -3.3984 / Tel Value 2 for DC                     HIERARCH ESO DET VOLT1 DCTB10= 1.9482 / Tel Value 2 for DC                      HIERARCH ESO DET VOLT1 DCTB11= -3.5986 / Tel Value 2 for DC                     HIERARCH ESO DET VOLT1 DCTB12= -1.4893 / Tel Value 2 for DC                     HIERARCH ESO DET VOLT1 DCTB13= -1.1426 / Tel Value 2 for DC                     HIERARCH ESO DET VOLT1 DCTB14= -1.1865 / Tel Value 2 for DC                     HIERARCH ESO DET VOLT1 DCTB15= -1.6846 / Tel Value 2 for DC                     HIERARCH ESO DET VOLT1 DCTB2 = -3.3984 / Tel Value 2 for DC                     HIERARCH ESO DET VOLT1 DCTB3 = -3.3936 / Tel Value 2 for DC                     HIERARCH ESO DET VOLT1 DCTB4 = -3.3984 / Tel Value 2 for DC                     HIERARCH ESO DET VOLT1 DCTB5 = -3.7500 / Tel Value 2 for DC                     HIERARCH ESO DET VOLT1 DCTB6 = -1.4990 / Tel Value 2 for DC                     HIERARCH ESO DET VOLT1 DCTB7 = -1.2500 / Tel Value 2 for DC                     HIERARCH ESO DET VOLT1 DCTB8 = -1.9971 / Tel Value 2 for DC                     HIERARCH ESO DET VOLT1 DCTB9 = -2.4951 / Tel Value 2 for DC                     HIERARCH ESO DET WIN TYPE    = 0 / Win-Type: 0=SW/1=HW                          HIERARCH ESO DET WINDOW NY   =          512 / Number of pixels in Y.            HIERARCH ESO DPR CATG        = 'SCIENCE '   / Observation category              HIERARCH ESO DPR TECH        = 'SPECTRUM,NODDING,JITTER' / Observation techniqueHIERARCH ESO DPR TYPE        = 'OBJECT  '   / Observation type                  HIERARCH ESO INS DATE        = '2006-07-23' / Instrument release date (yyyy-mm-dHIERARCH ESO INS DID         = 'ESO-VLT-DIC.CRIRES_ICS-227535' / Data dictionaryHIERARCH ESO INS FILT1 ENC   =         1333 / Absolute position [Enc].          HIERARCH ESO INS FILT1 NAME  = 'Hx5e-2  '   / Element name.                     HIERARCH ESO INS FILT1 NO    =            3 / Element number.                   HIERARCH ESO INS GRAT ENC    =       239691 / Absolute position [Enc].          HIERARCH ESO INS GRAT ORDER  =           26 / Grating order.                    HIERARCH ESO INS ID          = 'CRIRES/1.57' / Instrument ID.                   HIERARCH ESO INS MODE        = 'Spectroscopy' / Instrument mode.                HIERARCH ESO INS OPTI1 ENC   =           50 / Absolute position [Enc].          HIERARCH ESO INS OPTI1 NAME  = 'OUT     '   / Element name.                     HIERARCH ESO INS OPTI1 NO    =            2 / Element number.                   HIERARCH ESO INS OPTI1 TYPE  = 'Wollaston'  / Element type.                     HIERARCH ESO INS PIEZO NAME  = 'Piezo actuator' / Sensor device common name.    HIERARCH ESO INS PIEZO VAL   =         2.49 / Piezo position [um].              HIERARCH ESO INS PRIS ENC    =        21615 / Absolute position [Enc].          HIERARCH ESO INS PRIS WLEN   =     2212.015 / Central wavelength of the spectrumHIERARCH ESO INS SENS21 NAME = 'Press Gauge' / Sensor name.                     HIERARCH ESO INS SENS21 VAL = 2.74E-08 / Press gauge pressure [mbar].           HIERARCH ESO INS SENSOR1 NAME= 'Lakeshore Sci' / Sensor device common name.     HIERARCH ESO INS SENSOR2 NAME= 'Lakeshore SV' / Sensor device common name.      HIERARCH ESO INS SENSOR3 NAME= 'Lakeshore 3' / Sensor device common name.       HIERARCH ESO INS SENSOR4 NAME= 'Yokogawa DAQ' / Sensor device common name.      HIERARCH ESO INS SLIT1 ENC   =         6663 / Absolute position [Enc].          HIERARCH ESO INS SLIT1 NAME  = 'w_0.4   '   / Slit name position.               HIERARCH ESO INS SLIT1 NO    =            3 / Element number.                   HIERARCH ESO INS SLIT1 WID   =        0.400 / Slit width [arcsec].              HIERARCH ESO INS SLIT2 ENC   =         3631 / Absolute position [Enc].          HIERARCH ESO INS SLIT2 POS   =        0.477 / Position [mm].                    HIERARCH ESO INS SWSIM       = 'NORMAL  '   / Software simulation.              HIERARCH ESO INS TEMP1 ID    = 'popt1   '   / Sensor type.                      HIERARCH ESO INS TEMP1 NAME  = 'Pre Optics 1' / Sensor name.                    HIERARCH ESO INS TEMP1 VAL   =       65.100 / Sensor value [K].                 HIERARCH ESO INS TEMP10 ID   = 'main5   '   / Sensor type.                      HIERARCH ESO INS TEMP10 NAME = 'Main Struc 5' / Sensor name.                    HIERARCH ESO INS TEMP10 VAL  =       62.600 / Sensor value [K].                 HIERARCH ESO INS TEMP11 ID   = 'tma1    '   / Sensor type.                      HIERARCH ESO INS TEMP11 NAME = 'TMA 1   '   / Sensor name.                      HIERARCH ESO INS TEMP11 VAL  =       67.200 / Sensor value [K].                 HIERARCH ESO INS TEMP13 ID   = 'sv1     '   / Sensor type.                      HIERARCH ESO INS TEMP13 NAME = 'Slit Viewer 1' / Sensor name.                   HIERARCH ESO INS TEMP13 VAL  =       34.500 / Sensor value [K].                 HIERARCH ESO INS TEMP15 ID   = 'sci1    '   / Sensor type.                      HIERARCH ESO INS TEMP15 NAME = 'Sci Detector 1' / Sensor name.                  HIERARCH ESO INS TEMP15 VAL  =       34.000 / Sensor value [K].                 HIERARCH ESO INS TEMP16 ID   = 'sci2    '   / Sensor type.                      HIERARCH ESO INS TEMP16 NAME = 'Sci Detector 2' / Sensor name.                  HIERARCH ESO INS TEMP16 VAL  =       35.600 / Sensor value [K].                 HIERARCH ESO INS TEMP18 ID   = 'ln22    '   / Sensor type.                      HIERARCH ESO INS TEMP18 NAME = 'LN2 2   '   / Sensor name.                      HIERARCH ESO INS TEMP18 VAL  =       71.100 / Sensor value [K].                 HIERARCH ESO INS TEMP19 ID   = 'heat2   '   / Sensor type.                      HIERARCH ESO INS TEMP19 NAME = 'Heat Exch. 2' / Sensor name.                    HIERARCH ESO INS TEMP19 VAL  =      274.000 / Sensor value [K].                 HIERARCH ESO INS TEMP2 ID    = 'light   '   / Sensor type.                      HIERARCH ESO INS TEMP2 NAME  = 'Lightshield' / Sensor name.                     HIERARCH ESO INS TEMP2 VAL   =        7.300 / Sensor value [K].                 HIERARCH ESO INS TEMP20 ID   = 'rads3   '   / Sensor type.                      HIERARCH ESO INS TEMP20 NAME = 'RSh3 (Casper)' / Sensor name.                   HIERARCH ESO INS TEMP20 VAL  =       49.000 / Sensor value [K].                 HIERARCH ESO INS TEMP23 ID   = 'rads1   '   / Sensor type.                      HIERARCH ESO INS TEMP23 NAME = 'RSh1 (Balthazar)' / Sensor name.                HIERARCH ESO INS TEMP23 VAL  =       49.700 / Sensor value [K].                 HIERARCH ESO INS TEMP24 ID   = 'absp1   '   / Sensor type.                      HIERARCH ESO INS TEMP24 NAME = 'Sorption Pump 1' / Sensor name.                 HIERARCH ESO INS TEMP24 VAL  =     -238.000 / Sensor value [K].                 HIERARCH ESO INS TEMP25 ID   = 'absp2   '   / Sensor type.                      HIERARCH ESO INS TEMP25 NAME = 'Sorption Pump 2' / Sensor name.                 HIERARCH ESO INS TEMP25 VAL  =     -238.000 / Sensor value [K].                 HIERARCH ESO INS TEMP26 ID   = 'heat1   '   / Sensor type.                      HIERARCH ESO INS TEMP26 NAME = 'Heat Exch. 1' / Sensor name.                    HIERARCH ESO INS TEMP26 VAL  =      274.000 / Sensor value [K].                 HIERARCH ESO INS TEMP3 ID    = 'TVes1   '   / Sensor type.                      HIERARCH ESO INS TEMP3 NAME  = 'Tvessel '   / Sensor name.                      HIERARCH ESO INS TEMP3 VAL   =      277.000 / Sensor value [K].                 HIERARCH ESO INS TEMP30 ID   = 'sci     '   / Sensor type.                      HIERARCH ESO INS TEMP30 NAME = 'SC Temp.'   / Sensor name.                      HIERARCH ESO INS TEMP30 VAL  =       27.006 / Sensor value [K].                 HIERARCH ESO INS TEMP32 ID   = 'sv      '   / Sensor type.                      HIERARCH ESO INS TEMP32 NAME = 'SV Temp.'   / Sensor name.                      HIERARCH ESO INS TEMP32 VAL  =       24.500 / Sensor value [K].                 HIERARCH ESO INS TEMP33 ID   = 'grat    '   / Sensor type.                      HIERARCH ESO INS TEMP33 NAME = 'Grating Stab.' / Sensor name.                   HIERARCH ESO INS TEMP33 VAL  =       73.998 / Sensor value [K].                 HIERARCH ESO INS TEMP34 ID   = 'prism   '   / Sensor type.                      HIERARCH ESO INS TEMP34 NAME = 'Prism   '   / Sensor name.                      HIERARCH ESO INS TEMP34 VAL  =       72.000 / Sensor value [K].                 HIERARCH ESO INS TEMP35 ID   = 'stab    '   / Sensor type.                      HIERARCH ESO INS TEMP35 NAME = 'Therm. Stab.' / Sensor name.                    HIERARCH ESO INS TEMP35 VAL  =       69.992 / Sensor value [K].                 HIERARCH ESO INS TEMP4 ID    = 'grHs1   '   / Sensor type.                      HIERARCH ESO INS TEMP4 NAME  = 'Grating Hs 1' / Sensor name.                    HIERARCH ESO INS TEMP4 VAL   =       65.100 / Sensor value [K].                 HIERARCH ESO INS TEMP5 ID    = 'grHs2   '   / Sensor type.                      HIERARCH ESO INS TEMP5 NAME  = 'Grating Hs 2' / Sensor name.                    HIERARCH ESO INS TEMP5 VAL   =       54.500 / Sensor value [K].                 HIERARCH ESO INS TEMP6 ID    = 'main3   '   / Sensor type.                      HIERARCH ESO INS TEMP6 NAME  = 'Main Struc 3' / Sensor name.                    HIERARCH ESO INS TEMP6 VAL   =       65.000 / Sensor value [K].                 HIERARCH ESO INS TEMP7 ID    = 'main4   '   / Sensor type.                      HIERARCH ESO INS TEMP7 NAME  = 'Main Struc 4' / Sensor name.                    HIERARCH ESO INS TEMP7 VAL   =       73.100 / Sensor value [K].                 HIERARCH ESO INS TEMP8 ID    = 'popt2   '   / Sensor type.                      HIERARCH ESO INS TEMP8 NAME  = 'Pre Optics 2' / Sensor name.                    HIERARCH ESO INS TEMP8 VAL   =       64.600 / Sensor value [K].                 HIERARCH ESO INS TEMP9 ID    = 'Tamb    '   / Sensor type.                      HIERARCH ESO INS TEMP9 NAME  = 'Tamb    '   / Sensor name.                      HIERARCH ESO INS TEMP9 VAL   =      280.000 / Sensor value [K].                 HIERARCH ESO INS WLEN CWLEN  =     2139.839 / Center wavelength [nm].           HIERARCH ESO INS WLEN END1   =     2123.564 / Wavelength end on detector [nm].  HIERARCH ESO INS WLEN END2   =     2138.165 / Wavelength end on detector [nm].  HIERARCH ESO INS WLEN END3   =     2152.039 / Wavelength end on detector [nm].  HIERARCH ESO INS WLEN END4   =     2165.236 / Wavelength end on detector [nm].  HIERARCH ESO INS WLEN ID     = 'FREE    '   / Order/Sub-order/Nominal-InterlacedHIERARCH ESO INS WLEN MAX    =     2160.205 / Wavelength Limit + [nm].          HIERARCH ESO INS WLEN MIN    =     2121.056 / Wavelength Limit - [nm].          HIERARCH ESO INS WLEN REF    =     2146.600 / Reference wavelength [nm].        HIERARCH ESO INS WLEN STRT1  =     2111.784 / Wavelength start on detector [nm].HIERARCH ESO INS WLEN STRT2  =     2126.829 / Wavelength start on detector [nm].HIERARCH ESO INS WLEN STRT3  =     2141.163 / Wavelength start on detector [nm].HIERARCH ESO INS WLEN STRT4  =     2154.834 / Wavelength start on detector [nm].HIERARCH ESO INS WLEN VERSION= '12c - 20/12/2009' / Wlen table: issue - date.   HIERARCH ESO INS1 DID = 'ESO-VLT-DIC.MACC_ICS-188901' / Data dictionary.        HIERARCH ESO INS1 DROT BEGIN = 109.2317 / Position angle at start [deg].        HIERARCH ESO INS1 DROT DEC = -500432.056 / Telescope desclination [DMS].        HIERARCH ESO INS1 DROT END = 109.3170 / Position angle at end [deg].            HIERARCH ESO INS1 DROT MODE = 'SKY     ' / Instrument derotator mode.           HIERARCH ESO INS1 DROT POSANG = 20.0000 / Start position angle [deg].           HIERARCH ESO INS1 DROT RA = 44537.783 / Telescope right ascension [HMS].        HIERARCH ESO INS1 FOCU1 ENC = 900000 / Absolute position [Enc].                 HIERARCH ESO INS1 FOCU1 POS = 9.000 / Position [mm].                            HIERARCH ESO INS1 FOCU2 ENC = 1711808 / Absolute position [Enc].                HIERARCH ESO INS1 FOCU2 POS = 14.550 / Position [mm].                           HIERARCH ESO INS1 FSEL ABSPOSX = 0.000 / Abs X in field mm.                     HIERARCH ESO INS1 FSEL ABSPOSY = 0.000 / Abs Y in field mm.                     HIERARCH ESO INS1 FSEL ALPHA = 0.000 / Abs Alpha offset form center field       HIERARCH ESO INS1 FSEL DELTA = -0.000 / Abs Delta offset form center field      HIERARCH ESO INS1 FSEL FOCUS = 0.000 / Focus setting in mm.                     HIERARCH ESO INS1 FSEL GSALPHA = 44538.580 / RA of the WFS star [hms].          HIERARCH ESO INS1 FSEL GSDELTA = -500427.220 / DEC of the WFS star [dms].       HIERARCH ESO INS1 ID = 'MACC/1.57' / Instrument ID.                             HIERARCH ESO INS1 MIRR1 NAME = 'SKY     ' / Element name.                       HIERARCH ESO INS1 MIRR1 NO = 2 / Element number.                                HIERARCH ESO INS1 OPTI1 ENC = 255000 / Absolute position [Enc].                 HIERARCH ESO INS1 OPTI1 ID = 'FREE    ' / Identification.                       HIERARCH ESO INS1 OPTI1 NAME = 'FREE    ' / Element name.                       HIERARCH ESO INS1 OPTI1 NO = 1 / Element number.                                HIERARCH ESO INS1 OPTI1 TYPE = 'NONE    ' / Element type.                       HIERARCH ESO INS1 OPTI2 ENC = 0 / Absolute position [Enc].                      HIERARCH ESO INS1 OPTI2 POS = 0.000 / Position [deg].                           HIERARCH ESO INS1 OPTI2 SWSIM = T / If T, function is software simulat          HIERARCH ESO INS1 SHUT1 ENC = 3000015 / Absolute position [Enc].                HIERARCH ESO INS1 SHUT1 POS = 45.000 / Position [mm].                           HIERARCH ESO INS1 SWSIM = 'NORMAL  ' / Software simulation.                     HIERARCH ESO INS1 TILT1 ENC = -13214 / Absolute position [Enc].                 HIERARCH ESO INS1 TILT1 POS = -16.428 / Position [mm].                          HIERARCH ESO INS1 TILT2 ENC = 330620 / Absolute position [Enc].                 HIERARCH ESO INS1 TILT2 POS = 33.062 / Position [mm].                           HIERARCH ESO INS1 TIP1 ENC = -67036 / Absolute position [Enc].                  HIERARCH ESO INS1 TIP1 POS = -34.072 / Position [mm].                           HIERARCH ESO INS1 TIP2 ENC = 339440 / Absolute position [Enc].                  HIERARCH ESO INS1 TIP2 POS = 33.944 / Position [mm].                            HIERARCH ESO OBS DID         = 'ESO-VLT-DIC.OBS-1.12' / OBS Dictionary          HIERARCH ESO OBS EXECTIME    =         2246 / Expected execution time           HIERARCH ESO OBS GRP         = '0       '   / linked blocks                     HIERARCH ESO OBS ID          =       717427 / Observation block ID              HIERARCH ESO OBS NAME        = 'HD30501-3'  / OB name                           HIERARCH ESO OBS OBSERVER    = 'UNKNOWN '   / Observer Name                     HIERARCH ESO OBS PI-COI ID   =        17444 / ESO internal PI-COI ID            HIERARCH ESO OBS PI-COI NAME = 'UNKNOWN '   / PI-COI name                       HIERARCH ESO OBS PROG ID     = '089.C-0977(A)' / ESO program identification     HIERARCH ESO OBS START       = '2012-08-02T08:38:08' / OB start time            HIERARCH ESO OBS TARG NAME   = 'HD30501 '   / OB target name                    HIERARCH ESO OBS TPLNO       =            2 / Template number within OB         HIERARCH ESO OCS DET1 IMGNAME= 'CRIRES_SPEC_OBS' / Data File Name.              HIERARCH ESO SEQ CUMOFFSETX  =        0.000 / Cummulative X offset [pixels].    HIERARCH ESO SEQ CUMOFFSETY  =       58.140 / Cummulative Y offset [pixels].    HIERARCH ESO SEQ JITTER WIDTH=     2.000000 / Jitter box width.                 HIERARCH ESO SEQ JITTERVAL   =        0.000 / Jitter value.                     HIERARCH ESO SEQ NABCYCLES   =            4 / Number of AB and BA cycles.       HIERARCH ESO SEQ NODPOS      = 'A       '   / Nodding position (A or B).        HIERARCH ESO SEQ NODTHROW    =       10.000 / Throw along the slit [arcsec].    HIERARCH ESO SEQ POISSON     =          100 / Poisson value.                    HIERARCH ESO TEL AIRM END    =        1.584 / Airmass at end                    HIERARCH ESO TEL AIRM START  =        1.602 / Airmass at start                  HIERARCH ESO TEL ALT         =       38.551 / Alt angle at start (deg)          HIERARCH ESO TEL AMBI FWHM END=        1.58 / Observatory Seeing queried from ASHIERARCH ESO TEL AMBI FWHM START=      1.64 / Observatory Seeing queried from ASHIERARCH ESO TEL AMBI PRES END=      741.32 / Observatory ambient air pressure qHIERARCH ESO TEL AMBI PRES START=    741.35 / Observatory ambient air pressure qHIERARCH ESO TEL AMBI RHUM   =           19. / Observatory ambient relative humiHIERARCH ESO TEL AMBI TAU0   =     0.000862 / Average coherence time            HIERARCH ESO TEL AMBI TEMP   =         6.17 / Observatory ambient temperature quHIERARCH ESO TEL AMBI WINDDIR=          352. / Observatory ambient wind directioHIERARCH ESO TEL AMBI WINDSP =        14.13 / Observatory ambient wind speed queHIERARCH ESO TEL AZ          =      315.481 / Az angle at start (deg) S=0,W=90  HIERARCH ESO TEL CHOP ST     =            F / True when chopping is active      HIERARCH ESO TEL DATE        = '2000-01-01T00:00:00' / TCS installation date    HIERARCH ESO TEL DID         = 'ESO-VLT-DIC.TCS' / Data dictionary for TEL      HIERARCH ESO TEL DOME STATUS = 'FULLY-OPEN' / Dome status                       HIERARCH ESO TEL FOCU ID     = 'NA      '   / Telescope focus station ID        HIERARCH ESO TEL FOCU LEN    =      120.000 / Focal length (m)                  HIERARCH ESO TEL FOCU SCALE  =        1.718 / Focal scale (arcsec/mm)           HIERARCH ESO TEL FOCU VALUE  =      -36.148 / M2 setting (mm)                   HIERARCH ESO TEL GEOELEV     =         2648. / Elevation above sea level (m)    HIERARCH ESO TEL GEOLAT      =     -24.6276 / Tel geo latitute (+=North) (deg)  HIERARCH ESO TEL GEOLON      =     -70.4051 / Tel geo longitude (+=East) (deg)  HIERARCH ESO TEL IA FWHM     =         1.24 / Delivered seeing corrected by airmHIERARCH ESO TEL IA FWHMLIN  =         1.28 / Delivered seeing on IA detector (lHIERARCH ESO TEL IA FWHMLINOBS=        1.69 / Delivered seeing on IA detector (lHIERARCH ESO TEL ID          = 'v 217910'   / TCS version number                HIERARCH ESO TEL MOON DEC    =    -11.95217 / -11:57:07.8 DEC (J2000) (deg)     HIERARCH ESO TEL MOON RA     =   313.625827 / 20:54:30.1 RA (J2000) (deg)       HIERARCH ESO TEL OPER        = 'I, Condor'  / Telescope Operator                HIERARCH ESO TEL PARANG END  =      -82.323 / Parallactic angle at end (deg)    HIERARCH ESO TEL PARANG START=      -83.018 / Parallactic angle at start (deg)  HIERARCH ESO TEL TARG ALPHA  =    44538.580 / Alpha coordinate for the target   HIERARCH ESO TEL TARG COORDTYPE= 'M       ' / Coordinate type (M=mean A=apparentHIERARCH ESO TEL TARG DELTA  =  -500427.220 / Delta coordinate for the target   HIERARCH ESO TEL TARG EPOCH  =     2000.000 / Epoch                             HIERARCH ESO TEL TARG EPOCHSYSTEM= 'J       ' / Epoch system (default J=Julian) HIERARCH ESO TEL TARG EQUINOX=     2000.000 / Equinox                           HIERARCH ESO TEL TARG PARALLAX=       0.000 / Parallax                          HIERARCH ESO TEL TARG PMA    =    -0.446090 / Proper Motion Alpha               HIERARCH ESO TEL TARG PMD    =    -0.336700 / Proper motion Delta               HIERARCH ESO TEL TARG RADVEL =        0.000 / Radial velocity                   HIERARCH ESO TEL TH M1 TEMP  =         5.72 / M1 superficial temperature        HIERARCH ESO TEL TRAK STATUS = 'NORMAL  '   / Tracking status                   HIERARCH ESO TPL DID         = 'ESO-VLT-DIC.TPL-1.9' / Data dictionary for TPL  HIERARCH ESO TPL EXPNO       =            1 / Exposure number within template   HIERARCH ESO TPL ID          = 'CRIRES_spec_obs_AutoNodOnSlit' / Template signatHIERARCH ESO TPL NAME        = 'Nodding along slit using jitter' / Template nameHIERARCH ESO TPL NEXP        =            8 / Number of exposures within templatHIERARCH ESO TPL PRESEQ      = 'CRIRES_spec_obs_AutoNodOnSlit.seq' / Sequencer sHIERARCH ESO TPL START       = '2012-08-02T08:47:07' / TPL start time           HIERARCH ESO TPL VERSION     = '$Revision: 181465 $' / Version of the template  ARCFILE = 'CRIRE.2012-08-02T08:47:30.843.fits' / Archive File Name              CTYPE1  = 'LINEAR  '           / Coordinate type along x-axis.                  CRVAL1  =     2111.78446753107 / Value at reference pixel.                      CRPIX1  =                   1. / Reference pixel X.                             CD1_1   =   0.0115038924544394 / Coordinate description matrix.                 CSYER1  =                  0.3 / Systematic error in wavelength                 CUNIT1  = 'nm      '           / Unit is nanometer                              CUNIT2  = 'arcsec  '           / Unit is arcsec                                 HIERARCH ESO DET CHIP GAIN   = 6.97 / Gain in e-/ADU                            HIERARCH ESO DET CHIP ID     = 'ESO-Aladdin' / Detector ID                      HIERARCH ESO DET CHIP LIVE   = T / Detector live or broken                      HIERARCH ESO DET CHIP NO     = 1 / Unique Detector Number                       HIERARCH ESO DET CHIP NX     = 1024 / Pixels in X                               HIERARCH ESO DET CHIP NY     = 1024 / Pixels in Y                               HIERARCH ESO DET CHIP PXSPACE = 2.700E-05 / Pixel-Pixel Spacing                 HIERARCH ESO DET CHIP RON    = 9.90 / Read-out noise in e                       HIERARCH ESO DET CHIP X      = 1 / Detector position x-axis                     HIERARCH ESO DET CHIP XGAP   = 0 / Gap after chip along x                       HIERARCH ESO DET CHIP Y      = 1 / Detector position y-axis                     HIERARCH ESO DET CHIP YGAP   = 0 / Gap after chip along y                       HIERARCH ESO DET WIN NX      = 1024 / # of Pixels in X                          HIERARCH ESO DET WIN NY      = 512 / # of Pixels in X                           HIERARCH ESO DET WIN STARTX  = 1 / Lower left X ref                             HIERARCH ESO DET WIN STARTY  = 1 / Lower left Y ref                             HIERARCH ESO INS WLEN END = 2123.56445340441 / Wavelength end on detector [nm]. HIERARCH ESO INS WLEN STRT = 2111.78446753107 / Wavelength start on detector [nmWCSNAME = 'WAVE - LINEAR'      / Reference name for coord. frame .              CHECKSUM= 'XkKAXjJ3XjJAXjJ3'   / HDU checksum updated 2012-08-02T08:50:59       DATASUM = '1088161313'         / data unit checksum updated 2012-08-02T08:50:59 MJD-N   =                56141                                                  IMAGETYP= 'object  '                                                            WCSDIM  =                    1                                                  CDELT1  =   0.0115038924544394                                                  LTM1_1  =                   1.                                                  WAT0_001= 'system=equispec'                                                     WAT1_001= 'wtype=linear label=Wavelength units=nanometers units_display=nm'     DARKCOR = 'Mar 21 16:55 Dark count correction image is MasterDarkSpec_1 with sc'CCDSEC  = '[1:1024,1:512]'                                                      CCDPROC = 'Mar 21 16:55 CCD processing done'                                    FIXPIX  = 'Mar 21 16:55 Bad pixel file is corep$newpxlmask_1.fits'              FLATCOR = 'Mar 21 16:55 Flat field image is FlatR_1 with scale=1.'              BANDID1 = 'spectrum - background none, weights variance, clean yes'             APNUM1  = '1 1 159.78 219.78'                                                                                                                                                                                                                                                                                                                                                                                                                                                                                                                                                                                                                                                                                                                                                                                                                                                                                                                                                                                                                                                                                                                                                                                                                                                                                                                                                                                                                                                                                                                                                                                                                                                                                                                                                                                                                                                                                                                                                                                                                                                                                                                                                                                                                                                                                                                                                                                                                                                                                                                                                                                                                                                                                                                                                                                                                                                                                                                                                                                                                                                                                                                                                                                                                   END                                                                             \n"
     ]
    },
    {
     "name": "stderr",
     "output_type": "stream",
     "text": [
      "WARNING: VerifyWarning: Verification reported errors: [astropy.io.fits.verify]\n",
      "WARNING: VerifyWarning: Card 'ESO INS SENS21 VAL' is not FITS standard (invalid value string: '2.74e-08 / Press gauge pressure [mbar].').  Fixed 'ESO INS SENS21 VAL' card to meet the FITS standard. [astropy.io.fits.verify]\n",
      "WARNING: VerifyWarning: Note: PyFITS uses zero-based indexing.\n",
      " [astropy.io.fits.verify]\n",
      "WARNING: VerifyWarning: Card 'ESO DET CHIP PXSPACE' is not FITS standard (invalid value string: '2.700e-05 / Pixel-Pixel Spacing').  Fixed 'ESO DET CHIP PXSPACE' card to meet the FITS standard. [astropy.io.fits.verify]\n"
     ]
    }
   ],
   "source": [
    "print(hdr)"
   ]
  },
  {
   "cell_type": "code",
   "execution_count": 12,
   "metadata": {
    "collapsed": true
   },
   "outputs": [],
   "source": [
    "def read_wcs_attributes(fits_header, axis):\n",
    "        \"\"\"\n",
    "        Reading WCS attribute information in WAT0_001-like keywords\n",
    "\n",
    "        Parameters\n",
    "        ----------\n",
    "\n",
    "        axis: int\n",
    "            specifying which axis to read (e.g axis=2 will read WAT2_???).\n",
    "        \"\"\"\n",
    "\n",
    "        wcs_attributes = fits_header['wat{0:d}_???'.format(axis)]\n",
    "        if len(wcs_attributes) == 0:\n",
    "            raise FITSWCSError\n",
    "\n",
    "        raw_wcs_attributes = ''.join([wcs_attributes[key].ljust(68) for key in\n",
    "                                      sorted(wcs_attributes.keys())])\n",
    "\n",
    "        wat_dictionary = OrderedDict()\n",
    "        for wat_keyword_match in wat_keyword_pattern.finditer(\n",
    "                raw_wcs_attributes):\n",
    "            wat_dictionary[wat_keyword_match.groups()[0]] = \\\n",
    "                wat_keyword_match.groups()[1].strip('\\\"\\'')\n",
    "\n",
    "        if 'units' in wat_dictionary:\n",
    "            wat_dictionary['units'] = _parse_fits_units(wat_dictionary['units'])\n",
    "\n",
    "        return wat_dictionary"
   ]
  },
  {
   "cell_type": "code",
   "execution_count": 16,
   "metadata": {
    "collapsed": false
   },
   "outputs": [
    {
     "ename": "NameError",
     "evalue": "name '_parse_fits_units' is not defined",
     "output_type": "error",
     "traceback": [
      "\u001b[0;31m---------------------------------------------------------------------------\u001b[0m",
      "\u001b[0;31mNameError\u001b[0m                                 Traceback (most recent call last)",
      "\u001b[0;32m<ipython-input-16-a9da87249fe5>\u001b[0m in \u001b[0;36m<module>\u001b[0;34m()\u001b[0m\n\u001b[1;32m      8\u001b[0m     '([^=\\s]*)\\s*=\\s*(([^\\\"\\'\\s]+)|([\\\"\\'][^\\\"\\']+[\\\"\\']))\\s*')\n\u001b[1;32m      9\u001b[0m \u001b[1;33m\u001b[0m\u001b[0m\n\u001b[0;32m---> 10\u001b[0;31m \u001b[0mread_wcs_attributes\u001b[0m\u001b[1;33m(\u001b[0m\u001b[0mfits_header\u001b[0m\u001b[1;33m,\u001b[0m \u001b[1;36m1\u001b[0m\u001b[1;33m)\u001b[0m\u001b[1;33m\u001b[0m\u001b[0m\n\u001b[0m",
      "\u001b[0;32m<ipython-input-12-eb4bd60fc65c>\u001b[0m in \u001b[0;36mread_wcs_attributes\u001b[0;34m(fits_header, axis)\u001b[0m\n\u001b[1;32m     23\u001b[0m \u001b[1;33m\u001b[0m\u001b[0m\n\u001b[1;32m     24\u001b[0m         \u001b[1;32mif\u001b[0m \u001b[1;34m'units'\u001b[0m \u001b[1;32min\u001b[0m \u001b[0mwat_dictionary\u001b[0m\u001b[1;33m:\u001b[0m\u001b[1;33m\u001b[0m\u001b[0m\n\u001b[0;32m---> 25\u001b[0;31m             \u001b[0mwat_dictionary\u001b[0m\u001b[1;33m[\u001b[0m\u001b[1;34m'units'\u001b[0m\u001b[1;33m]\u001b[0m \u001b[1;33m=\u001b[0m \u001b[0m_parse_fits_units\u001b[0m\u001b[1;33m(\u001b[0m\u001b[0mwat_dictionary\u001b[0m\u001b[1;33m[\u001b[0m\u001b[1;34m'units'\u001b[0m\u001b[1;33m]\u001b[0m\u001b[1;33m)\u001b[0m\u001b[1;33m\u001b[0m\u001b[0m\n\u001b[0m\u001b[1;32m     26\u001b[0m \u001b[1;33m\u001b[0m\u001b[0m\n\u001b[1;32m     27\u001b[0m         \u001b[1;32mreturn\u001b[0m \u001b[0mwat_dictionary\u001b[0m\u001b[1;33m\u001b[0m\u001b[0m\n",
      "\u001b[0;31mNameError\u001b[0m: name '_parse_fits_units' is not defined"
     ]
    }
   ],
   "source": [
    "# TRY to test implement FITSWCSSpectrum  from astropy\n",
    "from collections import OrderedDict\n",
    "import re \n",
    "fits_header = fits.Header(hdr)\n",
    "naxis = fits_header['naxis']\n",
    "\n",
    "wat_keyword_pattern = re.compile(\n",
    "    '([^=\\s]*)\\s*=\\s*(([^\\\"\\'\\s]+)|([\\\"\\'][^\\\"\\']+[\\\"\\']))\\s*')\n",
    "\n",
    "read_wcs_attributes(fits_header, 1)"
   ]
  },
  {
   "cell_type": "code",
   "execution_count": null,
   "metadata": {
    "collapsed": true
   },
   "outputs": [],
   "source": []
  }
 ],
 "metadata": {
  "anaconda-cloud": {},
  "kernelspec": {
   "display_name": "Python [conda root]",
   "language": "python",
   "name": "conda-root-py"
  },
  "language_info": {
   "codemirror_mode": {
    "name": "ipython",
    "version": 3
   },
   "file_extension": ".py",
   "mimetype": "text/x-python",
   "name": "python",
   "nbconvert_exporter": "python",
   "pygments_lexer": "ipython3",
   "version": "3.4.5"
  }
 },
 "nbformat": 4,
 "nbformat_minor": 1
}

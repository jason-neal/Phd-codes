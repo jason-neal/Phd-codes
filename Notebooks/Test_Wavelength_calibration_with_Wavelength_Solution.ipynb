{
 "cells": [
  {
   "cell_type": "markdown",
   "metadata": {},
   "source": [
    "# Test wavelength solution from github:\n",
    "I found a Wavlength solution module on github that calculates the wavelength solution given pixel values and wavelength values. \n",
    "I would like to test this against what I have already and I would like to see what the errors are. \n"
   ]
  },
  {
   "cell_type": "code",
   "execution_count": 1,
   "metadata": {
    "collapsed": true
   },
   "outputs": [],
   "source": [
    "# Imports\n",
    "import numpy as np\n",
    "import matplotlib.pyplot as plt\n",
    "from astropy.io import fits\n"
   ]
  },
  {
   "cell_type": "code",
   "execution_count": 2,
   "metadata": {
    "collapsed": false
   },
   "outputs": [],
   "source": [
    "# Updated load in for beter calibration data\n",
    "chip_num = 1\n",
    "obs_num = \"2a\"\n",
    "#ref_num = \"3\"\n",
    "target = \"HD30501-\" + obs_num\n",
    "#reference_target = \"HD30501-\"+ ref_num    # should be different from target\n",
    "\n",
    "### Coord data\n",
    "#coord_path = here +\"./HD30501_data/{0}/\".format(obs_num)\n",
    "coord_path = \"./HD30501_data/{0}/\".format(obs_num)\n",
    "\n",
    "dates = {\"1\":\"2012-04-07T00-08-29.976\", \"2a\":\"2012-08-01T09-17-30.195\" , \"2b\":\"2012-08-06T09-42-07.888\", \"3\": \"2012-08-02T08-47-30.843\"} \n",
    "# Find way to match the wildcard\n",
    "Coords_1 = coord_path + \"Coordinates_CRIRE.{}_1.nod.ms.norm.sum.txt\".format(dates[obs_num])\n",
    "Coords_2 = coord_path + \"Coordinates_CRIRE.{}_2.nod.ms.norm.sum.txt\".format(dates[obs_num])\n",
    "Coords_4 = coord_path + \"Coordinates_CRIRE.{}_3.nod.ms.norm.sum.txt\".format(dates[obs_num])\n",
    "Coords_3 = coord_path + \"Coordinates_CRIRE.{}_4.nod.ms.norm.sum.txt\".format(dates[obs_num])"
   ]
  },
  {
   "cell_type": "code",
   "execution_count": 3,
   "metadata": {
    "collapsed": false
   },
   "outputs": [],
   "source": [
    "\n",
    "pix1, pxl_depth1, pxl_fwhm1, wlen1, wl_depth1, wl_fwhm1 = np.loadtxt(Coords_1, skiprows=1, unpack=True)\n",
    "pix2, pxl_depth2, pxl_fwhm2, wlen2, wl_depth2, wl_fwhm2 = np.loadtxt(Coords_2, skiprows=1, unpack=True)\n",
    "pix3, pxl_depth3, pxl_fwhm3, wlen3, wl_depth3, wl_fwhm3 = np.loadtxt(Coords_3, skiprows=1, unpack=True)\n",
    "pix4, pxl_depth4, pxl_fwhm4, wlen4, wl_depth4, wl_fwhm4 = np.loadtxt(Coords_4, skiprows=1, unpack=True)\n"
   ]
  },
  {
   "cell_type": "code",
   "execution_count": 4,
   "metadata": {
    "collapsed": true
   },
   "outputs": [],
   "source": [
    "# Adding pixel Gaps\n",
    "\n",
    "# Pixel gaps Brogi et al 2015\n",
    "Fixed_Gap0 = 0\n",
    "Fixed_Gap1 = 282\n",
    "Fixed_Gap2 = 278\n",
    "Fixed_Gap3 = 275\n",
    "\n",
    "Chip1_gap = Fixed_Gap0\n",
    "Chip2_gap = Fixed_Gap0 + Fixed_Gap1\n",
    "Chip3_gap = Fixed_Gap0 + Fixed_Gap1 + Fixed_Gap2\n",
    "Chip4_gap = Fixed_Gap0 + Fixed_Gap1 + Fixed_Gap2 + Fixed_Gap3\n",
    "\n",
    "#pixel space\n",
    "max_pixel = 4*1024 + Chip4_gap\n",
    "pixel_span = range(1, max_pixel)\n",
    "\n",
    "Test_pxl1 = [pxl + Chip1_gap for pxl in pix1] \n",
    "Test_pxl2 = [pxl + 1*1024 + Chip2_gap for pxl in pix2]\n",
    "Test_pxl3 = [pxl + 2*1024 + Chip3_gap for pxl in pix3]\n",
    "Test_pxl4 = [pxl + 3*1024 + Chip4_gap for pxl in pix4]\n",
    "Test_wl1 = [wl for wl in wlen1]\n",
    "Test_wl2 = [wl for wl in wlen2]\n",
    "Test_wl3 = [wl for wl in wlen3]\n",
    "Test_wl4 = [wl for wl in wlen4]\n"
   ]
  },
  {
   "cell_type": "code",
   "execution_count": 5,
   "metadata": {
    "collapsed": false
   },
   "outputs": [],
   "source": [
    "# Fit to the individual chips\n",
    "# Polyfit_function\n",
    "def wavelength_calibration(x, y, new_x, order=2):\n",
    "    \"Basic calibration mapping fucntion\"\n",
    "    fit_params = np.polyfit(x, y, order)\n",
    "    new_y = np.polyval(fit_params, new_x) \n",
    "    return new_y, fit_params\n",
    "\n"
   ]
  },
  {
   "cell_type": "code",
   "execution_count": 6,
   "metadata": {
    "collapsed": false
   },
   "outputs": [
    {
     "name": "stdout",
     "output_type": "stream",
     "text": [
      "[ -1.50500100e-07   1.15995030e-02   2.11186756e+03]\n",
      "wl_map params 2\t [ -1.49603271e-07   1.15792228e-02   2.11198590e+03]\n",
      "wl_map params 3\t [ -1.57439134e-07   1.11070726e-02   2.12694676e+03]\n",
      "Wl map params 4\t [ -1.84818442e-07   1.22277353e-02   2.09619549e+03]\n"
     ]
    }
   ],
   "source": [
    "# Individual calibrations for each chip\n",
    "order = 2\n",
    "wlvals1, wl_map1 = wavelength_calibration(Test_pxl1, Test_wl1, pixel_span, order=order)\n",
    "print(wl_map1)\n",
    "wlvals2, wl_map2 = wavelength_calibration(Test_pxl2, Test_wl2, pixel_span, order=order)\n",
    "wlvals3, wl_map3 = wavelength_calibration(Test_pxl3, Test_wl3, pixel_span, order=order)\n",
    "wlvals4, wl_map4 = wavelength_calibration(Test_pxl4, Test_wl4, pixel_span, order=order)\n",
    "\n",
    "\n",
    "wl_map2 = np.polyfit(Test_pxl2, Test_wl2, order)\n",
    "print(\"wl_map params 2\\t\", wl_map2)\n",
    "wlvals2 = np.polyval(wl_map2, pixel_span) \n",
    "\n",
    "wl_map3 = np.polyfit(Test_pxl3, Test_wl3, order)\n",
    "print(\"wl_map params 3\\t\", wl_map3)\n",
    "wlvals3 = np.polyval(wl_map3, pixel_span) \n",
    "\n",
    "wl_map4 = np.polyfit(Test_pxl4, Test_wl4, order)\n",
    "print(\"Wl map params 4\\t\", wl_map4)\n",
    "wlvals4 = np.polyval(wl_map4, pixel_span) "
   ]
  },
  {
   "cell_type": "code",
   "execution_count": null,
   "metadata": {
    "collapsed": false
   },
   "outputs": [],
   "source": [
    "# Explore the New librarys that have wavelength solution"
   ]
  },
  {
   "cell_type": "code",
   "execution_count": null,
   "metadata": {
    "collapsed": false
   },
   "outputs": [
    {
     "ename": "ImportError",
     "evalue": "cannot import name 'QtGui'",
     "output_type": "error",
     "traceback": [
      "\u001b[0;31m---------------------------------------------------------------------------\u001b[0m",
      "\u001b[0;31mImportError\u001b[0m                               Traceback (most recent call last)",
      "\u001b[0;32m<ipython-input-2-4a04f0de15bb>\u001b[0m in \u001b[0;36m<module>\u001b[0;34m()\u001b[0m\n\u001b[0;32m----> 1\u001b[0;31m \u001b[1;32mimport\u001b[0m \u001b[0mspecreduce\u001b[0m\u001b[1;33m\u001b[0m\u001b[0m\n\u001b[0m\u001b[1;32m      2\u001b[0m \u001b[1;32mimport\u001b[0m \u001b[0mpyspectrograph\u001b[0m\u001b[1;33m\u001b[0m\u001b[0m\n",
      "\u001b[0;32mC:\\Users\\Jason\\Anaconda3\\lib\\site-packages\\specreduce-0.0.dev0-py3.4.egg\\specreduce\\__init__.py\u001b[0m in \u001b[0;36m<module>\u001b[0;34m()\u001b[0m\n\u001b[1;32m     29\u001b[0m \u001b[1;32mif\u001b[0m \u001b[1;32mnot\u001b[0m \u001b[0m_ASTROPY_SETUP_\u001b[0m\u001b[1;33m:\u001b[0m\u001b[1;33m\u001b[0m\u001b[0m\n\u001b[1;32m     30\u001b[0m     \u001b[1;32mfrom\u001b[0m \u001b[1;33m.\u001b[0m\u001b[0mspectools\u001b[0m \u001b[1;32mimport\u001b[0m \u001b[1;33m*\u001b[0m\u001b[1;33m\u001b[0m\u001b[0m\n\u001b[0;32m---> 31\u001b[0;31m     \u001b[1;32mfrom\u001b[0m \u001b[1;33m.\u001b[0m\u001b[0mguitools\u001b[0m \u001b[1;32mimport\u001b[0m \u001b[1;33m*\u001b[0m\u001b[1;33m\u001b[0m\u001b[0m\n\u001b[0m\u001b[1;32m     32\u001b[0m     \u001b[1;32mfrom\u001b[0m \u001b[1;33m.\u001b[0m\u001b[0miterfit\u001b[0m \u001b[1;32mimport\u001b[0m \u001b[1;33m*\u001b[0m\u001b[1;33m\u001b[0m\u001b[0m\n",
      "\u001b[0;32mC:\\Users\\Jason\\Anaconda3\\lib\\site-packages\\specreduce-0.0.dev0-py3.4.egg\\specreduce\\guitools.py\u001b[0m in \u001b[0;36m<module>\u001b[0;34m()\u001b[0m\n\u001b[1;32m     11\u001b[0m \u001b[1;33m\u001b[0m\u001b[0m\n\u001b[1;32m     12\u001b[0m \u001b[1;31m# Gui library imports\u001b[0m\u001b[1;33m\u001b[0m\u001b[1;33m\u001b[0m\u001b[0m\n\u001b[0;32m---> 13\u001b[0;31m \u001b[1;32mfrom\u001b[0m \u001b[0mPyQt4\u001b[0m \u001b[1;32mimport\u001b[0m \u001b[0mQtGui\u001b[0m\u001b[1;33m,\u001b[0m \u001b[0mQtCore\u001b[0m\u001b[1;33m\u001b[0m\u001b[0m\n\u001b[0m\u001b[1;32m     14\u001b[0m \u001b[1;32mfrom\u001b[0m \u001b[0mmatplotlib\u001b[0m\u001b[1;33m.\u001b[0m\u001b[0mbackends\u001b[0m\u001b[1;33m.\u001b[0m\u001b[0mbackend_qt4agg\u001b[0m \u001b[1;32mimport\u001b[0m \u001b[0mFigureCanvasQTAgg\u001b[0m \u001b[1;32mas\u001b[0m \u001b[0mFigureCanvas\u001b[0m\u001b[1;33m\u001b[0m\u001b[0m\n\u001b[1;32m     15\u001b[0m \u001b[1;32mfrom\u001b[0m \u001b[0mmatplotlib\u001b[0m\u001b[1;33m.\u001b[0m\u001b[0mfigure\u001b[0m \u001b[1;32mimport\u001b[0m \u001b[0mFigure\u001b[0m\u001b[1;33m\u001b[0m\u001b[0m\n",
      "\u001b[0;31mImportError\u001b[0m: cannot import name 'QtGui'"
     ]
    }
   ],
   "source": [
    "import specreduce\n",
    "\n"
   ]
  },
  {
   "cell_type": "code",
   "execution_count": null,
   "metadata": {
    "collapsed": true
   },
   "outputs": [],
   "source": [
    "import PySpectrograph"
   ]
  },
  {
   "cell_type": "code",
   "execution_count": null,
   "metadata": {
    "collapsed": true
   },
   "outputs": [],
   "source": [
    "PySpectrograph."
   ]
  }
 ],
 "metadata": {
  "anaconda-cloud": {},
  "kernelspec": {
   "display_name": "Python [conda root]",
   "language": "python",
   "name": "conda-root-py"
  },
  "language_info": {
   "codemirror_mode": {
    "name": "ipython",
    "version": 3
   },
   "file_extension": ".py",
   "mimetype": "text/x-python",
   "name": "python",
   "nbconvert_exporter": "python",
   "pygments_lexer": "ipython3",
   "version": "3.4.5"
  }
 },
 "nbformat": 4,
 "nbformat_minor": 1
}

{
 "cells": [
  {
   "cell_type": "markdown",
   "metadata": {
    "deletable": true,
    "editable": true
   },
   "source": [
    "# Wavelength Calibration across all detectors\n",
    "\n",
    "\n"
   ]
  },
  {
   "cell_type": "markdown",
   "metadata": {
    "deletable": true,
    "editable": true
   },
   "source": [
    "Trying to Model the wavelength mapping by using all 4 detectors with gaps between each detector.\n",
    "\n",
    "Taking code from my testing file and adapting it and investigating it further.\n",
    "\n",
    "Used jupyter intro suggestions from - http://bebi103.caltech.edu/2015/tutorials/t0b_intro_to_jupyter_notebooks.html"
   ]
  },
  {
   "cell_type": "code",
   "execution_count": null,
   "metadata": {
    "collapsed": false,
    "deletable": true,
    "editable": true
   },
   "outputs": [],
   "source": [
    "# Imports from __future__ in case we're running Python 2\n",
    "from __future__ import division, print_function\n",
    "from __future__ import absolute_import, unicode_literals\n",
    "\n",
    "import numpy as np\n",
    "import matplotlib.pyplot as plt\n",
    "from astropy.io import fits\n",
    "import Obtain_Telluric as obt\n",
    "from Get_filenames import get_filenames\n",
    "\n",
    "# Seaborn, useful for graphics\n",
    "import seaborn as sns\n",
    "\n",
    "\n",
    "# Magic function to make matplotlib inline; other style specs must come AFTER\n",
    "%matplotlib inline\n"
   ]
  },
  {
   "cell_type": "code",
   "execution_count": null,
   "metadata": {
    "collapsed": false,
    "deletable": true,
    "editable": true
   },
   "outputs": [],
   "source": [
    "# Import Bokeh modules for interactive plotting\n",
    "import bokeh.io\n",
    "import bokeh.mpl\n",
    "import bokeh.plotting\n",
    "\n",
    "\n",
    "from bokeh.plotting import figure, show, output_file, gridplot, vplot\n",
    "from bokeh.models import BoxAnnotation\n",
    "from bokeh.models import Range1d\n",
    "\n",
    "# This enables SVG graphics inline.  There is a bug, so uncomment if it works.\n",
    "%config InlineBackend.figure_formats = {'svg',}\n",
    "\n",
    "# This enables high resolution PNGs. SVG is preferred, but has problems\n",
    "# rendering vertical and horizontal lines\n",
    "#%config InlineBackend.figure_formats = {'png', 'retina'}\n",
    "\n",
    "# JB's favorite Seaborn settings for notebooks\n",
    "rc = {'lines.linewidth': 1, \n",
    "      'axes.labelsize': 14, \n",
    "      'axes.titlesize': 16, \n",
    "      'axes.facecolor': 'DFDFE5'}\n",
    "sns.set_context('notebook', rc=rc)\n",
    "sns.set_style('darkgrid', rc=rc)\n",
    "\n",
    "# Set up Bokeh for inline viewing\n",
    "bokeh.io.output_notebook()"
   ]
  },
  {
   "cell_type": "code",
   "execution_count": null,
   "metadata": {
    "collapsed": false,
    "deletable": true,
    "editable": true
   },
   "outputs": [],
   "source": [
    "import os\n",
    "here = os.getcwd()\n",
    "print(here)"
   ]
  },
  {
   "cell_type": "markdown",
   "metadata": {
    "deletable": true,
    "editable": true
   },
   "source": [
    "#### Load data"
   ]
  },
  {
   "cell_type": "code",
   "execution_count": null,
   "metadata": {
    "collapsed": true,
    "deletable": true,
    "editable": true
   },
   "outputs": [],
   "source": [
    "#Chipnames = [\"Coordinates_CRIRE.2012-04-07T00-08-29.976_1.nod.ms.norm.sum.txt\", \"Coordinates_CRIRE.2012-04-07T00-08-29.976_2.nod.ms.norm.sum.txt\", \"Coordinates_CRIRE.2012-04-07T00-08-29.976_3.nod.ms.norm.sum.txt\", \"Coordinates_CRIRE.2012-04-07T00-08-29.976_4.nod.ms.norm.sum.txt\"]\n",
    "\n",
    "#Coordinates files from hd30501-2b\n",
    "#Chipnames = [\"Coordinates_CRIRE.2012-08-06T09-42-07.888_1.nod.ms.norm.sum.txt\", \"Coordinates_CRIRE.2012-08-06T09-42-07.888_2.nod.ms.norm.sum.txt\", \"Coordinates_CRIRE.2012-08-06T09-42-07.888_3.nod.ms.norm.sum.txt\", \"Coordinates_CRIRE.2012-08-06T09-42-07.888_4.nod.ms.norm.sum.txt\"]\n",
    "\n",
    "#PATH = \"/home/jneal/Dropbox/PhD/hd30501-Wavecal-march16/\"\n",
    "#PATH = \"C:/Users/Jason/Dropbox/PhD/hd30501-Wavecal-march16/\"\n",
    "\n",
    "\n"
   ]
  },
  {
   "cell_type": "code",
   "execution_count": null,
   "metadata": {
    "collapsed": false,
    "deletable": true,
    "editable": true
   },
   "outputs": [],
   "source": [
    "# Updated load in for beter calibration data\n",
    "chip_num = 1\n",
    "obs_num = \"2a\"\n",
    "#ref_num = \"3\"\n",
    "target = \"HD30501-\" + obs_num\n",
    "#reference_target = \"HD30501-\"+ ref_num    # should be different from target\n",
    "\n",
    "### Coord data\n",
    "coord_path = here +\"/HD30501_data/{0}/\".format(obs_num)\n",
    "print(coord_path)\n",
    "#PATH = coord_path\n",
    "#dracs_path = \"C:/Users/Jason/Documents/PhD/Phd-codes/Notebooks/HD30501_data/{0}/\".format(obs_num)\n",
    "#dracs_path = \"../HD30501_data/{0}\".format(obs_num)\n",
    "def get_Coordfile_name(path, chipnum):\n",
    "    spliting = path.split(\"/\")\n",
    "    print(spliting)\n",
    "    if spliting[-3] in spliting[-4]:\n",
    "        print(\"Double path add -hack\")\n",
    "        path = path + \"../../\"\n",
    "        print(path)\n",
    "    coord_name = get_filenames(path, \"Coordinates_CRIRE.*\",\"*{}.nod.ms.norm.sum*\".format(chipnum))\n",
    "    return path + coord_name[0]"
   ]
  },
  {
   "cell_type": "markdown",
   "metadata": {
    "deletable": true,
    "editable": true
   },
   "source": [
    "Need to load in the data and unpack all the parameters from each of the detectors for this observation.\n",
    "\n",
    "The data contains the Pixel value, height and FWHM value of the observation gaussians and the wavelength, height and fwhm of the tapas gaussian line.\n",
    "\n",
    "Will use these to create a mapping of pixels to wavelength."
   ]
  },
  {
   "cell_type": "code",
   "execution_count": null,
   "metadata": {
    "collapsed": false,
    "deletable": true,
    "editable": true
   },
   "outputs": [],
   "source": [
    "#pix1, pxl_depth1, pxl_fwhm1, wlen1, wl_depth1, wl_fwhm1 = np.loadtxt(PATH+Chipnames[0], skiprows=1, unpack=True)\n",
    "#pix2, pxl_depth2, pxl_fwhm2, wlen2, wl_depth2, wl_fwhm2 = np.loadtxt(PATH+Chipnames[1], skiprows=1, unpack=True)\n",
    "#pix3, pxl_depth3, pxl_fwhm3, wlen3, wl_depth3, wl_fwhm3 = np.loadtxt(PATH+Chipnames[2], skiprows=1, unpack=True)\n",
    "#pix4, pxl_depth4, pxl_fwhm4, wlen4, wl_depth4, wl_fwhm4 = np.loadtxt(PATH+Chipnames[3], skiprows=1, unpack=True)\n",
    "\n",
    "pix1, pxl_depth1, pxl_fwhm1, wlen1, wl_depth1, wl_fwhm1 = np.loadtxt(get_Coordfile_name(coord_path, 1), skiprows=1, unpack=True)\n",
    "pix2, pxl_depth2, pxl_fwhm2, wlen2, wl_depth2, wl_fwhm2 = np.loadtxt(get_Coordfile_name(coord_path, 2), skiprows=1, unpack=True)\n",
    "pix3, pxl_depth3, pxl_fwhm3, wlen3, wl_depth3, wl_fwhm3 = np.loadtxt(get_Coordfile_name(coord_path, 3), skiprows=1, unpack=True)\n",
    "pix4, pxl_depth4, pxl_fwhm4, wlen4, wl_depth4, wl_fwhm4 = np.loadtxt(get_Coordfile_name(coord_path, 4), skiprows=1, unpack=True)\n"
   ]
  },
  {
   "cell_type": "markdown",
   "metadata": {
    "deletable": true,
    "editable": true
   },
   "source": [
    "### Arrange pixels with gaps"
   ]
  },
  {
   "cell_type": "code",
   "execution_count": null,
   "metadata": {
    "collapsed": false,
    "deletable": true,
    "editable": true
   },
   "outputs": [],
   "source": [
    "# Pixel gaps Brogi et al 2015\n",
    "Fixed_Gap0 = 0\n",
    "Fixed_Gap1 = 282\n",
    "Fixed_Gap2 = 278\n",
    "Fixed_Gap3 = 275\n",
    "\n",
    "Chip1_gap = Fixed_Gap0\n",
    "Chip2_gap = Fixed_Gap0 + Fixed_Gap1\n",
    "Chip3_gap = Fixed_Gap0 + Fixed_Gap1 + Fixed_Gap2\n",
    "Chip4_gap = Fixed_Gap0 + Fixed_Gap1 + Fixed_Gap2 + Fixed_Gap3\n",
    "\n",
    "#pixel space\n",
    "max_pixel = 4*1024 + Chip4_gap\n",
    "pixel_span = range(1, max_pixel)\n",
    "\n",
    "Test_pxl1 = [pxl + Chip1_gap for pxl in pix1] \n",
    "Test_pxl2 = [pxl + 1*1024 + Chip2_gap for pxl in pix2]\n",
    "Test_pxl3 = [pxl + 2*1024 + Chip3_gap for pxl in pix3]\n",
    "Test_pxl4 = [pxl + 3*1024 + Chip4_gap for pxl in pix4]\n",
    "Test_wl1 = [wl for wl in wlen1]\n",
    "Test_wl2 = [wl for wl in wlen2]\n",
    "Test_wl3 = [wl for wl in wlen3]\n",
    "Test_wl4 = [wl for wl in wlen4]\n"
   ]
  },
  {
   "cell_type": "markdown",
   "metadata": {
    "collapsed": true,
    "deletable": true,
    "editable": true
   },
   "source": [
    "### Indivudal chip fits with polyfit"
   ]
  },
  {
   "cell_type": "code",
   "execution_count": null,
   "metadata": {
    "collapsed": false,
    "deletable": true,
    "editable": true
   },
   "outputs": [],
   "source": [
    "# Fit to the individual chips\n",
    "order = 2\n",
    "wl_map1 = np.polyfit(Test_pxl1, Test_wl1, order)\n",
    "print(\"wl_map params 1\\t\", wl_map1)\n",
    "wlvals1 = np.polyval(wl_map1, pixel_span) \n",
    "\n",
    "wl_map2 = np.polyfit(Test_pxl2, Test_wl2, order)\n",
    "print(\"wl_map params 2\\t\", wl_map2)\n",
    "wlvals2 = np.polyval(wl_map2, pixel_span) \n",
    "\n",
    "wl_map3 = np.polyfit(Test_pxl3, Test_wl3, order)\n",
    "print(\"wl_map params 3\\t\", wl_map3)\n",
    "wlvals3 = np.polyval(wl_map3, pixel_span) \n",
    "\n",
    "wl_map4 = np.polyfit(Test_pxl4, Test_wl4, order)\n",
    "print(\"Wl map params 4\\t\", wl_map4)\n",
    "wlvals4 = np.polyval(wl_map4, pixel_span) "
   ]
  },
  {
   "cell_type": "markdown",
   "metadata": {
    "deletable": true,
    "editable": true
   },
   "source": [
    "#### Combining all 4 detectors and doing a combined fit"
   ]
  },
  {
   "cell_type": "code",
   "execution_count": null,
   "metadata": {
    "collapsed": false,
    "deletable": true,
    "editable": true
   },
   "outputs": [],
   "source": [
    "# Fit to combined data\n",
    "Combined_pixels = Test_pxl1 + Test_pxl2 + Test_pxl3 + Test_pxl4\n",
    "Combined_wls = Test_wl1 + Test_wl2 + Test_wl3 + Test_wl4\n",
    "#Need to change to have same treatment of data\n",
    "#Combined_pxls = np.concatenate((pix1, pix2 + 1*1024, pix3 + 2*1024, pix4 + 3*1024))\n",
    "#Combined_wls = np.concatenate((wlen1, wlen2, wlen3, wlen4))\n",
    "\n",
    "# Fit combined pixel values\n",
    "Combined_map = np.polyfit(Combined_pixels, Combined_wls, order)\n",
    "print(\"wl_map params Combiend\\t\", Combined_map)\n",
    "Combined_vals = np.polyval(Combined_map, pixel_span) \n"
   ]
  },
  {
   "cell_type": "markdown",
   "metadata": {
    "deletable": true,
    "editable": true
   },
   "source": [
    "### Plot the data"
   ]
  },
  {
   "cell_type": "code",
   "execution_count": null,
   "metadata": {
    "collapsed": false,
    "deletable": true,
    "editable": true
   },
   "outputs": [],
   "source": [
    "#plt.subplot(211)\n",
    "plt.plot(Test_pxl1, Test_wl1, \"bo\", label=\"1\")\n",
    "plt.plot(Test_pxl2, Test_wl2, \"ro\", label=\"2\")\n",
    "plt.plot(Test_pxl3, Test_wl3, \"go\", label=\"3\")\n",
    "plt.plot(Test_pxl4, Test_wl4, \"mo\", label=\"4\")\n",
    "plt.ylim([min(Test_wl1), max(Test_wl4)])\n",
    "ax1 = plt.gca()\n",
    "ax1.get_yaxis().get_major_formatter().set_useOffset(False)\n",
    "plt.xlabel(\"Pixel Position\")\n",
    "plt.ylabel(\"Wavelength\")\n",
    "plt.ylim([2100,2200])\n",
    "#plt.legend()\n",
    "\n",
    "# Add the fit maps\n",
    "plt.plot(pixel_span, wlvals1, 'b', label=\"Chip1\")\n",
    "plt.plot(pixel_span, wlvals2, 'r', label=\"Chip2\")\n",
    "plt.plot(pixel_span, wlvals3, 'g', label=\"Chip3\")\n",
    "plt.plot(pixel_span, wlvals4, 'm', label=\"Chip4\")\n",
    "plt.plot(pixel_span, Combined_vals, 'k', label=\"Combined\")\n",
    "\n",
    "plt.legend(loc='best')\n",
    "\n",
    "\n",
    "# Make it interactive with Bokeh\n",
    "bokeh.plotting.show(bokeh.mpl.to_bokeh())"
   ]
  },
  {
   "cell_type": "code",
   "execution_count": null,
   "metadata": {
    "collapsed": false,
    "deletable": true,
    "editable": true
   },
   "outputs": [],
   "source": [
    "# Compare differences in wavelength\n",
    "#plt.subplot(212)\n",
    "plt.plot(pixel_span, np.zeros_like(pixel_span), \"k--\", label = \"\")\n",
    "plt.plot(pixel_span, Combined_vals-wlvals1, 'b', label = \"Combined-Chip1\")\n",
    "plt.plot(pixel_span, Combined_vals-wlvals2, 'r', label = \"Combined-Chip2\")\n",
    "plt.plot(pixel_span, Combined_vals-wlvals3, 'g', label = \"Combined-Chip3\")\n",
    "plt.plot(pixel_span, Combined_vals-wlvals4, 'm', label = \"Combined-Chip4\")\n",
    "plt.xlabel(\"Pixel Position\")\n",
    "plt.ylabel(\"Wavelength Difference\\nbetween Models (nm)\")\n",
    "plt.legend(loc=0)\n",
    "ax1 = plt.gca()\n",
    "ax1.get_yaxis().get_major_formatter().set_useOffset(False)\n",
    "plt.ylim([-0.3,0.3])\n",
    "\n",
    "# Mark Chip positions\n",
    "linepos = [0, 1024, 1024+Gap1, 2*1024+Gap1, 2*1024+Gap1+Gap2, 3*1024+Gap1+Gap2, 3*1024+Gap1+Gap2+Gap3, 4*1024+Gap1+Gap2+Gap3]\n",
    "plt.vlines(linepos, -1, 1)\n",
    "\n",
    "#plt.show()\n",
    "\n",
    "# Make it interactive with Bokeh\n",
    "bokeh.plotting.show(bokeh.mpl.to_bokeh())"
   ]
  },
  {
   "cell_type": "code",
   "execution_count": null,
   "metadata": {
    "collapsed": true,
    "deletable": true,
    "editable": true
   },
   "outputs": [],
   "source": []
  },
  {
   "cell_type": "code",
   "execution_count": null,
   "metadata": {
    "collapsed": true,
    "deletable": true,
    "editable": true
   },
   "outputs": [],
   "source": []
  },
  {
   "cell_type": "markdown",
   "metadata": {
    "collapsed": true,
    "deletable": true,
    "editable": true
   },
   "source": [
    "# LmFit with Variable Detector Gaps"
   ]
  },
  {
   "cell_type": "code",
   "execution_count": null,
   "metadata": {
    "collapsed": false,
    "deletable": true,
    "editable": true
   },
   "outputs": [],
   "source": [
    "from lmfit import minimize, Parameters\n",
    "import lmfit"
   ]
  },
  {
   "cell_type": "markdown",
   "metadata": {
    "deletable": true,
    "editable": true
   },
   "source": [
    "Create the residual functions to minimize"
   ]
  },
  {
   "cell_type": "code",
   "execution_count": null,
   "metadata": {
    "collapsed": false,
    "deletable": true,
    "editable": true
   },
   "outputs": [],
   "source": [
    "def add_pixel_gaps(pixels, Gap1, Gap2, Gap3):\n",
    "    new_pixels = np.array(pixels)\n",
    "    chipmap4 = (new_pixels > 3*1024) * (new_pixels < 4*1024)\n",
    "    chipmap3 = (new_pixels > 2*1024) * (new_pixels < 3*1024)\n",
    "    chipmap2 = (new_pixels > 1*1024) * (new_pixels < 2*1024)\n",
    "    new_pixels += Gap3*chipmap4 \n",
    "    new_pixels += Gap2*chipmap3 \n",
    "    new_pixels += Gap1*chipmap2  \n",
    "    return new_pixels\n",
    "\n",
    "def residual(params, pixels, wl_data):\n",
    "    # Polynomial of form q*x**2 + m*x+b\n",
    "    q = params[\"q\"].value\n",
    "    m = params[\"m\"].value\n",
    "    b = params[\"b\"].value\n",
    "    Gap1 = params[\"Gap1\"].value\n",
    "    Gap2 = params[\"Gap2\"].value\n",
    "    Gap3 = params[\"Gap3\"].value\n",
    "    \n",
    "    # Change spacing to add pixel gaps to chip pixel numbering\n",
    "    #new_pixels = np.array(pixels)\n",
    "    #chipmap4 = (new_pixels > 3*1024) * (new_pixels < 4*1024)\n",
    "    ##chipmap4 = new_pixels.all(new_pixels > 3*1024 and new_pixels < 4*1024)\n",
    "    #chipmap3 = (new_pixels > 2*1024) * (new_pixels < 3*1024)\n",
    "    #chipmap2 = (new_pixels > 1*1024) * (new_pixels < 2*1024)\n",
    "    #new_pixels += Gap3*chipmap4 \n",
    "    #new_pixels += Gap2*chipmap3 \n",
    "    #new_pixels += Gap1*chipmap2  \n",
    "    new_pixels = add_pixel_gaps(pixels, Gap1, Gap2, Gap3)\n",
    "    \n",
    "    model = q*new_pixels**2 + m*new_pixels + b\n",
    "    \n",
    "    return (wl_data - model) "
   ]
  },
  {
   "cell_type": "markdown",
   "metadata": {
    "deletable": true,
    "editable": true
   },
   "source": [
    "arranging the data"
   ]
  },
  {
   "cell_type": "code",
   "execution_count": null,
   "metadata": {
    "collapsed": false,
    "deletable": true,
    "editable": true
   },
   "outputs": [],
   "source": [
    "# USE same data as above\n",
    "#pix1, pxl_depth1, pxl_fwhm1, wlen1, wl_depth1, wl_fwhm1 = np.loadtxt(PATH+Chipnames[0], skiprows=1, unpack=True)\n",
    "#pix2, pxl_depth2, pxl_fwhm2, wlen2, wl_depth2, wl_fwhm2 = np.loadtxt(PATH+Chipnames[1], skiprows=1, unpack=True)\n",
    "#pix3, pxl_depth3, pxl_fwhm3, wlen3, wl_depth3, wl_fwhm3 = np.loadtxt(PATH+Chipnames[2], skiprows=1, unpack=True)\n",
    "#pix4, pxl_depth4, pxl_fwhm4, wlen4, wl_depth4, wl_fwhm4 = np.loadtxt(PATH+Chipnames[3], skiprows=1, unpack=True)\n",
    "\n",
    "pix1, pxl_depth1, pxl_fwhm1, wlen1, wl_depth1, wl_fwhm1 = np.loadtxt(get_Coordfile_name(coord_path, 1), skiprows=1, unpack=True)\n",
    "pix2, pxl_depth2, pxl_fwhm2, wlen2, wl_depth2, wl_fwhm2 = np.loadtxt(get_Coordfile_name(coord_path, 2), skiprows=1, unpack=True)\n",
    "pix3, pxl_depth3, pxl_fwhm3, wlen3, wl_depth3, wl_fwhm3 = np.loadtxt(get_Coordfile_name(coord_path, 3), skiprows=1, unpack=True)\n",
    "pix4, pxl_depth4, pxl_fwhm4, wlen4, wl_depth4, wl_fwhm4 = np.loadtxt(get_Coordfile_name(coord_path, 4), skiprows=1, unpack=True)\n",
    "\n",
    "Test_pxl1 = [pxl for pxl in pix1] \n",
    "Test_pxl2 = [pxl + 1*1024 for pxl in pix2]\n",
    "Test_pxl3 = [pxl + 2*1024 for pxl in pix3]\n",
    "Test_pxl4 = [pxl + 3*1024 for pxl in pix4]\n",
    "Test_wl1 = [wl for wl in wlen1]\n",
    "Test_wl2 = [wl for wl in wlen2]\n",
    "Test_wl3 = [wl for wl in wlen3]\n",
    "Test_wl4 = [wl for wl in wlen4]\n",
    "\n",
    "#Combined_pxls_no_gaps = np.concatenate((pix1, pix2 + 1*1024, pix3 + 2*1024, pix4 + 3*1024))\n",
    "Combined_pxls = np.concatenate((pix1, pix2 + 1*1024, pix3 + 2*1024, pix4 + 3*1024))\n",
    "Combined_wls = np.concatenate((wlen1, wlen2, wlen3, wlen4))\n",
    "Combined_pxl_depths = np.concatenate((pxl_depth1, pxl_depth2, pxl_depth3, pxl_depth4))\n"
   ]
  },
  {
   "cell_type": "markdown",
   "metadata": {
    "deletable": true,
    "editable": true
   },
   "source": [
    "Set up inital parameters\n"
   ]
  },
  {
   "cell_type": "code",
   "execution_count": null,
   "metadata": {
    "collapsed": false,
    "deletable": true,
    "editable": true
   },
   "outputs": [],
   "source": [
    "params = Parameters()\n",
    "params.add('q', value=0.0000001)\n",
    "params.add('m', value=0.01)\n",
    "params.add('b', value=2110)\n",
    "params.add('Gap1', value=283)\n",
    "params.add('Gap2', value=278+283)\n",
    "params.add('Gap3', value=275+278+283)"
   ]
  },
  {
   "cell_type": "markdown",
   "metadata": {
    "deletable": true,
    "editable": true
   },
   "source": [
    "Do the minimization"
   ]
  },
  {
   "cell_type": "code",
   "execution_count": null,
   "metadata": {
    "collapsed": false,
    "deletable": true,
    "editable": true
   },
   "outputs": [],
   "source": [
    "out = minimize(residual, params, args=(Combined_pxls, Combined_wls))\n",
    "outreport = lmfit.fit_report(out)\n",
    "print(outreport)"
   ]
  },
  {
   "cell_type": "code",
   "execution_count": null,
   "metadata": {
    "collapsed": true,
    "deletable": true,
    "editable": true
   },
   "outputs": [],
   "source": []
  },
  {
   "cell_type": "code",
   "execution_count": null,
   "metadata": {
    "collapsed": false,
    "deletable": true,
    "editable": true
   },
   "outputs": [],
   "source": [
    "lmfit_Combined_map = [out.params[\"q\"].value, out.params[\"m\"].value, out.params[\"b\"].value]\n",
    "Variable_Gap1_fit = out.params[\"Gap1\"].value\n",
    "Variable_Gap2_fit = out.params[\"Gap2\"].value\n",
    "Variable_Gap3_fit = out.params[\"Gap3\"].value\n",
    "\n",
    "\n",
    "print(\"lmfit combined params\", Combined_map)\n",
    "# Individual gaps\n",
    "\n",
    "print(\"Gap1 individual\", Variable_Gap1_fit)\n",
    "print(\"Gap2 individual\", Variable_Gap2_fit-Variable_Gap1_fit)\n",
    "print(\"Gap3 individual\", Variable_Gap3_fit-Variable_Gap2_fit)"
   ]
  },
  {
   "cell_type": "markdown",
   "metadata": {
    "deletable": true,
    "editable": true
   },
   "source": [
    "### Plot the solutions"
   ]
  },
  {
   "cell_type": "code",
   "execution_count": null,
   "metadata": {
    "collapsed": false,
    "deletable": true,
    "editable": true,
    "scrolled": false
   },
   "outputs": [],
   "source": [
    "Fitted_pixels = add_pixel_gaps(Combined_pxls, Variable_Gap1_fit, Variable_Gap2_fit, Variable_Gap3_fit)\n",
    "\n",
    "\n",
    "plt.plot(Fitted_pixels, residual(out.params, Combined_pxls, Combined_wls) + Combined_wls, 'r')\n",
    "plt.plot(Fitted_pixels, Combined_wls, \"go\")\n",
    "plt.ylabel(\"Wavelength (nm)\")\n",
    "plt.xlabel(\"Pixels with Fitted Gaps\")\n",
    "\n",
    "# Mark Chip positions\n",
    "linepos = [0, 1024, 1024+Variable_Gap1_fit, 2*1024+Variable_Gap1_fit, 2*1024+Variable_Gap2_fit, 3*1024+Variable_Gap2_fit, 3*1024+Variable_Gap3_fit, 4*1024+Variable_Gap3_fit]\n",
    "plt.vlines(linepos, 2110, 2170)\n",
    "plt.ylim([2100,2170])\n",
    "\n",
    "# Make it interactive with Bokeh\n",
    "bokeh.plotting.show(bokeh.mpl.to_bokeh())"
   ]
  },
  {
   "cell_type": "code",
   "execution_count": null,
   "metadata": {
    "collapsed": false,
    "deletable": true,
    "editable": true
   },
   "outputs": [],
   "source": [
    "# Bokeh Plot\n",
    "    \n",
    "p = figure(width=600, height=300)\n",
    "\n",
    "p.line(Fitted_pixels, residual(out.params, Combined_pxls, Combined_wls) + Combined_wls, line_color=\"black\")\n",
    "p.circle(Fitted_pixels, Combined_wls, fill_color = \"red\", line_color=\"black\", radius=30)\n",
    "\n",
    "gap_starts =  [1024, 2*1024+Variable_Gap1_fit, 3*1024+Variable_Gap2_fit]\n",
    "gap_ends = [1024+Variable_Gap1_fit, 2*1024+Variable_Gap2_fit, 3*1024+Variable_Gap3_fit]\n",
    "Boxes = [BoxAnnotation(plot=p, left=start, right=end, fill_alpha=0.3, fill_color=\"yellow\") for start, end in zip(gap_starts, gap_ends)]\n",
    "p.renderers.extend(Boxes)\n",
    "    \n",
    "# Mark Chip positions\n",
    "#linepos = [0, 1024, 1024+Variable_Gap1_fit, 2*1024+Variable_Gap1_fit, 2*1024+Variable_Gap2_fit, 3*1024+Variable_Gap2_fit, 3*1024+Variable_Gap3_fit, 4*1024+Variable_Gap3_fit]\n",
    "#plt.vlines(linepos, 2110, 2170)\n",
    "#plt.ylim([2100,2170])\n",
    "\n",
    "p.title = \"Wavelenght Mapping\"\n",
    "p.title_text_font_size = \"14pt\"\n",
    "p.yaxis.axis_label = 'Wavelength (nm)'\n",
    "p.yaxis.axis_label_text_font_size = \"12pt\"\n",
    "p.xaxis.axis_label = 'Pixel Position'\n",
    "p.xaxis.axis_label_text_font_size = \"12pt\"\n",
    "#s3.legend.location = \"bottom_right\"\n",
    "#s3.legend.border_line_color = None\n",
    "\n",
    "show(p)"
   ]
  },
  {
   "cell_type": "code",
   "execution_count": null,
   "metadata": {
    "collapsed": false,
    "deletable": true,
    "editable": true
   },
   "outputs": [],
   "source": [
    "plt.plot(Fitted_pixels, residual(out.params, Combined_pxls, Combined_wls), 'ro')\n",
    "plt.title(\"Residual with Variable Gaps\")\n",
    "plt.ylim([-1,1])\n",
    "\n",
    "# Make it interactive with Bokeh\n",
    "bokeh.plotting.show(bokeh.mpl.to_bokeh())"
   ]
  },
  {
   "cell_type": "markdown",
   "metadata": {
    "collapsed": true,
    "deletable": true,
    "editable": true
   },
   "source": [
    "# lmFit with Fixed Gaps:\n",
    "Change parameters so the gaps are fixed and see what the difference in results is."
   ]
  },
  {
   "cell_type": "code",
   "execution_count": null,
   "metadata": {
    "collapsed": false,
    "deletable": true,
    "editable": true
   },
   "outputs": [],
   "source": [
    "fixed_gap_params = Parameters()\n",
    "fixed_gap_params.add('q', value=0.0000001)\n",
    "fixed_gap_params.add('m', value=0.01)\n",
    "fixed_gap_params.add('b', value=2110)\n",
    "fixed_gap_params.add('Gap1', value=283, vary=False)\n",
    "fixed_gap_params.add('Gap2', value=278+283, vary=False)\n",
    "fixed_gap_params.add('Gap3', value=275+278+283, vary=False)\n"
   ]
  },
  {
   "cell_type": "code",
   "execution_count": null,
   "metadata": {
    "collapsed": false,
    "deletable": true,
    "editable": true
   },
   "outputs": [],
   "source": [
    "fixed_gap_out = minimize(residual, fixed_gap_params, args=(Combined_pxls, Combined_wls))\n",
    "fixed_gap_outreport = lmfit.fit_report(fixed_gap_out)\n",
    "print(fixed_gap_outreport)"
   ]
  },
  {
   "cell_type": "code",
   "execution_count": null,
   "metadata": {
    "collapsed": true,
    "deletable": true,
    "editable": true
   },
   "outputs": [],
   "source": []
  },
  {
   "cell_type": "markdown",
   "metadata": {
    "deletable": true,
    "editable": true
   },
   "source": [
    "# Plotting"
   ]
  },
  {
   "cell_type": "code",
   "execution_count": null,
   "metadata": {
    "collapsed": false,
    "deletable": true,
    "editable": true
   },
   "outputs": [],
   "source": [
    "Fixed_Gap1_fit = fixed_gap_out.params[\"Gap1\"].value\n",
    "Fixed_Gap2_fit = fixed_gap_out.params[\"Gap2\"].value\n",
    "Fixed_Gap3_fit = fixed_gap_out.params[\"Gap3\"].value\n",
    "\n",
    "Fitted_pixels_fixed_gap = add_pixel_gaps(Combined_pxls, Fixed_Gap1_fit, Fixed_Gap2_fit, Fixed_Gap3_fit)\n",
    "\n",
    "plt.plot(Fitted_pixels_fixed_gap, residual(fixed_gap_out.params, Combined_pxls, Combined_wls) + Combined_wls, 'r')\n",
    "plt.plot(Fitted_pixels_fixed_gap, Combined_wls, \"go\")\n",
    "plt.ylabel(\"Wavelength (nm)\")\n",
    "plt.xlabel(\"Pixels with Fitted Gaps\")\n",
    "\n",
    "# Mark Chip positions\n",
    "linepos = [0, 1024, 1024+Fixed_Gap1_fit, 2*1024+Fixed_Gap1_fit, 2*1024+Fixed_Gap2_fit, 3*1024+Fixed_Gap2_fit, 3*1024+Fixed_Gap3_fit, 4*1024+Fixed_Gap3_fit]\n",
    "plt.vlines(linepos, 2110, 2170)\n",
    "plt.ylim([2100,2170])\n",
    "\n",
    "# Make it interactive with Bokeh\n",
    "bokeh.plotting.show(bokeh.mpl.to_bokeh())"
   ]
  },
  {
   "cell_type": "code",
   "execution_count": null,
   "metadata": {
    "collapsed": false,
    "deletable": true,
    "editable": true
   },
   "outputs": [],
   "source": [
    "plt.plot(Fitted_pixels_fixed_gap, residual(fixed_gap_out.params, Combined_pxls, Combined_wls), 'ro')\n",
    "plt.title(\"Residual with Fixed Gaps\")\n",
    "plt.ylim([-1,1])\n",
    "\n",
    "linepos = [0, 1024, 1024+Fixed_Gap1_fit, 2*1024+Fixed_Gap1_fit, 2*1024+Fixed_Gap2_fit, 3*1024+Fixed_Gap2_fit, 3*1024+Fixed_Gap3_fit, 4*1024+Fixed_Gap3_fit]\n",
    "plt.vlines(linepos, -.05, .05)\n",
    "\n",
    "# Make it interactive with Bokeh\n",
    "bokeh.plotting.show(bokeh.mpl.to_bokeh())"
   ]
  },
  {
   "cell_type": "code",
   "execution_count": null,
   "metadata": {
    "collapsed": true,
    "deletable": true,
    "editable": true
   },
   "outputs": [],
   "source": []
  },
  {
   "cell_type": "markdown",
   "metadata": {
    "deletable": true,
    "editable": true
   },
   "source": [
    "# Individual chip fitting with lmfit"
   ]
  },
  {
   "cell_type": "code",
   "execution_count": null,
   "metadata": {
    "collapsed": true,
    "deletable": true,
    "editable": true
   },
   "outputs": [],
   "source": [
    "def individual_residual(params, pixels, wl_data):\n",
    "    # Polynomial of form q*x**2 + m*x+b\n",
    "    q = params[\"q\"].value\n",
    "    m = params[\"m\"].value\n",
    "    b = params[\"b\"].value\n",
    "    \n",
    "    new_pixels = np.array(pixels)\n",
    "    model = q*new_pixels**2 + m*new_pixels + b\n",
    "    \n",
    "    return (wl_data - model) "
   ]
  },
  {
   "cell_type": "code",
   "execution_count": null,
   "metadata": {
    "collapsed": true,
    "deletable": true,
    "editable": true
   },
   "outputs": [],
   "source": [
    "chip1_params = Parameters()\n",
    "chip1_params.add('q', value=0.0000001)\n",
    "chip1_params.add('m', value=0.01)\n",
    "chip1_params.add('b', value=2110)\n",
    "chip2_params = Parameters()\n",
    "chip2_params.add('q', value=0.0000001)\n",
    "chip2_params.add('m', value=0.01)\n",
    "chip2_params.add('b', value=2110)\n",
    "chip3_params = Parameters()\n",
    "chip3_params.add('q', value=0.0000001)\n",
    "chip3_params.add('m', value=0.01)\n",
    "chip3_params.add('b', value=2110)\n",
    "chip4_params = Parameters()\n",
    "chip4_params.add('q', value=0.0000001)\n",
    "chip4_params.add('m', value=0.01)\n",
    "chip4_params.add('b', value=2110)"
   ]
  },
  {
   "cell_type": "code",
   "execution_count": null,
   "metadata": {
    "collapsed": true,
    "deletable": true,
    "editable": true
   },
   "outputs": [],
   "source": []
  },
  {
   "cell_type": "code",
   "execution_count": null,
   "metadata": {
    "collapsed": false,
    "deletable": true,
    "editable": true
   },
   "outputs": [],
   "source": [
    "chip1_out = minimize(individual_residual, chip1_params, args=(Test_pxl1, Test_wl1))\n",
    "chip1_outreport = lmfit.fit_report(chip1_out)\n",
    "print(chip1_outreport)\n",
    "\n",
    "chip2_out = minimize(individual_residual, chip2_params, args=(Test_pxl2, Test_wl2))\n",
    "chip2_outreport = lmfit.fit_report(chip2_out)\n",
    "print(chip2_outreport)\n",
    "\n",
    "chip3_out = minimize(individual_residual, chip3_params, args=(Test_pxl3, Test_wl3))\n",
    "chip3_outreport = lmfit.fit_report(chip3_out)\n",
    "print(chip3_outreport)\n",
    "\n",
    "chip4_out = minimize(individual_residual, chip4_params, args=(Test_pxl4, Test_wl4))\n",
    "chip4_outreport = lmfit.fit_report(chip4_out)\n",
    "print(chip4_outreport)"
   ]
  },
  {
   "cell_type": "code",
   "execution_count": null,
   "metadata": {
    "collapsed": false,
    "deletable": true,
    "editable": true
   },
   "outputs": [],
   "source": [
    "# Similar parameters out \n",
    "print(\"Chip1 polyval params \\t\", wl_map1)\n",
    "lm_wl_map1 = [chip1_out.params[\"q\"].value, chip1_out.params[\"m\"].value, chip1_out.params[\"b\"].value]\n",
    "print(\"Chip1 lmfit params \\t\", lm_wl_map1)\n",
    "\n",
    "print(\"Chip2 polyval params \\t\", wl_map2)\n",
    "lm_wl_map2 = [chip2_out.params[\"q\"].value, chip2_out.params[\"m\"].value, chip2_out.params[\"b\"].value]\n",
    "print(\"Chip2 lmfit params \\t\", lm_wl_map2)\n",
    "\n",
    "print(\"Chip3 polyval params \\t\", wl_map3)\n",
    "lm_wl_map3 = [chip3_out.params[\"q\"].value, chip3_out.params[\"m\"].value, chip3_out.params[\"b\"].value]\n",
    "print(\"Chip3 lmfit params \\t\", lm_wl_map3)\n",
    "\n",
    "print(\"Chip4 polyval params \\t\", wl_map4)\n",
    "lm_wl_map4 = [chip4_out.params[\"q\"].value, chip4_out.params[\"m\"].value, chip4_out.params[\"b\"].value]\n",
    "print(\"Chip4 lmfit params \\t\", lm_wl_map4)"
   ]
  },
  {
   "cell_type": "code",
   "execution_count": null,
   "metadata": {
    "collapsed": true,
    "deletable": true,
    "editable": true
   },
   "outputs": [],
   "source": []
  },
  {
   "cell_type": "markdown",
   "metadata": {
    "deletable": true,
    "editable": true
   },
   "source": [
    "# LmFit Combined map with Weighted residuals"
   ]
  },
  {
   "cell_type": "code",
   "execution_count": null,
   "metadata": {
    "collapsed": true,
    "deletable": true,
    "editable": true
   },
   "outputs": [],
   "source": [
    "def weighted_residual(params, pixels, wl_data, weigths):\n",
    "    # Polynomial of form q*x**2 + m*x+b\n",
    "    q = params[\"q\"].value\n",
    "    m = params[\"m\"].value\n",
    "    b = params[\"b\"].value\n",
    "    Gap1 = params[\"Gap1\"].value\n",
    "    Gap2 = params[\"Gap2\"].value\n",
    "    Gap3 = params[\"Gap3\"].value\n",
    "    \n",
    "    # Change spacing to add pixel gaps to chip pixel numbering\n",
    "    #new_pixels = np.array(pixels)\n",
    "    #chipmap4 = (new_pixels > 3*1024) * (new_pixels < 4*1024)\n",
    "    ##chipmap4 = new_pixels.all(new_pixels > 3*1024 and new_pixels < 4*1024)\n",
    "    #chipmap3 = (new_pixels > 2*1024) * (new_pixels < 3*1024)\n",
    "    #chipmap2 = (new_pixels > 1*1024) * (new_pixels < 2*1024)\n",
    "    #new_pixels += Gap3*chipmap4 \n",
    "    #new_pixels += Gap2*chipmap3 \n",
    "    #new_pixels += Gap1*chipmap2  \n",
    "    new_pixels = add_pixel_gaps(pixels, Gap1, Gap2, Gap3)\n",
    "    \n",
    "    model = q*new_pixels**2 + m*new_pixels + b\n",
    "    \n",
    "    return weigths*(wl_data - model) "
   ]
  },
  {
   "cell_type": "code",
   "execution_count": null,
   "metadata": {
    "collapsed": true,
    "deletable": true,
    "editable": true
   },
   "outputs": [],
   "source": [
    "weighted_params = Parameters()\n",
    "weighted_params.add('q', value=0.0000001)\n",
    "weighted_params.add('m', value=0.01)\n",
    "weighted_params.add('b', value=2110)\n",
    "weighted_params.add('Gap1', value=283)\n",
    "weighted_params.add('Gap2', value=278+283)\n",
    "weighted_params.add('Gap3', value=275+278+283)"
   ]
  },
  {
   "cell_type": "code",
   "execution_count": null,
   "metadata": {
    "collapsed": false,
    "deletable": true,
    "editable": true
   },
   "outputs": [],
   "source": [
    "pix1, pxl_depth1, pxl_fwhm1, wlen1, wl_depth1, wl_fwhm1 = np.loadtxt(PATH+Chipnames[0], skiprows=1, unpack=True)\n",
    "pix2, pxl_depth2, pxl_fwhm2, wlen2, wl_depth2, wl_fwhm2  = np.loadtxt(PATH+Chipnames[1], skiprows=1, unpack=True)\n",
    "pix3, pxl_depth3, pxl_fwhm3, wlen3, wl_depth3, wl_fwhm3  = np.loadtxt(PATH+Chipnames[2], skiprows=1, unpack=True)\n",
    "pix4, pxl_depth4, pxl_fwhm4, wlen4, wl_depth4, wl_fwhm4  = np.loadtxt(PATH+Chipnames[3], skiprows=1, unpack=True)\n",
    "\n",
    "\n",
    "Test_pxl1 = [pxl for pxl in pix1] \n",
    "Test_pxl2 = [pxl + 1*1024 for pxl in pix2]\n",
    "Test_pxl3 = [pxl + 2*1024 for pxl in pix3]\n",
    "Test_pxl4 = [pxl + 3*1024 for pxl in pix4]\n",
    "Test_wl1 = [wl for wl in wlen1]\n",
    "Test_wl2 = [wl for wl in wlen2]\n",
    "Test_wl3 = [wl for wl in wlen3]\n",
    "Test_wl4 = [wl for wl in wlen4]\n",
    "\n",
    "#Combined_pxls_no_gaps = np.concatenate((pix1, pix2 + 1*1024, pix3 + 2*1024, pix4 + 3*1024))\n",
    "Combined_pxls = np.concatenate((pix1, pix2 + 1*1024, pix3 + 2*1024, pix4 + 3*1024))\n",
    "Combined_wls = np.concatenate((wlen1, wlen2, wlen3, wlen4))\n",
    "Combined_pxl_depths = np.concatenate((pxl_depth1, pxl_depth2, pxl_depth3, pxl_depth4))\n",
    "Combined_pxl_fwhm = np.concatenate((pxl_fwhm1, pxl_fwhm2, pxl_fwhm3, pxl_fwhm4))\n",
    "Combined_wl_fwhm = np.concatenate((wl_fwhm1, wl_fwhm2, wl_fwhm3, wl_fwhm4))"
   ]
  },
  {
   "cell_type": "code",
   "execution_count": null,
   "metadata": {
    "collapsed": false,
    "deletable": true,
    "editable": true
   },
   "outputs": [],
   "source": [
    "weighted_out = minimize(weighted_residual, weighted_params, args=(Combined_pxls, Combined_wls, Combined_wl_fwhm))\n",
    "weighted_outreport = lmfit.fit_report(weighted_out)\n",
    "print(weighted_outreport)\n",
    "\n",
    "lm_weighted_wl_map = [weighted_out.params[\"q\"].value, weighted_out.params[\"m\"].value, weighted_out.params[\"b\"].value]\n",
    "weighted_Gap1_fit = weighted_out.params[\"Gap1\"].value\n",
    "weighted_Gap2_fit = weighted_out.params[\"Gap2\"].value\n",
    "weighted_Gap3_fit = weighted_out.params[\"Gap3\"].value\n",
    "\n"
   ]
  },
  {
   "cell_type": "code",
   "execution_count": null,
   "metadata": {
    "collapsed": false,
    "deletable": true,
    "editable": true
   },
   "outputs": [],
   "source": [
    "weighted_Fitted_pixels = add_pixel_gaps(Combined_pxls, weighted_Gap1_fit, weighted_Gap2_fit, weighted_Gap3_fit)\n",
    "\n",
    "\n",
    "plt.plot(weighted_Fitted_pixels, weighted_residual(weighted_out.params, Combined_pxls, Combined_wls, Combined_wl_fwhm) + Combined_wls, 'r')\n",
    "plt.plot(weighted_Fitted_pixels, Combined_wls, \"go\")\n",
    "plt.ylabel(\"Wavelength (nm)\")\n",
    "plt.xlabel(\"Pixels with Fitted Gaps\")\n",
    "\n",
    "# Mark Chip positions\n",
    "linepos = [0, 1024, 1024+Variable_Gap1_fit, 2*1024+Variable_Gap1_fit, 2*1024+Variable_Gap2_fit, 3*1024+Variable_Gap2_fit, 3*1024+Variable_Gap3_fit, 4*1024+Variable_Gap3_fit]\n",
    "plt.vlines(linepos, 2110, 2170)\n",
    "plt.ylim([2100,2170])\n",
    "\n",
    "# Make it interactive with Bokeh\n",
    "bokeh.plotting.show(bokeh.mpl.to_bokeh())"
   ]
  },
  {
   "cell_type": "code",
   "execution_count": null,
   "metadata": {
    "collapsed": false,
    "deletable": true,
    "editable": true
   },
   "outputs": [],
   "source": [
    "\n",
    "plt.plot(weighted_Fitted_pixels, weighted_residual(weighted_out.params, Combined_pxls, Combined_wls, Combined_wl_fwhm), 'ro')\n",
    "\n",
    "plt.xlabel(\"Pixel\")\n",
    "plt.title(\"Weighted Residuals with Fitted Gaps\")\n",
    "\n",
    "# Mark Chip positions\n",
    "linepos = [0, 1024, 1024+weighted_Gap1_fit, 2*1024+weighted_Gap1_fit, 2*1024+weighted_Gap2_fit, 3*1024+weighted_Gap2_fit, 3*1024+weighted_Gap3_fit, 4*1024+weighted_Gap3_fit]\n",
    "plt.vlines(linepos, -.05, .05)\n",
    "\n",
    "# Make it interactive with Bokeh\n",
    "bokeh.plotting.show(bokeh.mpl.to_bokeh())"
   ]
  },
  {
   "cell_type": "code",
   "execution_count": null,
   "metadata": {
    "collapsed": true,
    "deletable": true,
    "editable": true
   },
   "outputs": [],
   "source": []
  },
  {
   "cell_type": "code",
   "execution_count": null,
   "metadata": {
    "collapsed": true,
    "deletable": true,
    "editable": true
   },
   "outputs": [],
   "source": []
  },
  {
   "cell_type": "markdown",
   "metadata": {
    "deletable": true,
    "editable": true
   },
   "source": [
    "# Actual data with wavelength solutions "
   ]
  },
  {
   "cell_type": "code",
   "execution_count": null,
   "metadata": {
    "collapsed": false,
    "deletable": true,
    "editable": true
   },
   "outputs": [],
   "source": [
    "\n",
    "import Obtain_Telluric as obt\n",
    "from astropy.io import fits\n",
    "import GaussianFitting as gf\n",
    "from TellRemoval import airmass_scaling\n",
    "#Path = \"/home/jneal/Phd/data/Crires/BDs-DRACS/HD30501-1/Fullreductionr-test-1dec2015/Combined_Nods/\"\n",
    "#Chipnames = [\"CRIRE.2012-04-07T00:08:29.976_1.nod.ms.norm.sum.fits\", \"CRIRE.2012-04-07T00:08:29.976_2.nod.ms.norm.sum.fits\", \"CRIRE.2012-04-07T00:08:29.976_3.nod.ms.norm.sum.fits\", \"CRIRE.2012-04-07T00:08:29.976_4.nod.ms.norm.sum.fits\"]\n",
    "\n",
    "Path = \"C:/Users/Jason/Dropbox/PhD/hd30501-Wavecal-march16/\"\n",
    "Wavecalfiles = [\"CRIRE.2012-08-06T09-42-07.888_1.nod.ms.norm.sum.wavecal.fits\", \"CRIRE.2012-08-06T09-42-07.888_2.nod.ms.norm.sum.wavecal.fits\", \"CRIRE.2012-08-06T09-42-07.888_3.nod.ms.norm.sum.wavecal.fits\", \"CRIRE.2012-08-06T09-42-07.888_4.nod.ms.norm.sum.wavecal.fits\"]\n",
    "\n",
    "Tapas_name = \"tapas_HD30501_2b_R50000_2012-08-06T09-56-00.ipac\"\n"
   ]
  },
  {
   "cell_type": "markdown",
   "metadata": {
    "deletable": true,
    "editable": true
   },
   "source": [
    "### Load in the data for each chip\n",
    "\n",
    "and plot the wavelength mapping"
   ]
  },
  {
   "cell_type": "code",
   "execution_count": null,
   "metadata": {
    "collapsed": false,
    "deletable": true,
    "editable": true
   },
   "outputs": [],
   "source": [
    "\n",
    "tell_data, tell_hdr = obt.load_telluric(Path, Tapas_name)\n",
    "\n",
    "plt.plot(tell_data[0], tell_data[1])\n",
    "plt.title(\"Telluric Spectra\")\n",
    "plt.xlabel(\"Wavelength (nm)\")\n",
    "plt.ylabel(\"Transmittance\")"
   ]
  },
  {
   "cell_type": "code",
   "execution_count": null,
   "metadata": {
    "collapsed": false,
    "deletable": true,
    "editable": true
   },
   "outputs": [],
   "source": [
    "wlmaps = [wl_map1, wl_map2, wl_map3, wl_map4]   # polyfit params\n",
    "\n",
    "lmfit_wlmaps = [lm_wl_map1,lm_wl_map2, lm_wl_map3, lm_wl_map4] # lmfit values with variably fitted gaps\n",
    "\n",
    "Fixed_gap_Pixel_offsets = [0, Fixed_Gap1_fit+1024, Fixed_Gap2_fit+2*1024, Fixed_Gap3_fit+3*1024]  # Pixel values offset for each chip\n",
    "Variable_gap_Pixel_offsets = [0, Variable_Gap1_fit+1024, Variable_Gap2_fit+2*1024, Variable_Gap3_fit+3*1024]  # Pixel values offset for each chip\n",
    "weighted_gap_Pixel_offsets = [0, weighted_Gap1_fit+1024, weighted_Gap2_fit+2*1024, weighted_Gap3_fit+3*1024]  # Pixel values offset for each chip\n",
    "\n",
    "\n",
    "\n",
    "for num, cname in enumerate(Wavecalfiles):\n",
    "\n",
    "    data = fits.getdata(Path+cname)\n",
    "    #Chip_data = data\n",
    "    #data.columns.info()  # to get column names to access\n",
    "    used_wl = data[\"Wavelength\"]\n",
    "    I = data[\"Extracted_DRACS\"]\n",
    "    pxl = data[\"Pixel\"]\n",
    "    \n",
    "    zero_gap_pixel = pxl + num*1024\n",
    "    fixed_gap_pixel = pxl + Fixed_gap_Pixel_offsets[num]\n",
    "    variable_gap_pixel = pxl + Variable_gap_Pixel_offsets[num]\n",
    "    weighted_gap_pixel = pxl + weighted_gap_Pixel_offsets[num]\n",
    "    # Polyval individual fit (fixed gap)\n",
    "    \n",
    "    \n",
    "    Chip_polyval_wl_individual = np.polyval(wlmaps[num], fixed_gap_pixel)\n",
    "    # polyval combined fit (fixed gap)\n",
    "    Chip_polyval_wl_combined = np.polyval(Combined_map, fixed_gap_pixel)\n",
    "    # lmfit indiviudal (fixed gap)\n",
    "    Chip_lmfit_wl_individual = np.polyval(lmfit_wlmaps[num], zero_gap_pixel)\n",
    "    # lmfit combined (variable gap)\n",
    "    Chip_lmfit_wl_combined = np.polyval(lmfit_Combined_map, variable_gap_pixel)\n",
    "    # weighted lmfit combined (variable gap)\n",
    "    Chip_lmfit_wl_weighted_combined = np.polyval(lm_weighted_wl_map, variable_gap_pixel)  \n",
    "    \n",
    "    if num == 0:\n",
    "        plt.plot(used_wl, I, \"m\", label=\"used WL\")\n",
    "        plt.plot(Chip_polyval_wl_individual, I, \"b--\", label=\"Individual Map Chip {}\".format(num+1))\n",
    "        plt.plot(Chip_polyval_wl_combined, I, \"r:\", label=\"Combined Map Chip {}\".format(num+1))\n",
    "        plt.plot(Chip_lmfit_wl_individual, I, \"g-\", label=\"lmfit Individual Map Chip {}\".format(num+1))\n",
    "        plt.plot(Chip_lmfit_wl_combined, I, \"k-.\", label=\"lmfit Combined Map Chip {}\".format(num+1))\n",
    "        plt.plot(Chip_lmfit_wl_weighted_combined, I, \"c-o\", label=\"lmfit weighted Map Chip {}\".format(num+1))\n",
    "    else:\n",
    "        plt.plot(used_wl, I, \"m\")\n",
    "        plt.plot(Chip_polyval_wl_individual, I, \"b--\")\n",
    "        plt.plot(Chip_polyval_wl_combined, I, \"r:\")\n",
    "        plt.plot(Chip_lmfit_wl_individual, I, \"g-\")\n",
    "        plt.plot(Chip_lmfit_wl_combined, I, \"k-.\")\n",
    "        plt.plot(Chip_lmfit_wl_weighted_combined, I, \"c-o\")\n",
    "  \n",
    "        #Chip_wl_comb = np.polyval(Combined_map, chip_pixel)\n",
    "    #Chip_wl = q*chip_pixel**2 + m*chip_pixel + b\n",
    "    #plt.plot(Chip_wl_comb, Chip_data, label=\"Combined Map Chip {}\".format(num+1))\n",
    "    \n",
    "    plt.legend(loc=0)\n",
    "    \n",
    "    \n",
    "    \n",
    "# Plot the telluric reference for this observation\n",
    "plt.plot(tell_data[0], tell_data[1],\"m\")\n",
    "plt.xlim([2110,2170])\n",
    "plt.ylim([0.4,1.1])\n",
    "\n",
    "# Make it interactive with Bokeh\n",
    "bokeh.plotting.show(bokeh.mpl.to_bokeh())"
   ]
  },
  {
   "cell_type": "code",
   "execution_count": null,
   "metadata": {
    "collapsed": true,
    "deletable": true,
    "editable": true
   },
   "outputs": [],
   "source": []
  },
  {
   "cell_type": "markdown",
   "metadata": {
    "deletable": true,
    "editable": true
   },
   "source": [
    "# To test how good they are i should create a local peak finder and compre the wavelengths of the peaks"
   ]
  },
  {
   "cell_type": "code",
   "execution_count": null,
   "metadata": {
    "collapsed": true,
    "deletable": true,
    "editable": true
   },
   "outputs": [],
   "source": []
  },
  {
   "cell_type": "code",
   "execution_count": null,
   "metadata": {
    "collapsed": true,
    "deletable": true,
    "editable": true
   },
   "outputs": [],
   "source": []
  },
  {
   "cell_type": "code",
   "execution_count": null,
   "metadata": {
    "collapsed": true,
    "deletable": true,
    "editable": true
   },
   "outputs": [],
   "source": []
  },
  {
   "cell_type": "code",
   "execution_count": null,
   "metadata": {
    "collapsed": true,
    "deletable": true,
    "editable": true
   },
   "outputs": [],
   "source": []
  },
  {
   "cell_type": "code",
   "execution_count": null,
   "metadata": {
    "collapsed": true,
    "deletable": true,
    "editable": true
   },
   "outputs": [],
   "source": []
  },
  {
   "cell_type": "markdown",
   "metadata": {
    "deletable": true,
    "editable": true
   },
   "source": [
    "## OLd testing code from orginal script"
   ]
  },
  {
   "cell_type": "raw",
   "metadata": {
    "collapsed": false,
    "deletable": true,
    "editable": true
   },
   "source": [
    "# #!/usr/lib/python3\n",
    "\n",
    "# Testing the affectof using all 3 cips with the known offset between them to wave length calibrate the spectra\n",
    "\n",
    "def gen_map(x, a, b, c, noise):\n",
    "    #noise_vals = noise * np.random.randn(len(x))\n",
    "    ans =  [a*xpos**2 + b*xpos + c + float(noise*np.random.randn(1)) for xpos in x]\n",
    "    return ans\n",
    "\n",
    "# Pixel gaps Brogi et al 2015\n",
    "Gap1 = 282\n",
    "Gap2 = 278\n",
    "Gap3 = 275\n",
    "Gap_sum = Gap1 + Gap2 + Gap3\n",
    "\n",
    "#Chipnames = [\"Coordinates_CRIRE.2012-04-07T00-08-29.976_1.nod.ms.norm.sum.txt\", \"Coordinates_CRIRE.2012-04-07T00-08-29.976_2.nod.ms.norm.sum.txt\", \"Coordinates_CRIRE.2012-04-07T00-08-29.976_3.nod.ms.norm.sum.txt\", \"Coordinates_CRIRE.2012-04-07T00-08-29.976_4.nod.ms.norm.sum.txt\"]\n",
    "Chipnames = [\"Coordinates_CRIRE.2012-08-06T09-42-07.888_1.nod.ms.norm.sum.txt\", \"Coordinates_CRIRE.2012-08-06T09-42-07.888_2.nod.ms.norm.sum.txt\", \"Coordinates_CRIRE.2012-08-06T09-42-07.888_3.nod.ms.norm.sum.txt\", \"Coordinates_CRIRE.2012-08-06T09-42-07.888_4.nod.ms.norm.sum.txt\"]\n",
    "\n",
    "#PATH = \"/home/jneal/Dropbox/PhD/\"\n",
    "PATH = \"C:/Users/Jason/Dropbox/PhD/hd30501-Wavecal-march16/\"\n",
    "#PATH = \"/home/jneal/Dropbox/PhD/\"\n",
    "#\"/home/jneal/Dropbox/PhD/\"\n",
    "pix1, wlen1, dpth1 = np.loadtxt(PATH+Chipnames[0], skiprows=1, unpack=True)\n",
    "pix2, wlen2, dpth2 = np.loadtxt(PATH+Chipnames[1], skiprows=1, unpack=True)\n",
    "pix3, wlen3, dpth3 = np.loadtxt(PATH+Chipnames[2], skiprows=1, unpack=True)\n",
    "pix4, wlen4, dpth4 = np.loadtxt(PATH+Chipnames[3], skiprows=1, unpack=True)\n",
    "while False:\n",
    "\tpass\n",
    "\t#Test_pxl1 = [70, 200, 549, 937, 1015]\n",
    "\t#Test_pxl2 = [100, 400, 649, 737, 815] \n",
    "\t#Test_pxl3 = [50, 200, 549, 937, 915] \n",
    "\t#Test_pxl4 = [207, 400, 519, 837, 1015] \n",
    "\n",
    "\t#Test_pxl2 = [pxl + 1*1024 + Gap1 for pxl in Test_pxl2]\n",
    "\t#Test_pxl3 = [pxl + 2*1024 + Gap1 + Gap2 for pxl in Test_pxl3]\n",
    "\t#Test_pxl4 = [pxl + 3*1024 + Gap_sum for pxl in Test_pxl4]\n",
    "\n",
    "\t#aa = 5/5000000.0    # smaller value \n",
    "\t#bb = 80/5000.0   # 80 nm over 4*1024 detectors plus gaps\n",
    "\t## noise = 0.05   # nm\n",
    "\n",
    "\t##Test_wl2 = gen_map(Test_pxl2, aa, bb, cc, noise)\n",
    "\t#Test_wl3 = gen_map(Test_pxl3, aa, bb, cc, noise)\n",
    "\t#Test_wl4 = gen_map(Test_pxl4, aa, bb, cc, noise)\n",
    " \n",
    "Test_pxl1 = [pxl for pxl in pix1] \n",
    "Test_pxl2 = [pxl + 1*1024 + Gap1 for pxl in pix2]\n",
    "Test_pxl3 = [pxl + 2*1024 + Gap1 + Gap2 for pxl in pix3]\n",
    "Test_pxl4 = [pxl + 3*1024 + Gap_sum for pxl in pix4]\n",
    "Test_wl1 = [wl for wl in wlen1]\n",
    "Test_wl2 = [wl for wl in wlen2]\n",
    "Test_wl3 = [wl for wl in wlen3]\n",
    "Test_wl4 = [wl for wl in wlen4]\n",
    "\n",
    "plt.subplot(211)\n",
    "plt.plot(Test_pxl1, Test_wl1, \"bo\", label=\"1\")\n",
    "plt.plot(Test_pxl2, Test_wl2, \"ro\", label=\"2\")\n",
    "plt.plot(Test_pxl3, Test_wl3, \"go\", label=\"3\")\n",
    "plt.plot(Test_pxl4, Test_wl4, \"mo\", label=\"4\")\n",
    "plt.ylim([min(Test_wl1), max(Test_wl4)])\n",
    "ax1 = plt.gca()\n",
    "ax1.get_yaxis().get_major_formatter().set_useOffset(False)\n",
    "plt.xlabel(\"Pixel Position\")\n",
    "plt.ylabel(\"Wavelength\")\n",
    "#plt.legend()\n",
    "#plt.show()\n",
    "\n",
    "max_pixel = 4*1024 + Gap_sum\n",
    "pixel_span = range(1, max_pixel)\n",
    "\n",
    "# Fit to the individual chips\n",
    "order = 2\n",
    "wl_map1 = np.polyfit(Test_pxl1, Test_wl1, order)\n",
    "print(\"\\nwl_map params 1\\t\", wl_map1)\n",
    "wlvals1 = np.polyval(wl_map1, pixel_span) \n",
    "\n",
    "wl_map2 = np.polyfit(Test_pxl2, Test_wl2, order)\n",
    "print(\"\\nwl_map params 2\\t\", wl_map2)\n",
    "wlvals2 = np.polyval(wl_map2, pixel_span) \n",
    "\n",
    "wl_map3 = np.polyfit(Test_pxl3, Test_wl3, order)\n",
    "print(\"\\nwl_map params 3 \\t\", wl_map3)\n",
    "wlvals3 = np.polyval(wl_map3, pixel_span) \n",
    "\n",
    "wl_map4 = np.polyfit(Test_pxl4, Test_wl4, order)\n",
    "print(\"\\nWl map params Combined\\t\", wl_map4)\n",
    "wlvals4 = np.polyval(wl_map4, pixel_span) \n",
    "\n",
    "# Fit to combined data\n",
    "Combined_pixels = Test_pxl1 + Test_pxl2 + Test_pxl3 + Test_pxl4\n",
    "Combined_wls = Test_wl1 + Test_wl2 + Test_wl3 + Test_wl4\n",
    "\n",
    "print(\"len(Combined_pixels)\",len(Combined_pixels))\n",
    "\n",
    "print(\"len(Combined_wls)\",len(Combined_wls))\n",
    "print(Combined_wls)\n",
    "\n",
    "Combined_map = np.polyfit(Combined_pixels, Combined_wls, order)\n",
    "print(\"\\nwl_map params 4\\t\", Combined_map)\n",
    "Combined_vals = np.polyval(Combined_map, pixel_span) \n",
    "\n",
    "\n",
    "plt.plot(pixel_span, wlvals1, 'b', label=\"Chip1\")\n",
    "plt.plot(pixel_span, wlvals2, 'r', label=\"Chip2\")\n",
    "plt.plot(pixel_span, wlvals3, 'g', label=\"Chip3\")\n",
    "plt.plot(pixel_span, wlvals4, 'm', label=\"Chip4\")\n",
    "plt.plot(pixel_span, Combined_vals, 'k', label=\"Combined\")\n",
    "\n",
    "plt.legend(loc=0)\n",
    "\n",
    "plt.subplot(212)\n",
    "plt.plot(pixel_span, np.zeros_like(pixel_span), \"k--\", label = \"\")\n",
    "plt.plot(pixel_span, Combined_vals-wlvals1, 'b', label = \"Combined-Chip1\")\n",
    "plt.plot(pixel_span, Combined_vals-wlvals2, 'r', label = \"Combined-Chip2\")\n",
    "plt.plot(pixel_span, Combined_vals-wlvals3, 'g', label = \"Combined-Chip3\")\n",
    "plt.plot(pixel_span, Combined_vals-wlvals4, 'm', label = \"Combined-Chip4\")\n",
    "plt.xlabel(\"Pixel Position\")\n",
    "plt.ylabel(\"Wavelength Difference\\nbetween Models (nm)\")\n",
    "plt.legend(loc=0)\n",
    "ax1 = plt.gca()\n",
    "ax1.get_yaxis().get_major_formatter().set_useOffset(False)\n",
    "plt.ylim([-0.3,0.3])\n",
    "\n",
    "# Mark Chip positions\n",
    "linepos = [0, 1024, 1024+Gap1, 2*1024+Gap1, 2*1024+Gap1+Gap2, 3*1024+Gap1+Gap2, 3*1024+Gap1+Gap2+Gap3, 4*1024+Gap1+Gap2+Gap3]\n",
    "plt.vlines(linepos, -1, 1)\n",
    "\n",
    "plt.show()\n",
    "\n",
    "\n",
    "\n",
    "noise=0.01\n",
    "#  Try fitting with matrix multiplication\n",
    "\n",
    "x = np.array(Combined_pixels)\n",
    "y = np.array(Combined_wls)\n",
    "yerr = np.array(noise*np.ones_like(x))\n",
    "#print(\"x\", x)\n",
    "#print(\"y\", y)\n",
    "\n",
    "## least-squares solution\n",
    "# build the matrix A (you can use the np.vstack function)\n",
    "A = np.vstack((np.ones_like(x), x, x**2)).T\n",
    "\n",
    "# build the matrix C\n",
    "C = np.diag(yerr**2)\n",
    "\n",
    "# calculate the covariance matrix [A^T C^-1 A]^-1\n",
    "# (use the linear algebra functions in np.linalg)\n",
    "cov = np.dot(A.T, np.linalg.solve(C, A))\n",
    "cov2 = np.linalg.inv(cov)\n",
    "\n",
    "# calculate the X matrix\n",
    "X = np.dot(cov2, np.dot(A.T, np.linalg.solve(C, y)))\n",
    "\n",
    "# extract from X the parameters m and b\n",
    "b, m, q = X \n",
    "\n",
    "print('b= {} +- {}'.format(b, np.sqrt(cov2[0,0])))\n",
    "print('m= {} +- {}'.format(m, np.sqrt(cov2[1,1])))\n",
    "print('q= {} +- {}'.format(q, np.sqrt(cov2[2,2])))\n",
    "\n",
    "# plot the data (with errorbars) and the best-fit line\n",
    "plt.figure()\n",
    "plt.errorbar(x, y, yerr=noise, fmt='o')\n",
    "\n",
    "xx = np.linspace(min(x), max(x))\n",
    "plt.plot(xx, q*xx**2 + m*xx + b, '-', label=\"Matrix LR\")\n",
    "plt.title(\"Matrix multiplication\")\n",
    "plt.plot(pixel_span, Combined_vals, 'k', label=\"PolyVal Combined\")\n",
    "plt.legend()\n",
    "plt.show()\n",
    "\n",
    "\n",
    "print(\"They return the equivalent results\")\n",
    "\n",
    "while False:#Third order regression\n",
    "\tprint(\"adding x**3 term \")\n",
    "\tA = np.vstack((np.ones_like(x), x, x**2, x**3)).T\n",
    "\n",
    "\t# build the matrix C\n",
    "\tC = np.diag(yerr**2)\n",
    "\n",
    "\t# calculate the covariance matrix [A^T C^-1 A]^-1\n",
    "\t# (use the linear algebra functions in np.linalg)\n",
    "\tcov = np.dot(A.T, np.linalg.solve(C, A))\n",
    "\tcov2 = np.linalg.inv(cov)\n",
    "\n",
    "\t# calculate the X matrix\n",
    "\tX = np.dot(cov2, np.dot(A.T, np.linalg.solve(C, y)))\n",
    "\n",
    "\t# extract from X the parameters m and b\n",
    "\tb3, m3, q3 , r3 = X \n",
    "\n",
    "\tprint('b= {} +- {}'.format(b3, np.sqrt(cov2[0,0])))\n",
    "\tprint('m= {} +- {}'.format(m3, np.sqrt(cov2[1,1])))\n",
    "\tprint('q= {} +- {}'.format(q3, np.sqrt(cov2[2,2])))\n",
    "\tprint('r= {} +- {}'.format(r3, np.sqrt(cov2[3,3])))\n",
    "\n",
    "\t# plot the data (with errorbars) and the best-fit line\n",
    "\tplt.figure()\n",
    "\tplt.subplot(211)\n",
    "\tplt.errorbar(x, y, yerr=noise, fmt='o')\n",
    "\n",
    "\t#xx = np.linspace(min(x), max(x))\n",
    "\txx = np.array(pixel_span)\n",
    "\tyy = r3*xx**3 + q3*xx**2 + m3*xx + b3\n",
    "\tplt.plot(xx, yy, '-', label=\"Matrix LR\")\n",
    "\tplt.title(\"Matrix multiplication 3rd order \")\n",
    "\tplt.plot(pixel_span, Combined_vals, 'k', label=\"PolyVal Combined\")\n",
    "\tplt.legend()\n",
    "\n",
    "\tplt.subplot(212)\n",
    "\tplt.plot(pixel_span, yy-Combined_vals)\n",
    "\tplt.title(\"Difference between x**3 term and x**2 fits\")\n",
    "\tplt.show()\n",
    "\n",
    "\tprint(\"Orginal Equation = {0}*x**2 + {1}*x + {2}\".format(aa, bb, cc))\n",
    "\n",
    "\tprint(\"Polyval Equation = {0}*x**2 + {1}*x + {2}\".format(Combined_map[0], Combined_map[1], Combined_map[2]))\n",
    "\n",
    "\tprint(\"Regression Equation = {0}*x**2 + {1}*x + {2}\".format(q, m, b))\n",
    "\n",
    "\tprint(\"x**3 Regression Equation = {0}*x**3 + {1}*x**2 + {2}*x + {3}\".format(r3, q3, m3, b3))\n",
    "\n",
    "\n",
    "# Test how Wavelenght Calibration Compares\n",
    "## Load in Chip data and plot telluric lines each chip with the two corrections\n",
    "\n",
    "\n",
    "import Obtain_Telluric as obt\n",
    "from astropy.io import fits\n",
    "import GaussianFitting as gf\n",
    "from TellRemoval import airmass_scaling\n",
    "Path = \"/home/jneal/Phd/data/Crires/BDs-DRACS/HD30501-1/Fullreductionr-test-1dec2015/Combined_Nods/\"\n",
    "\n",
    "Chipnames = [\"CRIRE.2012-04-07T00:08:29.976_1.nod.ms.norm.sum.fits\", \"CRIRE.2012-04-07T00:08:29.976_2.nod.ms.norm.sum.fits\", \"CRIRE.2012-04-07T00:08:29.976_3.nod.ms.norm.sum.fits\", \"CRIRE.2012-04-07T00:08:29.976_4.nod.ms.norm.sum.fits\"]\n",
    "Gap1 = 282\n",
    "Gap2 = 278\n",
    "Gap3 = 275\n",
    "Pixel_offsets = [0, Gap1+1024, Gap1+Gap2+2*1024, Gap1+Gap2+Gap3+3*1024]  # Pixel values offset for each chip\n",
    "\n",
    "# Ployval wavelgnth maps\n",
    "#wlvals = np.polyval(wl_map2, pixel_span) \n",
    "wlmaps = [wl_map1, wl_map2, wl_map3, wl_map4]\n",
    "\n",
    "for num, cname in enumerate(Chipnames):\n",
    "\n",
    "    data = fits.getdata(Path+cname)\n",
    "    Chip_data = data\n",
    "    chip_pixel = np.array(range(1+ Pixel_offsets[num], len(Chip_data) + 1+ Pixel_offsets[num])) \n",
    "    \n",
    "    \n",
    "    Chip_wl_individual = np.polyval(wlmaps[num], chip_pixel)\n",
    "    \n",
    "    plt.plot(Chip_wl_individual, Chip_data, \"--\", label=\"Individual Map Chip {}\".format(num+1))\n",
    "\n",
    "    Chip_wl_comb = np.polyval(Combined_map, chip_pixel)\n",
    "    #Chip_wl = q*chip_pixel**2 + m*chip_pixel + b\n",
    "    plt.plot(Chip_wl_comb, Chip_data, label=\"Combined Map Chip {}\".format(num+1))\n",
    "    \n",
    "\n",
    "\n",
    "hdr = fits.getheader(Path+Chipnames[0])\n",
    "wl_lower = hdr[\"HIERARCH ESO INS WLEN STRT\"]\n",
    "datetime = hdr[\"DATE-OBS\"]\n",
    "\n",
    "wl_upper = fits.getheader(Path+Chipnames[3])[\"HIERARCH ESO INS WLEN END\"]\n",
    "\n",
    "obsdate, obstime = datetime.split(\"T\")\n",
    "obstime, __ = obstime.split(\".\")\n",
    "\n",
    "tellpath = \"/home/jneal/Phd/data/Tapas/\"\n",
    "tellname = obt.get_telluric_name(tellpath, obsdate, obstime) # to within the hour\n",
    "print(\"Telluric Name\", tellname)\n",
    "\n",
    "tell_data, tell_header = obt.load_telluric(tellpath, tellname[0])\n",
    "    \n",
    "# Scale telluric lines to airmass\n",
    "start_airmass = hdr[\"HIERARCH ESO TEL AIRM START\"]\n",
    "end_airmass = hdr[\"HIERARCH ESO TEL AIRM END\"]\n",
    "obs_airmass = (start_airmass + end_airmass) / 2\n",
    "    \n",
    "#print(tell_header)\n",
    "tell_airmass = float(tell_header[\"airmass\"])\n",
    "#print(obs_airmass, type(obs_airmass))\n",
    "#print(tell_airmass, type(tell_airmass))\n",
    "tell_data[1] = airmass_scaling(tell_data[1], tell_airmass, obs_airmass)\n",
    "    \n",
    "# Sliced to wavelength measurement of detector\n",
    "calib_data = gf.slice_spectra(tell_data[0], tell_data[1], wl_lower, wl_upper)\n",
    "\n",
    "plt.plot(calib_data[0], calib_data[1], label=\"Telluric\")\n",
    "\n",
    "ax1 = plt.gca()\n",
    "ax1.get_xaxis().get_major_formatter().set_useOffset(False)\n",
    "plt.legend(loc=0)\n",
    "plt.show()\n"
   ]
  },
  {
   "cell_type": "code",
   "execution_count": null,
   "metadata": {
    "collapsed": true,
    "deletable": true,
    "editable": true
   },
   "outputs": [],
   "source": []
  }
 ],
 "metadata": {
  "kernelspec": {
   "display_name": "Python [default]",
   "language": "python",
   "name": "python3"
  },
  "language_info": {
   "codemirror_mode": {
    "name": "ipython",
    "version": 3
   },
   "file_extension": ".py",
   "mimetype": "text/x-python",
   "name": "python",
   "nbconvert_exporter": "python",
   "pygments_lexer": "ipython3",
   "version": "3.5.3"
  }
 },
 "nbformat": 4,
 "nbformat_minor": 0
}

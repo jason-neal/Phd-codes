{
 "cells": [
  {
   "cell_type": "markdown",
   "metadata": {
    "deletable": true,
    "editable": true
   },
   "source": [
    "# Compare Spectrum_Overload and astropy specuits\n"
   ]
  },
  {
   "cell_type": "code",
   "execution_count": null,
   "metadata": {
    "collapsed": false,
    "deletable": true,
    "editable": true
   },
   "outputs": [],
   "source": [
    "from __future__ import division, print_function\n",
    "\n",
    "# Astropy affilate specutils\n",
    "from specutils.io import read_fits, write_fits\n",
    "from specutils import Spectrum1D\n",
    "from specutils.wcs import specwcs      # for wavelength mapping  pixel->wavelength\n",
    "from astropy import units as u\n",
    "# My spectrum with overloaded operators\n",
    "from spectrum_overload.Spectrum import Spectrum \n",
    "#from specutils.io import read_fits\n",
    "from astropy.io import fits\n",
    "import numpy as np"
   ]
  },
  {
   "cell_type": "code",
   "execution_count": 2,
   "metadata": {
    "collapsed": false,
    "deletable": true,
    "editable": true
   },
   "outputs": [],
   "source": [
    "data = fits.getdata(\"./Notebooks/HD30501_data/3/CRIRE.2012-08-02T08-47-30.843_1.nod.ms.norm.sum.fits\")\n",
    "wavecal_data = fits.getdata(\"./Notebooks/HD30501_data/3/CRIRE.2012-08-02T08-47-30.843_1.nod.ms.norm.sum.wavecal.fits\")\n",
    "hdr = fits.getheader(\"./Notebooks/HD30501_data/3/CRIRE.2012-08-02T08-47-30.843_1.nod.ms.norm.sum.fits\")\n",
    "\n",
    "# Load using Specturm_overload\n",
    "overload = Spectrum(data, None, calibrated=False)\n",
    "overload_wavecal = Spectrum(wavecal_data[\"Extracted_DRACS\"], wavecal_data[\"Wavelength\"], calibrated=True)\n"
   ]
  },
  {
   "cell_type": "code",
   "execution_count": null,
   "metadata": {
    "collapsed": false,
    "deletable": true,
    "editable": true
   },
   "outputs": [],
   "source": [
    "# Trying the same with specutils\n",
    "\n",
    "myspec = Spectrum1D.from_array(wavecal_data[\"Wavelength\"], wavecal_data[\"Extracted_DRACS\"])  # This does not set the wavelenght\n",
    "print(myspec)\n",
    "print(myspec.dispersion)\n",
    "print(\"wavecal_data\", wavecal_data[\"Extracted_DRACS\"])\n",
    "wave_with_unit = wavecal_data[\"Wavelength\"] * u.nanometer\n",
    "myspec_nm = Spectrum1D.from_array(wave_with_unit, wavecal_data[\"Extracted_DRACS\"])\n",
    "\n",
    "print(myspec_nm)\n",
    "print(myspec_nm.wavelength)\n",
    "print(myspec_nm.flux)\n",
    "\n",
    "\n",
    "# Try determine the wcs units from the wavelenght axis\n",
    "\n",
    "print(myspec_nm.wcs)\n"
   ]
  },
  {
   "cell_type": "code",
   "execution_count": 5,
   "metadata": {
    "collapsed": false,
    "deletable": true,
    "editable": true
   },
   "outputs": [
    {
     "name": "stdout",
     "output_type": "stream",
     "text": [
      "[ 2111.78446753  2111.79597142  2111.80747532 ...,  2123.52994173\n",
      "  2123.54144562  2123.55294951] nm\n",
      "[ 2111.78446753  2111.79597142  2111.80747532 ...,  2123.52994173\n",
      "  2123.54144562  2123.55294951] nm\n",
      "[ 0.95736718  0.97759461  0.98550838 ...,  1.01083422  1.00441384\n",
      "  1.00558627]\n"
     ]
    }
   ],
   "source": [
    "read_spectrum = read_fits.read_fits_spectrum1d(\"./Notebooks/HD30501_data/3/CRIRE.2012-08-02T08-47-30.843_1.nod.ms.norm.sum.fits\")\n",
    "\n",
    "print(read_spectrum.wavelength)\n",
    "print(read_spectrum.dispersion)\n",
    "print(read_spectrum.flux)"
   ]
  },
  {
   "cell_type": "code",
   "execution_count": null,
   "metadata": {
    "collapsed": false,
    "deletable": true,
    "editable": true
   },
   "outputs": [],
   "source": [
    "\n",
    "# Write the made spectrum \n",
    "write_fits.write(myspec_nm, \"Mytestspec.txt\")\n"
   ]
  },
  {
   "cell_type": "code",
   "execution_count": 7,
   "metadata": {
    "collapsed": false,
    "deletable": true,
    "editable": true
   },
   "outputs": [
    {
     "name": "stdout",
     "output_type": "stream",
     "text": [
      "[ 2111.78446753  2111.79597142  2111.80747532 ...,  2123.52994173\n",
      "  2123.54144562  2123.55294951] nm\n",
      "[ 2111.78446753  2111.79597142  2111.80747532 ...,  2123.52994173\n",
      "  2123.54144562  2123.55294951] nm\n",
      "[ 2111.78446753  2111.79597142  2111.80747532 ...,  2123.52994173\n",
      "  2123.54144562  2123.55294951] nm\n",
      "[ 2111.78446753  2111.79597142  2111.80747532 ...,  2123.52994173\n",
      "  2123.54144562  2123.55294951] nm\n",
      "[ 2111.78446753  2111.79597142  2111.80747532 ...,  2123.52994173\n",
      "  2123.54144562  2123.55294951] nm\n",
      "[ 2111.78446753  2111.79597142  2111.80747532 ...,  2123.52994173\n",
      "  2123.54144562  2123.55294951] nm\n",
      "[ 2111.78446753  2111.79597142  2111.80747532 ...,  2123.52994173\n",
      "  2123.54144562  2123.55294951] nm\n",
      "[ 2111.78446753  2111.79597142  2111.80747532 ...,  2123.52994173\n",
      "  2123.54144562  2123.55294951] nm\n"
     ]
    }
   ],
   "source": [
    "## Check what the wavelengths on all fits files before I sum them.\n",
    "c1 = read_fits.read_fits_spectrum1d('../../data/Data/HD162020-1/CRIRE.2012-07-04T06_23_22.885_1.nod.ms.fits')\n",
    "c2 = read_fits.read_fits_spectrum1d('../../data/Data/HD162020-1/CRIRE.2012-07-04T06_27_02.567_1.nod.ms.fits')\n",
    "c3 = read_fits.read_fits_spectrum1d('../../data/Data/HD162020-1/CRIRE.2012-07-04T06_30_26.978_1.nod.ms.fits')\n",
    "c4 = read_fits.read_fits_spectrum1d('../../data/Data/HD162020-1/CRIRE.2012-07-04T06_34_04.214_1.nod.ms.fits')\n",
    "c5 = read_fits.read_fits_spectrum1d('../../data/Data/HD162020-1/CRIRE.2012-07-04T06_37_33.207_1.nod.ms.fits')\n",
    "c6 = read_fits.read_fits_spectrum1d('../../data/Data/HD162020-1/CRIRE.2012-07-04T06_41_13.414_1.nod.ms.fits')\n",
    "c7 = read_fits.read_fits_spectrum1d('../../data/Data/HD162020-1/CRIRE.2012-07-04T06_44_42.406_1.nod.ms.fits')\n",
    "c8 = read_fits.read_fits_spectrum1d('../../data/Data/HD162020-1/CRIRE.2012-07-04T06_48_20.555_1.nod.ms.fits')\n",
    "\n",
    "print(c1.dispersion)\n",
    "print(c2.dispersion)\n",
    "print(c3.dispersion)\n",
    "print(c4.dispersion)\n",
    "print(c5.dispersion)\n",
    "print(c6.dispersion)\n",
    "print(c7.dispersion)\n",
    "print(c8.dispersion)\n",
    "print(\"The wavelength solution for each of the crires detectors is the same\")"
   ]
  },
  {
   "cell_type": "code",
   "execution_count": 15,
   "metadata": {
    "collapsed": false,
    "deletable": true,
    "editable": true
   },
   "outputs": [
    {
     "ename": "FITSWCSError",
     "evalue": "",
     "output_type": "error",
     "traceback": [
      "\u001b[0;31m---------------------------------------------------------------------------\u001b[0m",
      "\u001b[0;31mFITSWCSError\u001b[0m                              Traceback (most recent call last)",
      "\u001b[0;32m<ipython-input-15-19fc1fd682e8>\u001b[0m in \u001b[0;36m<module>\u001b[0;34m()\u001b[0m\n\u001b[1;32m      1\u001b[0m \u001b[1;31m## Test\u001b[0m\u001b[1;33m\u001b[0m\u001b[1;33m\u001b[0m\u001b[0m\n\u001b[0;32m----> 2\u001b[0;31m \u001b[0mc_nod\u001b[0m \u001b[1;33m=\u001b[0m \u001b[0mread_fits\u001b[0m\u001b[1;33m.\u001b[0m\u001b[0mread_fits_spectrum1d\u001b[0m\u001b[1;33m(\u001b[0m\u001b[1;34m'../../data/Data/HD162020-1/CRIRE.2012-07-04T06_44_42.406_1.nod.fits'\u001b[0m\u001b[1;33m)\u001b[0m\u001b[1;33m\u001b[0m\u001b[0m\n\u001b[0m\u001b[1;32m      3\u001b[0m \u001b[1;33m\u001b[0m\u001b[0m\n",
      "\u001b[0;32mC:\\Users\\Jason\\Anaconda3\\lib\\site-packages\\specutils\\io\\read_fits.py\u001b[0m in \u001b[0;36mread_fits_spectrum1d\u001b[0;34m(filename, dispersion_unit, flux_unit)\u001b[0m\n\u001b[1;32m    471\u001b[0m     \u001b[0mheader\u001b[0m \u001b[1;33m=\u001b[0m \u001b[0mfits\u001b[0m\u001b[1;33m.\u001b[0m\u001b[0mgetheader\u001b[0m\u001b[1;33m(\u001b[0m\u001b[0mfilename\u001b[0m\u001b[1;33m)\u001b[0m\u001b[1;33m\u001b[0m\u001b[0m\n\u001b[1;32m    472\u001b[0m \u001b[1;33m\u001b[0m\u001b[0m\n\u001b[0;32m--> 473\u001b[0;31m     \u001b[0mwcs_info\u001b[0m \u001b[1;33m=\u001b[0m \u001b[0mFITSWCSSpectrum\u001b[0m\u001b[1;33m(\u001b[0m\u001b[0mheader\u001b[0m\u001b[1;33m)\u001b[0m\u001b[1;33m\u001b[0m\u001b[0m\n\u001b[0m\u001b[1;32m    474\u001b[0m \u001b[1;33m\u001b[0m\u001b[0m\n\u001b[1;32m    475\u001b[0m     \u001b[1;32mif\u001b[0m \u001b[0mwcs_info\u001b[0m\u001b[1;33m.\u001b[0m\u001b[0mnaxis\u001b[0m \u001b[1;33m==\u001b[0m \u001b[1;36m1\u001b[0m\u001b[1;33m:\u001b[0m\u001b[1;33m\u001b[0m\u001b[0m\n",
      "\u001b[0;32mC:\\Users\\Jason\\Anaconda3\\lib\\site-packages\\specutils\\io\\read_fits.py\u001b[0m in \u001b[0;36m__init__\u001b[0;34m(self, fits_header)\u001b[0m\n\u001b[1;32m    186\u001b[0m             \u001b[0mself\u001b[0m\u001b[1;33m.\u001b[0m\u001b[0mwcs_attributes\u001b[0m \u001b[1;33m=\u001b[0m \u001b[1;33m[\u001b[0m\u001b[1;33m]\u001b[0m\u001b[1;33m\u001b[0m\u001b[0m\n\u001b[1;32m    187\u001b[0m             \u001b[1;32mfor\u001b[0m \u001b[0maxis\u001b[0m \u001b[1;32min\u001b[0m \u001b[0mrange\u001b[0m\u001b[1;33m(\u001b[0m\u001b[0mself\u001b[0m\u001b[1;33m.\u001b[0m\u001b[0mwcs_dim\u001b[0m\u001b[1;33m)\u001b[0m\u001b[1;33m:\u001b[0m\u001b[1;33m\u001b[0m\u001b[0m\n\u001b[0;32m--> 188\u001b[0;31m                 \u001b[0mself\u001b[0m\u001b[1;33m.\u001b[0m\u001b[0mwcs_attributes\u001b[0m\u001b[1;33m.\u001b[0m\u001b[0mappend\u001b[0m\u001b[1;33m(\u001b[0m\u001b[0mself\u001b[0m\u001b[1;33m.\u001b[0m\u001b[0mread_wcs_attributes\u001b[0m\u001b[1;33m(\u001b[0m\u001b[0maxis\u001b[0m \u001b[1;33m+\u001b[0m \u001b[1;36m1\u001b[0m\u001b[1;33m)\u001b[0m\u001b[1;33m)\u001b[0m\u001b[1;33m\u001b[0m\u001b[0m\n\u001b[0m\u001b[1;32m    189\u001b[0m \u001b[1;33m\u001b[0m\u001b[0m\n\u001b[1;32m    190\u001b[0m         \u001b[0mself\u001b[0m\u001b[1;33m.\u001b[0m\u001b[0maffine_transform_dict\u001b[0m\u001b[1;33m,\u001b[0m \u001b[0mself\u001b[0m\u001b[1;33m.\u001b[0m\u001b[0mtransform_matrix\u001b[0m \u001b[1;33m=\u001b[0m \u001b[0mself\u001b[0m\u001b[1;33m.\u001b[0m\u001b[0mread_affine_transforms\u001b[0m\u001b[1;33m(\u001b[0m\u001b[1;33m)\u001b[0m\u001b[1;33m\u001b[0m\u001b[0m\n",
      "\u001b[0;32mC:\\Users\\Jason\\Anaconda3\\lib\\site-packages\\specutils\\io\\read_fits.py\u001b[0m in \u001b[0;36mread_wcs_attributes\u001b[0;34m(self, axis)\u001b[0m\n\u001b[1;32m    279\u001b[0m         \u001b[0mwcs_attributes\u001b[0m \u001b[1;33m=\u001b[0m \u001b[0mself\u001b[0m\u001b[1;33m.\u001b[0m\u001b[0mfits_header\u001b[0m\u001b[1;33m[\u001b[0m\u001b[1;34m'wat{0:d}_???'\u001b[0m\u001b[1;33m.\u001b[0m\u001b[0mformat\u001b[0m\u001b[1;33m(\u001b[0m\u001b[0maxis\u001b[0m\u001b[1;33m)\u001b[0m\u001b[1;33m]\u001b[0m\u001b[1;33m\u001b[0m\u001b[0m\n\u001b[1;32m    280\u001b[0m         \u001b[1;32mif\u001b[0m \u001b[0mlen\u001b[0m\u001b[1;33m(\u001b[0m\u001b[0mwcs_attributes\u001b[0m\u001b[1;33m)\u001b[0m \u001b[1;33m==\u001b[0m \u001b[1;36m0\u001b[0m\u001b[1;33m:\u001b[0m\u001b[1;33m\u001b[0m\u001b[0m\n\u001b[0;32m--> 281\u001b[0;31m             \u001b[1;32mraise\u001b[0m \u001b[0mFITSWCSError\u001b[0m\u001b[1;33m\u001b[0m\u001b[0m\n\u001b[0m\u001b[1;32m    282\u001b[0m \u001b[1;33m\u001b[0m\u001b[0m\n\u001b[1;32m    283\u001b[0m         raw_wcs_attributes = ''.join([wcs_attributes[key].ljust(68) for key in\n",
      "\u001b[0;31mFITSWCSError\u001b[0m: "
     ]
    }
   ],
   "source": [
    "## Test \n",
    "c_nod = read_fits.read_fits_spectrum1d('../../data/Data/HD162020-1/CRIRE.2012-07-04T06_44_42.406_1.nod.fits')\n",
    "\n"
   ]
  },
  {
   "cell_type": "code",
   "execution_count": 14,
   "metadata": {
    "collapsed": false,
    "deletable": true,
    "editable": true
   },
   "outputs": [
    {
     "name": "stdout",
     "output_type": "stream",
     "text": [
      "ms works\n",
      "norm works\n"
     ]
    }
   ],
   "source": [
    "c_ms = read_fits.read_fits_spectrum1d('../../data/Data/HD162020-1/CRIRE.2012-07-04T06_44_42.406_1.nod.ms.fits')\n",
    "print(\"ms works\")\n",
    "c_norm = read_fits.read_fits_spectrum1d('../../data/Data/HD162020-1/CRIRE.2012-07-04T06_44_42.406_1.nod.ms.norm.fits')\n",
    "print(\"norm works\")"
   ]
  },
  {
   "cell_type": "code",
   "execution_count": 20,
   "metadata": {
    "collapsed": false,
    "deletable": true,
    "editable": true
   },
   "outputs": [
    {
     "name": "stdout",
     "output_type": "stream",
     "text": [
      "This write works\n"
     ]
    }
   ],
   "source": [
    "# Want to now write out a file\n",
    "\n",
    "write_fits.write(c_norm, \"testfilename.fits\")\n",
    "print(\"This write works\")\n"
   ]
  },
  {
   "cell_type": "code",
   "execution_count": 26,
   "metadata": {
    "collapsed": false,
    "deletable": true,
    "editable": true
   },
   "outputs": [
    {
     "name": "stdout",
     "output_type": "stream",
     "text": [
      "Model: Spectrum1DLookupWCS\n",
      "Inputs: ()\n",
      "Outputs: ()\n",
      "Model set size: 1\n",
      "Parameters:\n",
      "    lookup_table_parameter [1024] \n",
      "    ------------------------------\n",
      "    2111.89135742 .. 2123.60009766\n"
     ]
    }
   ],
   "source": [
    "# Write with a specturm 1d from array next\n",
    "aspec = Spectrum1D.from_array(wavecal_data[\"Wavelength\"]*u.nanometer, wavecal_data[\"Extracted_DRACS\"])  \n",
    "\n",
    "print(aspec.wcs)\n",
    "wcs = aspec.wcs\n",
    "\n",
    "#write_fits.write(aspec, \"test_spec_from_array.fits\")\n",
    "\n"
   ]
  },
  {
   "cell_type": "code",
   "execution_count": 12,
   "metadata": {
    "collapsed": false,
    "deletable": true,
    "editable": true
   },
   "outputs": [
    {
     "ename": "FITSWCSError",
     "evalue": "",
     "output_type": "error",
     "traceback": [
      "\u001b[0;31m---------------------------------------------------------------------------\u001b[0m",
      "\u001b[0;31mFITSWCSError\u001b[0m                              Traceback (most recent call last)",
      "\u001b[0;32m<ipython-input-12-b887f91231a5>\u001b[0m in \u001b[0;36m<module>\u001b[0;34m()\u001b[0m\n\u001b[0;32m----> 1\u001b[0;31m \u001b[0mc_chip\u001b[0m \u001b[1;33m=\u001b[0m \u001b[0mread_fits\u001b[0m\u001b[1;33m.\u001b[0m\u001b[0mread_fits_spectrum1d\u001b[0m\u001b[1;33m(\u001b[0m\u001b[1;34m'../../data/Data/HD162020-1/CRIRE.2012-07-04T06_48_20.555_1.fits'\u001b[0m\u001b[1;33m)\u001b[0m\u001b[1;33m\u001b[0m\u001b[0m\n\u001b[0m",
      "\u001b[0;32mC:\\Users\\Jason\\Anaconda3\\lib\\site-packages\\specutils\\io\\read_fits.py\u001b[0m in \u001b[0;36mread_fits_spectrum1d\u001b[0;34m(filename, dispersion_unit, flux_unit)\u001b[0m\n\u001b[1;32m    471\u001b[0m     \u001b[0mheader\u001b[0m \u001b[1;33m=\u001b[0m \u001b[0mfits\u001b[0m\u001b[1;33m.\u001b[0m\u001b[0mgetheader\u001b[0m\u001b[1;33m(\u001b[0m\u001b[0mfilename\u001b[0m\u001b[1;33m)\u001b[0m\u001b[1;33m\u001b[0m\u001b[0m\n\u001b[1;32m    472\u001b[0m \u001b[1;33m\u001b[0m\u001b[0m\n\u001b[0;32m--> 473\u001b[0;31m     \u001b[0mwcs_info\u001b[0m \u001b[1;33m=\u001b[0m \u001b[0mFITSWCSSpectrum\u001b[0m\u001b[1;33m(\u001b[0m\u001b[0mheader\u001b[0m\u001b[1;33m)\u001b[0m\u001b[1;33m\u001b[0m\u001b[0m\n\u001b[0m\u001b[1;32m    474\u001b[0m \u001b[1;33m\u001b[0m\u001b[0m\n\u001b[1;32m    475\u001b[0m     \u001b[1;32mif\u001b[0m \u001b[0mwcs_info\u001b[0m\u001b[1;33m.\u001b[0m\u001b[0mnaxis\u001b[0m \u001b[1;33m==\u001b[0m \u001b[1;36m1\u001b[0m\u001b[1;33m:\u001b[0m\u001b[1;33m\u001b[0m\u001b[0m\n",
      "\u001b[0;32mC:\\Users\\Jason\\Anaconda3\\lib\\site-packages\\specutils\\io\\read_fits.py\u001b[0m in \u001b[0;36m__init__\u001b[0;34m(self, fits_header)\u001b[0m\n\u001b[1;32m    186\u001b[0m             \u001b[0mself\u001b[0m\u001b[1;33m.\u001b[0m\u001b[0mwcs_attributes\u001b[0m \u001b[1;33m=\u001b[0m \u001b[1;33m[\u001b[0m\u001b[1;33m]\u001b[0m\u001b[1;33m\u001b[0m\u001b[0m\n\u001b[1;32m    187\u001b[0m             \u001b[1;32mfor\u001b[0m \u001b[0maxis\u001b[0m \u001b[1;32min\u001b[0m \u001b[0mrange\u001b[0m\u001b[1;33m(\u001b[0m\u001b[0mself\u001b[0m\u001b[1;33m.\u001b[0m\u001b[0mwcs_dim\u001b[0m\u001b[1;33m)\u001b[0m\u001b[1;33m:\u001b[0m\u001b[1;33m\u001b[0m\u001b[0m\n\u001b[0;32m--> 188\u001b[0;31m                 \u001b[0mself\u001b[0m\u001b[1;33m.\u001b[0m\u001b[0mwcs_attributes\u001b[0m\u001b[1;33m.\u001b[0m\u001b[0mappend\u001b[0m\u001b[1;33m(\u001b[0m\u001b[0mself\u001b[0m\u001b[1;33m.\u001b[0m\u001b[0mread_wcs_attributes\u001b[0m\u001b[1;33m(\u001b[0m\u001b[0maxis\u001b[0m \u001b[1;33m+\u001b[0m \u001b[1;36m1\u001b[0m\u001b[1;33m)\u001b[0m\u001b[1;33m)\u001b[0m\u001b[1;33m\u001b[0m\u001b[0m\n\u001b[0m\u001b[1;32m    189\u001b[0m \u001b[1;33m\u001b[0m\u001b[0m\n\u001b[1;32m    190\u001b[0m         \u001b[0mself\u001b[0m\u001b[1;33m.\u001b[0m\u001b[0maffine_transform_dict\u001b[0m\u001b[1;33m,\u001b[0m \u001b[0mself\u001b[0m\u001b[1;33m.\u001b[0m\u001b[0mtransform_matrix\u001b[0m \u001b[1;33m=\u001b[0m \u001b[0mself\u001b[0m\u001b[1;33m.\u001b[0m\u001b[0mread_affine_transforms\u001b[0m\u001b[1;33m(\u001b[0m\u001b[1;33m)\u001b[0m\u001b[1;33m\u001b[0m\u001b[0m\n",
      "\u001b[0;32mC:\\Users\\Jason\\Anaconda3\\lib\\site-packages\\specutils\\io\\read_fits.py\u001b[0m in \u001b[0;36mread_wcs_attributes\u001b[0;34m(self, axis)\u001b[0m\n\u001b[1;32m    279\u001b[0m         \u001b[0mwcs_attributes\u001b[0m \u001b[1;33m=\u001b[0m \u001b[0mself\u001b[0m\u001b[1;33m.\u001b[0m\u001b[0mfits_header\u001b[0m\u001b[1;33m[\u001b[0m\u001b[1;34m'wat{0:d}_???'\u001b[0m\u001b[1;33m.\u001b[0m\u001b[0mformat\u001b[0m\u001b[1;33m(\u001b[0m\u001b[0maxis\u001b[0m\u001b[1;33m)\u001b[0m\u001b[1;33m]\u001b[0m\u001b[1;33m\u001b[0m\u001b[0m\n\u001b[1;32m    280\u001b[0m         \u001b[1;32mif\u001b[0m \u001b[0mlen\u001b[0m\u001b[1;33m(\u001b[0m\u001b[0mwcs_attributes\u001b[0m\u001b[1;33m)\u001b[0m \u001b[1;33m==\u001b[0m \u001b[1;36m0\u001b[0m\u001b[1;33m:\u001b[0m\u001b[1;33m\u001b[0m\u001b[0m\n\u001b[0;32m--> 281\u001b[0;31m             \u001b[1;32mraise\u001b[0m \u001b[0mFITSWCSError\u001b[0m\u001b[1;33m\u001b[0m\u001b[0m\n\u001b[0m\u001b[1;32m    282\u001b[0m \u001b[1;33m\u001b[0m\u001b[0m\n\u001b[1;32m    283\u001b[0m         raw_wcs_attributes = ''.join([wcs_attributes[key].ljust(68) for key in\n",
      "\u001b[0;31mFITSWCSError\u001b[0m: "
     ]
    }
   ],
   "source": [
    "c_chip = read_fits.read_fits_spectrum1d('../../data/Data/HD162020-1/CRIRE.2012-07-04T06_48_20.555_1.fits')\n"
   ]
  },
  {
   "cell_type": "code",
   "execution_count": 8,
   "metadata": {
    "collapsed": false,
    "deletable": true,
    "editable": true
   },
   "outputs": [],
   "source": [
    "# Try read in with Spectrum1D\n",
    "\n",
    "\n",
    "#Spectrum1D.from_fits(\"../Notebooks/HD30501_data/3/CRIRE.2012-08-02T08-47-30.843_1.nod.ms.norm.sum.fits\")\n",
    "read_spec = read_fits.read_fits_spectrum1d(\"./Notebooks/HD30501_data/3/CRIRE.2012-08-02T08-47-30.843_1.nod.ms.norm.sum.fits\")"
   ]
  },
  {
   "cell_type": "code",
   "execution_count": null,
   "metadata": {
    "collapsed": false,
    "deletable": true,
    "editable": true
   },
   "outputs": [],
   "source": [
    "\n",
    "#read_fits.read_fits_spectrum1d('')"
   ]
  },
  {
   "cell_type": "code",
   "execution_count": null,
   "metadata": {
    "collapsed": true,
    "deletable": true,
    "editable": true
   },
   "outputs": [],
   "source": []
  },
  {
   "cell_type": "code",
   "execution_count": null,
   "metadata": {
    "collapsed": false,
    "deletable": true,
    "editable": true
   },
   "outputs": [],
   "source": [
    "s = Spectrum1D.from_array(np.array([0])*u.angstrom, np.array([0])*u.joule)"
   ]
  },
  {
   "cell_type": "code",
   "execution_count": null,
   "metadata": {
    "collapsed": false,
    "deletable": true,
    "editable": true
   },
   "outputs": [],
   "source": [
    "write_text.write(s, 'testspec.fits')"
   ]
  },
  {
   "cell_type": "code",
   "execution_count": null,
   "metadata": {
    "collapsed": false,
    "deletable": true,
    "editable": true
   },
   "outputs": [],
   "source": []
  },
  {
   "cell_type": "code",
   "execution_count": null,
   "metadata": {
    "collapsed": false,
    "deletable": true,
    "editable": true
   },
   "outputs": [],
   "source": [
    "# Able to read header information from fits\n",
    "read_fits.FITSWCSSpectrum(hdr)\n"
   ]
  },
  {
   "cell_type": "code",
   "execution_count": null,
   "metadata": {
    "collapsed": false,
    "deletable": true,
    "editable": true
   },
   "outputs": [],
   "source": [
    "#print(hdr)"
   ]
  },
  {
   "cell_type": "code",
   "execution_count": null,
   "metadata": {
    "collapsed": true,
    "deletable": true,
    "editable": true
   },
   "outputs": [],
   "source": [
    "def read_wcs_attributes(fits_header, axis):\n",
    "        \"\"\"\n",
    "        Reading WCS attribute information in WAT0_001-like keywords\n",
    "\n",
    "        Parameters\n",
    "        ----------\n",
    "\n",
    "        axis: int\n",
    "            specifying which axis to read (e.g axis=2 will read WAT2_???).\n",
    "        \"\"\"\n",
    "\n",
    "        wcs_attributes = fits_header['wat{0:d}_???'.format(axis)]\n",
    "        if len(wcs_attributes) == 0:\n",
    "            raise FITSWCSError\n",
    "\n",
    "        raw_wcs_attributes = ''.join([wcs_attributes[key].ljust(68) for key in\n",
    "                                      sorted(wcs_attributes.keys())])\n",
    "\n",
    "        wat_dictionary = OrderedDict()\n",
    "        for wat_keyword_match in wat_keyword_pattern.finditer(\n",
    "                raw_wcs_attributes):\n",
    "            wat_dictionary[wat_keyword_match.groups()[0]] = \\\n",
    "                wat_keyword_match.groups()[1].strip('\\\"\\'')\n",
    "\n",
    "        if 'units' in wat_dictionary:\n",
    "            wat_dictionary['units'] = _parse_fits_units(wat_dictionary['units'])\n",
    "\n",
    "        return wat_dictionary"
   ]
  },
  {
   "cell_type": "code",
   "execution_count": null,
   "metadata": {
    "collapsed": false,
    "deletable": true,
    "editable": true
   },
   "outputs": [],
   "source": [
    "# TRY to test implement FITSWCSSpectrum  from astropy\n",
    "from collections import OrderedDict\n",
    "import re \n",
    "fits_header = fits.Header(hdr)\n",
    "naxis = fits_header['naxis']\n",
    "\n",
    "wat_keyword_pattern = re.compile(\n",
    "    '([^=\\s]*)\\s*=\\s*(([^\\\"\\'\\s]+)|([\\\"\\'][^\\\"\\']+[\\\"\\']))\\s*')\n",
    "\n",
    "read_wcs_attributes(fits_header, 1)"
   ]
  },
  {
   "cell_type": "code",
   "execution_count": null,
   "metadata": {
    "collapsed": true,
    "deletable": true,
    "editable": true
   },
   "outputs": [],
   "source": []
  },
  {
   "cell_type": "code",
   "execution_count": null,
   "metadata": {
    "collapsed": true,
    "deletable": true,
    "editable": true
   },
   "outputs": [],
   "source": []
  }
 ],
 "metadata": {
  "anaconda-cloud": {},
  "kernelspec": {
   "display_name": "Python [conda root]",
   "language": "python",
   "name": "conda-root-py"
  },
  "language_info": {
   "codemirror_mode": {
    "name": "ipython",
    "version": 3
   },
   "file_extension": ".py",
   "mimetype": "text/x-python",
   "name": "python",
   "nbconvert_exporter": "python",
   "pygments_lexer": "ipython3",
   "version": "3.5.3"
  }
 },
 "nbformat": 4,
 "nbformat_minor": 1
}

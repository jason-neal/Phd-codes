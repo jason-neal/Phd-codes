{
 "cells": [
  {
   "cell_type": "markdown",
   "metadata": {
    "deletable": true,
    "editable": true
   },
   "source": [
    "# ASTROPLAN usage \n",
    "Determining if my Brown Dwarf targets are visible from GIANO\n",
    "September 2016\n"
   ]
  },
  {
   "cell_type": "code",
   "execution_count": null,
   "metadata": {
    "collapsed": false,
    "deletable": true,
    "editable": true
   },
   "outputs": [],
   "source": [
    "import astroplan\n",
    "from astroplan import Observer\n",
    "from astroplan import FixedTarget\n",
    "from astropy.time import Time\n",
    "from astroplan.plots import plot_airmass \n",
    "import matplotlib.pyplot as plt \n",
    "import numpy as np\n",
    "import astropy.coordinates as coords\n"
   ]
  },
  {
   "cell_type": "code",
   "execution_count": null,
   "metadata": {
    "collapsed": false,
    "deletable": true,
    "editable": true
   },
   "outputs": [],
   "source": [
    "#from astroplan import download_IERS_A\n",
    "#download_IERS_A()\n"
   ]
  },
  {
   "cell_type": "code",
   "execution_count": null,
   "metadata": {
    "collapsed": false,
    "deletable": true,
    "editable": true
   },
   "outputs": [],
   "source": [
    "Period_times = [\"2017-04-05 00:00:00\", \"2017-07-01 00:00:00\", \"2017-10-25 00:00:00\"]   # start, middle, end\n",
    "\n",
    "# Add your Targets here\n",
    "Targets = [\"GJ 505A\", \"GJ 107A\", \"GJ 107B\", \"GJ 505B\"]\n",
    "\n",
    "# Change this to Carmenes\n",
    "#carmenes = Observer.at_site(\"roque de los Muchachos\") # Add calar alto to astropy\n",
    "# an nz observatory? mount john\n",
    "giano = Observer.at_site(\"roque de los Muchachos\")\n",
    "\n",
    "coords.EarthLocation.get_site_names()"
   ]
  },
  {
   "cell_type": "code",
   "execution_count": null,
   "metadata": {
    "collapsed": false,
    "deletable": true,
    "editable": true,
    "scrolled": true
   },
   "outputs": [],
   "source": [
    "for T in Period_times:\n",
    "    # Analyse each target at this time.\n",
    "    time = Time(T)\n",
    "    print(\"Start new calculation\")\n",
    "    print(\"Date = {}\".format(T))\n",
    "    sunset_time = giano.sun_set_time(time, which='nearest')\n",
    "    sunrise_time = giano.sun_rise_time(time, which='nearest')\n",
    "    print(\"Sunset time = {}\".format(sunset_time.iso))\n",
    "    print(\"Sunrise time = {}\".format(sunrise_time.iso))\n",
    "   \n",
    "    #for Target in Targets:\n",
    "    for Target in Targets: \n",
    "        #During this time determine if this target is up and observable\n",
    "        target = FixedTarget.from_name(Target)\n",
    "        target_rise = giano.target_rise_time(time, target)\n",
    "        target_set = giano.target_set_time(time, target)\n",
    "        target_meridian = giano.target_meridian_transit_time(time, target)\n",
    "        # Calculate when they are up at night time\n",
    "        # I just plotted the airmass and used that as a guide for targets.\n",
    "        \n",
    "        plot_airmass(target, giano, time)\n",
    "        \n",
    "    plt.legend(loc=0)\n",
    "    plt.show()\n",
    "                "
   ]
  },
  {
   "cell_type": "markdown",
   "metadata": {
    "deletable": true,
    "editable": true
   },
   "source": [
    "# Use plot_sky\n",
    "to plot the motions over each night\n"
   ]
  },
  {
   "cell_type": "code",
   "execution_count": null,
   "metadata": {
    "collapsed": false,
    "deletable": true,
    "editable": true
   },
   "outputs": [],
   "source": [
    "from astroplan.plots import plot_sky\n",
    "\n",
    "all_styles = ['r', 'orange', 'g', 'y', 'm', 'c', 'b', 'k']\n",
    "styles = all_styles[:len(Targets)]\n",
    "\n",
    "for T in Period_times:\n",
    "    # Analyse each target at this time.\n",
    "    time = Time(T)\n",
    "    print(\"Start new calculation\")\n",
    "    print(\"Date = {}\".format(T))\n",
    "    sunset_time = giano.sun_set_time(time, which='nearest')\n",
    "    sunrise_time = giano.sun_rise_time(time, which='nearest')\n",
    "    print(\"Sunset time = {}\".format(sunset_time.iso))\n",
    "    print(\"Sunrise time = {}\".format(sunrise_time.iso))\n",
    "    \n",
    "    time_window = sunset_time + (sunrise_time - sunset_time) * np.linspace(0, 1, 10)\n",
    "    \n",
    "    for Target, style in zip(Targets, styles):\n",
    "        target_style = {'color': style}\n",
    "        target = FixedTarget.from_name(Target)\n",
    "        plot_sky(target, giano, time_window, style_kwargs=target_style)  \n",
    "\n",
    "    plt.legend(loc='center left', bbox_to_anchor=(1.25, 0.5))  \n",
    "    plt.show() "
   ]
  },
  {
   "cell_type": "markdown",
   "metadata": {
    "deletable": true,
    "editable": true
   },
   "source": [
    "From this it shows that the targets are better to observe in the latter part of the observation run.\n",
    "The three plots are for the begining middle and end.\n",
    "None of that targets get very high though"
   ]
  },
  {
   "cell_type": "code",
   "execution_count": null,
   "metadata": {
    "collapsed": true,
    "deletable": true,
    "editable": true
   },
   "outputs": [],
   "source": []
  },
  {
   "cell_type": "code",
   "execution_count": null,
   "metadata": {
    "collapsed": true,
    "deletable": true,
    "editable": true
   },
   "outputs": [],
   "source": []
  }
 ],
 "metadata": {
  "anaconda-cloud": {},
  "kernelspec": {
   "display_name": "Python [conda root]",
   "language": "python",
   "name": "conda-root-py"
  },
  "language_info": {
   "codemirror_mode": {
    "name": "ipython",
    "version": 3
   },
   "file_extension": ".py",
   "mimetype": "text/x-python",
   "name": "python",
   "nbconvert_exporter": "python",
   "pygments_lexer": "ipython3",
   "version": "3.5.3"
  }
 },
 "nbformat": 4,
 "nbformat_minor": 1
}
